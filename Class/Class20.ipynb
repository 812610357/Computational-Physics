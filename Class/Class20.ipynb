{
 "cells": [
  {
   "cell_type": "code",
   "execution_count": 1,
   "metadata": {},
   "outputs": [],
   "source": [
    "import numpy as np\n",
    "import matplotlib.pyplot as plt\n",
    "from mpl_toolkits.mplot3d import Axes3D\n",
    "\n",
    "%matplotlib inline"
   ]
  },
  {
   "cell_type": "code",
   "execution_count": 2,
   "metadata": {},
   "outputs": [],
   "source": [
    "def Newton_Method(F, DF, x, iter_num=10**4):\n",
    "    for _ in range(iter_num):\n",
    "        s = np.linalg.inv(DF(x)).dot(F(x))        \n",
    "        x -= s\n",
    "    \n",
    "    return x\n",
    "\n",
    "def Gauss_Newton(r, Dr, x, iter_num=10**4):\n",
    "    for _ in range(iter_num):\n",
    "        A = Dr(x)\n",
    "        v = -np.linalg.inv(A.T.dot(A)).dot(A.T).dot(r(x))\n",
    "        x += v\n",
    "    \n",
    "    return x\n",
    "\n",
    "def Levenberg_Marquardt(r, Dr, x, lamb=1, iter_num=10**4):\n",
    "    for _ in range(iter_num):\n",
    "        A = Dr(x)\n",
    "        ATA = A.T.dot(A)\n",
    "        v = -np.linalg.inv(ATA + lamb*np.diag(np.diag(ATA))).dot(A.T).dot(r(x))\n",
    "        x += v\n",
    "    \n",
    "    return x"
   ]
  },
  {
   "cell_type": "markdown",
   "metadata": {},
   "source": [
    "# 例1"
   ]
  },
  {
   "cell_type": "code",
   "execution_count": 5,
   "metadata": {},
   "outputs": [
    {
     "data": {
      "image/png": "[encoded data removed]",
      "text/plain": [
       "<Figure size 432x288 with 1 Axes>"
      ]
     },
     "metadata": {
      "needs_background": "light"
     },
     "output_type": "display_data"
    }
   ],
   "source": [
    "circle1 = plt.Circle((-1, 0), 1, color='b', fill=False)\n",
    "circle2 = plt.Circle((1, 0.5), 0.5, color='b', fill=False)\n",
    "circle3 = plt.Circle((1, -0.5), 0.5, color='b', fill=False)\n",
    "plt.gcf().gca().add_artist(circle1)\n",
    "plt.gcf().gca().add_artist(circle2)\n",
    "plt.gcf().gca().add_artist(circle3)\n",
    "plt.axis('equal')\n",
    "plt.xlim(-3, 3)\n",
    "plt.ylim(-3, 3)\n",
    "plt.show()"
   ]
  },
  {
   "cell_type": "code",
   "execution_count": 6,
   "metadata": {},
   "outputs": [],
   "source": [
    "def Gauss_Newton(r, Dr, x, iter_num=10**4):\n",
    "    for i in range(iter_num):\n",
    "        A = Dr(x)\n",
    "        v = -np.linalg.inv(A.T.dot(A)).dot(A.T).dot(r(x))\n",
    "        x += v\n",
    "        print(\"At: \",i,\"x= \",x,\"Delta x: \",np.linalg.norm(v,2),\"r: \",np.linalg.norm(r(x)))\n",
    "        \n",
    "    \n",
    "    return x"
   ]
  },
  {
   "cell_type": "code",
   "execution_count": 7,
   "metadata": {},
   "outputs": [],
   "source": [
    "def r(x):\n",
    "    c1, c2, c3 = ((-1, 0), (1, 0.5), (1, -0.5))\n",
    "    \n",
    "    r1 = np.sqrt(np.sum((c1 - x)**2)) - 1\n",
    "    r2 = np.sqrt(np.sum((c2 - x)**2)) - 0.5\n",
    "    r3 = np.sqrt(np.sum((c3 - x)**2)) - 0.5\n",
    "    \n",
    "    return np.array([r1, r2, r3])\n",
    "        \n",
    "def Dr(x):    \n",
    "    c1, c2, c3 = ((-1, 0), (1, 0.5), (1, -0.5))\n",
    "\n",
    "    dr1 = (x - c1) / np.sqrt(np.sum((c1 - x)**2))\n",
    "    dr2 = (x - c2) / np.sqrt(np.sum((c2 - x)**2))\n",
    "    dr3 = (x - c3) / np.sqrt(np.sum((c3 - x)**2))\n",
    "    \n",
    "    return np.array([dr1, dr2, dr3])"
   ]
  },
  {
   "cell_type": "code",
   "execution_count": 13,
   "metadata": {},
   "outputs": [
    {
     "name": "stdout",
     "output_type": "stream",
     "text": [
      "[1.23606798 0.         1.        ]\n",
      "[[0.89442719 0.4472136 ]\n",
      " [0.         1.        ]\n",
      " [0.         1.        ]]\n",
      "At:  0 x=  [-0.13196601  0.5       ] Delta x:  1.237476080829635 r:  1.1917710532385788\n",
      "At:  1 x=  [ 0.4427524  -0.42111589] Delta x:  1.0857051826085118 r:  0.7676770839645751\n",
      "At:  2 x=  [0.37419437 0.33511437] Delta x:  0.7593315544496773 r:  0.6992224886858098\n",
      "At:  3 x=  [ 0.40253263 -0.3157597 ] Delta x:  0.6514906860590852 r:  0.6844610041083108\n",
      "At:  4 x=  [0.40535567 0.28435377] Delta x:  0.6001201133098192 r:  0.6635577003434106\n",
      "At:  5 x=  [ 0.40989012 -0.25565698] Delta x:  0.5400297874468105 r:  0.6458303602293288\n",
      "At:  6 x=  [0.41251782 0.22706416] Delta x:  0.4827282976869623 r:  0.6295314883172137\n",
      "At:  7 x=  [ 0.41405551 -0.19921983] Delta x:  0.42628677191033476 r:  0.615088620546842\n",
      "At:  8 x=  [0.4147317 0.1727029] Delta x:  0.3719233497163833 r:  0.6027602266055414\n",
      "At:  9 x=  [ 0.41484352 -0.14814838] Delta x:  0.32085130128025124 r:  0.5926852745020248\n",
      "At:  10 x=  [0.41464873 0.12601325] Delta x:  0.2741617043715383 r:  0.5847826712025713\n",
      "At:  11 x=  [ 0.41433458 -0.10650285] Delta x:  0.2325163176168875 r:  0.578793110529252\n",
      "At:  12 x=  [0.41401091 0.08959858] Delta x:  0.19610169502809155 r:  0.5743716427388773\n",
      "At:  13 x=  [ 0.41372836 -0.07513239] Delta x:  0.16473120899579327 r:  0.5711698233229575\n",
      "At:  14 x=  [0.41350201 0.06285921] Delta x:  0.1379917806379689 r:  0.5688824653267998\n",
      "At:  15 x=  [ 0.41332964 -0.05250842] Delta x:  0.11536775301221106 r:  0.5672637516561078\n",
      "At:  16 x=  [0.41320244 0.04381451] Delta x:  0.09632300877774486 r:  0.5661256800241445\n",
      "At:  17 x=  [ 0.41311049 -0.03653267] Delta x:  0.08034723150264718 r:  0.5653291324572178\n",
      "At:  18 x=  [0.41304492 0.03044529] Delta x:  0.06697799012838025 r:  0.5647733522150371\n",
      "At:  19 x=  [ 0.41299857 -0.02536315] Delta x:  0.055808450213381856 r:  0.5643863959537742\n",
      "At:  20 x=  [0.41296602 0.02112412] Delta x:  0.04648727533186393 r:  0.5641173811095467\n",
      "At:  21 x=  [ 0.41294326 -0.01759056] Delta x:  0.03871468191460711 r:  0.5639305517874454\n",
      "At:  22 x=  [0.41292738 0.01464634] Delta x:  0.032236898470511026 r:  0.5638008919218209\n",
      "At:  23 x=  [ 0.41291633 -0.0121939 ] Delta x:  0.026840244144563978 r:  0.563710951952182\n",
      "At:  24 x=  [0.41290865 0.01015154] Delta x:  0.022345442615778085 r:  0.56364858533537\n",
      "At:  25 x=  [ 0.41290332 -0.00845091] Delta x:  0.018602451863963768 r:  0.5636053489542705\n",
      "At:  26 x=  [0.41289962 0.00703499] Delta x:  0.015485908256598098 r:  0.5635753797210007\n",
      "At:  27 x=  [ 0.41289706 -0.00585619] Delta x:  0.012891188725996431 r:  0.5635546089390527\n",
      "At:  28 x=  [0.41289528 0.00487485] Delta x:  0.010731049017194098 r:  0.5635402144564553\n",
      "At:  29 x=  [ 0.41289404 -0.00405792] Delta x:  0.008932776970637544 r:  0.5635302393919038\n",
      "(x, y): (0.412894, -0.004058)\n"
     ]
    }
   ],
   "source": [
    "initial_guess = np.zeros(2, dtype=float)\n",
    "initial_guess = np.array([1,1],dtype=float)\n",
    "print(r(initial_guess))\n",
    "print(Dr(initial_guess))\n",
    "(x, y) = Gauss_Newton(r, Dr, initial_guess,30)\n",
    "print(\"(x, y): (%.6f, %.6f)\" % (x, y))"
   ]
  },
  {
   "cell_type": "markdown",
   "metadata": {},
   "source": [
    "# 非线性参数"
   ]
  },
  {
   "cell_type": "code",
   "execution_count": 17,
   "metadata": {},
   "outputs": [],
   "source": [
    "def r(c):\n",
    "    xi = np.array([50,55,60,65,70,75,80], dtype=float)\n",
    "    yi = np.array([53.05,73.04,98.31,139.78,193.48,260.20,320.39],dtype=float)\n",
    "    \n",
    "    r=c[0]*np.exp(c[1]*xi)-yi\n",
    "    \n",
    "    return r\n",
    "        \n",
    "def Dr(c):\n",
    "    xi = np.array([50,55,60,65,70,75,80], dtype=float)\n",
    "    yi = np.array([53.05,73.04,98.31,139.78,193.48,260.20,320.39],dtype=float)  \n",
    "    \n",
    "    dr1=np.exp(c[1]*xi)\n",
    "    dr2=c[0]*xi*np.exp(c[1]*xi)\n",
    "    \n",
    "    return np.array([dr1, dr2]).T"
   ]
  },
  {
   "cell_type": "code",
   "execution_count": null,
   "metadata": {},
   "outputs": [],
   "source": [
    "#转化为线性"
   ]
  },
  {
   "cell_type": "code",
   "execution_count": 23,
   "metadata": {},
   "outputs": [],
   "source": [
    "def ls(A, b):\n",
    "    return np.linalg.inv(np.dot(A.T, A)).dot(A.T).dot(b)"
   ]
  },
  {
   "cell_type": "code",
   "execution_count": 25,
   "metadata": {},
   "outputs": [
    {
     "name": "stdout",
     "output_type": "stream",
     "text": [
      "[[0. 0. 0. 0. 0. 0. 0.]\n",
      " [0. 0. 0. 0. 0. 0. 0.]]\n",
      "2.493156498455768 0.061520339086728326\n"
     ]
    },
    {
     "data": {
      "text/plain": [
       "[<matplotlib.lines.Line2D at 0x7fbbda4eb290>]"
      ]
     },
     "execution_count": 25,
     "metadata": {},
     "output_type": "execute_result"
    },
    {
     "data": {
      "image/png": "[encoded data removed]",
      "text/plain": [
       "<Figure size 432x288 with 1 Axes>"
      ]
     },
     "metadata": {
      "needs_background": "light"
     },
     "output_type": "display_data"
    }
   ],
   "source": [
    "xi = np.array([50,55,60,65,70,75,80], dtype=float)\n",
    "yi = np.array([53.05,73.04,98.31,139.78,193.48,260.20,320.39],dtype=float)\n",
    "num=np.log(yi)\n",
    "A = np.zeros((2, 7), dtype=float)\n",
    "print(A)\n",
    "\n",
    "A[0]=xi**0\n",
    "A[1]=xi\n",
    "A=A.T\n",
    "b=num\n",
    "c=ls(A,b)\n",
    "print(np.exp(c[0]),c[1])\n",
    "plt.scatter(xi, yi)\n",
    "t_range=np.linspace(50,80,100)\n",
    "yi=np.exp(c[0]+c[1]*t_range)\n",
    "plt.plot(t_range,yi,'g-')"
   ]
  },
  {
   "cell_type": "code",
   "execution_count": null,
   "metadata": {},
   "outputs": [],
   "source": []
  },
  {
   "cell_type": "code",
   "execution_count": null,
   "metadata": {},
   "outputs": [],
   "source": []
  },
  {
   "cell_type": "code",
   "execution_count": null,
   "metadata": {},
   "outputs": [],
   "source": []
  },
  {
   "cell_type": "code",
   "execution_count": 19,
   "metadata": {},
   "outputs": [
    {
     "name": "stdout",
     "output_type": "stream",
     "text": [
      "[50.   0.1]\n",
      "[  7367.60795513  12161.55661321  20073.12967464  33117.30165222\n",
      "  54638.17792142  90141.9207228  148727.50935209]\n",
      "[[1.48413159e+02 3.71032898e+05]\n",
      " [2.44691932e+02 6.72902814e+05]\n",
      " [4.03428793e+02 1.21028638e+06]\n",
      " [6.65141633e+02 2.16171031e+06]\n",
      " [1.09663316e+03 3.83821605e+06]\n",
      " [1.80804241e+03 6.78015905e+06]\n",
      " [2.98095799e+03 1.19238319e+07]]\n",
      "At:  0 x=  [0.67350665 0.0998585 ] Delta x:  49.326493346365325 r:  2021.1363702003728\n",
      "At:  1 x=  [0.67873225 0.08928004] Delta x:  0.011798765329536718 r:  638.340245407794\n",
      "At:  2 x=  [1.17823715 0.07229397] Delta x:  0.4997936294971953 r:  66.04369034876676\n",
      "At:  3 x=  [2.44432917 0.05707657] Delta x:  1.2661834645492052 r:  143.00318571908605\n",
      "At:  4 x=  [3.25510311 0.05800795] Delta x:  0.8107744735792256 r:  22.3450968296224\n",
      "At:  5 x=  [3.26760933 0.05770883] Delta x:  0.01250979979432509 r:  20.310522765376074\n",
      "At:  6 x=  [3.26520263 0.05771652] Delta x:  0.002406718349988998 r:  20.3103399937203\n",
      "At:  7 x=  [3.26528306 0.05771619] Delta x:  8.043310822689126e-05 r:  20.310339961812826\n",
      "At:  8 x=  [3.26527964 0.05771621] Delta x:  3.414578187016674e-06 r:  20.310339961754902\n",
      "At:  9 x=  [3.26527979 0.0577162 ] Delta x:  1.4655544921296432e-07 r:  20.310339961754725\n",
      "At:  10 x=  [3.26527978 0.0577162 ] Delta x:  6.2882931490100035e-09 r:  20.31033996175475\n",
      "At:  11 x=  [3.26527978 0.0577162 ] Delta x:  2.6982029798145814e-10 r:  20.31033996175476\n",
      "At:  12 x=  [3.26527978 0.0577162 ] Delta x:  1.1577337694140745e-11 r:  20.31033996175477\n",
      "At:  13 x=  [3.26527978 0.0577162 ] Delta x:  4.969400497850377e-13 r:  20.310339961754753\n",
      "At:  14 x=  [3.26527978 0.0577162 ] Delta x:  2.3203877006704132e-14 r:  20.31033996175481\n",
      "At:  15 x=  [3.26527978 0.0577162 ] Delta x:  2.9698595753840185e-15 r:  20.31033996175476\n",
      "At:  16 x=  [3.26527978 0.0577162 ] Delta x:  9.631314992857998e-15 r:  20.310339961754778\n",
      "At:  17 x=  [3.26527978 0.0577162 ] Delta x:  1.3184063757664073e-14 r:  20.310339961754654\n",
      "At:  18 x=  [3.26527978 0.0577162 ] Delta x:  1.0019883701666988e-14 r:  20.310339961754725\n",
      "At:  19 x=  [3.26527978 0.0577162 ] Delta x:  7.244267488276616e-15 r:  20.31033996175475\n",
      "(c1, c2): (3.265280, 0.057716)\n"
     ]
    }
   ],
   "source": [
    "cc = np.array([50,0.1], dtype=float)\n",
    "print(cc)\n",
    "print(r(cc))\n",
    "print(Dr(cc))\n",
    "\n",
    "c1,c2 = Gauss_Newton(r, Dr, cc,20)\n",
    "print(\"(c1, c2): (%.6f, %.6f)\" % (c1, c2))"
   ]
  },
  {
   "cell_type": "code",
   "execution_count": 20,
   "metadata": {},
   "outputs": [
    {
     "data": {
      "text/plain": [
       "[<matplotlib.lines.Line2D at 0x7fbbd9627410>]"
      ]
     },
     "execution_count": 20,
     "metadata": {},
     "output_type": "execute_result"
    },
    {
     "data": {
      "image/png": "[encoded data removed]",
      "text/plain": [
       "<Figure size 432x288 with 1 Axes>"
      ]
     },
     "metadata": {
      "needs_background": "light"
     },
     "output_type": "display_data"
    }
   ],
   "source": [
    "xi = np.array([50,55,60,65,70,75,80], dtype=float)\n",
    "yi = np.array([53.05,73.04,98.31,139.78,193.48,260.20,320.39],dtype=float)\n",
    "x_range=np.linspace(50,90,100)\n",
    "plt.scatter(xi,yi)\n",
    "plt.plot(x_range,c1*np.exp(c2*x_range),'r-')"
   ]
  },
  {
   "cell_type": "markdown",
   "metadata": {},
   "source": [
    "# Levenberg_Marquardt"
   ]
  },
  {
   "cell_type": "code",
   "execution_count": 26,
   "metadata": {},
   "outputs": [],
   "source": [
    "def Levenberg_Marquardt(r, Dr, x, lamb=1, iter_num=10**4):\n",
    "    for _ in range(iter_num):\n",
    "        A = Dr(x)\n",
    "        ATA = A.T.dot(A)\n",
    "        v = -np.linalg.inv(ATA + lamb*np.diag(np.diag(ATA))).dot(A.T).dot(r(x))\n",
    "        x += v\n",
    "    \n",
    "    return x"
   ]
  },
  {
   "cell_type": "code",
   "execution_count": 27,
   "metadata": {},
   "outputs": [],
   "source": [
    "import numpy as np\n",
    "def cond(A):  # inf-范数\n",
    "    return abs(A).sum(axis=1).max() * abs(np.linalg.inv(A)).sum(axis=1).max()"
   ]
  },
  {
   "cell_type": "code",
   "execution_count": 28,
   "metadata": {},
   "outputs": [
    {
     "name": "stdout",
     "output_type": "stream",
     "text": [
      "207.8620602408034\n",
      "650109195.2398716\n"
     ]
    }
   ],
   "source": [
    "import numpy as np\n",
    "A=np.random.rand(3,3)\n",
    "print(cond(A))\n",
    "A[2]=10**(-7)*A[2]\n",
    "print(cond(A))"
   ]
  },
  {
   "cell_type": "code",
   "execution_count": 29,
   "metadata": {},
   "outputs": [
    {
     "name": "stdout",
     "output_type": "stream",
     "text": [
      "3.4142194393438628e+16\n"
     ]
    }
   ],
   "source": [
    "print(cond(A.T.dot(A)))"
   ]
  },
  {
   "cell_type": "code",
   "execution_count": 10,
   "metadata": {},
   "outputs": [
    {
     "name": "stdout",
     "output_type": "stream",
     "text": [
      "346.02707736167935\n"
     ]
    }
   ],
   "source": [
    "lamb=0.01\n",
    "B=A.T.dot(A)+lamb*np.diag(np.diag(A.T.dot(A)))\n",
    "print(cond(B))"
   ]
  },
  {
   "cell_type": "code",
   "execution_count": 11,
   "metadata": {},
   "outputs": [
    {
     "name": "stdout",
     "output_type": "stream",
     "text": [
      "1.0\n",
      "[0. 0. 0. 0. 0. 0.]\n"
     ]
    },
    {
     "data": {
      "text/plain": [
       "[<matplotlib.lines.Line2D at 0x7fc8927d6190>]"
      ]
     },
     "execution_count": 11,
     "metadata": {},
     "output_type": "execute_result"
    },
    {
     "data": {
      "image/png": "[encoded data removed]",
      "text/plain": [
       "<Figure size 432x288 with 1 Axes>"
      ]
     },
     "metadata": {
      "needs_background": "light"
     },
     "output_type": "display_data"
    }
   ],
   "source": [
    "lam= np.array([10,1.0,0.1,0.01,0.001,0.0001],dtype=float)\n",
    "print(lam[1])\n",
    "kappa=np.zeros(6)\n",
    "print(kappa)\n",
    "for i in range(6):\n",
    "    kappa[i]=cond(A.T.dot(A)+lam[i]*np.diag(np.diag(A.T.dot(A))))\n",
    "plt.yscale(\"log\")\n",
    "plt.plot(lam,kappa)"
   ]
  },
  {
   "cell_type": "code",
   "execution_count": 19,
   "metadata": {},
   "outputs": [
    {
     "name": "stdout",
     "output_type": "stream",
     "text": [
      "[0.54928042 0.8947698  0.37094232]\n",
      "[[0.54928042 0.         0.        ]\n",
      " [0.         0.8947698  0.        ]\n",
      " [0.         0.         0.37094232]]\n",
      "[[0.4462426  0.65093832 0.468768  ]\n",
      " [0.65093832 1.02798731 0.58992512]\n",
      " [0.468768   0.58992512 0.61625334]]\n",
      "[0.4462426  1.02798731 0.61625334]\n",
      "[[0.4462426  0.         0.        ]\n",
      " [0.         1.02798731 0.        ]\n",
      " [0.         0.         0.61625334]]\n"
     ]
    }
   ],
   "source": [
    "import numpy as np\n",
    "A=np.random.rand(3,3)\n",
    "B=np.random.rand(3)\n",
    "print(B)\n",
    "print(np.diag(B))\n",
    "print(A.T.dot(A))\n",
    "print(np.diag(A.T.dot(A)))\n",
    "print(np.diag(np.diag(A.T.dot(A))))"
   ]
  },
  {
   "cell_type": "markdown",
   "metadata": {},
   "source": [
    "# 例2"
   ]
  },
  {
   "cell_type": "code",
   "execution_count": 100,
   "metadata": {},
   "outputs": [],
   "source": [
    "def r(c):\n",
    "    xi = np.array([1,2,2,3,4], dtype=float)\n",
    "    yi = np.array([3,5,7,5,1],dtype=float)\n",
    "    \n",
    "    r=c[0]*np.exp(-c[1]*(xi-c[2])**2)-yi\n",
    "    \n",
    "    return r\n",
    "        \n",
    "def Dr(c):\n",
    "    xi = np.array([1,2,2,3,4], dtype=float)\n",
    "    yi = np.array([3,5,7,5,1],dtype=float)\n",
    "    \n",
    "    dr1=np.exp(-c[1]*(xi-c[2])**2)\n",
    "    dr2=-c[0]*(xi-c[2])**2*np.exp(-c[1]*(xi-c[2])**2)\n",
    "    dr3=2*c[0]*c[1]*(xi-c[2])*np.exp(-c[1]*(xi-c[2])**2)\n",
    "    \n",
    "    return np.array([dr1, dr2, dr3]).T"
   ]
  },
  {
   "cell_type": "code",
   "execution_count": 101,
   "metadata": {},
   "outputs": [],
   "source": [
    "def Gauss_Newton(r, Dr, x, iter_num=10**4):\n",
    "    for i in range(iter_num):\n",
    "        A = Dr(x)\n",
    "        print(\"A=\",A)\n",
    "        v = -np.linalg.inv(A.T.dot(A)).dot(A.T).dot(r(x))\n",
    "        print(\"v=\",v)\n",
    "        x += v\n",
    "        print(\"r(x): \",r(x))\n",
    "        print(\"At: \",i,\"x= \",x,\"Delta x: \",np.linalg.norm(v,2),\"r: \",np.linalg.norm(r(x)))\n",
    "    return x"
   ]
  },
  {
   "cell_type": "code",
   "execution_count": 102,
   "metadata": {},
   "outputs": [
    {
     "name": "stdout",
     "output_type": "stream",
     "text": [
      "[ 0.1 -2.   2. ]\n",
      "[ -2.26109439  -4.9         -6.9         -4.26109439 297.0957987 ]\n",
      "[[ 7.38905610e+00 -7.38905610e-01  2.95562244e+00]\n",
      " [ 1.00000000e+00 -0.00000000e+00 -0.00000000e+00]\n",
      " [ 1.00000000e+00 -0.00000000e+00 -0.00000000e+00]\n",
      " [ 7.38905610e+00 -7.38905610e-01 -2.95562244e+00]\n",
      " [ 2.98095799e+03 -1.19238319e+03 -2.38476639e+03]]\n",
      "A= [[ 7.38905610e+00 -7.38905610e-01  2.95562244e+00]\n",
      " [ 1.00000000e+00 -0.00000000e+00 -0.00000000e+00]\n",
      " [ 1.00000000e+00 -0.00000000e+00 -0.00000000e+00]\n",
      " [ 7.38905610e+00 -7.38905610e-01 -2.95562244e+00]\n",
      " [ 2.98095799e+03 -1.19238319e+03 -2.38476639e+03]]\n",
      "v= [ 0.91480454  3.51720684 -0.49051661]\n",
      "r(x):  [-2.31554365 -4.29556124 -6.29556124 -4.96512521 -0.99991695]\n",
      "At:  0 x=  [1.01480454 1.51720684 1.50948339] Delta x:  3.667181179678371 r:  9.439278692646225\n",
      "A= [[ 6.74471117e-01 -1.77666612e-01 -1.05815813e+00]\n",
      " [ 6.94162017e-01 -1.69492576e-01  1.04850800e+00]\n",
      " [ 6.94162017e-01 -1.69492576e-01  1.04850800e+00]\n",
      " [ 3.43660188e-02 -7.74792241e-02  1.57733242e-01]\n",
      " [ 8.18405403e-05 -5.15145336e-04  6.27646507e-04]]\n",
      "v= [-11.03022742 -65.45838955   1.77151178]\n",
      "r(x):  [-3.03848769e+145 -3.70398202e+046 -3.70398202e+046 -1.56557949e+003\n",
      " -2.27252442e+015]\n",
      "At:  1 x=  [-10.01542288 -63.94118271   3.28099517] Delta x:  66.40485624612623 r:  3.0384876922268705e+145\n",
      "A= [[ 3.03380869e+144  1.58090661e+146 -8.86323999e+147]\n",
      " [ 3.69827821e+045  6.07804425e+046 -6.06774086e+048]\n",
      " [ 3.69827821e+045  6.07804425e+046 -6.06774086e+048]\n",
      " [ 1.55817634e+002  1.23220685e+002 -5.60783746e+004]\n",
      " [ 2.26902493e+014  1.17482227e+015  2.08954161e+017]]\n",
      "v= [-2.96105285e+01 -3.07824311e+00  1.55516569e-02]\n",
      "r(x):  [-1.28117975e+155 -3.36067532e+050 -3.36067532e+050 -1.43789682e+004\n",
      " -1.00244472e+016]\n",
      "At:  2 x=  [-39.62595135 -67.01942582   3.29654683] Delta x:  29.770106129964667 r:  inf\n",
      "A= [[ 3.23318357e+153  6.75710515e+155 -3.94381078e+157]\n",
      " [ 8.48099593e+048  5.64940842e+050 -5.84043861e+052]\n",
      " [ 8.48099593e+048  5.64940842e+050 -5.84043861e+052]\n",
      " [ 3.62741277e+002  1.26404709e+003 -5.71347940e+005]\n",
      " [ 2.52976822e+014  4.96056124e+015  9.45205681e+017]]\n",
      "v= [nan nan nan]\n",
      "r(x):  [nan nan nan nan nan]\n",
      "At:  3 x=  [nan nan nan] Delta x:  nan r:  nan\n",
      "A= [[nan nan nan]\n",
      " [nan nan nan]\n",
      " [nan nan nan]\n",
      " [nan nan nan]\n",
      " [nan nan nan]]\n",
      "v= [nan nan nan]\n",
      "r(x):  [nan nan nan nan nan]\n",
      "At:  4 x=  [nan nan nan] Delta x:  nan r:  nan\n",
      "(c1, c2, c3): (nan, nan, nan)\n"
     ]
    }
   ],
   "source": [
    "cc = np.array([1,1,1], dtype=float)\n",
    "cc = np.array([0.1,-2,2], dtype=float)\n",
    "print(cc)\n",
    "print(r(cc))\n",
    "print(Dr(cc))\n",
    "\n",
    "c1,c2,c3 = Gauss_Newton(r, Dr, cc,5)\n",
    "print(\"(c1, c2, c3): (%.6f, %.6f, %.6f)\" % (c1, c2,c3))"
   ]
  },
  {
   "cell_type": "code",
   "execution_count": 103,
   "metadata": {},
   "outputs": [],
   "source": [
    "def Levenberg_Marquardt(r, Dr, x, lamb=1, iter_num=10**4):\n",
    "    for i in range(iter_num):\n",
    "        A = Dr(x)\n",
    "        #print(\"x=\",x)\n",
    "        #print(\"r(x)=\",r(x))\n",
    "        #print(\"Dr(x)=\",Dr(x))\n",
    "        ATA = A.T.dot(A)\n",
    "        v = -np.linalg.inv(ATA + lamb*np.diag(np.diag(ATA))).dot(A.T).dot(r(x))\n",
    "        x += v\n",
    "        if(i%100==0):\n",
    "          print(\"At: \",i,\"x= \",x,\"Delta x: \",np.linalg.norm(v,2),\"r: \",np.linalg.norm(r(x)))\n",
    "    return x"
   ]
  },
  {
   "cell_type": "code",
   "execution_count": 112,
   "metadata": {},
   "outputs": [
    {
     "name": "stdout",
     "output_type": "stream",
     "text": [
      "At:  0 x=  [1.09360726 0.68735403 1.15194929] Delta x:  0.35999778834810836 r:  9.35615366552835\n",
      "At:  100 x=  [4.59086807 0.20179604 2.06635602] Delta x:  0.015433846503376935 r:  3.013430658372292\n",
      "At:  200 x=  [5.58338093 0.35650035 2.16797427] Delta x:  0.006458230873570552 r:  1.8744210452792016\n",
      "At:  300 x=  [6.00586522 0.44300269 2.21544249] Delta x:  0.0027391975051338367 r:  1.5623474281393488\n",
      "At:  400 x=  [6.18103911 0.4814876  2.23481292] Delta x:  0.0011183514863641884 r:  1.5030681987602266\n",
      "At:  500 x=  [6.25209966 0.49759459 2.2429669 ] Delta x:  0.00045335636614957775 r:  1.4930811057959152\n",
      "At:  600 x=  [6.2808844  0.50421209 2.24639129] Delta x:  0.0001840355128838068 r:  1.4914272950866916\n",
      "At:  700 x=  [6.29257202 0.50691512 2.24781304] Delta x:  7.484271777947086e-05 r:  1.4911533794854837\n",
      "At:  800 x=  [6.29732621 0.5080173  2.24839812] Delta x:  3.046929780783802e-05 r:  1.4911079523780775\n",
      "At:  900 x=  [6.29926195 0.5084665  2.24863768] Delta x:  1.2410932361516082e-05 r:  1.4911004131377545\n",
      "(c1, c2, c3): (6.300046, 0.508648, 2.248735)\n"
     ]
    }
   ],
   "source": [
    "cc = np.array([1,1,1], dtype=float)\n",
    "#cc = np.array([-1,2,2], dtype=float)\n",
    "#c1,c2,c3 =Levenberg_Marquardt(r,Dr,cc,1.0,1000)\n",
    "c1,c2,c3 =Levenberg_Marquardt(r,Dr,cc,50.0,1000)\n",
    "#c1,c2,c3 =Levenberg_Marquardt(r,Dr,cc,600000.0,1000)\n",
    "print(\"(c1, c2, c3): (%.6f, %.6f, %.6f)\" % (c1, c2,c3))"
   ]
  },
  {
   "cell_type": "code",
   "execution_count": 113,
   "metadata": {},
   "outputs": [
    {
     "data": {
      "text/plain": [
       "[<matplotlib.lines.Line2D at 0x7fbbdd9268d0>]"
      ]
     },
     "execution_count": 113,
     "metadata": {},
     "output_type": "execute_result"
    },
    {
     "data": {
      "image/png": "[encoded data removed]",
      "text/plain": [
       "<Figure size 432x288 with 1 Axes>"
      ]
     },
     "metadata": {
      "needs_background": "light"
     },
     "output_type": "display_data"
    }
   ],
   "source": [
    "xi = np.array([1,2,2,3,4], dtype=float)\n",
    "yi = np.array([3,5,7,5,1],dtype=float)\n",
    "x_range=np.linspace(1,4,100)\n",
    "plt.scatter(xi,yi)\n",
    "plt.plot(x_range,c1*np.exp(-c2*(x_range-c3)**2),'r-')"
   ]
  },
  {
   "cell_type": "code",
   "execution_count": 68,
   "metadata": {},
   "outputs": [
    {
     "name": "stdout",
     "output_type": "stream",
     "text": [
      "[[0.70973642 0.45874464 0.91716986]\n",
      " [0.37510684 0.09749628 0.29249052]\n",
      " [0.90534077 0.08161179 0.3597499 ]]\n",
      "[[1.46407285 0.43604579 1.0863603 ]\n",
      " [0.43604579 0.22661265 0.47862333]\n",
      " [1.0863603  0.47862333 1.05617125]]\n",
      "[[1.46407299e+07 4.36045787e-01 1.08636030e+00]\n",
      " [4.36045787e-01 2.26612676e+06 4.78623330e-01]\n",
      " [1.08636030e+00 4.78623330e-01 1.05617135e+07]]\n",
      "[[ 6.83026054e-08 -1.31427158e-14 -7.02549190e-15]\n",
      " [-1.31427158e-14  4.41281580e-07 -1.99974790e-14]\n",
      " [-7.02549190e-15 -1.99974790e-14  9.46816060e-08]]\n"
     ]
    }
   ],
   "source": [
    "import numpy as np\n",
    "A=np.random.rand(3,3)\n",
    "print(A)\n",
    "B=A.T.dot(A)\n",
    "print(B)\n",
    "C=B+10000000*np.diag(np.diag(B))\n",
    "print(C)\n",
    "print(np.linalg.inv(C))"
   ]
  },
  {
   "cell_type": "code",
   "execution_count": null,
   "metadata": {},
   "outputs": [],
   "source": []
  }
 ],
 "metadata": {
  "kernelspec": {
   "display_name": "Python 3",
   "language": "python",
   "name": "python3"
  },
  "language_info": {
   "codemirror_mode": {
    "name": "ipython",
    "version": 3
   },
   "file_extension": ".py",
   "mimetype": "text/x-python",
   "name": "python",
   "nbconvert_exporter": "python",
   "pygments_lexer": "ipython3",
   "version": "3.7.6"
  }
 },
 "nbformat": 4,
 "nbformat_minor": 2
}