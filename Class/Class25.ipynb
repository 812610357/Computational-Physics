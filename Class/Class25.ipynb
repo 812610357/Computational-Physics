{
 "cells": [
  {
   "cell_type": "code",
   "execution_count": 8,
   "metadata": {},
   "outputs": [],
   "source": [
    "import numpy as np\n",
    "from pandas import DataFrame as DF\n",
    "import matplotlib.pyplot as plt\n",
    "\n",
    "%matplotlib inline"
   ]
  },
  {
   "cell_type": "code",
   "execution_count": 9,
   "metadata": {},
   "outputs": [],
   "source": [
    "def Euler_method(f, a, b, h, y_0):\n",
    "    n = int((b - a)/h)\n",
    "    t = np.linspace(a, b, n+1)\n",
    "    w = np.zeros(n+1)\n",
    "    w[0] = y_0\n",
    "    \n",
    "    for i in range(n):\n",
    "        w[i+1] = w[i] + h*(f(t[i], w[i]))\n",
    "        \n",
    "    return t, w"
   ]
  },
  {
   "cell_type": "markdown",
   "metadata": {},
   "source": [
    "# 例1"
   ]
  },
  {
   "cell_type": "code",
   "execution_count": 11,
   "metadata": {},
   "outputs": [
    {
     "data": {
      "text/html": [
       "<div>\n",
       "<style scoped>\n",
       "    .dataframe tbody tr th:only-of-type {\n",
       "        vertical-align: middle;\n",
       "    }\n",
       "\n",
       "    .dataframe tbody tr th {\n",
       "        vertical-align: top;\n",
       "    }\n",
       "\n",
       "    .dataframe thead th {\n",
       "        text-align: right;\n",
       "    }\n",
       "</style>\n",
       "<table border=\"1\" class=\"dataframe\">\n",
       "  <thead>\n",
       "    <tr style=\"text-align: right;\">\n",
       "      <th></th>\n",
       "      <th>True value</th>\n",
       "      <th>w</th>\n",
       "      <th>Error</th>\n",
       "    </tr>\n",
       "    <tr>\n",
       "      <th>t</th>\n",
       "      <th></th>\n",
       "      <th></th>\n",
       "      <th></th>\n",
       "    </tr>\n",
       "  </thead>\n",
       "  <tbody>\n",
       "    <tr>\n",
       "      <th>0.0</th>\n",
       "      <td>1.000000</td>\n",
       "      <td>1.000000</td>\n",
       "      <td>0.000000</td>\n",
       "    </tr>\n",
       "    <tr>\n",
       "      <th>0.1</th>\n",
       "      <td>1.105171</td>\n",
       "      <td>1.100000</td>\n",
       "      <td>0.005171</td>\n",
       "    </tr>\n",
       "    <tr>\n",
       "      <th>0.2</th>\n",
       "      <td>1.221403</td>\n",
       "      <td>1.210000</td>\n",
       "      <td>0.011403</td>\n",
       "    </tr>\n",
       "    <tr>\n",
       "      <th>0.3</th>\n",
       "      <td>1.349859</td>\n",
       "      <td>1.331000</td>\n",
       "      <td>0.018859</td>\n",
       "    </tr>\n",
       "    <tr>\n",
       "      <th>0.4</th>\n",
       "      <td>1.491825</td>\n",
       "      <td>1.464100</td>\n",
       "      <td>0.027725</td>\n",
       "    </tr>\n",
       "    <tr>\n",
       "      <th>0.5</th>\n",
       "      <td>1.648721</td>\n",
       "      <td>1.610510</td>\n",
       "      <td>0.038211</td>\n",
       "    </tr>\n",
       "    <tr>\n",
       "      <th>0.6</th>\n",
       "      <td>1.822119</td>\n",
       "      <td>1.771561</td>\n",
       "      <td>0.050558</td>\n",
       "    </tr>\n",
       "    <tr>\n",
       "      <th>0.7</th>\n",
       "      <td>2.013753</td>\n",
       "      <td>1.948717</td>\n",
       "      <td>0.065036</td>\n",
       "    </tr>\n",
       "    <tr>\n",
       "      <th>0.8</th>\n",
       "      <td>2.225541</td>\n",
       "      <td>2.143589</td>\n",
       "      <td>0.081952</td>\n",
       "    </tr>\n",
       "    <tr>\n",
       "      <th>0.9</th>\n",
       "      <td>2.459603</td>\n",
       "      <td>2.357948</td>\n",
       "      <td>0.101655</td>\n",
       "    </tr>\n",
       "    <tr>\n",
       "      <th>1.0</th>\n",
       "      <td>2.718282</td>\n",
       "      <td>2.593742</td>\n",
       "      <td>0.124539</td>\n",
       "    </tr>\n",
       "  </tbody>\n",
       "</table>\n",
       "</div>"
      ],
      "text/plain": [
       "     True value         w     Error\n",
       "t                                  \n",
       "0.0    1.000000  1.000000  0.000000\n",
       "0.1    1.105171  1.100000  0.005171\n",
       "0.2    1.221403  1.210000  0.011403\n",
       "0.3    1.349859  1.331000  0.018859\n",
       "0.4    1.491825  1.464100  0.027725\n",
       "0.5    1.648721  1.610510  0.038211\n",
       "0.6    1.822119  1.771561  0.050558\n",
       "0.7    2.013753  1.948717  0.065036\n",
       "0.8    2.225541  2.143589  0.081952\n",
       "0.9    2.459603  2.357948  0.101655\n",
       "1.0    2.718282  2.593742  0.124539"
      ]
     },
     "execution_count": 11,
     "metadata": {},
     "output_type": "execute_result"
    }
   ],
   "source": [
    "a, b = 0, 1\n",
    "h = 0.1\n",
    "y_0 = 1\n",
    "\n",
    "def f(x, y):\n",
    "    return y\n",
    "\n",
    "def exact_sol(x):\n",
    "    return np.exp(x)\n",
    "t, w = Euler_method(f, a, b, h, y_0)\n",
    "true_value = exact_sol(t)\n",
    "error = abs(true_value - w)\n",
    "\n",
    "DF({\"t\": t, \"w\": w, \"Error\": error, 'True value': true_value}).set_index('t')[['True value', 'w', 'Error']]"
   ]
  },
  {
   "cell_type": "code",
   "execution_count": 6,
   "metadata": {},
   "outputs": [
    {
     "data": {
      "text/plain": [
       "array([0.        , 0.00517092, 0.01140276, 0.01885881, 0.0277247 ,\n",
       "       0.03821127, 0.0505578 , 0.06503561, 0.08195212, 0.10165542,\n",
       "       0.12453937])"
      ]
     },
     "execution_count": 6,
     "metadata": {},
     "output_type": "execute_result"
    }
   ],
   "source": [
    "error"
   ]
  },
  {
   "cell_type": "code",
   "execution_count": 9,
   "metadata": {},
   "outputs": [
    {
     "data": {
      "text/plain": [
       "0.124539368359045"
      ]
     },
     "execution_count": 9,
     "metadata": {},
     "output_type": "execute_result"
    }
   ],
   "source": [
    "error[-1]"
   ]
  },
  {
   "cell_type": "code",
   "execution_count": 12,
   "metadata": {},
   "outputs": [
    {
     "name": "stdout",
     "output_type": "stream",
     "text": [
      "h:  0.1 error at 1:  0.124539368359045\n",
      "h:  0.01 error at 1:  0.013467999037519274\n",
      "h:  0.001 error at 1:  0.0013578962231490799\n",
      "h:  0.0001 error at 1:  0.00013590163381849152\n",
      "h:  1e-05 error at 1:  4.077369509758455e-05\n",
      "h:  1e-06 error at 1:  1.359139573331447e-06\n",
      "h:  1.0000000000000001e-07 error at 1:  1.3591497749487758e-07\n"
     ]
    }
   ],
   "source": [
    "for i in range(7):\n",
    "    h = 0.1/10**i\n",
    "    t, w = Euler_method(f, a, b, h, y_0)\n",
    "    true_value = exact_sol(t)\n",
    "    error = abs(true_value - w)\n",
    "    print(\"h: \",h, \"error at 1: \",error[-1])"
   ]
  },
  {
   "cell_type": "markdown",
   "metadata": {},
   "source": [
    "# 例2"
   ]
  },
  {
   "cell_type": "code",
   "execution_count": 13,
   "metadata": {},
   "outputs": [
    {
     "data": {
      "text/html": [
       "<div>\n",
       "<style scoped>\n",
       "    .dataframe tbody tr th:only-of-type {\n",
       "        vertical-align: middle;\n",
       "    }\n",
       "\n",
       "    .dataframe tbody tr th {\n",
       "        vertical-align: top;\n",
       "    }\n",
       "\n",
       "    .dataframe thead th {\n",
       "        text-align: right;\n",
       "    }\n",
       "</style>\n",
       "<table border=\"1\" class=\"dataframe\">\n",
       "  <thead>\n",
       "    <tr style=\"text-align: right;\">\n",
       "      <th></th>\n",
       "      <th>True value</th>\n",
       "      <th>w</th>\n",
       "      <th>Error</th>\n",
       "    </tr>\n",
       "    <tr>\n",
       "      <th>t</th>\n",
       "      <th></th>\n",
       "      <th></th>\n",
       "      <th></th>\n",
       "    </tr>\n",
       "  </thead>\n",
       "  <tbody>\n",
       "    <tr>\n",
       "      <th>0.0</th>\n",
       "      <td>1.000000</td>\n",
       "      <td>1.000000</td>\n",
       "      <td>0.000000</td>\n",
       "    </tr>\n",
       "    <tr>\n",
       "      <th>0.2</th>\n",
       "      <td>1.020604</td>\n",
       "      <td>1.000000</td>\n",
       "      <td>0.020604</td>\n",
       "    </tr>\n",
       "    <tr>\n",
       "      <th>0.4</th>\n",
       "      <td>1.089861</td>\n",
       "      <td>1.041600</td>\n",
       "      <td>0.048261</td>\n",
       "    </tr>\n",
       "    <tr>\n",
       "      <th>0.6</th>\n",
       "      <td>1.231652</td>\n",
       "      <td>1.137728</td>\n",
       "      <td>0.093924</td>\n",
       "    </tr>\n",
       "    <tr>\n",
       "      <th>0.8</th>\n",
       "      <td>1.491383</td>\n",
       "      <td>1.317455</td>\n",
       "      <td>0.173928</td>\n",
       "    </tr>\n",
       "    <tr>\n",
       "      <th>1.0</th>\n",
       "      <td>1.946164</td>\n",
       "      <td>1.630648</td>\n",
       "      <td>0.315516</td>\n",
       "    </tr>\n",
       "  </tbody>\n",
       "</table>\n",
       "</div>"
      ],
      "text/plain": [
       "     True value         w     Error\n",
       "t                                  \n",
       "0.0    1.000000  1.000000  0.000000\n",
       "0.2    1.020604  1.000000  0.020604\n",
       "0.4    1.089861  1.041600  0.048261\n",
       "0.6    1.231652  1.137728  0.093924\n",
       "0.8    1.491383  1.317455  0.173928\n",
       "1.0    1.946164  1.630648  0.315516"
      ]
     },
     "execution_count": 13,
     "metadata": {},
     "output_type": "execute_result"
    }
   ],
   "source": [
    "a, b = 0, 1\n",
    "h = 0.2\n",
    "y_0 = 1\n",
    "\n",
    "def f(x, y):\n",
    "    return x*y+x**3\n",
    "\n",
    "def exact_sol(x):\n",
    "    return 3*np.exp(x**2/2)-x**2-2\n",
    "\n",
    "t, w = Euler_method(f, a, b, h, y_0)\n",
    "true_value = exact_sol(t)\n",
    "error = abs(true_value - w)\n",
    "\n",
    "DF({\"t\": t, \"w\": w, \"Error\": error, 'True value': true_value}).set_index('t')[['True value', 'w', 'Error']]"
   ]
  },
  {
   "cell_type": "code",
   "execution_count": 14,
   "metadata": {},
   "outputs": [
    {
     "data": {
      "image/png": "[encoded data removed]",
      "text/plain": [
       "<Figure size 432x288 with 1 Axes>"
      ]
     },
     "metadata": {
      "needs_background": "light"
     },
     "output_type": "display_data"
    }
   ],
   "source": [
    "h_list = [0.2, 0.1, 0.05,0.025]\n",
    "t_list = np.linspace(0, 1, 100)\n",
    "\n",
    "true_value = exact_sol(t_list)\n",
    "plt.plot(t_list, true_value, label='$(t^2)/2 + 1$')\n",
    "\n",
    "for h in h_list:\n",
    "    t, w = Euler_method(f, a, b, h, y_0)\n",
    "    plt.plot(t, w, label='h: %.3f' % h)\n",
    "    \n",
    "plt.legend()\n",
    "plt.show()"
   ]
  },
  {
   "cell_type": "code",
   "execution_count": 15,
   "metadata": {},
   "outputs": [
    {
     "data": {
      "image/png": "[encoded data removed]",
      "text/plain": [
       "<Figure size 432x288 with 1 Axes>"
      ]
     },
     "metadata": {
      "needs_background": "light"
     },
     "output_type": "display_data"
    }
   ],
   "source": [
    "f_1 = exact_sol(1)\n",
    "error_list = np.zeros(4)\n",
    "for i, h in enumerate(h_list):\n",
    "    t, w = Euler_method(f, a, b, h, y_0)\n",
    "    error_list[i] = abs(w[-1] - f_1)\n",
    "\n",
    "plt.plot(h_list, error_list)\n",
    "plt.xlabel('h')\n",
    "plt.ylabel(\"Error\")\n",
    "plt.xscale(\"log\")\n",
    "plt.yscale(\"log\")\n",
    "plt.show()"
   ]
  },
  {
   "cell_type": "code",
   "execution_count": null,
   "metadata": {},
   "outputs": [],
   "source": []
  },
  {
   "cell_type": "markdown",
   "metadata": {},
   "source": [
    "# 显式梯形法"
   ]
  },
  {
   "cell_type": "code",
   "execution_count": 18,
   "metadata": {},
   "outputs": [],
   "source": [
    "def Explicit_trapezoid_method(f, a, b, h, y_0):\n",
    "    n = int((b - a)/h)\n",
    "    t = np.linspace(a, b, n+1)\n",
    "    w = np.zeros(n+1)\n",
    "    w[0] = y_0\n",
    "    \n",
    "    for i in range(n):\n",
    "        w[i+1] = w[i] + (f(t[i], w[i]) + f(t[i] + h, w[i] + h*f(t[i], w[i])))*(h/2)\n",
    "        \n",
    "    return t, w"
   ]
  },
  {
   "cell_type": "code",
   "execution_count": 19,
   "metadata": {},
   "outputs": [
    {
     "data": {
      "text/html": [
       "<div>\n",
       "<style scoped>\n",
       "    .dataframe tbody tr th:only-of-type {\n",
       "        vertical-align: middle;\n",
       "    }\n",
       "\n",
       "    .dataframe tbody tr th {\n",
       "        vertical-align: top;\n",
       "    }\n",
       "\n",
       "    .dataframe thead th {\n",
       "        text-align: right;\n",
       "    }\n",
       "</style>\n",
       "<table border=\"1\" class=\"dataframe\">\n",
       "  <thead>\n",
       "    <tr style=\"text-align: right;\">\n",
       "      <th></th>\n",
       "      <th>True value</th>\n",
       "      <th>w</th>\n",
       "      <th>Error</th>\n",
       "    </tr>\n",
       "    <tr>\n",
       "      <th>t</th>\n",
       "      <th></th>\n",
       "      <th></th>\n",
       "      <th></th>\n",
       "    </tr>\n",
       "  </thead>\n",
       "  <tbody>\n",
       "    <tr>\n",
       "      <th>0.0</th>\n",
       "      <td>1.000000</td>\n",
       "      <td>1.000000</td>\n",
       "      <td>0.000000</td>\n",
       "    </tr>\n",
       "    <tr>\n",
       "      <th>0.1</th>\n",
       "      <td>1.105171</td>\n",
       "      <td>1.105000</td>\n",
       "      <td>0.000171</td>\n",
       "    </tr>\n",
       "    <tr>\n",
       "      <th>0.2</th>\n",
       "      <td>1.221403</td>\n",
       "      <td>1.221025</td>\n",
       "      <td>0.000378</td>\n",
       "    </tr>\n",
       "    <tr>\n",
       "      <th>0.3</th>\n",
       "      <td>1.349859</td>\n",
       "      <td>1.349233</td>\n",
       "      <td>0.000626</td>\n",
       "    </tr>\n",
       "    <tr>\n",
       "      <th>0.4</th>\n",
       "      <td>1.491825</td>\n",
       "      <td>1.490902</td>\n",
       "      <td>0.000923</td>\n",
       "    </tr>\n",
       "    <tr>\n",
       "      <th>0.5</th>\n",
       "      <td>1.648721</td>\n",
       "      <td>1.647447</td>\n",
       "      <td>0.001275</td>\n",
       "    </tr>\n",
       "    <tr>\n",
       "      <th>0.6</th>\n",
       "      <td>1.822119</td>\n",
       "      <td>1.820429</td>\n",
       "      <td>0.001690</td>\n",
       "    </tr>\n",
       "    <tr>\n",
       "      <th>0.7</th>\n",
       "      <td>2.013753</td>\n",
       "      <td>2.011574</td>\n",
       "      <td>0.002179</td>\n",
       "    </tr>\n",
       "    <tr>\n",
       "      <th>0.8</th>\n",
       "      <td>2.225541</td>\n",
       "      <td>2.222789</td>\n",
       "      <td>0.002752</td>\n",
       "    </tr>\n",
       "    <tr>\n",
       "      <th>0.9</th>\n",
       "      <td>2.459603</td>\n",
       "      <td>2.456182</td>\n",
       "      <td>0.003421</td>\n",
       "    </tr>\n",
       "    <tr>\n",
       "      <th>1.0</th>\n",
       "      <td>2.718282</td>\n",
       "      <td>2.714081</td>\n",
       "      <td>0.004201</td>\n",
       "    </tr>\n",
       "  </tbody>\n",
       "</table>\n",
       "</div>"
      ],
      "text/plain": [
       "     True value         w     Error\n",
       "t                                  \n",
       "0.0    1.000000  1.000000  0.000000\n",
       "0.1    1.105171  1.105000  0.000171\n",
       "0.2    1.221403  1.221025  0.000378\n",
       "0.3    1.349859  1.349233  0.000626\n",
       "0.4    1.491825  1.490902  0.000923\n",
       "0.5    1.648721  1.647447  0.001275\n",
       "0.6    1.822119  1.820429  0.001690\n",
       "0.7    2.013753  2.011574  0.002179\n",
       "0.8    2.225541  2.222789  0.002752\n",
       "0.9    2.459603  2.456182  0.003421\n",
       "1.0    2.718282  2.714081  0.004201"
      ]
     },
     "execution_count": 19,
     "metadata": {},
     "output_type": "execute_result"
    }
   ],
   "source": [
    "a, b = 0, 1\n",
    "h = 0.1\n",
    "y_0 = 1\n",
    "\n",
    "def f(x, y):\n",
    "    return y\n",
    "\n",
    "def exact_sol(x):\n",
    "    return np.exp(x)\n",
    "t, w = Explicit_trapezoid_method(f, a, b, h, y_0)\n",
    "true_value = exact_sol(t)\n",
    "error2 = abs(true_value - w)\n",
    "\n",
    "DF({\"t\": t, \"w\": w, \"Error\": error2, 'True value': true_value}).set_index('t')[['True value', 'w', 'Error']]"
   ]
  },
  {
   "cell_type": "code",
   "execution_count": 20,
   "metadata": {},
   "outputs": [
    {
     "name": "stdout",
     "output_type": "stream",
     "text": [
      "h:  0.1 error at 1:  0.004200981850821073\n",
      "h:  0.01 error at 1:  4.49658990882007e-05\n",
      "h:  0.001 error at 1:  4.5270728232793545e-07\n",
      "h:  0.0001 error at 1:  4.530157138304958e-09\n",
      "h:  1e-05 error at 1:  2.7182727670105322e-05\n",
      "h:  1e-06 error at 1:  4.076738946423575e-13\n",
      "h:  1.0000000000000001e-07 error at 1:  5.897504706808832e-13\n"
     ]
    }
   ],
   "source": [
    "for i in range(7):\n",
    "    h = 0.1/10**i\n",
    "    t, w = Explicit_trapezoid_method(f, a, b, h, y_0)\n",
    "    true_value = exact_sol(t)\n",
    "    error = abs(true_value - w)\n",
    "    print(\"h: \",h, \"error at 1: \",error[-1])"
   ]
  },
  {
   "cell_type": "code",
   "execution_count": 21,
   "metadata": {},
   "outputs": [
    {
     "data": {
      "text/html": [
       "<div>\n",
       "<style scoped>\n",
       "    .dataframe tbody tr th:only-of-type {\n",
       "        vertical-align: middle;\n",
       "    }\n",
       "\n",
       "    .dataframe tbody tr th {\n",
       "        vertical-align: top;\n",
       "    }\n",
       "\n",
       "    .dataframe thead th {\n",
       "        text-align: right;\n",
       "    }\n",
       "</style>\n",
       "<table border=\"1\" class=\"dataframe\">\n",
       "  <thead>\n",
       "    <tr style=\"text-align: right;\">\n",
       "      <th></th>\n",
       "      <th>True value</th>\n",
       "      <th>w</th>\n",
       "      <th>Error</th>\n",
       "    </tr>\n",
       "    <tr>\n",
       "      <th>t</th>\n",
       "      <th></th>\n",
       "      <th></th>\n",
       "      <th></th>\n",
       "    </tr>\n",
       "  </thead>\n",
       "  <tbody>\n",
       "    <tr>\n",
       "      <th>0.0</th>\n",
       "      <td>1.000000</td>\n",
       "      <td>1.000000</td>\n",
       "      <td>0.000000</td>\n",
       "    </tr>\n",
       "    <tr>\n",
       "      <th>0.2</th>\n",
       "      <td>1.020604</td>\n",
       "      <td>1.020800</td>\n",
       "      <td>0.000196</td>\n",
       "    </tr>\n",
       "    <tr>\n",
       "      <th>0.4</th>\n",
       "      <td>1.089861</td>\n",
       "      <td>1.090945</td>\n",
       "      <td>0.001084</td>\n",
       "    </tr>\n",
       "    <tr>\n",
       "      <th>0.6</th>\n",
       "      <td>1.231652</td>\n",
       "      <td>1.234044</td>\n",
       "      <td>0.002392</td>\n",
       "    </tr>\n",
       "    <tr>\n",
       "      <th>0.8</th>\n",
       "      <td>1.491383</td>\n",
       "      <td>1.494913</td>\n",
       "      <td>0.003530</td>\n",
       "    </tr>\n",
       "    <tr>\n",
       "      <th>1.0</th>\n",
       "      <td>1.946164</td>\n",
       "      <td>1.949356</td>\n",
       "      <td>0.003193</td>\n",
       "    </tr>\n",
       "  </tbody>\n",
       "</table>\n",
       "</div>"
      ],
      "text/plain": [
       "     True value         w     Error\n",
       "t                                  \n",
       "0.0    1.000000  1.000000  0.000000\n",
       "0.2    1.020604  1.020800  0.000196\n",
       "0.4    1.089861  1.090945  0.001084\n",
       "0.6    1.231652  1.234044  0.002392\n",
       "0.8    1.491383  1.494913  0.003530\n",
       "1.0    1.946164  1.949356  0.003193"
      ]
     },
     "execution_count": 21,
     "metadata": {},
     "output_type": "execute_result"
    }
   ],
   "source": [
    "a, b = 0, 1\n",
    "h = 0.2\n",
    "y_0 = 1\n",
    "\n",
    "def f(x, y):\n",
    "    return x*y+x**3\n",
    "\n",
    "def exact_sol(x):\n",
    "    return 3*np.exp(x**2/2)-x**2-2\n",
    "\n",
    "t, w = Explicit_trapezoid_method(f, a, b, h, y_0)\n",
    "true_value = exact_sol(t)\n",
    "error = abs(true_value - w)\n",
    "\n",
    "DF({\"t\": t, \"w\": w, \"Error\": error, 'True value': true_value}).set_index('t')[['True value', 'w', 'Error']]"
   ]
  },
  {
   "cell_type": "code",
   "execution_count": 22,
   "metadata": {},
   "outputs": [
    {
     "data": {
      "image/png": "[encoded data removed]",
      "text/plain": [
       "<Figure size 432x288 with 1 Axes>"
      ]
     },
     "metadata": {
      "needs_background": "light"
     },
     "output_type": "display_data"
    }
   ],
   "source": [
    "f_1 = exact_sol(1)\n",
    "error_list2 = np.zeros(4)\n",
    "for i, h in enumerate(h_list):\n",
    "    t, w = Explicit_trapezoid_method(f, a, b, h, y_0)\n",
    "    error_list2[i] = abs(w[-1] - f_1)\n",
    "\n",
    "plt.plot(h_list, error_list,\"b--\",h_list, error_list2,\"r-\")\n",
    "plt.xlabel('h')\n",
    "plt.ylabel(\"Error\")\n",
    "plt.xscale(\"log\")\n",
    "plt.yscale(\"log\")\n",
    "plt.show()"
   ]
  },
  {
   "cell_type": "markdown",
   "metadata": {},
   "source": [
    "# 二阶泰勒方法"
   ]
  },
  {
   "cell_type": "code",
   "execution_count": 23,
   "metadata": {},
   "outputs": [],
   "source": [
    "def Taylor_method_2_order(f, f_diff_1, a, b, h, y_0):\n",
    "    n = int((b - a)/h)\n",
    "    t = np.linspace(a, b, n+1)\n",
    "    w = np.zeros(n+1)\n",
    "    w[0] = y_0\n",
    "    \n",
    "    for i in range(n):\n",
    "        w[i+1] = w[i] + h*f(t[i], w[i]) + (0.5 * h**2)*f_diff_1(t[i], w[i])\n",
    "        \n",
    "    return t, w"
   ]
  },
  {
   "cell_type": "code",
   "execution_count": 24,
   "metadata": {},
   "outputs": [
    {
     "data": {
      "text/html": [
       "<div>\n",
       "<style scoped>\n",
       "    .dataframe tbody tr th:only-of-type {\n",
       "        vertical-align: middle;\n",
       "    }\n",
       "\n",
       "    .dataframe tbody tr th {\n",
       "        vertical-align: top;\n",
       "    }\n",
       "\n",
       "    .dataframe thead th {\n",
       "        text-align: right;\n",
       "    }\n",
       "</style>\n",
       "<table border=\"1\" class=\"dataframe\">\n",
       "  <thead>\n",
       "    <tr style=\"text-align: right;\">\n",
       "      <th></th>\n",
       "      <th>True value</th>\n",
       "      <th>w</th>\n",
       "      <th>Error</th>\n",
       "    </tr>\n",
       "    <tr>\n",
       "      <th>t</th>\n",
       "      <th></th>\n",
       "      <th></th>\n",
       "      <th></th>\n",
       "    </tr>\n",
       "  </thead>\n",
       "  <tbody>\n",
       "    <tr>\n",
       "      <th>0.0</th>\n",
       "      <td>1.000000</td>\n",
       "      <td>1.000000</td>\n",
       "      <td>0.000000</td>\n",
       "    </tr>\n",
       "    <tr>\n",
       "      <th>0.1</th>\n",
       "      <td>1.105171</td>\n",
       "      <td>1.105000</td>\n",
       "      <td>0.000171</td>\n",
       "    </tr>\n",
       "    <tr>\n",
       "      <th>0.2</th>\n",
       "      <td>1.221403</td>\n",
       "      <td>1.221025</td>\n",
       "      <td>0.000378</td>\n",
       "    </tr>\n",
       "    <tr>\n",
       "      <th>0.3</th>\n",
       "      <td>1.349859</td>\n",
       "      <td>1.349233</td>\n",
       "      <td>0.000626</td>\n",
       "    </tr>\n",
       "    <tr>\n",
       "      <th>0.4</th>\n",
       "      <td>1.491825</td>\n",
       "      <td>1.490902</td>\n",
       "      <td>0.000923</td>\n",
       "    </tr>\n",
       "    <tr>\n",
       "      <th>0.5</th>\n",
       "      <td>1.648721</td>\n",
       "      <td>1.647447</td>\n",
       "      <td>0.001275</td>\n",
       "    </tr>\n",
       "    <tr>\n",
       "      <th>0.6</th>\n",
       "      <td>1.822119</td>\n",
       "      <td>1.820429</td>\n",
       "      <td>0.001690</td>\n",
       "    </tr>\n",
       "    <tr>\n",
       "      <th>0.7</th>\n",
       "      <td>2.013753</td>\n",
       "      <td>2.011574</td>\n",
       "      <td>0.002179</td>\n",
       "    </tr>\n",
       "    <tr>\n",
       "      <th>0.8</th>\n",
       "      <td>2.225541</td>\n",
       "      <td>2.222789</td>\n",
       "      <td>0.002752</td>\n",
       "    </tr>\n",
       "    <tr>\n",
       "      <th>0.9</th>\n",
       "      <td>2.459603</td>\n",
       "      <td>2.456182</td>\n",
       "      <td>0.003421</td>\n",
       "    </tr>\n",
       "    <tr>\n",
       "      <th>1.0</th>\n",
       "      <td>2.718282</td>\n",
       "      <td>2.714081</td>\n",
       "      <td>0.004201</td>\n",
       "    </tr>\n",
       "  </tbody>\n",
       "</table>\n",
       "</div>"
      ],
      "text/plain": [
       "     True value         w     Error\n",
       "t                                  \n",
       "0.0    1.000000  1.000000  0.000000\n",
       "0.1    1.105171  1.105000  0.000171\n",
       "0.2    1.221403  1.221025  0.000378\n",
       "0.3    1.349859  1.349233  0.000626\n",
       "0.4    1.491825  1.490902  0.000923\n",
       "0.5    1.648721  1.647447  0.001275\n",
       "0.6    1.822119  1.820429  0.001690\n",
       "0.7    2.013753  2.011574  0.002179\n",
       "0.8    2.225541  2.222789  0.002752\n",
       "0.9    2.459603  2.456182  0.003421\n",
       "1.0    2.718282  2.714081  0.004201"
      ]
     },
     "execution_count": 24,
     "metadata": {},
     "output_type": "execute_result"
    }
   ],
   "source": [
    "def diff_f(t,y):\n",
    "    return y\n",
    "\n",
    "a, b = 0, 1\n",
    "h = 0.1\n",
    "y_0 = 1\n",
    "\n",
    "def f(x, y):\n",
    "    return y\n",
    "\n",
    "def exact_sol(x):\n",
    "    return np.exp(x)\n",
    "t, w = Taylor_method_2_order(f, diff_f,a, b, h, y_0)\n",
    "true_value = exact_sol(t)\n",
    "error = abs(true_value - w)\n",
    "\n",
    "DF({\"t\": t, \"w\": w, \"Error\": error, 'True value': true_value}).set_index('t')[['True value', 'w', 'Error']]\n"
   ]
  },
  {
   "cell_type": "code",
   "execution_count": 25,
   "metadata": {},
   "outputs": [
    {
     "name": "stdout",
     "output_type": "stream",
     "text": [
      "h:  0.1 error at 1:  0.004200981850820629\n",
      "h:  0.01 error at 1:  4.496589908686843e-05\n",
      "h:  0.001 error at 1:  4.5270728632473833e-07\n",
      "h:  0.0001 error at 1:  4.530136710201305e-09\n",
      "h:  1e-05 error at 1:  2.7182727719399224e-05\n",
      "h:  1e-06 error at 1:  6.94999613415348e-13\n",
      "h:  1.0000000000000001e-07 error at 1:  3.7268854669036955e-11\n"
     ]
    }
   ],
   "source": [
    "for i in range(7):\n",
    "    h = 0.1/10**i\n",
    "    t, w = Taylor_method_2_order(f, diff_f,a, b, h, y_0)\n",
    "    true_value = exact_sol(t)\n",
    "    error = abs(true_value - w)\n",
    "    print(\"h: \",h, \"error at 1: \",error[-1])"
   ]
  },
  {
   "cell_type": "code",
   "execution_count": 26,
   "metadata": {},
   "outputs": [
    {
     "data": {
      "text/html": [
       "<div>\n",
       "<style scoped>\n",
       "    .dataframe tbody tr th:only-of-type {\n",
       "        vertical-align: middle;\n",
       "    }\n",
       "\n",
       "    .dataframe tbody tr th {\n",
       "        vertical-align: top;\n",
       "    }\n",
       "\n",
       "    .dataframe thead th {\n",
       "        text-align: right;\n",
       "    }\n",
       "</style>\n",
       "<table border=\"1\" class=\"dataframe\">\n",
       "  <thead>\n",
       "    <tr style=\"text-align: right;\">\n",
       "      <th></th>\n",
       "      <th>True value</th>\n",
       "      <th>w</th>\n",
       "      <th>Error</th>\n",
       "    </tr>\n",
       "    <tr>\n",
       "      <th>t</th>\n",
       "      <th></th>\n",
       "      <th></th>\n",
       "      <th></th>\n",
       "    </tr>\n",
       "  </thead>\n",
       "  <tbody>\n",
       "    <tr>\n",
       "      <th>0.0</th>\n",
       "      <td>1.000000</td>\n",
       "      <td>1.000000</td>\n",
       "      <td>0.000000</td>\n",
       "    </tr>\n",
       "    <tr>\n",
       "      <th>0.2</th>\n",
       "      <td>1.020604</td>\n",
       "      <td>1.020000</td>\n",
       "      <td>0.000604</td>\n",
       "    </tr>\n",
       "    <tr>\n",
       "      <th>0.4</th>\n",
       "      <td>1.089861</td>\n",
       "      <td>1.086048</td>\n",
       "      <td>0.003813</td>\n",
       "    </tr>\n",
       "    <tr>\n",
       "      <th>0.6</th>\n",
       "      <td>1.231652</td>\n",
       "      <td>1.221040</td>\n",
       "      <td>0.010612</td>\n",
       "    </tr>\n",
       "    <tr>\n",
       "      <th>0.8</th>\n",
       "      <td>1.491383</td>\n",
       "      <td>1.468169</td>\n",
       "      <td>0.023214</td>\n",
       "    </tr>\n",
       "    <tr>\n",
       "      <th>1.0</th>\n",
       "      <td>1.946164</td>\n",
       "      <td>1.900224</td>\n",
       "      <td>0.045940</td>\n",
       "    </tr>\n",
       "  </tbody>\n",
       "</table>\n",
       "</div>"
      ],
      "text/plain": [
       "     True value         w     Error\n",
       "t                                  \n",
       "0.0    1.000000  1.000000  0.000000\n",
       "0.2    1.020604  1.020000  0.000604\n",
       "0.4    1.089861  1.086048  0.003813\n",
       "0.6    1.231652  1.221040  0.010612\n",
       "0.8    1.491383  1.468169  0.023214\n",
       "1.0    1.946164  1.900224  0.045940"
      ]
     },
     "execution_count": 26,
     "metadata": {},
     "output_type": "execute_result"
    }
   ],
   "source": [
    "a, b = 0, 1\n",
    "h = 0.2\n",
    "y_0 = 1\n",
    "\n",
    "def f(x, y):\n",
    "    return x*y+x**3\n",
    "\n",
    "def diff_f(x,y):\n",
    "    return y+3*x**2+x*(x*y+x**3)\n",
    "\n",
    "def exact_sol(x):\n",
    "    return 3*np.exp(x**2/2)-x**2-2\n",
    "\n",
    "t, w = Taylor_method_2_order(f,diff_f, a, b, h, y_0)\n",
    "true_value = exact_sol(t)\n",
    "error = abs(true_value - w)\n",
    "\n",
    "DF({\"t\": t, \"w\": w, \"Error\": error, 'True value': true_value}).set_index('t')[['True value', 'w', 'Error']]"
   ]
  },
  {
   "cell_type": "code",
   "execution_count": 27,
   "metadata": {},
   "outputs": [
    {
     "data": {
      "image/png": "[encoded data removed]",
      "text/plain": [
       "<Figure size 432x288 with 1 Axes>"
      ]
     },
     "metadata": {
      "needs_background": "light"
     },
     "output_type": "display_data"
    }
   ],
   "source": [
    "f_1 = exact_sol(1)\n",
    "error_list3 = np.zeros(4)\n",
    "for i, h in enumerate(h_list):\n",
    "    t, w = Taylor_method_2_order(f,diff_f, a, b, h, y_0)\n",
    "    error_list3[i] = abs(w[-1] - f_1)\n",
    "\n",
    "plt.plot(h_list, error_list,\"b--\",h_list, error_list2,\"r-\",h_list,error_list3,\"g-\")\n",
    "plt.xlabel('h')\n",
    "plt.ylabel(\"Error\")\n",
    "plt.xscale(\"log\")\n",
    "plt.yscale(\"log\")\n",
    "plt.show()"
   ]
  },
  {
   "cell_type": "markdown",
   "metadata": {},
   "source": [
    "# 例3"
   ]
  },
  {
   "cell_type": "code",
   "execution_count": 36,
   "metadata": {},
   "outputs": [],
   "source": [
    "a, b = -10,0\n",
    "y_0 = 1/10001.0\n",
    "#y_0 = 0.5\n",
    "\n",
    "def f(x, y):\n",
    "    return -4.0*x**3*y**2\n",
    "\n",
    "def diff_f(x,y):\n",
    "    return -12.0*x**2*y**2+32.0*x**6*y**3\n",
    "\n",
    "def exact_sol(x):\n",
    "    return 1.0/(1+x**4)\n",
    "\n",
    "f_0 = exact_sol(0)\n",
    "h_list = [0.1, 0.01, 0.001,0.0001,0.00001]\n",
    "error_list1 = np.zeros(5)\n",
    "error_list2 = np.zeros(5)\n",
    "error_list3 = np.zeros(5)\n",
    "\n",
    "for i, h in enumerate(h_list):\n",
    "    t, w = Euler_method(f, a, b, h, y_0)\n",
    "    error_list1[i] = abs(w[-1] - f_0)\n",
    "    \n",
    "for i, h in enumerate(h_list):\n",
    "    t, w = Explicit_trapezoid_method(f, a, b, h, y_0)\n",
    "    error_list2[i] = abs(w[-1] - f_0)\n",
    "\n",
    "for i, h in enumerate(h_list):\n",
    "    t, w = Taylor_method_2_order(f,diff_f, a, b, h, y_0)\n",
    "    error_list3[i] = abs(w[-1] - f_0)"
   ]
  },
  {
   "cell_type": "code",
   "execution_count": 37,
   "metadata": {},
   "outputs": [
    {
     "data": {
      "image/png": "[encoded data removed]",
      "text/plain": [
       "<Figure size 432x288 with 1 Axes>"
      ]
     },
     "metadata": {
      "needs_background": "light"
     },
     "output_type": "display_data"
    }
   ],
   "source": [
    "plt.plot(h_list, error_list1,\"b--\",h_list, error_list2,\"r-\",h_list,error_list3,\"g-\")\n",
    "plt.xlabel('h')\n",
    "plt.ylabel(\"Error\")\n",
    "plt.xscale(\"log\")\n",
    "plt.yscale(\"log\")\n",
    "plt.show()"
   ]
  },
  {
   "cell_type": "code",
   "execution_count": null,
   "metadata": {},
   "outputs": [],
   "source": []
  }
 ],
 "metadata": {
  "kernelspec": {
   "display_name": "Python 3",
   "language": "python",
   "name": "python3"
  },
  "language_info": {
   "codemirror_mode": {
    "name": "ipython",
    "version": 3
   },
   "file_extension": ".py",
   "mimetype": "text/x-python",
   "name": "python",
   "nbconvert_exporter": "python",
   "pygments_lexer": "ipython3",
   "version": "3.7.6"
  }
 },
 "nbformat": 4,
 "nbformat_minor": 4
}