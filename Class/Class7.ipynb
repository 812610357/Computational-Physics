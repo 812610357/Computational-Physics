{
 "cells": [
  {
   "cell_type": "markdown",
   "metadata": {},
   "source": [
    "# 回顾"
   ]
  },
  {
   "cell_type": "code",
   "execution_count": 4,
   "metadata": {},
   "outputs": [],
   "source": [
    "import numpy as np\n",
    "import matplotlib.pyplot as plt\n",
    "from scipy.misc import derivative"
   ]
  },
  {
   "cell_type": "code",
   "execution_count": 3,
   "metadata": {},
   "outputs": [
    {
     "data": {
      "image/png": "[encoded data removed]",
      "text/plain": [
       "<Figure size 432x288 with 1 Axes>"
      ]
     },
     "metadata": {
      "needs_background": "light"
     },
     "output_type": "display_data"
    }
   ],
   "source": [
    "def f(x):\n",
    "    return (x-3/2)**3\n",
    "x = np.linspace(0, 3, 100)\n",
    "plt.plot(x,f(x))\n",
    "plt.show()"
   ]
  },
  {
   "cell_type": "code",
   "execution_count": 4,
   "metadata": {},
   "outputs": [
    {
     "name": "stdout",
     "output_type": "stream",
     "text": [
      "1.5000010967254642\n",
      "1.3191487845450817e-18\n"
     ]
    }
   ],
   "source": [
    "#二分法\n",
    "a = 0.1\n",
    "b = 3\n",
    "N=0\n",
    "while N <20:\n",
    "    N=N+1\n",
    "    c = (b + a) / 2\n",
    "    if f(c) == 0:\n",
    "        break\n",
    "    elif f(a)*f(c) < 0:\n",
    "        b = c\n",
    "    else:\n",
    "        a = c\n",
    "c = (b + a) / 2\n",
    "print(c)\n",
    "print(f(c))"
   ]
  },
  {
   "cell_type": "code",
   "execution_count": 5,
   "metadata": {},
   "outputs": [
    {
     "name": "stdout",
     "output_type": "stream",
     "text": [
      "                x                    f(x)                 e                    |e(i)/e(i-1)|        |e(i)/e2(i-1)|       step                 \n",
      "      1.0000e+01      7.1667e+00      2.8333e+00      2.8333e+00      2.8333e+00               1\n",
      "      7.1667e+00      5.2778e+00      1.8889e+00      6.6667e-01      2.3529e-01               2\n",
      "      5.2778e+00      4.0185e+00      1.2593e+00      6.6667e-01      3.5294e-01               3\n",
      "      4.0185e+00      3.1790e+00      8.3951e-01      6.6667e-01      5.2941e-01               4\n",
      "      3.1790e+00      2.6193e+00      5.5967e-01      6.6667e-01      7.9412e-01               5\n",
      "      2.6193e+00      2.2462e+00      3.7311e-01      6.6667e-01      1.1912e+00               6\n",
      "      2.2462e+00      1.9975e+00      2.4874e-01      6.6667e-01      1.7868e+00               7\n",
      "      1.9975e+00      1.8317e+00      1.6583e-01      6.6667e-01      2.6801e+00               8\n",
      "      1.8317e+00      1.7211e+00      1.1055e-01      6.6667e-01      4.0202e+00               9\n",
      "      1.7211e+00      1.6474e+00      7.3702e-02      6.6667e-01      6.0303e+00              10\n",
      "      1.6474e+00      1.5983e+00      4.9134e-02      6.6667e-01      9.0455e+00              11\n",
      "      1.5983e+00      1.5655e+00      3.2756e-02      6.6667e-01      1.3568e+01              12\n",
      "      1.5655e+00      1.5437e+00      2.1837e-02      6.6667e-01      2.0352e+01              13\n",
      "      1.5437e+00      1.5291e+00      1.4558e-02      6.6667e-01      3.0529e+01              14\n",
      "      1.5291e+00      1.5194e+00      9.7055e-03      6.6667e-01      4.5793e+01              15\n",
      "      1.5194e+00      1.5129e+00      6.4704e-03      6.6667e-01      6.8689e+01              16\n",
      "      1.5129e+00      1.5086e+00      4.3136e-03      6.6667e-01      1.0303e+02              17\n",
      "      1.5086e+00      1.5058e+00      2.8757e-03      6.6667e-01      1.5455e+02              18\n",
      "      1.5058e+00      1.5038e+00      1.9171e-03      6.6667e-01      2.3183e+02              19\n",
      "      1.5038e+00      1.5026e+00      1.2781e-03      6.6667e-01      3.4774e+02              20\n",
      "      1.5026e+00      1.5017e+00      8.5206e-04      6.6667e-01      5.2161e+02              21\n",
      "      1.5017e+00      1.5011e+00      5.6804e-04      6.6667e-01      7.8241e+02              22\n",
      "      1.5011e+00      1.5008e+00      3.7870e-04      6.6667e-01      1.1736e+03              23\n",
      "      1.5008e+00      1.5005e+00      2.5246e-04      6.6667e-01      1.7604e+03              24\n",
      "      1.5005e+00      1.5003e+00      1.6831e-04      6.6667e-01      2.6406e+03              25\n",
      "      1.5003e+00      1.5002e+00      1.1221e-04      6.6667e-01      3.9610e+03              26\n",
      "      1.5002e+00      1.5001e+00      7.4804e-05      6.6667e-01      5.9414e+03              27\n",
      "      1.5001e+00      1.5001e+00      4.9869e-05      6.6666e-01      8.9122e+03              28\n",
      "      1.5001e+00      1.5001e+00      3.3246e-05      6.6666e-01      1.3368e+04              29\n",
      "      1.5001e+00      1.5000e+00      2.2163e-05      6.6665e-01      2.0052e+04              30\n",
      "      1.5000e+00      1.5000e+00      1.4775e-05      6.6663e-01      3.0078e+04              31\n",
      "      1.5000e+00      1.5000e+00      9.8485e-06      6.6658e-01      4.5117e+04              32\n",
      "      1.5000e+00      1.5000e+00      6.5638e-06      6.6648e-01      6.7673e+04              33\n",
      "      1.5000e+00      1.5000e+00      4.3730e-06      6.6624e-01      1.0150e+05              34\n",
      "      1.5000e+00      1.5000e+00      2.9112e-06      6.6571e-01      1.5223e+05              35\n",
      "      1.5000e+00      1.5000e+00      1.9346e-06      6.6455e-01      2.2827e+05              36\n",
      "      1.5000e+00      1.5000e+00      1.2808e-06      6.6205e-01      3.4221e+05              37\n",
      "      1.5000e+00      1.5000e+00      8.4149e-07      6.5699e-01      5.1294e+05              38\n",
      "1.5000018032774034\n"
     ]
    }
   ],
   "source": [
    "#牛顿\n",
    "x0=10.0\n",
    "error = 1\n",
    "i=0\n",
    "print('{:16s}{:21s}{:21s}{:21s}{:21s}{:21s}{:21s}'.format(' ','x','f(x)','e','|e(i)/e(i-1)|','|e(i)/e2(i-1)|','step'))\n",
    "while error>1.0*10**(-6):\n",
    "    i=i+1\n",
    "    x1=x0-f(x0)/derivative(f, x0, dx=1e-6)\n",
    "    error1=abs(x1-x0)\n",
    "    tmp=error1/error\n",
    "    tmp2=error1/error**2\n",
    "    print('{:16.4e}{:16.4e}{:16.4e}{:16.4e}{:16.4e}{:16d}'.format(x0,x1,error1,tmp,tmp2,i))\n",
    "    error=error1\n",
    "    x0=x1\n",
    "print(x0)"
   ]
  },
  {
   "cell_type": "code",
   "execution_count": 6,
   "metadata": {},
   "outputs": [
    {
     "name": "stdout",
     "output_type": "stream",
     "text": [
      "                x                    f(x)                 e                    |e(i)/e(i-1)|        |e(i)/e2(i-1)|       step                 \n",
      "      1.0000e+01      1.5000e+00      8.5000e+00      8.5000e+00      8.5000e+00               1\n",
      "      1.5000e+00      1.5000e+00      1.0161e-12      1.1954e-13      1.4063e-14               2\n",
      "1.4999999930300785\n"
     ]
    }
   ],
   "source": [
    "#牛顿\n",
    "x0=10.0\n",
    "error = 1\n",
    "i=0\n",
    "print('{:16s}{:21s}{:21s}{:21s}{:21s}{:21s}{:21s}'.format(' ','x','f(x)','e','|e(i)/e(i-1)|','|e(i)/e2(i-1)|','step'))\n",
    "while error>1.0*10**(-6):\n",
    "    i=i+1\n",
    "    x1=x0-3*f(x0)/derivative(f, x0, dx=1e-6)\n",
    "    error1=abs(x1-x0)\n",
    "    tmp=error1/error\n",
    "    tmp2=error1/error**2\n",
    "    print('{:16.4e}{:16.4e}{:16.4e}{:16.4e}{:16.4e}{:16d}'.format(x0,x1,error1,tmp,tmp2,i))\n",
    "    error=error1\n",
    "    x0=x1\n",
    "print(x0)"
   ]
  },
  {
   "cell_type": "code",
   "execution_count": 7,
   "metadata": {},
   "outputs": [
    {
     "name": "stdout",
     "output_type": "stream",
     "text": [
      "                x                    f(x)                 e                    |e(i)/e(i-1)|        |e(i)/e2(i-1)|       step                 \n",
      "      3.1416e+00      2.0944e+00      5.2189e-02      5.2189e-02      5.2189e-02               1\n",
      "      2.0944e+00      2.0422e+00      1.6440e-01      3.1501e+00      6.0360e+01               2\n",
      "      2.0422e+00      1.8778e+00      8.4053e-02      5.1126e-01      3.1098e+00               3\n",
      "      1.8778e+00      1.7937e+00      7.4550e-02      8.8695e-01      1.0552e+01               4\n",
      "      1.7937e+00      1.7192e+00      5.2998e-02      7.1090e-01      9.5359e+00               5\n",
      "      1.7192e+00      1.6662e+00      4.0953e-02      7.7273e-01      1.4580e+01               6\n",
      "      1.6662e+00      1.6252e+00      3.0639e-02      7.4815e-01      1.8268e+01               7\n",
      "      1.6252e+00      1.5946e+00      2.3209e-02      7.5749e-01      2.4723e+01               8\n",
      "      1.5946e+00      1.5714e+00      1.7497e-02      7.5388e-01      3.2482e+01               9\n",
      "      1.5714e+00      1.5539e+00      1.3215e-02      7.5526e-01      4.3166e+01              10\n",
      "      1.5539e+00      1.5407e+00      9.9734e-03      7.5473e-01      5.7114e+01              11\n",
      "      1.5407e+00      1.5307e+00      7.5292e-03      7.5493e-01      7.5695e+01              12\n",
      "      1.5307e+00      1.5232e+00      5.6835e-03      7.5486e-01      1.0026e+02              13\n",
      "      1.5232e+00      1.5175e+00      4.2904e-03      7.5489e-01      1.3282e+02              14\n",
      "      1.5175e+00      1.5132e+00      3.2387e-03      7.5487e-01      1.7595e+02              15\n",
      "      1.5132e+00      1.5100e+00      2.4448e-03      7.5488e-01      2.3308e+02              16\n",
      "      1.5100e+00      1.5075e+00      1.8455e-03      7.5488e-01      3.0876e+02              17\n",
      "      1.5075e+00      1.5057e+00      1.3932e-03      7.5488e-01      4.0903e+02              18\n",
      "      1.5057e+00      1.5043e+00      1.0517e-03      7.5488e-01      5.4184e+02              19\n",
      "      1.5043e+00      1.5032e+00      7.9388e-04      7.5488e-01      7.1779e+02              20\n",
      "      1.5032e+00      1.5024e+00      5.9928e-04      7.5488e-01      9.5087e+02              21\n",
      "      1.5024e+00      1.5018e+00      4.5238e-04      7.5488e-01      1.2596e+03              22\n",
      "      1.5018e+00      1.5014e+00      3.4150e-04      7.5488e-01      1.6687e+03              23\n",
      "      1.5014e+00      1.5011e+00      2.5779e-04      7.5488e-01      2.2105e+03              24\n",
      "      1.5011e+00      1.5008e+00      1.9460e-04      7.5488e-01      2.9283e+03              25\n",
      "      1.5008e+00      1.5006e+00      1.4690e-04      7.5488e-01      3.8792e+03              26\n",
      "      1.5006e+00      1.5005e+00      1.1089e-04      7.5488e-01      5.1388e+03              27\n",
      "      1.5005e+00      1.5003e+00      8.3708e-05      7.5488e-01      6.8075e+03              28\n",
      "      1.5003e+00      1.5003e+00      6.3189e-05      7.5488e-01      9.0180e+03              29\n",
      "      1.5003e+00      1.5002e+00      4.7700e-05      7.5488e-01      1.1946e+04              30\n",
      "      1.5002e+00      1.5001e+00      3.6008e-05      7.5488e-01      1.5825e+04              31\n",
      "      1.5001e+00      1.5001e+00      2.7182e-05      7.5488e-01      2.0964e+04              32\n",
      "      1.5001e+00      1.5001e+00      2.0519e-05      7.5488e-01      2.7772e+04              33\n",
      "      1.5001e+00      1.5001e+00      1.5489e-05      7.5488e-01      3.6790e+04              34\n",
      "      1.5001e+00      1.5000e+00      1.1692e-05      7.5488e-01      4.8736e+04              35\n",
      "      1.5000e+00      1.5000e+00      8.8263e-06      7.5488e-01      6.4561e+04              36\n",
      "      1.5000e+00      1.5000e+00      6.6628e-06      7.5488e-01      8.5526e+04              37\n",
      "      1.5000e+00      1.5000e+00      5.0296e-06      7.5488e-01      1.1330e+05              38\n",
      "      1.5000e+00      1.5000e+00      3.7967e-06      7.5488e-01      1.5009e+05              39\n",
      "      1.5000e+00      1.5000e+00      2.8661e-06      7.5488e-01      1.9882e+05              40\n",
      "      1.5000e+00      1.5000e+00      2.1635e-06      7.5488e-01      2.6338e+05              41\n",
      "      1.5000e+00      1.5000e+00      1.6332e-06      7.5488e-01      3.4891e+05              42\n",
      "      1.5000e+00      1.5000e+00      1.2329e-06      7.5488e-01      4.6221e+05              43\n",
      "      1.5000e+00      1.5000e+00      9.3066e-07      7.5488e-01      6.1229e+05              44\n",
      "      1.5000e+00      1.5000e+00      7.0254e-07      7.5488e-01      8.1112e+05              45\n",
      "      1.5000e+00      1.5000e+00      5.3033e-07      7.5488e-01      1.0745e+06              46\n",
      "      1.5000e+00      1.5000e+00      4.0033e-07      7.5488e-01      1.4234e+06              47\n",
      "      1.5000e+00      1.5000e+00      3.0220e-07      7.5488e-01      1.8856e+06              48\n",
      "      1.5000e+00      1.5000e+00      2.2813e-07      7.5488e-01      2.4979e+06              49\n",
      "      1.5000e+00      1.5000e+00      1.7221e-07      7.5488e-01      3.3090e+06              50\n",
      "      1.5000e+00      1.5000e+00      1.3000e-07      7.5488e-01      4.3835e+06              51\n",
      "      1.5000e+00      1.5000e+00      9.8131e-08      7.5488e-01      5.8069e+06              52\n",
      "      1.5000e+00      1.5000e+00      7.4077e-08      7.5488e-01      7.6926e+06              53\n",
      "      1.5000e+00      1.5000e+00      5.5919e-08      7.5488e-01      1.0190e+07              54\n",
      "      1.5000e+00      1.5000e+00      4.2212e-08      7.5488e-01      1.3500e+07              55\n",
      "      1.5000e+00      1.5000e+00      3.1865e-08      7.5488e-01      1.7883e+07              56\n",
      "      1.5000e+00      1.5000e+00      2.4054e-08      7.5488e-01      2.3690e+07              57\n",
      "      1.5000e+00      1.5000e+00      1.8158e-08      7.5488e-01      3.1383e+07              58\n",
      "      1.5000e+00      1.5000e+00      1.3707e-08      7.5488e-01      4.1573e+07              59\n",
      "      1.5000e+00      1.5000e+00      1.0347e-08      7.5488e-01      5.5073e+07              60\n",
      "      1.5000e+00      1.5000e+00      7.8108e-09      7.5488e-01      7.2956e+07              61\n",
      "      1.5000e+00      1.5000e+00      5.8962e-09      7.5488e-01      9.6646e+07              62\n",
      "      1.5000e+00      1.5000e+00      4.4509e-09      7.5488e-01      1.2803e+08              63\n",
      "      1.5000e+00      1.5000e+00      3.3599e-09      7.5488e-01      1.6960e+08              64\n",
      "      1.5000e+00      1.5000e+00      2.5363e-09      7.5488e-01      2.2467e+08              65\n",
      "      1.5000e+00      1.5000e+00      1.9146e-09      7.5488e-01      2.9763e+08              66\n",
      "      1.5000e+00      1.5000e+00      1.4453e-09      7.5488e-01      3.9427e+08              67\n",
      "      1.5000e+00      1.5000e+00      1.0910e-09      7.5488e-01      5.2230e+08              68\n",
      "      1.5000e+00      1.5000e+00      8.2358e-10      7.5488e-01      6.9190e+08              69\n",
      "      1.5000e+00      1.5000e+00      6.2170e-10      7.5488e-01      9.1658e+08              70\n",
      "      1.5000e+00      1.5000e+00      4.6931e-10      7.5488e-01      1.2142e+09              71\n",
      "      1.5000e+00      1.5000e+00      3.5427e-10      7.5488e-01      1.6085e+09              72\n",
      "      1.5000e+00      1.5000e+00      2.6743e-10      7.5488e-01      2.1308e+09              73\n",
      "      1.5000e+00      1.5000e+00      2.0188e-10      7.5488e-01      2.8227e+09              74\n",
      "      1.5000e+00      1.5000e+00      1.5239e-10      7.5488e-01      3.7393e+09              75\n",
      "      1.5000e+00      1.5000e+00      1.1504e-10      7.5488e-01      4.9535e+09              76\n",
      "      1.5000e+00      1.5000e+00      8.6840e-11      7.5488e-01      6.5619e+09              77\n",
      "1.500000000354272\n"
     ]
    }
   ],
   "source": [
    "#割线\n",
    "pi=3.1415926\n",
    "x0=pi\n",
    "x1=2*pi/3\n",
    "error = 1\n",
    "i=0\n",
    "print('{:16s}{:21s}{:21s}{:21s}{:21s}{:21s}{:21s}'.format(' ','x','f(x)','e','|e(i)/e(i-1)|','|e(i)/e2(i-1)|','step'))\n",
    "while error>1.0*10**(-10):\n",
    "    i=i+1\n",
    "    x2=x1-f(x1)*(x1-x0)/(f(x1)-f(x0))\n",
    "    error1=abs(x2-x1)\n",
    "    tmp=error1/error\n",
    "    tmp2=error1/error**2\n",
    "    print('{:16.4e}{:16.4e}{:16.4e}{:16.4e}{:16.4e}{:16d}'.format(x0,x1,error1,tmp,tmp2,i))\n",
    "    error=error1\n",
    "    x0=x1\n",
    "    x1=x2\n",
    "print(x0)"
   ]
  },
  {
   "cell_type": "markdown",
   "metadata": {},
   "source": [
    "# 矩阵"
   ]
  },
  {
   "cell_type": "code",
   "execution_count": 1,
   "metadata": {},
   "outputs": [
    {
     "name": "stdout",
     "output_type": "stream",
     "text": [
      "[[1 1]\n",
      " [0 1]]\n",
      "[[2 1]\n",
      " [3 2]]\n",
      "A*B: [[2 1]\n",
      " [0 2]]\n",
      "A.dot(B): [[5 3]\n",
      " [3 2]]\n",
      "np.dot(A, B): [[5 3]\n",
      " [3 2]]\n"
     ]
    }
   ],
   "source": [
    "import numpy as np\n",
    "#The matrix product can be performed using the dot function or method\n",
    "A = np.array( [[1,1],\n",
    "               [0,1]] )\n",
    "B = np.array( [[2,1],\n",
    "               [3,2]] )\n",
    "print (A)\n",
    "print (B)\n",
    "print (\"A*B:\",A*B)\n",
    "print (\"A.dot(B):\",A.dot(B))\n",
    "print (\"np.dot(A, B):\",np.dot(A,B) )"
   ]
  },
  {
   "cell_type": "code",
   "execution_count": null,
   "metadata": {},
   "outputs": [],
   "source": []
  },
  {
   "cell_type": "markdown",
   "metadata": {},
   "source": [
    "# 上三角矩阵求解"
   ]
  },
  {
   "cell_type": "code",
   "execution_count": 4,
   "metadata": {},
   "outputs": [],
   "source": [
    "def Usolve(U,b):\n",
    "    m,n=U.shape\n",
    "    k=b.size\n",
    "    x=np.zeros(k)\n",
    "    print(m,n,k)\n",
    "    \n",
    "    for i in range(n-1,-1,-1):\n",
    "        x[i]=b[i]\n",
    "        for j in range(i+1,n,1):\n",
    "            x[i]=x[i]-U[i,j]*x[j]\n",
    "        x[i]=x[i]/U[i,i]\n",
    "    return x"
   ]
  },
  {
   "cell_type": "code",
   "execution_count": 3,
   "metadata": {},
   "outputs": [
    {
     "name": "stdout",
     "output_type": "stream",
     "text": [
      "[[1 2]\n",
      " [0 3]\n",
      " [1 1]]\n",
      "(3, 2)\n",
      "6\n"
     ]
    }
   ],
   "source": [
    "U=np.array( [[1,2], [0,3],[1,1]] )\n",
    "print(U)\n",
    "print(U.shape)\n",
    "print(U.size)"
   ]
  },
  {
   "cell_type": "code",
   "execution_count": 22,
   "metadata": {},
   "outputs": [
    {
     "name": "stdout",
     "output_type": "stream",
     "text": [
      "[[1 2]\n",
      " [0 3]] [3 4]\n",
      "2 2 2\n",
      "x= [0.33333333 1.33333333]\n"
     ]
    }
   ],
   "source": [
    "import numpy as np\n",
    "U=np.array( [[1,2], [0,3]] )\n",
    "b=np.array([3,4])\n",
    "print(U,b)\n",
    "x=Usolve(U,b)\n",
    "print('x=',x)"
   ]
  },
  {
   "cell_type": "markdown",
   "metadata": {},
   "source": [
    "# 下三角矩阵"
   ]
  },
  {
   "cell_type": "code",
   "execution_count": 10,
   "metadata": {},
   "outputs": [],
   "source": [
    "def Lsolve(L,b):\n",
    "    m,n=L.shape\n",
    "    k=b.size\n",
    "    x=np.zeros(k)\n",
    "    print(m,n,k)\n",
    "    \n",
    "    for i in range(0,n,1):\n",
    "        x[i]=b[i]\n",
    "        for j in range(0,i,1):\n",
    "            x[i]=x[i]-L[i,j]*x[j]\n",
    "        x[i]=x[i]/L[i,i]\n",
    "        print(x[i])\n",
    "    return x"
   ]
  },
  {
   "cell_type": "code",
   "execution_count": 11,
   "metadata": {},
   "outputs": [
    {
     "name": "stdout",
     "output_type": "stream",
     "text": [
      "[[1 0]\n",
      " [2 3]] [3 4]\n",
      "2 2 2\n",
      "3.0\n",
      "-0.6666666666666666\n",
      "[ 3.         -0.66666667]\n"
     ]
    }
   ],
   "source": [
    "L=np.array( [[1,0], [2,3]] )\n",
    "b=np.array([3,4])\n",
    "print(L,b)\n",
    "x=Lsolve(L,b)\n",
    "print(x)"
   ]
  },
  {
   "cell_type": "markdown",
   "metadata": {},
   "source": [
    "# 例子"
   ]
  },
  {
   "cell_type": "code",
   "execution_count": 12,
   "metadata": {},
   "outputs": [
    {
     "name": "stdout",
     "output_type": "stream",
     "text": [
      "[[ 1. -0.]\n",
      " [ 3.  1.]]\n",
      "[[ 1  2]\n",
      " [ 0 -2]]\n",
      "[[1 0]\n",
      " [0 1]]\n",
      "[[1 2]\n",
      " [3 4]]\n"
     ]
    }
   ],
   "source": [
    "import numpy as np\n",
    "A=np.array( [[1,2], [3,4]] )\n",
    "M=np.array([[1,0],[-3,1]])\n",
    "Mi=np.array([[1,0],[3,1]])\n",
    "print(np.linalg.inv(M))\n",
    "U=M.dot(A)\n",
    "print(M.dot(A))\n",
    "print(M.dot(Mi))\n",
    "print(Mi.dot(U))"
   ]
  },
  {
   "cell_type": "markdown",
   "metadata": {},
   "source": [
    "# 高斯消元"
   ]
  },
  {
   "cell_type": "code",
   "execution_count": 13,
   "metadata": {},
   "outputs": [],
   "source": [
    "def Gaussian_elimination(equation):\n",
    "    A = equation.copy()\n",
    "    m, n = A.shape\n",
    "\n",
    "    for i in range(m):  #化为上三角矩阵\n",
    "        A[i] = A[i] / A[i, i]\n",
    "        for j in range(i+1, m):\n",
    "            A[j] -= A[j, i]*A[i]\n",
    "    print('A1: ',A)\n",
    "\n",
    "    for i in range(m-1, 0, -1): # 化为对角矩阵\n",
    "        for j in range(i):\n",
    "            A[j] -= A[j, i]*A[i]\n",
    "    print('A2: ',A)        \n",
    "            \n",
    "    return A"
   ]
  },
  {
   "cell_type": "code",
   "execution_count": 15,
   "metadata": {},
   "outputs": [
    {
     "name": "stdout",
     "output_type": "stream",
     "text": [
      "[ 2 -3  2]\n",
      "[-6  8]\n"
     ]
    }
   ],
   "source": [
    "A = np.array([[2, -3, 2], [5,-6,8]])\n",
    "print(A[0])\n",
    "print(A[1,1:])"
   ]
  },
  {
   "cell_type": "code",
   "execution_count": 17,
   "metadata": {},
   "outputs": [
    {
     "name": "stdout",
     "output_type": "stream",
     "text": [
      "A1:  [[ 1 -1  1]\n",
      " [ 0  1 -3]]\n",
      "A2:  [[ 1  0 -2]\n",
      " [ 0  1 -3]]\n"
     ]
    },
    {
     "data": {
      "text/plain": [
       "array([[ 1,  0, -2],\n",
       "       [ 0,  1, -3]])"
      ]
     },
     "execution_count": 17,
     "metadata": {},
     "output_type": "execute_result"
    }
   ],
   "source": [
    "Gaussian_elimination(A)"
   ]
  },
  {
   "cell_type": "code",
   "execution_count": 11,
   "metadata": {},
   "outputs": [
    {
     "name": "stdout",
     "output_type": "stream",
     "text": [
      "A1:  [[ 1 -1  1]\n",
      " [ 0  1 -3]]\n",
      "A2:  [[ 1  0 -2]\n",
      " [ 0  1 -3]]\n",
      "x, y [-2 -3]\n"
     ]
    }
   ],
   "source": [
    "print(\"x, y\", Gaussian_elimination(A)[:, -1])"
   ]
  },
  {
   "cell_type": "markdown",
   "metadata": {},
   "source": [
    "# LU分解"
   ]
  },
  {
   "cell_type": "code",
   "execution_count": 7,
   "metadata": {},
   "outputs": [],
   "source": [
    "def LU(A):\n",
    "    m = A.shape[0]\n",
    "    L = np.identity(m)\n",
    "    U = A.copy()\n",
    "\n",
    "    for i in range(m):\n",
    "        for j in range(i+1, m):\n",
    "            if U[i, i] == 0:\n",
    "                raise ValueError(\"The matrix contains a zero pivot.\")\n",
    "            a = U[j, i] / U[i, i]\n",
    "            L[j, i] = a\n",
    "            print(U[j].dtype)\n",
    "            print(a.dtype)\n",
    "            U[j] -= a * U[i]\n",
    "    \n",
    "    return L, U"
   ]
  },
  {
   "cell_type": "code",
   "execution_count": 8,
   "metadata": {},
   "outputs": [
    {
     "output_type": "stream",
     "name": "stdout",
     "text": [
      "float64\nfloat64\nfloat64\nfloat64\nfloat64\nfloat64\n[[ 1.          0.          0.        ]\n [ 2.          1.          0.        ]\n [-3.         -2.33333333  1.        ]]\n[[ 1.  2. -1.]\n [ 0. -3.  0.]\n [ 0.  0. -2.]]\n"
     ]
    }
   ],
   "source": [
    "#实例\n",
    "A=np.array([[1.0,2,-1], [2,1,-2],[-3,1,1]])\n",
    "L,U=LU(A)\n",
    "print(L)\n",
    "print(U)"
   ]
  },
  {
   "cell_type": "code",
   "execution_count": 25,
   "metadata": {},
   "outputs": [],
   "source": [
    "A=np.array( [[2,1,0,0], [0,1,2,0],[2,4,5,1],[8,5,0,3]], dtype=float)\n",
    "B=np.array([1,1,2,0], dtype=float)"
   ]
  },
  {
   "cell_type": "code",
   "execution_count": 26,
   "metadata": {},
   "outputs": [
    {
     "name": "stdout",
     "output_type": "stream",
     "text": [
      "float64\n",
      "float64\n",
      "float64\n",
      "float64\n",
      "float64\n",
      "float64\n",
      "float64\n",
      "float64\n",
      "float64\n",
      "float64\n",
      "float64\n",
      "float64\n"
     ]
    }
   ],
   "source": [
    "L,U=LU(A)"
   ]
  },
  {
   "cell_type": "code",
   "execution_count": 27,
   "metadata": {},
   "outputs": [
    {
     "name": "stdout",
     "output_type": "stream",
     "text": [
      "L= [[1. 0. 0. 0.]\n",
      " [0. 1. 0. 0.]\n",
      " [1. 3. 1. 0.]\n",
      " [4. 1. 2. 1.]]\n",
      "U= [[ 2.  1.  0.  0.]\n",
      " [ 0.  1.  2.  0.]\n",
      " [ 0.  0. -1.  1.]\n",
      " [ 0.  0.  0.  1.]]\n"
     ]
    }
   ],
   "source": [
    "print('L=',L)\n",
    "print('U=',U)"
   ]
  },
  {
   "cell_type": "code",
   "execution_count": 28,
   "metadata": {},
   "outputs": [
    {
     "name": "stdout",
     "output_type": "stream",
     "text": [
      "4 4 4\n",
      "1.0\n",
      "1.0\n",
      "-2.0\n",
      "-1.0\n",
      "Y= [ 1.  1. -2. -1.]\n"
     ]
    }
   ],
   "source": [
    "#LY=B\n",
    "Y=Lsolve(L,B)\n",
    "print('Y=',Y)"
   ]
  },
  {
   "cell_type": "code",
   "execution_count": 29,
   "metadata": {},
   "outputs": [
    {
     "name": "stdout",
     "output_type": "stream",
     "text": [
      "4 4 4\n",
      "X= [ 1. -1.  1. -1.]\n"
     ]
    }
   ],
   "source": [
    "#UX=Y\n",
    "X=Usolve(U,Y)\n",
    "print('X=',X)"
   ]
  },
  {
   "cell_type": "code",
   "execution_count": 33,
   "metadata": {},
   "outputs": [],
   "source": [
    "A=np.array( [[2,1,0,0,1], [0,1,2,0,1],[2,4,5,1,2],[8,5,0,3,0]], dtype=float)"
   ]
  },
  {
   "cell_type": "code",
   "execution_count": 34,
   "metadata": {},
   "outputs": [
    {
     "name": "stdout",
     "output_type": "stream",
     "text": [
      "A1:  [[ 1.   0.5  0.   0.   0.5]\n",
      " [ 0.   1.   2.   0.   1. ]\n",
      " [-0.  -0.   1.  -1.   2. ]\n",
      " [ 0.   0.   0.   1.  -1. ]]\n",
      "A2:  [[ 1.  0.  0.  0.  1.]\n",
      " [ 0.  1.  0.  0. -1.]\n",
      " [ 0.  0.  1.  0.  1.]\n",
      " [ 0.  0.  0.  1. -1.]]\n"
     ]
    },
    {
     "data": {
      "text/plain": [
       "array([[ 1.,  0.,  0.,  0.,  1.],\n",
       "       [ 0.,  1.,  0.,  0., -1.],\n",
       "       [ 0.,  0.,  1.,  0.,  1.],\n",
       "       [ 0.,  0.,  0.,  1., -1.]])"
      ]
     },
     "execution_count": 34,
     "metadata": {},
     "output_type": "execute_result"
    }
   ],
   "source": [
    "Gaussian_elimination(A)"
   ]
  },
  {
   "cell_type": "markdown",
   "metadata": {},
   "source": [
    "# 矩阵的逆"
   ]
  },
  {
   "cell_type": "code",
   "execution_count": 25,
   "metadata": {},
   "outputs": [
    {
     "name": "stdout",
     "output_type": "stream",
     "text": [
      "float64\n",
      "float64\n",
      "float64\n",
      "float64\n",
      "float64\n",
      "float64\n",
      "float64\n",
      "float64\n",
      "float64\n",
      "float64\n",
      "float64\n",
      "float64\n"
     ]
    }
   ],
   "source": [
    "A=np.array( [[2,1,0,0], [0,1,2,0],[2,4,5,1],[8,5,0,3]], dtype=float)\n",
    "L,U=LU(A)"
   ]
  },
  {
   "cell_type": "code",
   "execution_count": 36,
   "metadata": {},
   "outputs": [
    {
     "name": "stdout",
     "output_type": "stream",
     "text": [
      "[[ -0.5   7.5  -3.    1. ]\n",
      " [  2.  -15.    6.   -2. ]\n",
      " [ -1.    8.   -3.    1. ]\n",
      " [ -2.    5.   -2.    1. ]]\n"
     ]
    }
   ],
   "source": [
    "print(np.linalg.inv(A))"
   ]
  },
  {
   "cell_type": "code",
   "execution_count": 37,
   "metadata": {},
   "outputs": [
    {
     "name": "stdout",
     "output_type": "stream",
     "text": [
      "[[1. 0. 0. 0.]\n",
      " [0. 1. 0. 0.]\n",
      " [0. 0. 1. 0.]\n",
      " [0. 0. 0. 1.]]\n",
      "[0. 1. 0. 0.]\n"
     ]
    }
   ],
   "source": [
    "I=np.identity(4)\n",
    "print(I)\n",
    "X=np.zeros(I.shape)\n",
    "I1=I[:,1]\n",
    "print(I1)"
   ]
  },
  {
   "cell_type": "code",
   "execution_count": 38,
   "metadata": {},
   "outputs": [
    {
     "name": "stdout",
     "output_type": "stream",
     "text": [
      "4 4 4\n",
      "1.0\n",
      "0.0\n",
      "-1.0\n",
      "-2.0\n",
      "4 4 4\n",
      "4 4 4\n",
      "0.0\n",
      "1.0\n",
      "-3.0\n",
      "5.0\n",
      "4 4 4\n",
      "4 4 4\n",
      "0.0\n",
      "0.0\n",
      "1.0\n",
      "-2.0\n",
      "4 4 4\n",
      "4 4 4\n",
      "0.0\n",
      "0.0\n",
      "0.0\n",
      "1.0\n",
      "4 4 4\n",
      "[[ -0.5   7.5  -3.    1. ]\n",
      " [  2.  -15.    6.   -2. ]\n",
      " [ -1.    8.   -3.    1. ]\n",
      " [ -2.    5.   -2.    1. ]]\n"
     ]
    }
   ],
   "source": [
    "for j in range(0,4,1):\n",
    "    Y=Lsolve(L,I[:,j])\n",
    "    X[:,j]=Usolve(U,Y)\n",
    "print(X)"
   ]
  },
  {
   "cell_type": "code",
   "execution_count": null,
   "metadata": {},
   "outputs": [],
   "source": []
  }
 ],
 "metadata": {
  "kernelspec": {
   "display_name": "Python 3",
   "language": "python",
   "name": "python3"
  },
  "language_info": {
   "codemirror_mode": {
    "name": "ipython",
    "version": 3
   },
   "file_extension": ".py",
   "mimetype": "text/x-python",
   "name": "python",
   "nbconvert_exporter": "python",
   "pygments_lexer": "ipython3",
   "version": "3.8.5-final"
  }
 },
 "nbformat": 4,
 "nbformat_minor": 2
}