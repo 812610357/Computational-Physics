{
 "cells": [
  {
   "cell_type": "code",
   "execution_count": 15,
   "metadata": {},
   "outputs": [],
   "source": [
    "import numpy as np\n",
    "import matplotlib.pyplot as plt\n",
    "from scipy.misc import derivative"
   ]
  },
  {
   "cell_type": "markdown",
   "metadata": {},
   "source": [
    "# 回顾"
   ]
  },
  {
   "cell_type": "code",
   "execution_count": 60,
   "metadata": {},
   "outputs": [],
   "source": [
    "def f(x):\n",
    "    return x**4-7.0*x**3+18.0*x**2-20.0*x+8"
   ]
  },
  {
   "cell_type": "code",
   "execution_count": 20,
   "metadata": {},
   "outputs": [
    {
     "data": {
      "image/png": "[encoded data removed]",
      "text/plain": [
       "<Figure size 432x288 with 1 Axes>"
      ]
     },
     "metadata": {
      "needs_background": "light"
     },
     "output_type": "display_data"
    }
   ],
   "source": [
    "x=np.linspace(0.5, 3, 100)\n",
    "y0=np.zeros(x.size)\n",
    "plt.plot(x,f(x),'r',x,y0,'b--')\n",
    "plt.show()"
   ]
  },
  {
   "cell_type": "code",
   "execution_count": 24,
   "metadata": {},
   "outputs": [
    {
     "name": "stdout",
     "output_type": "stream",
     "text": [
      "                x                    f(x)                 e                    |e(i)/e(i-1)|        |e(i)/e2(i-1)|       step                 \n",
      "  1.00000000e+01  3.82857142e+00  6.17142858e+00  6.17142858e+00  6.17142858e+00               1\n",
      "  3.82857142e+00  2.32417887e+00  1.50439256e+00  2.43767312e-01  3.94993330e-02               2\n",
      "  2.32417887e+00  2.02445867e+00  2.99720194e-01  1.99230043e-01  1.32432218e-01               3\n",
      "  2.02445867e+00  2.00019304e+00  2.42656311e-02  8.09609482e-02  2.70121766e-01               4\n",
      "  2.00019304e+00  1.99999678e+00  1.96258065e-04  8.08790275e-03  3.33306919e-01               5\n",
      "stop\n",
      "1.9999967836251467\n"
     ]
    }
   ],
   "source": [
    "x0=10\n",
    "error = 1\n",
    "i=0\n",
    "print('{:16s}{:21s}{:21s}{:21s}{:21s}{:21s}{:21s}'.format(' ','x','f(x)','e','|e(i)/e(i-1)|','|e(i)/e2(i-1)|','step'))\n",
    "while error>1.0*10**(-9):\n",
    "    i=i+1\n",
    "    if derivative(f, x0, dx=1e-6)==0:\n",
    "        print('stop')\n",
    "        break\n",
    "    x1=x0-3*f(x0)/derivative(f, x0, dx=1e-6)\n",
    "    error1=abs(x1-x0)\n",
    "    tmp=error1/error\n",
    "    tmp2=error1/error**2\n",
    "    print('{:16.8e}{:16.8e}{:16.8e}{:16.8e}{:16.8e}{:16d}'.format(x0,x1,error1,tmp,tmp2,i))\n",
    "    error=error1\n",
    "    x0=x1\n",
    "print(x0)"
   ]
  },
  {
   "cell_type": "code",
   "execution_count": 31,
   "metadata": {},
   "outputs": [
    {
     "name": "stdout",
     "output_type": "stream",
     "text": [
      "f:  8.0\n",
      "f^(1):  1.0018652574217413e-08\n",
      "f^(2):  0.0\n",
      "f^(3):  5.996980689815244\n"
     ]
    }
   ],
   "source": [
    "x0=2\n",
    "print('f: ',f(0))\n",
    "print('f^(1): ',derivative(f, x0, dx=1e-4, n=1))\n",
    "print('f^(2): ',derivative(f, x0, dx=1e-4, n=2))\n",
    "print('f^(3): ',derivative(f, x0, dx=1e-4, n=3,order=5))"
   ]
  },
  {
   "cell_type": "markdown",
   "metadata": {},
   "source": [
    "# 二分法"
   ]
  },
  {
   "cell_type": "code",
   "execution_count": 38,
   "metadata": {},
   "outputs": [
    {
     "name": "stdout",
     "output_type": "stream",
     "text": [
      "1.5707963267948966\n",
      "6.123233995736766e-17\n"
     ]
    }
   ],
   "source": [
    "a = 1.5\n",
    "b = 3\n",
    "N=0\n",
    "\n",
    "while N <100:\n",
    "    N=N+1\n",
    "    c = (b + a) / 2\n",
    "    if f(c) == 0:\n",
    "        print(N)\n",
    "        break\n",
    "    elif f(a)*f(c) < 0:\n",
    "        b = c\n",
    "    else:\n",
    "        a = c\n",
    "c = (b + a) / 2\n",
    "        \n",
    "print(c)\n",
    "print(f(c))"
   ]
  },
  {
   "cell_type": "markdown",
   "metadata": {},
   "source": [
    "# 割线法"
   ]
  },
  {
   "cell_type": "code",
   "execution_count": 34,
   "metadata": {},
   "outputs": [],
   "source": [
    "def f(x):\n",
    "    return np.cos(x)"
   ]
  },
  {
   "cell_type": "code",
   "execution_count": 35,
   "metadata": {},
   "outputs": [
    {
     "data": {
      "image/png": "[encoded data removed]",
      "text/plain": [
       "<Figure size 432x288 with 1 Axes>"
      ]
     },
     "metadata": {
      "needs_background": "light"
     },
     "output_type": "display_data"
    }
   ],
   "source": [
    "pi=3.1415926\n",
    "x=np.linspace( 2*pi/3, pi,100)\n",
    "plt.plot(x,f(x),'r')\n",
    "plt.show()"
   ]
  },
  {
   "cell_type": "code",
   "execution_count": 39,
   "metadata": {},
   "outputs": [
    {
     "name": "stdout",
     "output_type": "stream",
     "text": [
      "                x                    f(x)                 e                    |e(i)/e(i-1)|        |e(i)/e2(i-1)|       step                 \n",
      "      3.1416e+00      2.0944e+00      1.0472e+00      1.0472e+00      1.0472e+00               1\n",
      "      2.0944e+00      1.0472e+00      5.2360e-01      5.0000e-01      4.7746e-01               2\n",
      "      1.0472e+00      1.5708e+00      3.7054e-09      7.0767e-09      1.3516e-08               3\n",
      "      1.5708e+00      1.5708e+00      1.6700e-10      4.5070e-02      1.2164e+07               4\n",
      "      1.5708e+00      1.5708e+00      0.0000e+00      0.0000e+00      0.0000e+00               5\n",
      "1.5707963267948966\n"
     ]
    }
   ],
   "source": [
    "pi=3.1415926\n",
    "x0=pi\n",
    "x1=2*pi/3\n",
    "error = 1\n",
    "i=0\n",
    "print('{:16s}{:21s}{:21s}{:21s}{:21s}{:21s}{:21s}'.format(' ','x','f(x)','e','|e(i)/e(i-1)|','|e(i)/e2(i-1)|','step'))\n",
    "while error>1.0*10**(-10):\n",
    "    i=i+1\n",
    "    x2=x1-f(x1)*(x1-x0)/(f(x1)-f(x0))\n",
    "    error1=abs(x2-x1)\n",
    "    tmp=error1/error\n",
    "    tmp2=error1/error**2\n",
    "    print('{:16.4e}{:16.4e}{:16.4e}{:16.4e}{:16.4e}{:16d}'.format(x0,x1,error1,tmp,tmp2,i))\n",
    "    error=error1\n",
    "    x0=x1\n",
    "    x1=x2\n",
    "print(x0)"
   ]
  },
  {
   "cell_type": "markdown",
   "metadata": {},
   "source": [
    "# 牛顿法"
   ]
  },
  {
   "cell_type": "code",
   "execution_count": 77,
   "metadata": {},
   "outputs": [
    {
     "name": "stdout",
     "output_type": "stream",
     "text": [
      "                x                    f(x)                 e                    |e(i)/e(i-1)|        |e(i)/e2(i-1)|       step                 \n",
      "  7.85398150e-01 -1.26702966e+00  2.05242781e+00  2.05242781e+00  2.05242781e+00               1\n",
      " -1.26702966e+00 -6.39378083e-01  6.27651577e-01  3.05809332e-01  1.48998825e-01               2\n",
      " -6.39378083e-01 -2.53669573e-01  3.85708510e-01  6.14526472e-01  9.79088549e-01               3\n",
      " -2.53669573e-01 -5.95861788e-02  1.94083395e-01  5.03186707e-01  1.30457766e+00               4\n",
      " -5.95861788e-02 -4.30197997e-03  5.52841988e-02  2.84847650e-01  1.46765595e+00               5\n",
      " -4.30197997e-03 -2.45002155e-05  4.27747975e-03  7.73725557e-02  1.39954195e+00               6\n",
      " -2.45002155e-05 -8.00314199e-10  2.44994152e-05  5.72753505e-03  1.33899758e+00               7\n",
      " -8.00314199e-10 -8.54003391e-19  8.00314198e-10  3.26666654e-05  1.33336511e+00               8\n",
      " -8.54003391e-19  0.00000000e+00  8.54003391e-19  1.06708514e-09  1.33333277e+00               9\n",
      "0.0\n"
     ]
    }
   ],
   "source": [
    "x0=pi/4\n",
    "error = 1\n",
    "i=0\n",
    "print('{:16s}{:21s}{:21s}{:21s}{:21s}{:21s}{:21s}'.format(' ','x','f(x)','e','|e(i)/e(i-1)|','|e(i)/e2(i-1)|','step'))\n",
    "while error>1.0*10**(-15):\n",
    "    i=i+1\n",
    "    x1=x0-f(x0)/derivative(f, x0, dx=1e-10)\n",
    "    error1=abs(x1-x0)\n",
    "    tmp=error1/error\n",
    "    tmp2=error1/error**2\n",
    "    print('{:16.8e}{:16.8e}{:16.8e}{:16.8e}{:16.8e}{:16d}'.format(x0,x1,error1,tmp,tmp2,i))\n",
    "    error=error1\n",
    "    x0=x1\n",
    "print(x0)"
   ]
  },
  {
   "cell_type": "markdown",
   "metadata": {},
   "source": [
    "# 二分法"
   ]
  },
  {
   "cell_type": "code",
   "execution_count": 79,
   "metadata": {},
   "outputs": [
    {
     "name": "stdout",
     "output_type": "stream",
     "text": [
      "                a                    b                    c                    f                    b-a                  step                 \n",
      "    -9.00000e+00      1.0000e+01      5.0000e-01      3.7500e-01      1.9000e+01               1\n",
      "    -9.00000e+00      5.0000e-01     -4.2500e+00     -1.1927e+02      9.5000e+00               2\n",
      "    -4.25000e+00      5.0000e-01     -1.8750e+00     -1.6436e+01      4.7500e+00               3\n",
      "    -1.87500e+00      5.0000e-01     -6.8750e-01     -2.3015e+00      2.3750e+00               4\n",
      "    -6.87500e-01      5.0000e-01     -9.3750e-02     -1.5903e-01      1.1875e+00               5\n",
      "    -9.37500e-02      5.0000e-01      2.0312e-01      2.3055e-01      5.9375e-01               6\n",
      "    -9.37500e-02      2.0312e-01      5.4688e-02      7.6213e-02      2.9688e-01               7\n",
      "    -9.37500e-02      5.4688e-02     -1.9531e-02     -3.0067e-02      1.4844e-01               8\n",
      "    -1.95312e-02      5.4688e-02      1.7578e-02      2.5755e-02      7.4219e-02               9\n",
      "    -1.95312e-02      1.7578e-02     -9.7656e-04     -1.4668e-03      3.7109e-02              10\n",
      "    -9.76562e-04      1.7578e-02      8.3008e-03      1.2314e-02      1.8555e-02              11\n",
      "    -9.76562e-04      8.3008e-03      3.6621e-03      5.4664e-03      9.2773e-03              12\n",
      "    -9.76562e-04      3.6621e-03      1.3428e-03      2.0106e-03      4.6387e-03              13\n",
      "    -9.76562e-04      1.3428e-03      1.8311e-04      2.7459e-04      2.3193e-03              14\n",
      "    -9.76562e-04      1.8311e-04     -3.9673e-04     -5.9541e-04      1.1597e-03              15\n",
      "    -3.96729e-04      1.8311e-04     -1.0681e-04     -1.6024e-04      5.7983e-04              16\n",
      "    -1.06812e-04      1.8311e-04      3.8147e-05      5.7218e-05      2.8992e-04              17\n",
      "    -1.06812e-04      3.8147e-05     -3.4332e-05     -5.1501e-05      1.4496e-04              18\n",
      "    -3.43323e-05      3.8147e-05      1.9073e-06      2.8610e-06      7.2479e-05              19\n",
      "    -3.43323e-05      1.9073e-06     -1.6212e-05     -2.4319e-05      3.6240e-05              20\n",
      "    -1.62125e-05      1.9073e-06     -7.1526e-06     -1.0729e-05      1.8120e-05              21\n",
      "    -7.15256e-06      1.9073e-06     -2.6226e-06     -3.9339e-06      9.0599e-06              22\n",
      "    -2.62260e-06      1.9073e-06     -3.5763e-07     -5.3644e-07      4.5300e-06              23\n",
      "    -3.57628e-07      1.9073e-06      7.7486e-07      1.1623e-06      2.2650e-06              24\n",
      "    -3.57628e-07      7.7486e-07      2.0862e-07      3.1292e-07      1.1325e-06              25\n",
      "    -3.57628e-07      2.0862e-07     -7.4506e-08     -1.1176e-07      5.6624e-07              26\n",
      "    -7.45058e-08      2.0862e-07      6.7055e-08      1.0058e-07      2.8312e-07              27\n",
      "    -7.45058e-08      6.7055e-08     -3.7253e-09     -5.5879e-09      1.4156e-07              28\n",
      "    -3.72529e-09      6.7055e-08      3.1665e-08      4.7497e-08      7.0781e-08              29\n",
      "    -3.72529e-09      3.1665e-08      1.3970e-08      2.0955e-08      3.5390e-08              30\n",
      "    -3.72529e-09      1.3970e-08      5.1223e-09      7.6834e-09      1.7695e-08              31\n",
      "    -3.72529e-09      5.1223e-09      6.9849e-10      1.0477e-09      8.8476e-09              32\n",
      "    -3.72529e-09      6.9849e-10     -1.5134e-09     -2.2701e-09      4.4238e-09              33\n",
      "    -1.51340e-09      6.9849e-10     -4.0745e-10     -6.1118e-10      2.2119e-09              34\n",
      "    -4.07454e-10      6.9849e-10      1.4552e-10      2.1828e-10      1.1059e-09              35\n",
      "    -4.07454e-10      1.4552e-10     -1.3097e-10     -1.9645e-10      5.5297e-10              36\n",
      "    -1.30967e-10      1.4552e-10      7.2760e-12      1.0914e-11      2.7649e-10              37\n",
      "Solution:  -6.184563972055912e-11\n",
      "Function value:  -9.276845958848845e-11\n"
     ]
    }
   ],
   "source": [
    "a=-9\n",
    "b=10\n",
    "i=0\n",
    "print('{:16s}{:21s}{:21s}{:21s}{:21s}{:21s}{:21s}'.format(' ','a','b','c','f','b-a','step'))\n",
    "while (b - a) / 2 > 1.0*10**(-10):\n",
    "    i=i+1\n",
    "    c = (b + a) / 2\n",
    "    print('{:16.5e}{:16.4e}{:16.4e}{:16.4e}{:16.4e}{:16d}'.format(a,b,c,f(c),b-a,i))\n",
    "    if f(c) == 0:\n",
    "        break\n",
    "    elif f(a)*f(c) < 0:\n",
    "        b = c\n",
    "    else:\n",
    "        a = c\n",
    "c = (b + a) / 2\n",
    "        \n",
    "print(\"Solution: \",c)\n",
    "print(\"Function value: \", f(c))"
   ]
  },
  {
   "cell_type": "markdown",
   "metadata": {},
   "source": [
    "# 例子"
   ]
  },
  {
   "cell_type": "code",
   "execution_count": 46,
   "metadata": {},
   "outputs": [],
   "source": [
    "def f(x):\n",
    "    return x**3+x-1"
   ]
  },
  {
   "cell_type": "code",
   "execution_count": 47,
   "metadata": {},
   "outputs": [
    {
     "data": {
      "image/png": "[encoded data removed]",
      "text/plain": [
       "<Figure size 432x288 with 1 Axes>"
      ]
     },
     "metadata": {
      "needs_background": "light"
     },
     "output_type": "display_data"
    }
   ],
   "source": [
    "pi=3.1415926\n",
    "x=np.linspace(-0.2, 1, 100)\n",
    "y0=np.zeros(x.size)\n",
    "plt.plot(x,f(x),'r',x,y0,'b--')\n",
    "plt.show()"
   ]
  },
  {
   "cell_type": "code",
   "execution_count": 48,
   "metadata": {},
   "outputs": [
    {
     "name": "stdout",
     "output_type": "stream",
     "text": [
      "                x                    f(x)                 e                    |e(i)/e(i-1)|        |e(i)/e2(i-1)|       step                 \n",
      "      5.0000e-01      5.0000e-01      2.1428e-01      2.1428e-01      2.1428e-01               1\n",
      "      5.0000e-01      7.1429e-01      3.7177e-02      1.7349e-01      8.0964e-01               2\n",
      "      7.1429e-01      6.7711e-01      5.0783e-03      1.3660e-01      3.6742e+00               3\n",
      "      6.7711e-01      6.8219e-01      1.4168e-04      2.7899e-02      5.4937e+00               4\n",
      "      6.8219e-01      6.8233e-01      6.3005e-07      4.4471e-03      3.1389e+01               5\n",
      "      6.8233e-01      6.8233e-01      7.5893e-11      1.2046e-04      1.9119e+02               6\n",
      "      6.8233e-01      6.8233e-01      0.0000e+00      0.0000e+00      0.0000e+00               7\n",
      "0.6823278038280193\n"
     ]
    }
   ],
   "source": [
    "x0=0.5\n",
    "x1=0.500001\n",
    "error = 1\n",
    "i=0\n",
    "print('{:16s}{:21s}{:21s}{:21s}{:21s}{:21s}{:21s}'.format(' ','x','f(x)','e','|e(i)/e(i-1)|','|e(i)/e2(i-1)|','step'))\n",
    "while error>1.0*10**(-15):\n",
    "    i=i+1\n",
    "    x2=x1-f(x1)*(x1-x0)/(f(x1)-f(x0))\n",
    "    error1=abs(x2-x1)\n",
    "    tmp=error1/error\n",
    "    tmp2=error1/error**2\n",
    "    print('{:16.4e}{:16.4e}{:16.4e}{:16.4e}{:16.4e}{:16d}'.format(x0,x1,error1,tmp,tmp2,i))\n",
    "    error=error1\n",
    "    x0=x1\n",
    "    x1=x2\n",
    "print(x0)"
   ]
  },
  {
   "cell_type": "code",
   "execution_count": 62,
   "metadata": {},
   "outputs": [
    {
     "name": "stdout",
     "output_type": "stream",
     "text": [
      "                x                    f(x)                 e                    |e(i)/e(i-1)|        |e(i)/e2(i-1)|       step                 \n",
      "      3.0000e+00      4.0000e+00      1.0909e+00      1.0909e+00      1.0909e+00               1\n",
      "      4.0000e+00      2.9091e+00      6.9341e-02      6.3562e-02      5.8266e-02               2\n",
      "      2.9091e+00      2.8398e+00      2.1905e-01      3.1590e+00      4.5557e+01               3\n",
      "      2.8398e+00      2.6207e+00      1.2096e-01      5.5219e-01      2.5209e+00               4\n",
      "      2.6207e+00      2.4997e+00      1.1298e-01      9.3409e-01      7.7225e+00               5\n",
      "      2.4997e+00      2.3868e+00      8.4753e-02      7.5013e-01      6.6393e+00               6\n",
      "      2.3868e+00      2.3020e+00      6.8517e-02      8.0843e-01      9.5386e+00               7\n",
      "      2.3020e+00      2.2335e+00      5.3357e-02      7.7874e-01      1.1366e+01               8\n",
      "      2.2335e+00      2.1801e+00      4.1807e-02      7.8353e-01      1.4685e+01               9\n",
      "      2.1801e+00      2.1383e+00      3.2423e-02      7.7555e-01      1.8551e+01              10\n",
      "      2.1383e+00      2.1059e+00      2.5063e-02      7.7300e-01      2.3841e+01              11\n",
      "      2.1059e+00      2.0808e+00      1.9274e-02      7.6903e-01      3.0684e+01              12\n",
      "      2.0808e+00      2.0616e+00      1.4770e-02      7.6631e-01      3.9758e+01              13\n",
      "      2.0616e+00      2.0468e+00      1.1281e-02      7.6381e-01      5.1713e+01              14\n",
      "      2.0468e+00      2.0355e+00      8.5950e-03      7.6187e-01      6.7532e+01              15\n",
      "      2.0355e+00      2.0269e+00      6.5346e-03      7.6028e-01      8.8456e+01              16\n",
      "      2.0269e+00      2.0204e+00      4.9600e-03      7.5904e-01      1.1616e+02              17\n",
      "      2.0204e+00      2.0154e+00      3.7600e-03      7.5807e-01      1.5283e+02              18\n",
      "      2.0154e+00      2.0117e+00      2.8475e-03      7.5731e-01      2.0141e+02              19\n",
      "      2.0117e+00      2.0088e+00      2.1548e-03      7.5673e-01      2.6575e+02              20\n",
      "      2.0088e+00      2.0067e+00      1.6296e-03      7.5629e-01      3.5098e+02              21\n",
      "      2.0067e+00      2.0050e+00      1.2319e-03      7.5595e-01      4.6387e+02              22\n",
      "      2.0050e+00      2.0038e+00      9.3095e-04      7.5569e-01      6.1342e+02              23\n",
      "      2.0038e+00      2.0029e+00      7.0333e-04      7.5549e-01      8.1153e+02              24\n",
      "      2.0029e+00      2.0022e+00      5.3125e-04      7.5534e-01      1.0740e+03              25\n",
      "      2.0022e+00      2.0016e+00      4.0121e-04      7.5523e-01      1.4216e+03              26\n",
      "      2.0016e+00      2.0012e+00      3.0298e-04      7.5515e-01      1.8822e+03              27\n",
      "      2.0012e+00      2.0009e+00      2.2878e-04      7.5510e-01      2.4923e+03              28\n",
      "      2.0009e+00      2.0007e+00      1.7271e-04      7.5494e-01      3.2999e+03              29\n",
      "      2.0007e+00      2.0005e+00      1.3042e-04      7.5511e-01      4.3720e+03              30\n",
      "      2.0005e+00      2.0004e+00      9.8436e-05      7.5478e-01      5.7874e+03              31\n",
      "      2.0004e+00      2.0003e+00      7.4286e-05      7.5466e-01      7.6666e+03              32\n",
      "      2.0003e+00      2.0002e+00      5.6230e-05      7.5694e-01      1.0190e+04              33\n",
      "      2.0002e+00      2.0002e+00      4.2303e-05      7.5233e-01      1.3380e+04              34\n",
      "      2.0002e+00      2.0001e+00      3.1881e-05      7.5362e-01      1.7815e+04              35\n",
      "      2.0001e+00      2.0001e+00      2.4316e-05      7.6271e-01      2.3924e+04              36\n",
      "      2.0001e+00      2.0001e+00      1.9453e-05      8.0000e-01      3.2900e+04              37\n",
      "      2.0001e+00      2.0001e+00      1.2092e-05      6.2162e-01      3.1956e+04              38\n",
      "      2.0001e+00      2.0000e+00      1.1085e-05      9.1667e-01      7.5806e+04              39\n",
      "      2.0000e+00      2.0000e+00      6.3340e-06      5.7143e-01      5.1552e+04              40\n",
      "      2.0000e+00      2.0000e+00      1.9002e-05      3.0000e+00      4.7363e+05              41\n",
      "      2.0000e+00      2.0000e+00      9.5010e-06      5.0000e-01      2.6313e+04              42\n",
      "      2.0000e+00      2.0000e+00      0.0000e+00      0.0000e+00      0.0000e+00              43\n",
      "1.9999967916216475\n"
     ]
    }
   ],
   "source": [
    "x0=3\n",
    "x1=4\n",
    "error = 1\n",
    "i=0\n",
    "print('{:16s}{:21s}{:21s}{:21s}{:21s}{:21s}{:21s}'.format(' ','x','f(x)','e','|e(i)/e(i-1)|','|e(i)/e2(i-1)|','step'))\n",
    "while error>1.0*10**(-15):\n",
    "    i=i+1\n",
    "    x2=x1-f(x1)*(x1-x0)/(f(x1)-f(x0))\n",
    "    error1=abs(x2-x1)\n",
    "    tmp=error1/error\n",
    "    tmp2=error1/error**2\n",
    "    print('{:16.4e}{:16.4e}{:16.4e}{:16.4e}{:16.4e}{:16d}'.format(x0,x1,error1,tmp,tmp2,i))\n",
    "    error=error1\n",
    "    x0=x1\n",
    "    x1=x2\n",
    "print(x0)"
   ]
  },
  {
   "cell_type": "code",
   "execution_count": 50,
   "metadata": {},
   "outputs": [
    {
     "name": "stdout",
     "output_type": "stream",
     "text": [
      "                x                    f(x)                 e                    |e(i)/e(i-1)|        |e(i)/e2(i-1)|       step                 \n",
      "      5.0000e-01      7.0000e-01      2.0574e-02      2.0574e-02      2.0574e-02               1\n",
      "      7.0000e-01      6.7943e-01      2.8584e-03      1.3893e-01      6.7527e+00               2\n",
      "      6.7943e-01      6.8228e-01      4.3670e-05      1.5278e-02      5.3449e+00               3\n",
      "      6.8228e-01      6.8233e-01      1.0809e-07      2.4751e-03      5.6677e+01               4\n",
      "      6.8233e-01      6.8233e-01      4.0216e-12      3.7206e-05      3.4421e+02               5\n",
      "      6.8233e-01      6.8233e-01      1.1102e-16      2.7607e-05      6.8647e+06               6\n",
      "0.6823278038280194\n"
     ]
    }
   ],
   "source": [
    "x0=0.5\n",
    "x1=0.7\n",
    "error = 1\n",
    "i=0\n",
    "print('{:16s}{:21s}{:21s}{:21s}{:21s}{:21s}{:21s}'.format(' ','x','f(x)','e','|e(i)/e(i-1)|','|e(i)/e2(i-1)|','step'))\n",
    "while error>1.0*10**(-15):\n",
    "    i=i+1\n",
    "    x2=x1-f(x1)*(x1-x0)/(f(x1)-f(x0))\n",
    "    error1=abs(x2-x1)\n",
    "    tmp=error1/error\n",
    "    tmp2=error1/error**2\n",
    "    print('{:16.4e}{:16.4e}{:16.4e}{:16.4e}{:16.4e}{:16d}'.format(x0,x1,error1,tmp,tmp2,i))\n",
    "    error=error1\n",
    "    x0=x1\n",
    "    x1=x2\n",
    "print(x0)"
   ]
  },
  {
   "cell_type": "markdown",
   "metadata": {},
   "source": [
    "# 复数根"
   ]
  },
  {
   "cell_type": "code",
   "execution_count": 54,
   "metadata": {},
   "outputs": [
    {
     "name": "stdout",
     "output_type": "stream",
     "text": [
      "                x                    f(x)                 e                    |e(i)/e(i-1)|        |e(i)/e2(i-1)|       step                 \n",
      "0.0000e+00+1.0000e+00j0.0000e+00+2.0000e+00j      1.0138e+00      1.0138e+00      1.0138e+00               1\n",
      "0.0000e+00+2.0000e+00j-1.6667e-01+1.0000e+00j      1.1257e-01      1.1104e-01      1.0952e-01               2\n",
      "-1.6667e-01+1.0000e+00j-2.7615e-01+1.0262e+00j      1.9614e-01      1.7424e+00      1.5479e+01               3\n",
      "-2.7615e-01+1.0262e+00j-3.8029e-01+1.1924e+00j      5.7978e-02      2.9560e-01      1.5071e+00               4\n",
      "-3.8029e-01+1.1924e+00j-3.3481e-01+1.1564e+00j      7.8037e-03      1.3460e-01      2.3215e+00               5\n",
      "-3.3481e-01+1.1564e+00j-3.4077e-01+1.1615e+00j      4.0218e-04      5.1538e-02      6.6043e+00               6\n",
      "-3.4077e-01+1.1615e+00j-3.4117e-01+1.1615e+00j      3.3096e-06      8.2291e-03      2.0461e+01               7\n",
      "-3.4117e-01+1.1615e+00j-3.4116e-01+1.1615e+00j      1.3342e-09      4.0312e-04      1.2180e+02               8\n",
      "-3.4116e-01+1.1615e+00j-3.4116e-01+1.1615e+00j      4.4409e-15      3.3286e-06      2.4949e+03               9\n",
      "-3.4116e-01+1.1615e+00j-3.4116e-01+1.1615e+00j      5.5511e-17      1.2500e-02      2.8147e+12              10\n",
      "(-0.3411639019140097+1.161541399997252j)\n"
     ]
    }
   ],
   "source": [
    "x0=complex(0,1)  # (0,1)\n",
    "x1=complex(0,2)\n",
    "error = 1\n",
    "i=0\n",
    "print('{:16s}{:21s}{:21s}{:21s}{:21s}{:21s}{:21s}'.format(' ','x','f(x)','e','|e(i)/e(i-1)|','|e(i)/e2(i-1)|','step'))\n",
    "while error>1.0*10**(-15):\n",
    "    i=i+1\n",
    "    x2=x1-f(x1)*(x1-x0)/(f(x1)-f(x0))\n",
    "    error1=abs(x2-x1)\n",
    "    tmp=error1/error\n",
    "    tmp2=error1/error**2\n",
    "    print('{:16.4e}{:16.4e}{:16.4e}{:16.4e}{:16.4e}{:16d}'.format(x0,x1,error1,tmp,tmp2,i))\n",
    "    error=error1\n",
    "    x0=x1\n",
    "    x1=x2\n",
    "print(x0)"
   ]
  },
  {
   "cell_type": "markdown",
   "metadata": {},
   "source": [
    "# 割线法遇重根情况"
   ]
  },
  {
   "cell_type": "code",
   "execution_count": 64,
   "metadata": {},
   "outputs": [],
   "source": [
    "def f(x):\n",
    "    return (x-1)**3"
   ]
  },
  {
   "cell_type": "code",
   "execution_count": 65,
   "metadata": {},
   "outputs": [
    {
     "name": "stdout",
     "output_type": "stream",
     "text": [
      "                x                    f(x)                 e                    |e(i)/e(i-1)|        |e(i)/e2(i-1)|       step                 \n",
      "      0.0000e+00      1.0000e+01      9.9863e+00      9.9863e+00      9.9863e+00               1\n",
      "      1.0000e+01      1.3699e-02      1.3126e-02      1.3144e-03      1.3162e-04               2\n",
      "      1.3699e-02      2.6825e-02      3.2006e-01      2.4383e+01      1.8576e+03               3\n",
      "      2.6825e-02      3.4688e-01      1.3866e-01      4.3323e-01      1.3536e+00               4\n",
      "      3.4688e-01      4.8554e-01      1.3255e-01      9.5596e-01      6.8943e+00               5\n",
      "      4.8554e-01      6.1809e-01      9.1768e-02      6.9232e-01      5.2230e+00               6\n",
      "      6.1809e-01      7.0986e-01      7.1659e-02      7.8088e-01      8.5093e+00               7\n",
      "      7.0986e-01      7.8152e-01      5.3399e-02      7.4517e-01      1.0399e+01               8\n",
      "      7.8152e-01      8.3492e-01      4.0511e-02      7.5866e-01      1.4207e+01               9\n",
      "      8.3492e-01      8.7543e-01      3.0522e-02      7.5343e-01      1.8598e+01              10\n",
      "      8.7543e-01      9.0595e-01      2.3058e-02      7.5544e-01      2.4750e+01              11\n",
      "      9.0595e-01      9.2901e-01      1.7401e-02      7.5466e-01      3.2729e+01              12\n",
      "      9.2901e-01      9.4641e-01      1.3137e-02      7.5496e-01      4.3387e+01              13\n",
      "      9.4641e-01      9.5955e-01      9.9163e-03      7.5485e-01      5.7460e+01              14\n",
      "      9.5955e-01      9.6946e-01      7.4857e-03      7.5489e-01      7.6126e+01              15\n",
      "      9.6946e-01      9.7695e-01      5.6508e-03      7.5487e-01      1.0084e+02              16\n",
      "      9.7695e-01      9.8260e-01      4.2656e-03      7.5488e-01      1.3359e+02              17\n",
      "      9.8260e-01      9.8686e-01      3.2200e-03      7.5488e-01      1.7697e+02              18\n",
      "      9.8686e-01      9.9008e-01      2.4307e-03      7.5488e-01      2.3443e+02              19\n",
      "      9.9008e-01      9.9251e-01      1.8349e-03      7.5488e-01      3.1055e+02              20\n",
      "      9.9251e-01      9.9435e-01      1.3851e-03      7.5488e-01      4.1140e+02              21\n",
      "      9.9435e-01      9.9573e-01      1.0456e-03      7.5488e-01      5.4499e+02              22\n",
      "      9.9573e-01      9.9678e-01      7.8930e-04      7.5488e-01      7.2195e+02              23\n",
      "      9.9678e-01      9.9757e-01      5.9583e-04      7.5488e-01      9.5638e+02              24\n",
      "      9.9757e-01      9.9817e-01      4.4978e-04      7.5488e-01      1.2669e+03              25\n",
      "      9.9817e-01      9.9861e-01      3.3953e-04      7.5488e-01      1.6783e+03              26\n",
      "      9.9861e-01      9.9895e-01      2.5630e-04      7.5488e-01      2.2233e+03              27\n",
      "      9.9895e-01      9.9921e-01      1.9348e-04      7.5488e-01      2.9453e+03              28\n",
      "      9.9921e-01      9.9940e-01      1.4605e-04      7.5488e-01      3.9017e+03              29\n",
      "      9.9940e-01      9.9955e-01      1.1025e-04      7.5488e-01      5.1686e+03              30\n",
      "      9.9955e-01      9.9966e-01      8.3226e-05      7.5488e-01      6.8469e+03              31\n",
      "      9.9966e-01      9.9974e-01      6.2825e-05      7.5488e-01      9.0703e+03              32\n",
      "      9.9974e-01      9.9981e-01      4.7425e-05      7.5488e-01      1.2016e+04              33\n",
      "      9.9981e-01      9.9985e-01      3.5800e-05      7.5488e-01      1.5917e+04              34\n",
      "      9.9985e-01      9.9989e-01      2.7025e-05      7.5488e-01      2.1086e+04              35\n",
      "      9.9989e-01      9.9992e-01      2.0400e-05      7.5488e-01      2.7933e+04              36\n",
      "      9.9992e-01      9.9994e-01      1.5400e-05      7.5488e-01      3.7003e+04              37\n",
      "      9.9994e-01      9.9995e-01      1.1625e-05      7.5488e-01      4.9019e+04              38\n",
      "      9.9995e-01      9.9996e-01      8.7755e-06      7.5488e-01      6.4936e+04              39\n",
      "      9.9996e-01      9.9997e-01      6.6244e-06      7.5488e-01      8.6021e+04              40\n",
      "      9.9997e-01      9.9998e-01      5.0006e-06      7.5488e-01      1.1395e+05              41\n",
      "      9.9998e-01      9.9998e-01      3.7748e-06      7.5488e-01      1.5096e+05              42\n",
      "      9.9998e-01      9.9999e-01      2.8495e-06      7.5488e-01      1.9998e+05              43\n",
      "      9.9999e-01      9.9999e-01      2.1511e-06      7.5488e-01      2.6491e+05              44\n",
      "      9.9999e-01      9.9999e-01      1.6238e-06      7.5488e-01      3.5093e+05              45\n",
      "      9.9999e-01      9.9999e-01      1.2258e-06      7.5488e-01      4.6489e+05              46\n",
      "      9.9999e-01      1.0000e+00      9.2530e-07      7.5488e-01      6.1584e+05              47\n",
      "      1.0000e+00      1.0000e+00      6.9849e-07      7.5488e-01      8.1582e+05              48\n",
      "      1.0000e+00      1.0000e+00      5.2727e-07      7.5488e-01      1.0807e+06              49\n",
      "      1.0000e+00      1.0000e+00      3.9803e-07      7.5488e-01      1.4317e+06              50\n",
      "      1.0000e+00      1.0000e+00      3.0046e-07      7.5488e-01      1.8966e+06              51\n",
      "      1.0000e+00      1.0000e+00      2.2681e-07      7.5488e-01      2.5124e+06              52\n",
      "      1.0000e+00      1.0000e+00      1.7121e-07      7.5488e-01      3.3282e+06              53\n",
      "      1.0000e+00      1.0000e+00      1.2925e-07      7.5488e-01      4.4089e+06              54\n",
      "      1.0000e+00      1.0000e+00      9.7565e-08      7.5488e-01      5.8406e+06              55\n",
      "      1.0000e+00      1.0000e+00      7.3650e-08      7.5488e-01      7.7372e+06              56\n",
      "      1.0000e+00      1.0000e+00      5.5597e-08      7.5488e-01      1.0250e+07              57\n",
      "      1.0000e+00      1.0000e+00      4.1969e-08      7.5488e-01      1.3578e+07              58\n",
      "      1.0000e+00      1.0000e+00      3.1681e-08      7.5488e-01      1.7987e+07              59\n",
      "      1.0000e+00      1.0000e+00      2.3915e-08      7.5488e-01      2.3827e+07              60\n",
      "      1.0000e+00      1.0000e+00      1.8053e-08      7.5488e-01      3.1564e+07              61\n",
      "      1.0000e+00      1.0000e+00      1.3628e-08      7.5488e-01      4.1814e+07              62\n",
      "      1.0000e+00      1.0000e+00      1.0287e-08      7.5488e-01      5.5392e+07              63\n",
      "      1.0000e+00      1.0000e+00      7.7658e-09      7.5488e-01      7.3379e+07              64\n",
      "      1.0000e+00      1.0000e+00      5.8622e-09      7.5488e-01      9.7206e+07              65\n",
      "      1.0000e+00      1.0000e+00      4.4252e-09      7.5488e-01      1.2877e+08              66\n",
      "      1.0000e+00      1.0000e+00      3.3405e-09      7.5488e-01      1.7058e+08              67\n",
      "      1.0000e+00      1.0000e+00      2.5217e-09      7.5488e-01      2.2598e+08              68\n",
      "      1.0000e+00      1.0000e+00      1.9036e-09      7.5488e-01      2.9935e+08              69\n",
      "      1.0000e+00      1.0000e+00      1.4370e-09      7.5488e-01      3.9656e+08              70\n",
      "      1.0000e+00      1.0000e+00      1.0847e-09      7.5488e-01      5.2533e+08              71\n",
      "      1.0000e+00      1.0000e+00      8.1884e-10      7.5488e-01      6.9592e+08              72\n",
      "      1.0000e+00      1.0000e+00      6.1812e-10      7.5488e-01      9.2189e+08              73\n",
      "      1.0000e+00      1.0000e+00      4.6661e-10      7.5488e-01      1.2212e+09              74\n",
      "      1.0000e+00      1.0000e+00      3.5223e-10      7.5488e-01      1.6178e+09              75\n",
      "      1.0000e+00      1.0000e+00      2.6589e-10      7.5488e-01      2.1431e+09              76\n",
      "      1.0000e+00      1.0000e+00      2.0071e-10      7.5488e-01      2.8391e+09              77\n",
      "      1.0000e+00      1.0000e+00      1.5152e-10      7.5488e-01      3.7609e+09              78\n",
      "      1.0000e+00      1.0000e+00      1.1438e-10      7.5488e-01      4.9822e+09              79\n",
      "      1.0000e+00      1.0000e+00      8.6339e-11      7.5488e-01      6.6000e+09              80\n",
      "0.99999999964777\n"
     ]
    }
   ],
   "source": [
    "x0=0\n",
    "x1=10\n",
    "error = 1\n",
    "i=0\n",
    "print('{:16s}{:21s}{:21s}{:21s}{:21s}{:21s}{:21s}'.format(' ','x','f(x)','e','|e(i)/e(i-1)|','|e(i)/e2(i-1)|','step'))\n",
    "while error>1.0*10**(-10):\n",
    "    i=i+1\n",
    "    x2=x1-f(x1)*(x1-x0)/(f(x1)-f(x0))\n",
    "    error1=abs(x2-x1)\n",
    "    tmp=error1/error\n",
    "    tmp2=error1/error**2\n",
    "    print('{:16.4e}{:16.4e}{:16.4e}{:16.4e}{:16.4e}{:16d}'.format(x0,x1,error1,tmp,tmp2,i))\n",
    "    error=error1\n",
    "    x0=x1\n",
    "    x1=x2\n",
    "print(x0)"
   ]
  },
  {
   "cell_type": "markdown",
   "metadata": {},
   "source": [
    "# 割线法反例"
   ]
  },
  {
   "cell_type": "code",
   "execution_count": 57,
   "metadata": {},
   "outputs": [],
   "source": [
    "def f(x):\n",
    "    return -(x-2)*(x+2)"
   ]
  },
  {
   "cell_type": "code",
   "execution_count": 76,
   "metadata": {},
   "outputs": [
    {
     "name": "stdout",
     "output_type": "stream",
     "text": [
      "                x                    f(x)                 e                    |e(i)/e(i-1)|        |e(i)/e2(i-1)|       step                 \n",
      "     -1.0000e+00      1.0000e+00      2.0000e-01      2.0000e-01      2.0000e-01               1\n",
      "      1.0000e+00      8.0000e-01      1.2706e+00      6.3529e+00      3.1765e+01               2\n",
      "      8.0000e-01     -4.7059e-01      9.4484e-01      7.4362e-01      5.8526e-01               3\n",
      "     -4.7059e-01      4.7425e-01      2.1459e-01      2.2712e-01      2.4038e-01               4\n",
      "      4.7425e-01      2.5965e-01      6.0792e-01      2.8329e+00      1.3201e+01               5\n",
      "      2.5965e-01     -3.4827e-01      4.5464e-01      7.4786e-01      1.2302e+00               6\n",
      "     -3.4827e-01      1.0638e-01      6.6433e-02      1.4612e-01      3.2140e-01               7\n",
      "      1.0638e-01      3.9943e-02      4.6376e-02      6.9808e-01      1.0508e+01               8\n",
      "      3.9943e-02     -6.4322e-03      6.7844e-03      1.4629e-01      3.1545e+00               9\n",
      "     -6.4322e-03      3.5224e-04      3.4923e-04      5.1476e-02      7.5874e+00              10\n",
      "      3.5224e-04      3.0056e-06      3.0070e-06      8.6104e-03      2.4655e+01              11\n",
      "      3.0056e-06     -1.4120e-09      1.4120e-09      4.6957e-04      1.5616e+02              12\n",
      "-1.4120208677417177e-09\n"
     ]
    }
   ],
   "source": [
    "x0=-1\n",
    "x1=1\n",
    "error = 1\n",
    "i=0\n",
    "print('{:16s}{:21s}{:21s}{:21s}{:21s}{:21s}{:21s}'.format(' ','x','f(x)','e','|e(i)/e(i-1)|','|e(i)/e2(i-1)|','step'))\n",
    "while error>1.0*10**(-6):\n",
    "    i=i+1\n",
    "    if i>1000:\n",
    "        break\n",
    "    x2=x1-f(x1)*(x1-x0)/(f(x1)-f(x0))\n",
    "    error1=abs(x2-x1)\n",
    "    tmp=error1/error\n",
    "    tmp2=error1/error**2\n",
    "    print('{:16.4e}{:16.4e}{:16.4e}{:16.4e}{:16.4e}{:16d}'.format(x0,x1,error1,tmp,tmp2,i))\n",
    "    error=error1\n",
    "    x0=x1\n",
    "    x1=x2\n",
    "print(x0)"
   ]
  },
  {
   "cell_type": "markdown",
   "metadata": {},
   "source": [
    "# 例2"
   ]
  },
  {
   "cell_type": "markdown",
   "metadata": {},
   "source": [
    "# 试位法"
   ]
  },
  {
   "cell_type": "code",
   "execution_count": 73,
   "metadata": {},
   "outputs": [],
   "source": [
    "def f(x):\n",
    "    return x**3-2*x**2+3.0*x/2.0"
   ]
  },
  {
   "cell_type": "code",
   "execution_count": 67,
   "metadata": {},
   "outputs": [],
   "source": [
    "def f(x):\n",
    "    return x**3+x-1"
   ]
  },
  {
   "cell_type": "code",
   "execution_count": 74,
   "metadata": {},
   "outputs": [
    {
     "name": "stdout",
     "output_type": "stream",
     "text": [
      "                x0                   x1                   e                    |e(i)/e(i-1)|        |e(i)/e2(i-1)|       step                 \n",
      "     -1.0000e+00      8.0000e-01      2.0000e-01      2.0000e-01      2.0000e-01               1\n",
      "     -1.0000e+00      6.4234e-01      1.5766e-01      7.8832e-01      3.9416e+00               2\n",
      "     -1.0000e+00      5.0724e-01      1.3509e-01      8.5685e-01      5.4347e+00               3\n",
      "     -1.0000e+00      3.9079e-01      1.1645e-01      8.6199e-01      6.3806e+00               4\n",
      "     -1.0000e+00      2.9297e-01      9.7815e-02      8.3997e-01      7.2131e+00               5\n",
      "     -1.0000e+00      2.1395e-01      7.9026e-02      8.0791e-01      8.2595e+00               6\n",
      "     -1.0000e+00      1.5269e-01      6.1264e-02      7.7524e-01      9.8099e+00               7\n",
      "     -1.0000e+00      1.0694e-01      4.5744e-02      7.4668e-01      1.2188e+01               8\n",
      "     -1.0000e+00      7.3829e-02      3.3113e-02      7.2386e-01      1.5824e+01               9\n",
      "     -1.0000e+00      5.0429e-02      2.3400e-02      7.0667e-01      2.1342e+01              10\n",
      "     -1.0000e+00      3.4184e-02      1.6245e-02      6.9423e-01      2.9668e+01              11\n",
      "     -1.0000e+00      2.3049e-02      1.1135e-02      6.8545e-01      4.2195e+01              12\n",
      "     -1.0000e+00      1.5484e-02      7.5649e-03      6.7938e-01      6.1013e+01              13\n",
      "     -1.0000e+00      1.0376e-02      5.1081e-03      6.7523e-01      8.9258e+01              14\n",
      "     -1.0000e+00      6.9412e-03      3.4347e-03      6.7241e-01      1.3164e+02              15\n",
      "     -1.0000e+00      4.6382e-03      2.3030e-03      6.7051e-01      1.9522e+02              16\n",
      "     -1.0000e+00      3.0969e-03      1.5413e-03      6.6924e-01      2.9059e+02              17\n",
      "     -1.0000e+00      2.0667e-03      1.0302e-03      6.6839e-01      4.3366e+02              18\n",
      "     -1.0000e+00      1.3788e-03      6.8796e-04      6.6781e-01      6.4826e+02              19\n",
      "     -1.0000e+00      9.1960e-04      4.5917e-04      6.6743e-01      9.7016e+02              20\n",
      "     -1.0000e+00      6.1326e-04      3.0635e-04      6.6718e-01      1.4530e+03              21\n",
      "     -1.0000e+00      4.0892e-04      2.0434e-04      6.6701e-01      2.1773e+03              22\n",
      "     -1.0000e+00      2.7265e-04      1.3627e-04      6.6689e-01      3.2637e+03              23\n",
      "     -1.0000e+00      1.8178e-04      9.0867e-05      6.6682e-01      4.8934e+03              24\n",
      "     -1.0000e+00      1.2120e-04      6.0587e-05      6.6677e-01      7.3378e+03              25\n",
      "     -1.0000e+00      8.0801e-05      4.0396e-05      6.6673e-01      1.1004e+04              26\n",
      "     -1.0000e+00      5.3869e-05      2.6932e-05      6.6671e-01      1.6505e+04              27\n",
      "     -1.0000e+00      3.5913e-05      1.7956e-05      6.6670e-01      2.4755e+04              28\n",
      "     -1.0000e+00      2.3942e-05      1.1971e-05      6.6669e-01      3.7130e+04              29\n",
      "     -1.0000e+00      1.5962e-05      7.9807e-06      6.6668e-01      5.5692e+04              30\n",
      "     -1.0000e+00      1.0641e-05      5.3205e-06      6.6668e-01      8.3536e+04              31\n",
      "     -1.0000e+00      7.0942e-06      3.5471e-06      6.6667e-01      1.2530e+05              32\n",
      "     -1.0000e+00      4.7295e-06      2.3647e-06      6.6667e-01      1.8795e+05              33\n",
      "     -1.0000e+00      3.1530e-06      1.5765e-06      6.6667e-01      2.8192e+05              34\n",
      "     -1.0000e+00      2.1020e-06      1.0510e-06      6.6667e-01      4.2288e+05              35\n",
      "     -1.0000e+00      1.4013e-06      7.0066e-07      6.6667e-01      6.3432e+05              36\n",
      "1.401327922420578e-06\n"
     ]
    }
   ],
   "source": [
    "x0=-1\n",
    "x1=1\n",
    "error = 1\n",
    "i=0\n",
    "print('{:16s}{:21s}{:21s}{:21s}{:21s}{:21s}{:21s}'.format(' ','x0','x1','e','|e(i)/e(i-1)|','|e(i)/e2(i-1)|','step'))\n",
    "while error>1.0*10**(-6):\n",
    "    i=i+1\n",
    "    if i>100:\n",
    "        break\n",
    "    x2=(x1*f(x0)-x0*f(x1))/(f(x0)-f(x1))\n",
    "#    print(f(x0),f(x1),f(x2),'&&&')\n",
    "    error1=min(abs(x2-x1),abs(x2-x0))\n",
    "    if(f(x2)==0):\n",
    "        break\n",
    "    if f(x0)*f(x2)<0:\n",
    "        x1=x2\n",
    "    else:\n",
    "        x0=x2\n",
    "    tmp=error1/error\n",
    "    tmp2=error1/error**2\n",
    "    print('{:16.4e}{:16.4e}{:16.4e}{:16.4e}{:16.4e}{:16d}'.format(x0,x1,error1,tmp,tmp2,i))\n",
    "    error=error1\n",
    "print(x2)"
   ]
  },
  {
   "cell_type": "markdown",
   "metadata": {},
   "source": [
    "# 逆二次差值"
   ]
  },
  {
   "cell_type": "code",
   "execution_count": 75,
   "metadata": {},
   "outputs": [
    {
     "name": "stdout",
     "output_type": "stream",
     "text": [
      "                x0                   x1                   e                    |e(i)/e(i-1)|        |e(i)/e2(i-1)|       step                 \n",
      "      1.0000e+00      2.0000e+00      2.2352e+00      2.2352e+00      2.2352e+00               1\n",
      "      2.0000e+00      3.0000e+00      2.4763e+00      1.1079e+00      4.9567e-01               2\n",
      "      3.0000e+00      7.6484e-01      2.3898e+00      9.6507e-01      3.8972e-01               3\n",
      "      7.6484e-01      5.2368e-01      2.1487e+00      8.9909e-01      3.7621e-01               4\n",
      "      5.2368e-01     -1.6250e+00      2.0356e+00      9.4737e-01      4.4091e-01               5\n",
      "     -1.6250e+00     -1.4908e+00      1.9013e+00      9.3405e-01      4.5886e-01               6\n",
      "     -1.4908e+00      4.1059e-01      7.5678e-01      3.9802e-01      2.0934e-01               7\n",
      "      4.1059e-01      3.1363e-01      6.5982e-01      8.7187e-01      1.1521e+00               8\n",
      "      3.1363e-01     -3.4619e-01      3.9533e-01      5.9914e-01      9.0805e-01               9\n",
      "     -3.4619e-01     -2.1609e-01      2.6523e-01      6.7092e-01      1.6971e+00              10\n",
      "     -2.1609e-01      4.9138e-02      4.9290e-02      1.8584e-01      7.0066e-01              11\n",
      "      4.9138e-02      6.0061e-03      6.1583e-03      1.2494e-01      2.5348e+00              12\n",
      "      6.0061e-03     -1.5219e-04      1.5219e-04      2.4714e-02      4.0131e+00              13\n",
      "     -1.5219e-04     -1.3894e-07      1.3894e-07      9.1295e-04      5.9986e+00              14\n",
      "2.2571771744397437e-23\n"
     ]
    }
   ],
   "source": [
    "x0=1 #complex(-2,-2)\n",
    "x1=2 #complex(1,1)\n",
    "x2=3 #complex(3,3)\n",
    "error = 1\n",
    "i=0\n",
    "print('{:16s}{:21s}{:21s}{:21s}{:21s}{:21s}{:21s}'.format(' ','x0','x1','e','|e(i)/e(i-1)|','|e(i)/e2(i-1)|','step'))\n",
    "while error>1.0*10**(-6):\n",
    "    i=i+1\n",
    "    if i>100:\n",
    "        break\n",
    "    q=f(x0)/f(x1)\n",
    "    r=f(x2)/f(x1)\n",
    "    s=f(x2)/f(x0)\n",
    "    x3=x2-(r*(r-q)*(x2-x1)+(1-r)*s*(x2-x0))/((q-1)*(r-1)*(s-1))\n",
    "    error1=max(abs(x3-x1),abs(x3-x2),abs(x2-x1))\n",
    "    tmp=error1/error\n",
    "    tmp2=error1/error**2\n",
    "    print('{:16.4e}{:16.4e}{:16.4e}{:16.4e}{:16.4e}{:16d}'.format(x0,x1,error1,tmp,tmp2,i))\n",
    "    error=error1\n",
    "    x0=x1\n",
    "    x1=x2\n",
    "    x2=x3\n",
    "print(x3)"
   ]
  },
  {
   "cell_type": "markdown",
   "metadata": {},
   "source": [
    "# 割线"
   ]
  },
  {
   "cell_type": "code",
   "execution_count": 40,
   "metadata": {},
   "outputs": [
    {
     "name": "stdout",
     "output_type": "stream",
     "text": [
      "                x                    f(x)                 e                    |e(i)/e(i-1)|        |e(i)/e2(i-1)|       step                 \n",
      "-2.0000e+00-2.0000e+00j2.0000e+00+2.0000e+00j      1.6391e+00      1.6391e+00      1.6391e+00               1\n",
      "2.0000e+00+2.0000e+00j1.9321e+00+3.6226e-01j      2.9890e-01      1.8235e-01      1.1125e-01               2\n",
      "1.9321e+00+3.6226e-01j1.7337e+00+5.8588e-01j      4.1646e-01      1.3933e+00      4.6615e+00               3\n",
      "1.7337e+00+5.8588e-01j1.3627e+00+3.9674e-01j      2.4679e-01      5.9259e-01      1.4229e+00               4\n",
      "1.3627e+00+3.9674e-01j1.1184e+00+4.3181e-01j      2.6278e-01      1.0648e+00      4.3145e+00               5\n",
      "1.1184e+00+4.3181e-01j8.8394e-01+5.5046e-01j      2.5781e-01      9.8108e-01      3.7335e+00               6\n",
      "8.8394e-01+5.5046e-01j9.3580e-01+8.0300e-01j      1.4912e-01      5.7843e-01      2.2437e+00               7\n",
      "9.3580e-01+8.0300e-01j1.0113e+00+6.7443e-01j      3.2202e-02      2.1594e-01      1.4481e+00               8\n",
      "1.0113e+00+6.7443e-01j1.0052e+00+7.0603e-01j      5.4325e-03      1.6870e-01      5.2387e+00               9\n",
      "1.0052e+00+7.0603e-01j9.9980e-01+7.0695e-01j      2.5082e-04      4.6171e-02      8.4990e+00              10\n",
      "9.9980e-01+7.0695e-01j1.0000e+00+7.0711e-01j      1.7912e-06      7.1413e-03      2.8472e+01              11\n",
      "1.0000e+00+7.0711e-01j1.0000e+00+7.0711e-01j      6.0958e-10      3.4032e-04      1.9000e+02              12\n",
      "(1.0000000003459049+0.7071067806846095j)\n"
     ]
    }
   ],
   "source": [
    "x0=complex(-2,-2)\n",
    "x1=complex(2,2)\n",
    "error = 1\n",
    "i=0\n",
    "print('{:16s}{:21s}{:21s}{:21s}{:21s}{:21s}{:21s}'.format(' ','x','f(x)','e','|e(i)/e(i-1)|','|e(i)/e2(i-1)|','step'))\n",
    "while error>1.0*10**(-6):\n",
    "    i=i+1\n",
    "    x2=x1-f(x1)*(x1-x0)/(f(x1)-f(x0))\n",
    "    error1=abs(x2-x1)\n",
    "    tmp=error1/error\n",
    "    tmp2=error1/error**2\n",
    "    print('{:16.4e}{:16.4e}{:16.4e}{:16.4e}{:16.4e}{:16d}'.format(x0,x1,error1,tmp,tmp2,i))\n",
    "    error=error1\n",
    "    x0=x1\n",
    "    x1=x2\n",
    "print(x0)"
   ]
  },
  {
   "cell_type": "markdown",
   "metadata": {},
   "source": [
    "# 牛顿"
   ]
  },
  {
   "cell_type": "code",
   "execution_count": 81,
   "metadata": {},
   "outputs": [
    {
     "name": "stdout",
     "output_type": "stream",
     "text": [
      "                x                    f(x)                 e                    |e(i)/e(i-1)|        |e(i)/e2(i-1)|       step                 \n",
      "0.00000000e+00+2.00000000e+00j2.52510808e-01+1.33142066e+00j  7.14674782e-01  7.14674782e-01  7.14674782e-01               1\n",
      "2.52510808e-01+1.33142066e+00j4.57293178e-01+8.71904236e-01j  5.03081665e-01  7.03930903e-01  9.84966758e-01               2\n",
      "4.57293178e-01+8.71904236e-01j6.96222685e-01+5.36687376e-01j  4.11652345e-01  8.18261475e-01  1.62649831e+00               3\n",
      "6.96222685e-01+5.36687376e-01j1.25502721e+00+5.21509787e-01j  5.59010605e-01  1.35796774e+00  3.29882183e+00               4\n",
      "1.25502721e+00+5.21509787e-01j9.76805523e-01+5.87118622e-01j  2.85852806e-01  5.11354889e-01  9.14749890e-01               5\n",
      "9.76805523e-01+5.87118622e-01j9.94129553e-01+7.31899100e-01j  1.45813267e-01  5.10099129e-01  1.78448180e+00               6\n",
      "9.94129553e-01+7.31899100e-01j9.99309990e-01+7.07602855e-01j  2.48423925e-02  1.70371277e-01  1.16842096e+00               7\n",
      "9.99309990e-01+7.07602855e-01j9.99999345e-01+7.07106055e-01j  8.49718030e-04  3.42043557e-02  1.37685433e+00               8\n",
      "9.99999345e-01+7.07106055e-01j1.00000000e+00+7.07106781e-01j  9.77555846e-07  1.15044734e-03  1.35391659e+00               9\n",
      "(1.0000000000014675+0.7071067811869605j)\n"
     ]
    }
   ],
   "source": [
    "x0=complex(0,2)\n",
    "error = 1\n",
    "i=0\n",
    "print('{:16s}{:21s}{:21s}{:21s}{:21s}{:21s}{:21s}'.format(' ','x','f(x)','e','|e(i)/e(i-1)|','|e(i)/e2(i-1)|','step'))\n",
    "while error>1.0*10**(-6):\n",
    "    i=i+1\n",
    "    x1=x0-f(x0)/derivative(f, x0, dx=1e-10)\n",
    "    error1=abs(x1-x0)\n",
    "    tmp=error1/error\n",
    "    tmp2=error1/error**2\n",
    "    print('{:16.8e}{:16.8e}{:16.8e}{:16.8e}{:16.8e}{:16d}'.format(x0,x1,error1,tmp,tmp2,i))\n",
    "    error=error1\n",
    "    x0=x1\n",
    "print(x0)"
   ]
  },
  {
   "cell_type": "code",
   "execution_count": null,
   "metadata": {},
   "outputs": [],
   "source": []
  },
  {
   "cell_type": "code",
   "execution_count": null,
   "metadata": {},
   "outputs": [],
   "source": [
    "x0=-1\n",
    "x1=1\n",
    "error = 1\n",
    "i=0\n",
    "while error>1.0*10**(-6):\n",
    "    i=i+1\n",
    "    if i>100:\n",
    "        break\n",
    "    x2=(x1*f(x0)-x0*f(x1))/(f(x0)-f(x1))\n",
    "    error=min(abs(x2-x1),abs(x2-x0))\n",
    "    if(f(x2)==0):\n",
    "        break\n",
    "    if f(x0)*f(x2)<0:\n",
    "        x1=x2\n",
    "    else:\n",
    "        x0=x2\n",
    "print(x2)"
   ]
  },
  {
   "cell_type": "code",
   "execution_count": null,
   "metadata": {},
   "outputs": [],
   "source": [
    "x0=-1\n",
    "x1=1\n",
    "x2=2\n",
    "error = 1\n",
    "i=0\n",
    "while error>1.0*10**(-15):\n",
    "    i=i+1\n",
    "    q=f(x0)/f(x1)\n",
    "    r=f(x2)/f(x1)\n",
    "    s=f(x2)/f(x0)\n",
    "    x3=x2-(r*(r-q)*(x2-x1)+(1-r)*s*(x2-x0))/((q-1)*(r-1)*(s-1))\n",
    "    error=max(abs(x3-x1),abs(x3-x2),abs(x2-x1))\n",
    "    x0=x1\n",
    "    x1=x2\n",
    "    x2=x3\n",
    "print(x3)"
   ]
  }
 ],
 "metadata": {
  "kernelspec": {
   "display_name": "Python 3",
   "language": "python",
   "name": "python3"
  },
  "language_info": {
   "codemirror_mode": {
    "name": "ipython",
    "version": 3
   },
   "file_extension": ".py",
   "mimetype": "text/x-python",
   "name": "python",
   "nbconvert_exporter": "python",
   "pygments_lexer": "ipython3",
   "version": "3.7.2"
  }
 },
 "nbformat": 4,
 "nbformat_minor": 2
}
