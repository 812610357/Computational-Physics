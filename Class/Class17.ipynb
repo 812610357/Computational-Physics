{
 "cells": [
  {
   "cell_type": "code",
   "execution_count": 1,
   "metadata": {},
   "outputs": [],
   "source": [
    "import numpy as np\n",
    "import matplotlib.pyplot as plt\n",
    "from scipy.optimize import curve_fit\n",
    "import random as rand"
   ]
  },
  {
   "cell_type": "markdown",
   "metadata": {},
   "source": [
    "# Python中的数据拟合"
   ]
  },
  {
   "cell_type": "code",
   "execution_count": 2,
   "metadata": {},
   "outputs": [],
   "source": [
    "x = np.linspace(0, 1.0, 11)\n",
    "y=0.5*x+1\n",
    "yn=np.zeros(11)\n",
    "for i in range(11):\n",
    "    yn[i]=y[i]+0.2*(rand.random()-0.5)"
   ]
  },
  {
   "cell_type": "code",
   "execution_count": 3,
   "metadata": {},
   "outputs": [
    {
     "data": {
      "text/plain": [
       "[<matplotlib.lines.Line2D at 0x7fa20dd9bd50>]"
      ]
     },
     "execution_count": 3,
     "metadata": {},
     "output_type": "execute_result"
    },
    {
     "data": {
      "image/png": "[encoded data removed]",
      "text/plain": [
       "<Figure size 432x288 with 1 Axes>"
      ]
     },
     "metadata": {
      "needs_background": "light"
     },
     "output_type": "display_data"
    }
   ],
   "source": [
    "plt.plot(x,yn,'b*')"
   ]
  },
  {
   "cell_type": "code",
   "execution_count": 5,
   "metadata": {},
   "outputs": [
    {
     "name": "stdout",
     "output_type": "stream",
     "text": [
      "1:  [0.2880998  1.02679643 0.17330681]\n"
     ]
    },
    {
     "data": {
      "text/plain": [
       "[<matplotlib.lines.Line2D at 0x7fa20e505a10>,\n",
       " <matplotlib.lines.Line2D at 0x7fa20e321250>]"
      ]
     },
     "execution_count": 5,
     "metadata": {},
     "output_type": "execute_result"
    },
    {
     "data": {
      "image/png": "[encoded data removed]",
      "text/plain": [
       "<Figure size 432x288 with 1 Axes>"
      ]
     },
     "metadata": {
      "needs_background": "light"
     },
     "output_type": "display_data"
    }
   ],
   "source": [
    "def func(x, a, b,c):\n",
    "    return a*x+b+c*x**2\n",
    "popt, pcov= curve_fit(func, x, yn)\n",
    "print(\"1: \",popt)\n",
    "a=popt[0]\n",
    "b=popt[1]\n",
    "c=popt[2]\n",
    "plt.plot(x,yn,'b*',x,func(x,a,b,c),'r-')"
   ]
  },
  {
   "cell_type": "code",
   "execution_count": 6,
   "metadata": {},
   "outputs": [
    {
     "name": "stdout",
     "output_type": "stream",
     "text": [
      "1:  [0.46140661 1.00080041]\n"
     ]
    },
    {
     "data": {
      "text/plain": [
       "[<matplotlib.lines.Line2D at 0x7fa20e705790>,\n",
       " <matplotlib.lines.Line2D at 0x7fa20e51f210>]"
      ]
     },
     "execution_count": 6,
     "metadata": {},
     "output_type": "execute_result"
    },
    {
     "data": {
      "image/png": "[encoded data removed]",
      "text/plain": [
       "<Figure size 432x288 with 1 Axes>"
      ]
     },
     "metadata": {
      "needs_background": "light"
     },
     "output_type": "display_data"
    }
   ],
   "source": [
    "def func(x, a, b):\n",
    "    return a*x+b\n",
    "popt, pcov= curve_fit(func, x, yn)\n",
    "print(\"1: \",popt)\n",
    "a=popt[0]\n",
    "b=popt[1]\n",
    "plt.plot(x,yn,'b*',x,func(x,a,b),'r-')"
   ]
  },
  {
   "cell_type": "markdown",
   "metadata": {},
   "source": [
    "# 法线方程"
   ]
  },
  {
   "cell_type": "code",
   "execution_count": 18,
   "metadata": {},
   "outputs": [],
   "source": [
    "def ls(A, b):\n",
    "    return np.linalg.inv(np.dot(A.T, A)).dot(A.T).dot(b)\n",
    "\n",
    "def coef(x_i, y_i, degree):\n",
    "    n = len(x_i)\n",
    "    \n",
    "    A = np.zeros((degree, n), dtype=x_i.dtype)\n",
    "    for i in range(degree):\n",
    "        A[i] = x_i**i\n",
    "    A = A.T\n",
    "    b = y_i\n",
    "    \n",
    "    return ls(A, b)\n",
    "\n",
    "def fit(x_i, y_i, degree):\n",
    "    c = coef(x_i, y_i, degree)\n",
    "\n",
    "    def f(x):\n",
    "        ans = 0\n",
    "        for i in range(degree):\n",
    "            ans += c[i] * (x**i)\n",
    "        return ans\n",
    "    \n",
    "    return f"
   ]
  },
  {
   "cell_type": "code",
   "execution_count": 19,
   "metadata": {},
   "outputs": [
    {
     "data": {
      "text/plain": [
       "array([0.65855907, 0.36149599])"
      ]
     },
     "execution_count": 19,
     "metadata": {},
     "output_type": "execute_result"
    }
   ],
   "source": [
    "import numpy as np\n",
    "A = np.array([[1,-2], [1,0], [1,1],[1,2]])\n",
    "Ap=np.array([[-2,1], [0,1], [1,1],[2,1]])\n",
    "b=np.array([0,np.log(2),np.log(2),np.log(5)])\n",
    "ls(A,b)"
   ]
  },
  {
   "cell_type": "code",
   "execution_count": 12,
   "metadata": {},
   "outputs": [
    {
     "data": {
      "text/plain": [
       "0.6592292089249493"
      ]
     },
     "execution_count": 12,
     "metadata": {},
     "output_type": "execute_result"
    }
   ],
   "source": [
    "1.3/1.972"
   ]
  },
  {
   "cell_type": "code",
   "execution_count": 13,
   "metadata": {},
   "outputs": [
    {
     "name": "stdout",
     "output_type": "stream",
     "text": [
      "[[-0.66666667 -0.61977979]\n",
      " [ 0.         -0.50709255]\n",
      " [ 0.33333333 -0.45074894]\n",
      " [ 0.66666667 -0.39440532]]\n",
      "[[ 3.          0.33333333]\n",
      " [ 0.         -1.97202659]]\n"
     ]
    }
   ],
   "source": [
    "q,r = np.linalg.qr(Ap)\n",
    "print(q)\n",
    "print(r)"
   ]
  },
  {
   "cell_type": "markdown",
   "metadata": {},
   "source": [
    "# 例1"
   ]
  },
  {
   "cell_type": "code",
   "execution_count": 20,
   "metadata": {},
   "outputs": [],
   "source": [
    "import numpy as np\n",
    "xi = np.array([0,1,2,3,4], dtype=float)\n",
    "yi = np.array([-1,-2,-5,4,7],dtype=float)"
   ]
  },
  {
   "cell_type": "code",
   "execution_count": 23,
   "metadata": {},
   "outputs": [
    {
     "name": "stdout",
     "output_type": "stream",
     "text": [
      "[-0.94285714 -3.51428571  1.42857143]\n",
      "[-0.94285714 -3.02857143 -2.25714286  1.37142857  7.85714286]\n",
      "4.028470110174759\n"
     ]
    }
   ],
   "source": [
    "d=2\n",
    "c1=coef(xi,yi,d+1)\n",
    "print(c1)\n",
    "f=fit(xi,yi,d+1)\n",
    "print(f(xi))\n",
    "error=np.sqrt(sum((yi-f(xi))**2))\n",
    "print(error)"
   ]
  },
  {
   "cell_type": "code",
   "execution_count": 24,
   "metadata": {},
   "outputs": [
    {
     "data": {
      "image/png": "[encoded data removed]",
      "text/plain": [
       "<Figure size 432x288 with 1 Axes>"
      ]
     },
     "metadata": {
      "needs_background": "light"
     },
     "output_type": "display_data"
    }
   ],
   "source": [
    "import matplotlib.pyplot as plt\n",
    "plt.scatter(xi, yi)\n",
    "x_range=np.linspace(-1,5,100)\n",
    "plt.plot(x_range, f(x_range), c='g')\n",
    "plt.show()"
   ]
  },
  {
   "cell_type": "code",
   "execution_count": 25,
   "metadata": {},
   "outputs": [
    {
     "name": "stdout",
     "output_type": "stream",
     "text": [
      "[ -1.          12.66666667 -22.66666667  10.33333333  -1.33333333]\n",
      "[-1. -2. -5.  4.  7.]\n",
      "4.40821399058208e-11\n"
     ]
    }
   ],
   "source": [
    "d=4\n",
    "c1=coef(xi,yi,d+1)\n",
    "print(c1)\n",
    "f=fit(xi,yi,d+1)\n",
    "print(f(xi))\n",
    "error=np.sqrt(sum((yi-f(xi))**2))\n",
    "print(error)"
   ]
  },
  {
   "cell_type": "code",
   "execution_count": 26,
   "metadata": {},
   "outputs": [
    {
     "data": {
      "image/png": "[encoded data removed]",
      "text/plain": [
       "<Figure size 432x288 with 1 Axes>"
      ]
     },
     "metadata": {
      "needs_background": "light"
     },
     "output_type": "display_data"
    }
   ],
   "source": [
    "import matplotlib.pyplot as plt\n",
    "plt.scatter(xi, yi)\n",
    "x_range=np.linspace(-1,5,100)\n",
    "plt.plot(x_range, f(x_range), c='g')\n",
    "plt.show()"
   ]
  },
  {
   "cell_type": "markdown",
   "metadata": {},
   "source": [
    "# 条件数"
   ]
  },
  {
   "cell_type": "code",
   "execution_count": 27,
   "metadata": {},
   "outputs": [
    {
     "name": "stdout",
     "output_type": "stream",
     "text": [
      "[ 1.   2.5  4.   5.5  7.   8.5 10. ]\n",
      "[[1.00000000e+00 1.00000000e+00 1.00000000e+00 1.00000000e+00\n",
      "  1.00000000e+00 1.00000000e+00 1.00000000e+00]\n",
      " [1.00000000e+00 2.50000000e+00 6.25000000e+00 1.56250000e+01\n",
      "  3.90625000e+01 9.76562500e+01 2.44140625e+02]\n",
      " [1.00000000e+00 4.00000000e+00 1.60000000e+01 6.40000000e+01\n",
      "  2.56000000e+02 1.02400000e+03 4.09600000e+03]\n",
      " [1.00000000e+00 5.50000000e+00 3.02500000e+01 1.66375000e+02\n",
      "  9.15062500e+02 5.03284375e+03 2.76806406e+04]\n",
      " [1.00000000e+00 7.00000000e+00 4.90000000e+01 3.43000000e+02\n",
      "  2.40100000e+03 1.68070000e+04 1.17649000e+05]\n",
      " [1.00000000e+00 8.50000000e+00 7.22500000e+01 6.14125000e+02\n",
      "  5.22006250e+03 4.43705312e+04 3.77149516e+05]\n",
      " [1.00000000e+00 1.00000000e+01 1.00000000e+02 1.00000000e+03\n",
      "  1.00000000e+04 1.00000000e+05 1.00000000e+06]]\n",
      "115956295.87790553\n",
      "108946226.21287093\n",
      "8275520925647422.0\n"
     ]
    }
   ],
   "source": [
    "import numpy as np\n",
    "def cond(A):  # inf-范数\n",
    "    return abs(A).sum(axis=1).max() * abs(np.linalg.inv(A)).sum(axis=1).max()\n",
    "\n",
    "def Vand(xi):\n",
    "    n=xi.size\n",
    "    VM=np.zeros((n,n))\n",
    "    \n",
    "    for i in range(n):\n",
    "        for j in range(n):\n",
    "            VM[i,j]=xi[i]**j\n",
    "    return VM\n",
    " \n",
    "xi=np.linspace(1, 10, 7)\n",
    "print(xi)\n",
    "print(Vand(xi))\n",
    "print(cond(Vand(xi)))\n",
    "print(cond(Vand(xi).T))\n",
    "print(cond(Vand(xi).dot(Vand(xi).T)))"
   ]
  },
  {
   "cell_type": "markdown",
   "metadata": {},
   "source": [
    "# QR分解"
   ]
  },
  {
   "cell_type": "code",
   "execution_count": 35,
   "metadata": {},
   "outputs": [
    {
     "name": "stdout",
     "output_type": "stream",
     "text": [
      "[[-5.77350269e-01  7.07106781e-01]\n",
      " [-5.77350269e-01  4.43378006e-17]\n",
      " [-5.77350269e-01 -7.07106781e-01]]\n",
      "[[-1.73205081 -1.73205081]\n",
      " [ 0.         -1.41421356]]\n"
     ]
    }
   ],
   "source": [
    "A = np.array([[4, 0], [3, 1],[6,6]])\n",
    "A = np.array([[1, 0], [1, 1],[1,2]])\n",
    "q,r = np.linalg.qr(A)\n",
    "print(q)\n",
    "print(r)"
   ]
  },
  {
   "cell_type": "code",
   "execution_count": 36,
   "metadata": {},
   "outputs": [
    {
     "data": {
      "text/plain": [
       "array([[1.00000000e+00, 3.39032612e-18],\n",
       "       [3.39032612e-18, 1.00000000e+00]])"
      ]
     },
     "execution_count": 36,
     "metadata": {},
     "output_type": "execute_result"
    }
   ],
   "source": [
    "(q.T).dot(q)"
   ]
  },
  {
   "cell_type": "code",
   "execution_count": 37,
   "metadata": {},
   "outputs": [
    {
     "data": {
      "text/plain": [
       "array([[1., 0.],\n",
       "       [1., 1.],\n",
       "       [1., 2.]])"
      ]
     },
     "execution_count": 37,
     "metadata": {},
     "output_type": "execute_result"
    }
   ],
   "source": [
    "q.dot(r)"
   ]
  },
  {
   "cell_type": "code",
   "execution_count": null,
   "metadata": {},
   "outputs": [],
   "source": []
  }
 ],
 "metadata": {
  "kernelspec": {
   "display_name": "Python 3",
   "language": "python",
   "name": "python3"
  },
  "language_info": {
   "codemirror_mode": {
    "name": "ipython",
    "version": 3
   },
   "file_extension": ".py",
   "mimetype": "text/x-python",
   "name": "python",
   "nbconvert_exporter": "python",
   "pygments_lexer": "ipython3",
   "version": "3.7.6"
  }
 },
 "nbformat": 4,
 "nbformat_minor": 4
}