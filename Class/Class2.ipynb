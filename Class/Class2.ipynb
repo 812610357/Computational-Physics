{
 "cells": [
  {
   "cell_type": "code",
   "execution_count": 1,
   "metadata": {},
   "outputs": [
    {
     "name": "stdout",
     "output_type": "stream",
     "text": [
      "1011001100110011001100110011001100110011001100110 \n",
      "011001100110011001100110011001100110011001100110011"
     ]
    }
   ],
   "source": [
    "#十进制转二进制（小数部分）9->1001 1.001*2^3\n",
    "c=0.7\n",
    "n=0\n",
    "for i in range(100):\n",
    "    c=round(c*2,1)\n",
    "    n=n+1\n",
    "    if(n==52-3+1):\n",
    "        print(\" \")\n",
    "    if(c==0):\n",
    "        break\n",
    "    if(c>1):\n",
    "        c=c-1\n",
    "        print(1,end=\"\")\n",
    "    else:\n",
    "        print(0, end=\"\")"
   ]
  },
  {
   "cell_type": "code",
   "execution_count": 2,
   "metadata": {},
   "outputs": [
    {
     "data": {
      "text/plain": [
       "-3.3306690738754696e-16"
      ]
     },
     "execution_count": 2,
     "metadata": {},
     "output_type": "execute_result"
    }
   ],
   "source": [
    "8.6-8.0-0.6"
   ]
  },
  {
   "cell_type": "code",
   "execution_count": 3,
   "metadata": {},
   "outputs": [
    {
     "name": "stdout",
     "output_type": "stream",
     "text": [
      "3.552713678800501e-16\n"
     ]
    }
   ],
   "source": [
    "a=0.2*2**(-49)\n",
    "print(a)"
   ]
  },
  {
   "cell_type": "code",
   "execution_count": 4,
   "metadata": {},
   "outputs": [
    {
     "name": "stdout",
     "output_type": "stream",
     "text": [
      "2.2204460492503132e-17\n"
     ]
    }
   ],
   "source": [
    "b=0.4*2**(-54)\n",
    "print(b)"
   ]
  },
  {
   "cell_type": "code",
   "execution_count": 5,
   "metadata": {},
   "outputs": [
    {
     "data": {
      "text/plain": [
       "3.3306690738754696e-16"
      ]
     },
     "execution_count": 5,
     "metadata": {},
     "output_type": "execute_result"
    }
   ],
   "source": [
    "a-b"
   ]
  },
  {
   "cell_type": "code",
   "execution_count": 7,
   "metadata": {},
   "outputs": [
    {
     "data": {
      "text/plain": [
       "3.3306690738754696e-16"
      ]
     },
     "execution_count": 7,
     "metadata": {},
     "output_type": "execute_result"
    }
   ],
   "source": [
    "9.4-9.0-0.4"
   ]
  },
  {
   "cell_type": "code",
   "execution_count": 6,
   "metadata": {},
   "outputs": [
    {
     "data": {
      "text/plain": [
       "0.0"
      ]
     },
     "execution_count": 6,
     "metadata": {},
     "output_type": "execute_result"
    }
   ],
   "source": [
    "9.4-0.4-9.0"
   ]
  },
  {
   "cell_type": "code",
   "execution_count": 7,
   "metadata": {},
   "outputs": [
    {
     "name": "stdout",
     "output_type": "stream",
     "text": [
      "011001100110011001100110011001100110011001100110011001 \n",
      "1001100110011001100110011001100110011001100110"
     ]
    }
   ],
   "source": [
    "#十进制转二进制（小数部分) 0.011.. -> 1.1...*2^-2\n",
    "c=0.4\n",
    "n=0\n",
    "for i in range(100):\n",
    "    c=round(c*2,1)\n",
    "    n=n+1\n",
    "    if(n==52+2+1):\n",
    "        print(\" \")\n",
    "    if(c==0):\n",
    "        break\n",
    "    if(c>1):\n",
    "        c=c-1\n",
    "        print(1,end=\"\")\n",
    "    else:\n",
    "        print(0, end=\"\")"
   ]
  },
  {
   "cell_type": "code",
   "execution_count": 3,
   "metadata": {},
   "outputs": [
    {
     "name": "stdout",
     "output_type": "stream",
     "text": [
      "输入数字：16383\n",
      "十进制数为： 16383\n",
      "转换为二进制为： 0b11111111111111\n",
      "转换为十六进制为： 0x3fff\n"
     ]
    }
   ],
   "source": [
    "dec = int(input(\"输入数字：\"))\n",
    " \n",
    "print(\"十进制数为：\", dec)\n",
    "print(\"转换为二进制为：\", bin(dec))\n",
    "print(\"转换为十六进制为：\", hex(dec))"
   ]
  },
  {
   "cell_type": "code",
   "execution_count": 1,
   "metadata": {},
   "outputs": [
    {
     "name": "stdout",
     "output_type": "stream",
     "text": [
      "3.3306690738754696e-16\n"
     ]
    }
   ],
   "source": [
    "x=9.4\n",
    "y=x-9\n",
    "z=y-0.4\n",
    "print(z)"
   ]
  },
  {
   "cell_type": "code",
   "execution_count": 3,
   "metadata": {},
   "outputs": [
    {
     "name": "stdout",
     "output_type": "stream",
     "text": [
      "3.3306690738754696e-16\n"
     ]
    }
   ],
   "source": [
    "print(9.4-9-0.4)"
   ]
  },
  {
   "cell_type": "code",
   "execution_count": 1,
   "metadata": {},
   "outputs": [
    {
     "name": "stdout",
     "output_type": "stream",
     "text": [
      "0.0\n"
     ]
    }
   ],
   "source": [
    "print(9.4-0.4-9.0)"
   ]
  },
  {
   "cell_type": "code",
   "execution_count": 25,
   "metadata": {},
   "outputs": [
    {
     "name": "stdout",
     "output_type": "stream",
     "text": [
      "3.3306690738754696212708950042724609375E-16\n"
     ]
    }
   ],
   "source": [
    "from decimal import *\n",
    "getcontext().prec = 100\n",
    "print(Decimal(9.4)-Decimal(9)-Decimal(0.4))"
   ]
  },
  {
   "cell_type": "code",
   "execution_count": 2,
   "metadata": {},
   "outputs": [
    {
     "data": {
      "text/plain": [
       "3.3306690738754696213e-16"
      ]
     },
     "execution_count": 2,
     "metadata": {},
     "output_type": "execute_result"
    }
   ],
   "source": [
    "import numpy as np\n",
    "np.float128(9.4)-np.float128(9)-np.float128(0.4)"
   ]
  },
  {
   "cell_type": "code",
   "execution_count": 5,
   "metadata": {},
   "outputs": [
    {
     "data": {
      "text/plain": [
       "3.3306690738754696213e-16"
      ]
     },
     "execution_count": 5,
     "metadata": {},
     "output_type": "execute_result"
    }
   ],
   "source": [
    "np.longdouble((np.longdouble(9.4)-np.longdouble(9))-np.longdouble(0.4))"
   ]
  },
  {
   "cell_type": "code",
   "execution_count": 6,
   "metadata": {},
   "outputs": [
    {
     "data": {
      "text/plain": [
       "-3.874302e-07"
      ]
     },
     "execution_count": 6,
     "metadata": {},
     "output_type": "execute_result"
    }
   ],
   "source": [
    "np.float32(9.4)-np.float32(9)-np.float32(0.4)"
   ]
  },
  {
   "cell_type": "code",
   "execution_count": 7,
   "metadata": {},
   "outputs": [
    {
     "data": {
      "text/plain": [
       "3.3306690738754696e-16"
      ]
     },
     "execution_count": 7,
     "metadata": {},
     "output_type": "execute_result"
    }
   ],
   "source": [
    "np.float64(9.4)-np.float64(9)-np.float64(0.4)"
   ]
  },
  {
   "cell_type": "code",
   "execution_count": null,
   "metadata": {},
   "outputs": [],
   "source": []
  }
 ],
 "metadata": {
  "kernelspec": {
   "display_name": "Python 3",
   "language": "python",
   "name": "python3"
  },
  "language_info": {
   "codemirror_mode": {
    "name": "ipython",
    "version": 3
   },
   "file_extension": ".py",
   "mimetype": "text/x-python",
   "name": "python",
   "nbconvert_exporter": "python",
   "pygments_lexer": "ipython3",
   "version": "3.7.6"
  }
 },
 "nbformat": 4,
 "nbformat_minor": 2
}