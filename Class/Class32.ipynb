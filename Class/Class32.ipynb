{
 "cells": [
  {
   "cell_type": "code",
   "execution_count": 2,
   "metadata": {},
   "outputs": [],
   "source": [
    "import numpy as np\n",
    "\n",
    "def Jacobi(A, b, iter_n, initial_guess=0):\n",
    "    n = len(A)\n",
    "    D = np.diag(A)\n",
    "    R = A - np.diag(D)\n",
    "    x_i = initial_guess * np.ones(n)\n",
    "    for i in range(iter_n):\n",
    "        x_i = (b - R.dot(x_i)) / D\n",
    "    return x_i"
   ]
  },
  {
   "cell_type": "code",
   "execution_count": null,
   "metadata": {},
   "outputs": [],
   "source": []
  },
  {
   "cell_type": "markdown",
   "metadata": {},
   "source": [
    "# 例1"
   ]
  },
  {
   "cell_type": "code",
   "execution_count": 3,
   "metadata": {},
   "outputs": [],
   "source": [
    "import numpy as np\n",
    "def A_ij(n):\n",
    "    A = np.zeros((n, n))\n",
    "    h=1.0/(1+n)\n",
    "\n",
    "    for i in range(n):\n",
    "        A[i, i] = -4*h**2-2\n",
    "        if i < n-1:\n",
    "            A[i, i+1] = 1\n",
    "            A[i+1, i] = 1\n",
    "\n",
    "    return A\n",
    "\n",
    "def b_i(n):\n",
    "    b=np.zeros(n)   \n",
    "    b[0]=-1\n",
    "    b[n-1]=-3\n",
    "    return b"
   ]
  },
  {
   "cell_type": "code",
   "execution_count": 7,
   "metadata": {},
   "outputs": [
    {
     "name": "stdout",
     "output_type": "stream",
     "text": [
      "[0.98696635 1.08359564 1.30062444 1.66216707 2.20839493]\n"
     ]
    }
   ],
   "source": [
    "n=5\n",
    "y0=np.zeros(n)\n",
    "y=Jacobi(A_ij(n),b_i(n),100,y0)\n",
    "print(y)"
   ]
  },
  {
   "cell_type": "code",
   "execution_count": 8,
   "metadata": {},
   "outputs": [
    {
     "data": {
      "image/png": "[encoded data removed]",
      "text/plain": [
       "<Figure size 432x288 with 1 Axes>"
      ]
     },
     "metadata": {
      "needs_background": "light"
     },
     "output_type": "display_data"
    }
   ],
   "source": [
    "import matplotlib.pyplot as plt\n",
    "x_range=np.linspace(0,1,100)\n",
    "xx=np.linspace(0,1,n+2)\n",
    "def f(x):\n",
    "    return 0.394923*np.exp(-2*x)*(1.53214+np.exp(4*x))\n",
    "plt.plot(x_range,f(x_range),'r-')\n",
    "plt.scatter(xx[1:-1],y)\n",
    "plt.show()"
   ]
  },
  {
   "cell_type": "code",
   "execution_count": 9,
   "metadata": {},
   "outputs": [
    {
     "name": "stdout",
     "output_type": "stream",
     "text": [
      "[-0.00225006 -0.00373361 -0.00451691 -0.00446371 -0.00319469]\n"
     ]
    }
   ],
   "source": [
    "err=f(xx[1:-1])-y\n",
    "print(err)"
   ]
  },
  {
   "cell_type": "code",
   "execution_count": 14,
   "metadata": {},
   "outputs": [
    {
     "name": "stdout",
     "output_type": "stream",
     "text": [
      "[0.97700499 0.98639733 1.02891394 1.10568472 1.21987541 1.37470753\n",
      " 1.57592944 1.82953764 2.14434788 2.53021768]\n"
     ]
    }
   ],
   "source": [
    "yyy=y.copy()\n",
    "print(yyy)"
   ]
  },
  {
   "cell_type": "markdown",
   "metadata": {},
   "source": [
    "# 例2"
   ]
  },
  {
   "cell_type": "code",
   "execution_count": 10,
   "metadata": {},
   "outputs": [],
   "source": [
    "def Newton_Method(F, DF, x, iter_num=10**4):\n",
    "    for i in range(iter_num):\n",
    "        s = np.linalg.inv(DF(x)).dot(F(x))\n",
    "        #print('At',i,'x=',x, 'norm=',np.linalg.norm(s, ord=np.inf, keepdims=False))\n",
    "        x -= s\n",
    "    return x"
   ]
  },
  {
   "cell_type": "code",
   "execution_count": 12,
   "metadata": {},
   "outputs": [],
   "source": [
    "import numpy as np\n",
    "def F(w):\n",
    "    wt=w.copy()\n",
    "    n=wt.size\n",
    "    h=1/(1+n)\n",
    "    ft=np.zeros(n)\n",
    "    \n",
    "    ft[0]=1-(2+h**2)*wt[0]+h**2*w[0]**2+w[1]\n",
    "    ft[n-1]=w[n-2]-(2+h**2)*wt[n-1]+h**2*w[n-1]**2+4\n",
    "    \n",
    "    for i in range(1,n-1):\n",
    "        ft[i]=w[i-1]-(2+h**2)*wt[i]+h**2*w[i]**2+w[i+1]\n",
    "    \n",
    "    return np.array(ft) \n",
    "\n",
    "def DF(w):\n",
    "    n=w.size\n",
    "    A = np.zeros((n, n))\n",
    "    h=1.0/(1+n)\n",
    "\n",
    "    for i in range(n):\n",
    "        A[i, i] = 2*h**2*w[i]-(2+h**2)\n",
    "        if i < n-1:\n",
    "            A[i, i+1] = 1\n",
    "            A[i+1, i] = 1\n",
    "\n",
    "    return A   "
   ]
  },
  {
   "cell_type": "code",
   "execution_count": 13,
   "metadata": {},
   "outputs": [
    {
     "name": "stdout",
     "output_type": "stream",
     "text": [
      "[1.5207235  2.03490257 2.53167729 2.9964048  3.41169398 3.75898349\n",
      " 4.02056246 4.18177483 4.23302467 4.17117142]\n"
     ]
    }
   ],
   "source": [
    "n=10\n",
    "y0=np.zeros(n)\n",
    "\n",
    "y=Newton_Method(F,DF,y0,1000)\n",
    "print(y)"
   ]
  },
  {
   "cell_type": "code",
   "execution_count": 14,
   "metadata": {},
   "outputs": [
    {
     "data": {
      "text/plain": [
       "<matplotlib.collections.PathCollection at 0x7f88a83e2f10>"
      ]
     },
     "execution_count": 14,
     "metadata": {},
     "output_type": "execute_result"
    },
    {
     "data": {
      "image/png": "[encoded data removed]",
      "text/plain": [
       "<Figure size 432x288 with 1 Axes>"
      ]
     },
     "metadata": {
      "needs_background": "light"
     },
     "output_type": "display_data"
    }
   ],
   "source": [
    "xx=np.linspace(0,1,n+2)\n",
    "plt.scatter(xx[1:-1],y)"
   ]
  },
  {
   "cell_type": "markdown",
   "metadata": {},
   "source": [
    "# 例3"
   ]
  },
  {
   "cell_type": "code",
   "execution_count": 14,
   "metadata": {},
   "outputs": [],
   "source": [
    "def Gaussian_elimination(equation):\n",
    "    A = equation.copy()\n",
    "    m, n = A.shape\n",
    "\n",
    "    for i in range(m):  #化为上三角矩阵\n",
    "        A[i] = A[i] / A[i, i]\n",
    "        for j in range(i+1, m):\n",
    "            A[j] -= A[j, i]*A[i]\n",
    "    #print('A1: ',A)\n",
    "\n",
    "    for i in range(m-1, 0, -1): # 化为对角矩阵\n",
    "        for j in range(i):\n",
    "            A[j] -= A[j, i]*A[i]\n",
    "    #print('A2: ',A)        \n",
    "            \n",
    "    return A"
   ]
  },
  {
   "cell_type": "code",
   "execution_count": 15,
   "metadata": {},
   "outputs": [],
   "source": [
    "import numpy as np\n",
    "def A_ij(n):\n",
    "    A = np.zeros((n, n))\n",
    "    t=np.linspace(0,1,n)\n",
    "    \n",
    "    A[0,0]=1\n",
    "    for i in range(n):\n",
    "        A[n-1,i]=1\n",
    "\n",
    "    for i in range(1,n-1):\n",
    "        for j in range(n):\n",
    "            A[i,j]=(j)*(j-1)*t[i]**(j-2)-4*t[i]**(j)\n",
    "\n",
    "    return A\n",
    "\n",
    "def b_i(n):\n",
    "    b=np.zeros(n)   \n",
    "    b[0]=1\n",
    "    b[n-1]=3\n",
    "    return b"
   ]
  },
  {
   "cell_type": "code",
   "execution_count": 16,
   "metadata": {},
   "outputs": [
    {
     "name": "stdout",
     "output_type": "stream",
     "text": [
      "[ 1.         -0.44189017  2.1394636  -0.58033206  0.88275862]\n",
      "[1.         1.01762452 1.29655172 1.90651341 3.        ]\n"
     ]
    }
   ],
   "source": [
    "n=5\n",
    "\n",
    "def y(t):\n",
    "    b2=np.expand_dims(b_i(n),axis=0)\n",
    "    B=np.concatenate((A_ij(n),b2.T),axis=1)\n",
    "    c=Gaussian_elimination(B)[:, -1]\n",
    "    print(c)\n",
    "\n",
    "    y=0\n",
    "    for i in range(n):\n",
    "        y=y+c[i]*t**i\n",
    "    return y\n",
    "tt=np.linspace(0,1,5)\n",
    "print(y(tt))"
   ]
  },
  {
   "cell_type": "code",
   "execution_count": 17,
   "metadata": {},
   "outputs": [
    {
     "name": "stdout",
     "output_type": "stream",
     "text": [
      "[0.   0.25 0.5  0.75 1.  ]\n"
     ]
    }
   ],
   "source": [
    "print(tt)"
   ]
  },
  {
   "cell_type": "code",
   "execution_count": 18,
   "metadata": {},
   "outputs": [
    {
     "name": "stdout",
     "output_type": "stream",
     "text": [
      "[ 1.         -0.44189017  2.1394636  -0.58033206  0.88275862]\n"
     ]
    },
    {
     "data": {
      "image/png": "[encoded data removed]",
      "text/plain": [
       "<Figure size 432x288 with 1 Axes>"
      ]
     },
     "metadata": {
      "needs_background": "light"
     },
     "output_type": "display_data"
    }
   ],
   "source": [
    "import matplotlib.pyplot as plt\n",
    "x_range=np.linspace(0,1,100)\n",
    "xx=np.linspace(0,1,n+2)\n",
    "def f(x):\n",
    "    return 0.394923*np.exp(-2*x)*(1.53214+np.exp(4*x))\n",
    "plt.plot(x_range,f(x_range),'r-')\n",
    "plt.scatter(tt,y(tt))\n",
    "plt.show()"
   ]
  },
  {
   "cell_type": "code",
   "execution_count": 29,
   "metadata": {},
   "outputs": [
    {
     "name": "stdout",
     "output_type": "stream",
     "text": [
      "[ 1.         -0.44189017  2.1394636  -0.58033206  0.88275862]\n",
      "[ 3.25220000e-07  4.91378559e-04 -4.44201330e-04 -1.58031676e-03\n",
      " -3.48705331e-06]\n"
     ]
    }
   ],
   "source": [
    "err=f(tt)-y(tt)\n",
    "print(err)"
   ]
  },
  {
   "cell_type": "markdown",
   "metadata": {},
   "source": [
    "# 例4"
   ]
  },
  {
   "cell_type": "code",
   "execution_count": 30,
   "metadata": {},
   "outputs": [],
   "source": [
    "import numpy as np\n",
    "\n",
    "def Jacobi(A, b, iter_n, initial_guess=0):\n",
    "    n = len(A)\n",
    "    D = np.diag(A)\n",
    "    R = A - np.diag(D)\n",
    "    x_i = initial_guess * np.ones(n)\n",
    "    for i in range(iter_n):\n",
    "        x_i = (b - R.dot(x_i)) / D\n",
    "    return x_i"
   ]
  },
  {
   "cell_type": "code",
   "execution_count": 31,
   "metadata": {},
   "outputs": [],
   "source": [
    "import numpy as np\n",
    "def A_ij(n):\n",
    "    A = np.zeros((n, n))\n",
    "    h=1.0/(1+n)\n",
    "\n",
    "    for i in range(n):\n",
    "        A[i, i] = 8*h/3+2/h\n",
    "        if i < n-1:\n",
    "            A[i, i+1] = 2*h/3-1/h\n",
    "            A[i+1, i] = 2*h/3-1/h\n",
    "\n",
    "    return A\n",
    "\n",
    "def b_i(n):\n",
    "    b=np.zeros(n)   \n",
    "    h=1.0/(1+n)\n",
    "    \n",
    "    b[0]=-1*(2*h/3-1/h)\n",
    "    b[n-1]=-3*(2*h/3-1/h)\n",
    "    return b"
   ]
  },
  {
   "cell_type": "code",
   "execution_count": 35,
   "metadata": {},
   "outputs": [
    {
     "name": "stdout",
     "output_type": "stream",
     "text": [
      "[0.99603378 0.99245815 0.9892717  0.9864732  0.98406153 0.98203575\n",
      " 0.98039508 0.97913886 0.9782666  0.97777797 0.97767277 0.97795095\n",
      " 0.97861263 0.97965807 0.98108768 0.98290201 0.98510179 0.98768786\n",
      " 0.99066125 0.99402312 0.9977748  1.00191774 1.00645358 1.0113841\n",
      " 1.01671122 1.02243704 1.02856381 1.03509392 1.04202993 1.04937457\n",
      " 1.05713072 1.06530141 1.07388986 1.08289942 1.09233364 1.10219621\n",
      " 1.112491   1.12322204 1.13439356 1.14600991 1.15807567 1.17059556\n",
      " 1.18357449 1.19701756 1.21093002 1.22531735 1.24018518 1.25553934\n",
      " 1.27138585 1.28773092 1.30458098 1.32194261 1.33982264 1.35822807\n",
      " 1.37716613 1.39664423 1.41667001 1.43725134 1.45839627 1.48011311\n",
      " 1.50241036 1.52529678 1.54878133 1.57287323 1.59758191 1.62291709\n",
      " 1.64888867 1.67550687 1.7027821  1.73072506 1.75934672 1.7886583\n",
      " 1.81867129 1.84939746 1.88084886 1.91303782 1.94597697 1.97967923\n",
      " 2.0141578  2.04942621 2.0854983  2.1223882  2.16011038 2.19867963\n",
      " 2.23811109 2.2784202  2.31962279 2.361735   2.40477335 2.44875472\n",
      " 2.49369636 2.53961588 2.5865313  2.63446101 2.68342381 2.7334389\n",
      " 2.78452588 2.83670481 2.88999613 2.94442075]\n"
     ]
    }
   ],
   "source": [
    "n=100\n",
    "y0=np.zeros(n)\n",
    "y=Jacobi(A_ij(n),b_i(n),100000,y0)\n",
    "print(y)"
   ]
  },
  {
   "cell_type": "code",
   "execution_count": 36,
   "metadata": {},
   "outputs": [
    {
     "data": {
      "image/png": "[encoded data removed]",
      "text/plain": [
       "<Figure size 432x288 with 1 Axes>"
      ]
     },
     "metadata": {
      "needs_background": "light"
     },
     "output_type": "display_data"
    }
   ],
   "source": [
    "import matplotlib.pyplot as plt\n",
    "x_range=np.linspace(0,1,100)\n",
    "xx=np.linspace(0,1,n+2)\n",
    "def f(x):\n",
    "    return 0.394923*np.exp(-2*x)*(1.53214+np.exp(4*x))\n",
    "plt.plot(x_range,f(x_range),'r-')\n",
    "plt.scatter(xx[1:-1],y)\n",
    "plt.show()"
   ]
  },
  {
   "cell_type": "code",
   "execution_count": 37,
   "metadata": {},
   "outputs": [
    {
     "name": "stdout",
     "output_type": "stream",
     "text": [
      "[ 8.67222588e-07  1.39680149e-06  1.91421018e-06  2.41969240e-06\n",
      "  2.91348222e-06  3.39580417e-06  3.86687334e-06  4.32689549e-06\n",
      "  4.77606710e-06  5.21457547e-06  5.64259883e-06  6.06030637e-06\n",
      "  6.46785831e-06  6.86540599e-06  7.25309191e-06  7.63104977e-06\n",
      "  7.99940452e-06  8.35827242e-06  8.70776106e-06  9.04796938e-06\n",
      "  9.37898770e-06  9.70089775e-06  1.00137727e-05  1.03176770e-05\n",
      "  1.06126668e-05  1.08987894e-05  1.11760837e-05  1.14445798e-05\n",
      "  1.17042995e-05  1.19552555e-05  1.21974524e-05  1.24308855e-05\n",
      "  1.26555418e-05  1.28713992e-05  1.30784271e-05  1.32765856e-05\n",
      "  1.34658261e-05  1.36460908e-05  1.38173130e-05  1.39794167e-05\n",
      "  1.41323164e-05  1.42759176e-05  1.44101162e-05  1.45347984e-05\n",
      "  1.46498409e-05  1.47551105e-05  1.48504641e-05  1.49357486e-05\n",
      "  1.50108007e-05  1.50754466e-05  1.51295025e-05  1.51727734e-05\n",
      "  1.52050538e-05  1.52261274e-05  1.52357665e-05  1.52337323e-05\n",
      "  1.52197742e-05  1.51936303e-05  1.51550265e-05  1.51036767e-05\n",
      "  1.50392825e-05  1.49615329e-05  1.48701042e-05  1.47646595e-05\n",
      "  1.46448488e-05  1.45103085e-05  1.43606611e-05  1.41955152e-05\n",
      "  1.40144648e-05  1.38170895e-05  1.36029539e-05  1.33716070e-05\n",
      "  1.31225827e-05  1.28553987e-05  1.25695564e-05  1.22645408e-05\n",
      "  1.19398197e-05  1.15948437e-05  1.12290456e-05  1.08418402e-05\n",
      "  1.04326237e-05  1.00007734e-05  9.54564718e-06  9.06658321e-06\n",
      "  8.56289936e-06  8.03389285e-06  7.47883968e-06  6.89699421e-06\n",
      "  6.28758863e-06  5.64983245e-06  4.98291199e-06  4.28598981e-06\n",
      "  3.55820419e-06  2.79866855e-06  2.00647084e-06  1.18067299e-06\n",
      "  3.20310248e-07 -5.75609417e-07 -1.50810597e-06 -2.47822799e-06]\n"
     ]
    }
   ],
   "source": [
    "err=f(xx[1:-1])-y\n",
    "print(err)"
   ]
  },
  {
   "cell_type": "code",
   "execution_count": 10,
   "metadata": {},
   "outputs": [
    {
     "data": {
      "text/plain": [
       "array([[0., 0., 0., 0.]])"
      ]
     },
     "execution_count": 10,
     "metadata": {},
     "output_type": "execute_result"
    }
   ],
   "source": [
    "import numpy as np\n",
    "np.zeros((1,4))"
   ]
  },
  {
   "cell_type": "code",
   "execution_count": 11,
   "metadata": {},
   "outputs": [
    {
     "data": {
      "text/plain": [
       "array([[0, 1]])"
      ]
     },
     "execution_count": 11,
     "metadata": {},
     "output_type": "execute_result"
    }
   ],
   "source": [
    "np.array([[0,1]])"
   ]
  },
  {
   "cell_type": "code",
   "execution_count": null,
   "metadata": {},
   "outputs": [],
   "source": []
  }
 ],
 "metadata": {
  "kernelspec": {
   "display_name": "Python 3",
   "language": "python",
   "name": "python3"
  },
  "language_info": {
   "codemirror_mode": {
    "name": "ipython",
    "version": 3
   },
   "file_extension": ".py",
   "mimetype": "text/x-python",
   "name": "python",
   "nbconvert_exporter": "python",
   "pygments_lexer": "ipython3",
   "version": "3.7.6"
  }
 },
 "nbformat": 4,
 "nbformat_minor": 2
}