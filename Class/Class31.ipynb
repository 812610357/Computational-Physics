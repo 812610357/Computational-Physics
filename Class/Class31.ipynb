{
 "cells": [
  {
   "cell_type": "code",
   "execution_count": 1,
   "metadata": {},
   "outputs": [],
   "source": [
    "import numpy as np\n",
    "from numpy import e, pi, log, exp, sqrt, sin, arcsin, sinh, cos, tan, arctan, tanh, arctanh\n",
    "import matplotlib.pyplot as plt\n",
    "\n",
    "%matplotlib inline"
   ]
  },
  {
   "cell_type": "code",
   "execution_count": 2,
   "metadata": {},
   "outputs": [],
   "source": [
    "def Midpoint_method(f, a, b, h, y_0):\n",
    "    n = int((b - a)/h)\n",
    "    d = len(y_0)\n",
    "    \n",
    "    t = np.linspace(a, b, n+1)\n",
    "    w = np.zeros((d, n+1))\n",
    "    w[:, 0] = y_0\n",
    "    \n",
    "    for i in range(n):\n",
    "        w[:, i+1] = w[:, i] + h*f(t[i] + h/2, w[:, i] + f(t[i], w[:, i])*h/2)\n",
    "        \n",
    "    return t, w"
   ]
  },
  {
   "cell_type": "markdown",
   "metadata": {},
   "source": [
    "# 例1"
   ]
  },
  {
   "cell_type": "code",
   "execution_count": 4,
   "metadata": {},
   "outputs": [],
   "source": [
    "a, b = 0, 1\n",
    "h = 0.01\n",
    "y_01 = (1,1)\n",
    "y_02 = (1,0)\n",
    "y_t =(1,-0.4203)\n",
    "\n",
    "def f(t, y):\n",
    "    y1,y2 = y\n",
    "    \n",
    "    f1_ = y2\n",
    "    f2_ = 4*y1\n",
    "    \n",
    "    return np.array([f1_, f2_])\n",
    "\n",
    "t1, w1 = Midpoint_method(f, a, b, h, y_01)\n",
    "t2, w2 = Midpoint_method(f, a, b, h, y_02)\n",
    "t3, w3 = Midpoint_method(f, a, b, h, y_t)"
   ]
  },
  {
   "cell_type": "code",
   "execution_count": 5,
   "metadata": {},
   "outputs": [
    {
     "name": "stdout",
     "output_type": "stream",
     "text": [
      "[[ 1.          1.0102      1.02080404  1.03181636  1.04324137  1.05508363\n",
      "   1.06734788  1.08003904  1.09316216  1.1067225   1.1207255   1.13517673\n",
      "   1.15008199  1.16544724  1.18127863  1.19758247  1.21436531  1.23163384\n",
      "   1.24939498  1.26765582  1.28642368  1.30570606  1.32551066  1.34584542\n",
      "   1.36671847  1.38813814  1.41011302  1.43265189  1.45576376  1.47945789\n",
      "   1.50374373  1.52863102  1.55412969  1.58024996  1.60700226  1.63439731\n",
      "   1.66244604  1.69115969  1.72054974  1.75062794  1.78140632  1.8128972\n",
      "   1.84511316  1.8780671   1.91177219  1.94624191  1.98149005  2.01753071\n",
      "   2.0543783   2.09204757  2.13055357  2.16991171  2.21013773  2.25124771\n",
      "   2.29325811  2.33618572  2.38004771  2.42486163  2.4706454   2.51741733\n",
      "   2.56519613  2.6140009   2.66385117  2.71476688  2.76676839  2.8198765\n",
      "   2.87411245  2.92949793  2.98605509  3.04380656  3.10277543  3.16298529\n",
      "   3.22446022  3.28722481  3.35130416  3.4167239   3.48351019  3.55168975\n",
      "   3.62128985  3.69233832  3.76486359  3.83889465  3.91446112  3.99159321\n",
      "   4.07032179  4.15067834  4.232695    4.31640457  4.40184053  4.48903706\n",
      "   4.57802902  4.66885202  4.76154237  4.85613715  4.9526742   5.05119213\n",
      "   5.15173033  5.25432902  5.35902924  5.46587286  5.57490261]\n",
      " [ 1.          1.0402      1.08081604  1.12186436  1.16336139  1.20532372\n",
      "   1.24776813  1.2907116   1.3341713   1.37816462  1.42270916  1.46782272\n",
      "   1.51352335  1.55982934  1.60675919  1.65433169  1.70256585  1.75148098\n",
      "   1.80109663  1.85143265  1.90250917  1.95434662  2.00696573  2.06038755\n",
      "   2.11463344  2.16972511  2.22568458  2.28253423  2.34029682  2.39899543\n",
      "   2.45865354  2.51929502  2.58094412  2.6436255   2.70736422  2.77218578\n",
      "   2.83811611  2.90518158  2.973409    3.04282567  3.11345936  3.1853383\n",
      "   3.25849126  3.33294748  3.40873676  3.48588939  3.56443625  3.64440873\n",
      "   3.72583884  3.80875914  3.8932028   3.97920358  4.06679589  4.15601476\n",
      "   4.24689587  4.33947557  4.4337909   4.52987957  4.62778001  4.72753138\n",
      "   4.82917358  4.93274726  5.03829384  5.14585555  5.25547539  5.36719723\n",
      "   5.48106572  5.59712644  5.71542578  5.83601107  5.95893053  6.08423333\n",
      "   6.21196959  6.3421904   6.47494783  6.61029498  6.748286    6.88897606\n",
      "   7.03242145  7.17867953  7.32780879  7.4798689   7.63492066  7.79302609\n",
      "   7.95424842  8.11865214  8.28630301  8.45726807  8.6316157   8.80941565\n",
      "   8.99073901  9.17565832  9.36424754  9.55658208  9.75273888  9.9527964\n",
      "  10.15683464 10.36493522 10.57718137 10.79365798 11.01445162]]\n"
     ]
    }
   ],
   "source": [
    "print(w1)"
   ]
  },
  {
   "cell_type": "code",
   "execution_count": 6,
   "metadata": {},
   "outputs": [
    {
     "data": {
      "text/plain": [
       "[<matplotlib.lines.Line2D at 0x7f8d1b69e2d0>,\n",
       " <matplotlib.lines.Line2D at 0x7f8d1b69e4d0>,\n",
       " <matplotlib.lines.Line2D at 0x7f8d1b69e650>,\n",
       " <matplotlib.lines.Line2D at 0x7f8d1b69e850>]"
      ]
     },
     "execution_count": 6,
     "metadata": {},
     "output_type": "execute_result"
    },
    {
     "data": {
      "image/png": "[encoded data removed]",
      "text/plain": [
       "<Figure size 432x288 with 1 Axes>"
      ]
     },
     "metadata": {
      "needs_background": "light"
     },
     "output_type": "display_data"
    }
   ],
   "source": [
    "u1=w1[0][-1]\n",
    "u2=w2[0][-1]\n",
    "c2=(3-u1)/(u2-u1)\n",
    "c1=(u2-3)/(u2-u1)\n",
    "y_c=c1*w1[0]+c2*w2[0]\n",
    "plt.plot(t3,w3[0],'k-',t1,w1[0],'b-',t2,w2[0],'r--',t1,y_c,'y--')"
   ]
  },
  {
   "cell_type": "code",
   "execution_count": 5,
   "metadata": {},
   "outputs": [
    {
     "data": {
      "text/plain": [
       "101"
      ]
     },
     "execution_count": 5,
     "metadata": {},
     "output_type": "execute_result"
    }
   ],
   "source": [
    "len(t2)"
   ]
  },
  {
   "cell_type": "code",
   "execution_count": 17,
   "metadata": {},
   "outputs": [],
   "source": [
    "def RKF45(f, a, b, tol, y_0):\n",
    "    h = b - a\n",
    "    \n",
    "    t_i = a\n",
    "    w_i = np.array(y_0)\n",
    "    t = [t_i]\n",
    "    w = [w_i]\n",
    "    doubled = False\n",
    "        \n",
    "    while t_i < b:\n",
    "        s_1 = f(t_i, w_i)\n",
    "        s_2 = f(t_i + h/4, w_i + h*s_1/4)\n",
    "        s_3 = f(t_i + h*3/8, w_i + h*s_1*3/32 + h*s_2*9/32)\n",
    "        s_4 = f(t_i + h*12/13, w_i + h*s_1*1932/2197 - h*s_2*7200/2197 + \n",
    "                h*s_3*7296/2197)\n",
    "        s_5 = f(t_i + h, w_i + h*s_1*439/216 - h*s_2*8 + h*s_3*3680/513 -\n",
    "               h*s_4*845/4104)\n",
    "        s_6 = f(t_i + h/2, w_i - h*s_1*8/27 + h*s_2*2 - h*s_3*3544/2565 + \n",
    "               h*s_4*1859/4104 - h*s_5*11/40)\n",
    "\n",
    "        w_ii = w_i + h*(s_1*25/216 + s_3*1408/2565 + s_4*2197/4104 - s_5/5)\n",
    "        z_ii = w_i + h*(s_1*16/135 + s_3*6656/12825 + s_4*28561/56430 -\n",
    "                        s_5*9/50 + s_6*2/55)\n",
    "        e_ii = abs(w_ii - z_ii)\n",
    "        \n",
    "        rel_error = abs(np.max(e_ii / w_ii))\n",
    "        if doubled:\n",
    "            doubled = False\n",
    "            pass\n",
    "        elif rel_error > tol:\n",
    "            h *= 0.8 * pow(tol / rel_error, 1/5)\n",
    "            continue\n",
    "        elif t_i + h > b:\n",
    "            h = b - t_i\n",
    "            continue\n",
    "\n",
    "        t_i += h\n",
    "        w_i = z_ii\n",
    "        t.append(t_i)\n",
    "        w.append(w_i)\n",
    "        \n",
    "        if (rel_error < tol/10) & (t_i + h < b):\n",
    "            h *= 2\n",
    "            doubled = True\n",
    "    \n",
    "    return t, np.array(w).T"
   ]
  },
  {
   "cell_type": "code",
   "execution_count": 18,
   "metadata": {},
   "outputs": [],
   "source": [
    "def find_interval(f, a, b, tol, y_boundary,smin=-2, smax=2, count=1000, find_y2=False):\n",
    "    y_a, y_b = y_boundary\n",
    "\n",
    "    for num in range(count):\n",
    "        s_interval = (smax-smin)*np.random.rand(2) + smin\n",
    "        s_interval.sort()\n",
    "        test = 1\n",
    "\n",
    "        for s in s_interval:\n",
    "            y_0 = (y_a, s)\n",
    "            t, y = RKF45(f, a, b, tol, y_0)\n",
    "            test *= (y[int(find_y2)][-1] - y_b)\n",
    "\n",
    "        if test < 0:\n",
    "            return s_interval.tolist()\n",
    "    \n",
    "    return False"
   ]
  },
  {
   "cell_type": "code",
   "execution_count": 13,
   "metadata": {},
   "outputs": [
    {
     "name": "stdout",
     "output_type": "stream",
     "text": [
      "[0.75984867 0.13851269]\n"
     ]
    }
   ],
   "source": [
    "aa=np.random.rand(2)\n",
    "print(aa)"
   ]
  },
  {
   "cell_type": "code",
   "execution_count": 12,
   "metadata": {},
   "outputs": [
    {
     "name": "stdout",
     "output_type": "stream",
     "text": [
      "[0.24831158 0.63674334]\n"
     ]
    }
   ],
   "source": [
    "aa.sort()\n",
    "print(aa)"
   ]
  },
  {
   "cell_type": "code",
   "execution_count": 33,
   "metadata": {},
   "outputs": [
    {
     "name": "stdout",
     "output_type": "stream",
     "text": [
      "0.46758469561421645\n"
     ]
    }
   ],
   "source": [
    "print(aa[0])"
   ]
  },
  {
   "cell_type": "code",
   "execution_count": 9,
   "metadata": {},
   "outputs": [
    {
     "name": "stdout",
     "output_type": "stream",
     "text": [
      "[0.46758469561421645, 0.632748586611597]\n"
     ]
    }
   ],
   "source": [
    "print(aa.tolist())"
   ]
  },
  {
   "cell_type": "code",
   "execution_count": 14,
   "metadata": {},
   "outputs": [
    {
     "data": {
      "text/plain": [
       "1"
      ]
     },
     "execution_count": 14,
     "metadata": {},
     "output_type": "execute_result"
    }
   ],
   "source": [
    "int(True)"
   ]
  },
  {
   "cell_type": "code",
   "execution_count": 15,
   "metadata": {},
   "outputs": [
    {
     "data": {
      "text/plain": [
       "0"
      ]
     },
     "execution_count": 15,
     "metadata": {},
     "output_type": "execute_result"
    }
   ],
   "source": [
    "int(False)"
   ]
  },
  {
   "cell_type": "code",
   "execution_count": null,
   "metadata": {},
   "outputs": [],
   "source": []
  },
  {
   "cell_type": "code",
   "execution_count": 19,
   "metadata": {},
   "outputs": [],
   "source": [
    "def Shooting(f, a, b, tol, y_boundary, s_interval, find_y2=False):\n",
    "    s0, s1 = s_interval\n",
    "    y_a, y_b = y_boundary\n",
    "    F_s = [0] * 2\n",
    "\n",
    "    for i in range(2):\n",
    "        s = s_interval[i]\n",
    "        y_0 = (y_a, s)\n",
    "        t, y = RKF45(f, a, b, tol, y_0)\n",
    "        F_s[i] = y[int(find_y2)][-1] - y_b\n",
    "    \n",
    "    while True:\n",
    "        c = (s0 + s1) / 2\n",
    "        if s1 - s0 < tol:\n",
    "            break;\n",
    "\n",
    "        y_0 = (y_a, c)\n",
    "        t, y = RKF45(f, a, b, tol, y_0)\n",
    "        temp = y[int(find_y2)][-1] - y_b\n",
    "\n",
    "        if temp * F_s[0] > 0:\n",
    "            s0 = c\n",
    "            F_s[0] = temp\n",
    "            continue\n",
    "        elif temp * F_s[1] > 0:\n",
    "            s1 = c\n",
    "            F_s[1] = temp\n",
    "            continue\n",
    "        else:\n",
    "            break\n",
    "    y_0 = (y_a, c)\n",
    "    tt,ww=RKF45(f, a, b, tol, y_0)\n",
    "    \n",
    "    return tt,ww,(s0+s1)/2"
   ]
  },
  {
   "cell_type": "code",
   "execution_count": 15,
   "metadata": {},
   "outputs": [
    {
     "name": "stdout",
     "output_type": "stream",
     "text": [
      "[0, 0]\n"
     ]
    }
   ],
   "source": [
    "bb=[0]*2\n",
    "print(bb)"
   ]
  },
  {
   "cell_type": "code",
   "execution_count": null,
   "metadata": {},
   "outputs": [],
   "source": []
  },
  {
   "cell_type": "markdown",
   "metadata": {},
   "source": [
    "# 例2"
   ]
  },
  {
   "cell_type": "code",
   "execution_count": 20,
   "metadata": {},
   "outputs": [],
   "source": [
    "tol = 5e-8"
   ]
  },
  {
   "cell_type": "code",
   "execution_count": 21,
   "metadata": {},
   "outputs": [],
   "source": [
    "a, b = 1, 2\n",
    "y_boundary = 0, 0\n",
    "\n",
    "def f(t, y):\n",
    "    y1, y2 = y\n",
    "    equation = [(4-2*y2)/t**3, -exp(y1)]\n",
    "    return np.array(equation)"
   ]
  },
  {
   "cell_type": "code",
   "execution_count": 31,
   "metadata": {},
   "outputs": [
    {
     "name": "stdout",
     "output_type": "stream",
     "text": [
      "Initial Interval: [-0.2011, 1.6226]\n"
     ]
    }
   ],
   "source": [
    "s_interval = find_interval(f, a, b, tol, y_boundary,count=10,find_y2=True)\n",
    "print(\"Initial Interval: [%.4f, %.4f]\" % (s_interval[0], s_interval[1]))"
   ]
  },
  {
   "cell_type": "code",
   "execution_count": 26,
   "metadata": {},
   "outputs": [
    {
     "name": "stdout",
     "output_type": "stream",
     "text": [
      "True init: 1.500007002272115\n"
     ]
    },
    {
     "data": {
      "image/png": "[encoded data removed]",
      "text/plain": [
       "<Figure size 432x288 with 1 Axes>"
      ]
     },
     "metadata": {
      "needs_background": "light"
     },
     "output_type": "display_data"
    }
   ],
   "source": [
    "t, y,s= Shooting(f, a, b, tol, y_boundary, s_interval,find_y2=True)\n",
    "print(\"True init:\",s)\n",
    "\n",
    "plt.plot(t, y[0], label=\"Solution y1\")\n",
    "plt.plot(t, y[1], label=\"Solution y2\")\n",
    "plt.legend()\n",
    "plt.show()"
   ]
  },
  {
   "cell_type": "markdown",
   "metadata": {},
   "source": [
    "# 例3"
   ]
  },
  {
   "cell_type": "code",
   "execution_count": 6,
   "metadata": {},
   "outputs": [],
   "source": [
    "tol = 5e-8"
   ]
  },
  {
   "cell_type": "code",
   "execution_count": 33,
   "metadata": {},
   "outputs": [],
   "source": [
    "a, b = 1, 2\n",
    "y_boundary = 1,8\n",
    "\n",
    "smin=-100\n",
    "smax=100\n",
    "\n",
    "def f(t, y):\n",
    "    y1, y2 = y\n",
    "    equation = [y2, 6*y1**(1/3)]\n",
    "    return np.array(equation)\n",
    "\n",
    "def exact_sol(t):\n",
    "    return t**3"
   ]
  },
  {
   "cell_type": "code",
   "execution_count": 34,
   "metadata": {},
   "outputs": [
    {
     "name": "stdout",
     "output_type": "stream",
     "text": [
      "Initial Interval: [2.5641, 43.7385]\n"
     ]
    },
    {
     "name": "stderr",
     "output_type": "stream",
     "text": [
      "/Users/jinmianli/opt/anaconda3/lib/python3.7/site-packages/ipykernel_launcher.py:9: RuntimeWarning: invalid value encountered in double_scalars\n",
      "  if __name__ == '__main__':\n"
     ]
    }
   ],
   "source": [
    "s_interval = find_interval(f, a, b, tol, y_boundary,smin,smax,count=1000,find_y2=False)\n",
    "print(\"Initial Interval: [%.4f, %.4f]\" % (s_interval[0], s_interval[1]))"
   ]
  },
  {
   "cell_type": "code",
   "execution_count": 35,
   "metadata": {},
   "outputs": [
    {
     "name": "stdout",
     "output_type": "stream",
     "text": [
      "True init: 3.000000237706372\n"
     ]
    },
    {
     "data": {
      "image/png": "[encoded data removed]",
      "text/plain": [
       "<Figure size 432x288 with 1 Axes>"
      ]
     },
     "metadata": {
      "needs_background": "light"
     },
     "output_type": "display_data"
    }
   ],
   "source": [
    "t, y,s= Shooting(f, a, b, tol, y_boundary, s_interval,find_y2=False)\n",
    "print(\"True init:\",s)\n",
    "\n",
    "plt.plot(t, y[0], label=\"Solution y1\")\n",
    "x_range=np.linspace(1,2,100)\n",
    "plt.plot(x_range, exact_sol(x_range),label=\"exact\")\n",
    "plt.legend()\n",
    "plt.show()"
   ]
  },
  {
   "cell_type": "code",
   "execution_count": null,
   "metadata": {},
   "outputs": [],
   "source": []
  },
  {
   "cell_type": "code",
   "execution_count": 26,
   "metadata": {},
   "outputs": [
    {
     "data": {
      "text/plain": [
       "1"
      ]
     },
     "execution_count": 26,
     "metadata": {},
     "output_type": "execute_result"
    }
   ],
   "source": [
    "int(True)"
   ]
  },
  {
   "cell_type": "code",
   "execution_count": 27,
   "metadata": {},
   "outputs": [
    {
     "data": {
      "text/plain": [
       "0"
      ]
     },
     "execution_count": 27,
     "metadata": {},
     "output_type": "execute_result"
    }
   ],
   "source": [
    "int(False)"
   ]
  },
  {
   "cell_type": "code",
   "execution_count": 28,
   "metadata": {},
   "outputs": [
    {
     "data": {
      "text/plain": [
       "array([0.48360015, 0.58427793])"
      ]
     },
     "execution_count": 28,
     "metadata": {},
     "output_type": "execute_result"
    }
   ],
   "source": [
    "np.random.rand(2)"
   ]
  },
  {
   "cell_type": "code",
   "execution_count": null,
   "metadata": {},
   "outputs": [],
   "source": []
  }
 ],
 "metadata": {
  "kernelspec": {
   "display_name": "Python 3",
   "language": "python",
   "name": "python3"
  },
  "language_info": {
   "codemirror_mode": {
    "name": "ipython",
    "version": 3
   },
   "file_extension": ".py",
   "mimetype": "text/x-python",
   "name": "python",
   "nbconvert_exporter": "python",
   "pygments_lexer": "ipython3",
   "version": "3.7.6"
  }
 },
 "nbformat": 4,
 "nbformat_minor": 2
}