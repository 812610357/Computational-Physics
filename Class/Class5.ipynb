{
 "cells": [
  {
   "cell_type": "markdown",
   "metadata": {},
   "source": [
    "# 牛顿法"
   ]
  },
  {
   "cell_type": "code",
   "execution_count": 1,
   "metadata": {},
   "outputs": [],
   "source": [
    "import numpy as np\n",
    "import matplotlib.pyplot as plt\n",
    "from scipy.misc import derivative"
   ]
  },
  {
   "cell_type": "code",
   "execution_count": 2,
   "metadata": {},
   "outputs": [],
   "source": [
    "def f(x):\n",
    "    return x**3+x-1\n",
    "def df(x):\n",
    "    return 3*x**2+1"
   ]
  },
  {
   "cell_type": "code",
   "execution_count": 3,
   "metadata": {},
   "outputs": [
    {
     "data": {
      "image/png": "[encoded data removed]",
      "text/plain": [
       "<Figure size 432x288 with 1 Axes>"
      ]
     },
     "metadata": {
      "needs_background": "light"
     },
     "output_type": "display_data"
    }
   ],
   "source": [
    "x=np.linspace(-2, 2, 100)\n",
    "plt.plot(x,f(x),'r-')\n",
    "plt.show()"
   ]
  },
  {
   "cell_type": "code",
   "execution_count": 4,
   "metadata": {},
   "outputs": [
    {
     "name": "stdout",
     "output_type": "stream",
     "text": [
      "          x               f(x)            e               |e(i)/e(i-1)|   |e(i)/e2(i-1)|  step            \n",
      "  2.00000000e+00  1.30769231e+00  6.92307692e-01  6.92307692e-01  6.92307692e-01               1\n",
      "  1.30769231e+00  8.92708643e-01  4.14983665e-01  5.99420849e-01  8.65830116e-01               2\n",
      "  8.92708643e-01  7.14539401e-01  1.78169242e-01  4.29340373e-01  1.03459584e+00               3\n",
      "  7.14539401e-01  6.83193139e-01  3.13462623e-02  1.75935318e-01  9.87461791e-01               4\n",
      "  6.83193139e-01  6.82328443e-01  8.64695747e-04  2.75852904e-02  8.80018489e-01               5\n",
      "  6.82328443e-01  6.82327804e-01  6.39133383e-07  7.39142508e-04  8.54800675e-01               6\n",
      "  6.82327804e-01  6.82327804e-01  3.48943097e-13  5.45962871e-07  8.54223682e-01               7\n",
      "0.6823278038280193\n"
     ]
    }
   ],
   "source": [
    "x0=2.0\n",
    "error = 1\n",
    "i=0\n",
    "print('{:10s}{:16s}{:16s}{:16s}{:16s}{:16s}{:16s}'.format(' ','x','f(x)','e','|e(i)/e(i-1)|','|e(i)/e2(i-1)|','step'))\n",
    "while error>1.0*10**(-8):\n",
    "    i=i+1\n",
    "    x1=x0-f(x0)/df(x0)\n",
    "    error1=abs(x1-x0)\n",
    "    tmp=error1/error\n",
    "    tmp2=error1/error**2\n",
    "    print('{:16.8e}{:16.8e}{:16.8e}{:16.8e}{:16.8e}{:16d}'.format(x0,x1,error1,tmp,tmp2,i))\n",
    "    error=error1\n",
    "    x0=x1\n",
    "print(x0)"
   ]
  },
  {
   "cell_type": "markdown",
   "metadata": {},
   "source": [
    "# 尝试不同形式的不动点迭代"
   ]
  },
  {
   "cell_type": "code",
   "execution_count": 8,
   "metadata": {
    "scrolled": true
   },
   "outputs": [
    {
     "name": "stdout",
     "output_type": "stream",
     "text": [
      "          x               f(x)            e               |e(i)/e(i-1)|   |e(i)/e2(i-1)|  step            \n",
      "      5.0000e-01      7.9370e-01      2.9370e-01      2.9370e-01      2.9370e-01               1\n",
      "      7.9370e-01      5.9088e-01      2.0282e-01      6.9057e-01      2.3513e+00               2\n",
      "      5.9088e-01      7.4236e-01      1.5148e-01      7.4689e-01      3.6825e+00               3\n",
      "      7.4236e-01      6.3631e-01      1.0605e-01      7.0010e-01      4.6216e+00               4\n",
      "      6.3631e-01      7.1380e-01      7.7491e-02      7.3067e-01      6.8897e+00               5\n",
      "      7.1380e-01      6.5901e-01      5.4795e-02      7.0711e-01      9.1252e+00               6\n",
      "      6.5901e-01      6.9863e-01      3.9626e-02      7.2318e-01      1.3198e+01               7\n",
      "      6.9863e-01      6.7045e-01      2.8184e-02      7.1124e-01      1.7949e+01               8\n",
      "      6.7045e-01      6.9073e-01      2.0281e-02      7.1958e-01      2.5531e+01               9\n",
      "      6.9073e-01      6.7626e-01      1.4470e-02      7.1350e-01      3.5181e+01              10\n",
      "      6.7626e-01      6.8665e-01      1.0387e-02      7.1779e-01      4.9605e+01              11\n",
      "      6.8665e-01      6.7922e-01      7.4232e-03      7.1469e-01      6.8809e+01              12\n",
      "      6.7922e-01      6.8454e-01      5.3217e-03      7.1690e-01      9.6575e+01              13\n",
      "      6.8454e-01      6.8074e-01      3.8066e-03      7.1531e-01      1.3441e+02              14\n",
      "      6.8074e-01      6.8346e-01      2.7272e-03      7.1644e-01      1.8821e+02              15\n",
      "      6.8346e-01      6.8151e-01      1.9517e-03      7.1563e-01      2.6240e+02              16\n",
      "      6.8151e-01      6.8291e-01      1.3978e-03      7.1621e-01      3.6697e+02              17\n",
      "      6.8291e-01      6.8191e-01      1.0005e-03      7.1579e-01      5.1208e+02              18\n",
      "      6.8191e-01      6.8263e-01      7.1648e-04      7.1609e-01      7.1570e+02              19\n",
      "      6.8263e-01      6.8211e-01      5.1291e-04      7.1588e-01      9.9916e+02              20\n",
      "      6.8211e-01      6.8248e-01      3.6726e-04      7.1603e-01      1.3960e+03              21\n",
      "      6.8248e-01      6.8222e-01      2.6293e-04      7.1592e-01      1.9494e+03              22\n",
      "      6.8222e-01      6.8241e-01      1.8826e-04      7.1600e-01      2.7232e+03              23\n",
      "      6.8241e-01      6.8227e-01      1.3478e-04      7.1594e-01      3.8030e+03              24\n",
      "      6.8227e-01      6.8237e-01      9.6501e-05      7.1598e-01      5.3122e+03              25\n",
      "      6.8237e-01      6.8230e-01      6.9091e-05      7.1595e-01      7.4191e+03              26\n",
      "      6.8230e-01      6.8235e-01      4.9467e-05      7.1597e-01      1.0363e+04              27\n",
      "      6.8235e-01      6.8231e-01      3.5416e-05      7.1596e-01      1.4473e+04              28\n",
      "      6.8231e-01      6.8234e-01      2.5357e-05      7.1597e-01      2.0216e+04              29\n",
      "      6.8234e-01      6.8232e-01      1.8155e-05      7.1596e-01      2.8235e+04              30\n",
      "      6.8232e-01      6.8233e-01      1.2998e-05      7.1597e-01      3.9437e+04              31\n",
      "      6.8233e-01      6.8232e-01      9.3063e-06      7.1596e-01      5.5082e+04              32\n",
      "      6.8232e-01      6.8233e-01      6.6630e-06      7.1597e-01      7.6934e+04              33\n",
      "      6.8233e-01      6.8233e-01      4.7705e-06      7.1597e-01      1.0745e+05              34\n",
      "      6.8233e-01      6.8233e-01      3.4155e-06      7.1597e-01      1.5008e+05              35\n",
      "      6.8233e-01      6.8233e-01      2.4454e-06      7.1597e-01      2.0962e+05              36\n",
      "      6.8233e-01      6.8233e-01      1.7508e-06      7.1597e-01      2.9278e+05              37\n",
      "      6.8233e-01      6.8233e-01      1.2535e-06      7.1597e-01      4.0893e+05              38\n",
      "      6.8233e-01      6.8233e-01      8.9748e-07      7.1597e-01      5.7116e+05              39\n",
      "      6.8233e-01      6.8233e-01      6.4257e-07      7.1597e-01      7.9775e+05              40\n",
      "      6.8233e-01      6.8233e-01      4.6006e-07      7.1597e-01      1.1142e+06              41\n",
      "      6.8233e-01      6.8233e-01      3.2938e-07      7.1597e-01      1.5563e+06              42\n",
      "      6.8233e-01      6.8233e-01      2.3583e-07      7.1597e-01      2.1736e+06              43\n",
      "      6.8233e-01      6.8233e-01      1.6885e-07      7.1597e-01      3.0360e+06              44\n",
      "      6.8233e-01      6.8233e-01      1.2089e-07      7.1597e-01      4.2404e+06              45\n",
      "      6.8233e-01      6.8233e-01      8.6551e-08      7.1597e-01      5.9226e+06              46\n",
      "      6.8233e-01      6.8233e-01      6.1968e-08      7.1597e-01      8.2722e+06              47\n",
      "      6.8233e-01      6.8233e-01      4.4367e-08      7.1597e-01      1.1554e+07              48\n",
      "      6.8233e-01      6.8233e-01      3.1765e-08      7.1597e-01      1.6137e+07              49\n",
      "      6.8233e-01      6.8233e-01      2.2743e-08      7.1597e-01      2.2539e+07              50\n",
      "      6.8233e-01      6.8233e-01      1.6283e-08      7.1597e-01      3.1481e+07              51\n",
      "      6.8233e-01      6.8233e-01      1.1658e-08      7.1597e-01      4.3970e+07              52\n",
      "      6.8233e-01      6.8233e-01      8.3468e-09      7.1597e-01      6.1413e+07              53\n",
      "The fix point is  0.6823278073106368\n"
     ]
    }
   ],
   "source": [
    "def f1(x): #x=1-x^3,  g'(0.68)=1.396\n",
    "    return 1-x**3\n",
    "def f2(x): # x=(1-x)^(1/3), g'(0.68)= 0.7159\n",
    "    return (1-x)**(1/3)\n",
    "def f3(x): #x=1/(1+x^2), g'(0.68)=0.6353\n",
    "    return 1/(1+x**2)\n",
    "error=1\n",
    "x0=0.5\n",
    "i=0\n",
    "print('{:10s}{:16s}{:16s}{:16s}{:16s}{:16s}{:16s}'.format(' ','x','f(x)','e','|e(i)/e(i-1)|','|e(i)/e2(i-1)|','step'))\n",
    "while error > 1e-8:\n",
    "    i=i+1\n",
    "    x1=f2(x0)\n",
    "    error1=abs(x1-x0)\n",
    "    tmp=error1/error\n",
    "    tmp2=error1/error**2\n",
    "    print('{:16.4e}{:16.4e}{:16.4e}{:16.4e}{:16.4e}{:16d}'.format(x0,x1,error1,tmp,tmp2,i))\n",
    "    error=error1\n",
    "    x0=x1\n",
    "print(\"The fix point is \", x0)"
   ]
  },
  {
   "cell_type": "markdown",
   "metadata": {},
   "source": [
    "# 自动求导"
   ]
  },
  {
   "cell_type": "code",
   "execution_count": 28,
   "metadata": {},
   "outputs": [
    {
     "name": "stdout",
     "output_type": "stream",
     "text": [
      "0.6823276224163309\n"
     ]
    }
   ],
   "source": [
    "x0=-10000.0\n",
    "error = 1\n",
    "while error>1.0*10**(-6):\n",
    "    x1=x0-f(x0)/derivative(f, x0)\n",
    "    error=abs(x1-x0)\n",
    "    x0=x1\n",
    "print(x0)"
   ]
  },
  {
   "cell_type": "markdown",
   "metadata": {},
   "source": [
    "# 复数根"
   ]
  },
  {
   "cell_type": "code",
   "execution_count": 28,
   "metadata": {},
   "outputs": [
    {
     "name": "stdout",
     "output_type": "stream",
     "text": [
      "At step:  0 1j\n",
      "At step:  0 (-0.49999999999949996+1j)\n",
      "At step:  0 (-0.30177514793496824+1.1242603550359989j)\n",
      "At step:  0 (-0.34417793010765785+1.162657019978378j)\n",
      "At step:  0 (-0.3411733835258236+1.1615371426329284j)\n",
      "At step:  0 (-0.341163901870783+1.161541399897093j)\n",
      "(-0.34116390191400975+1.161541399997252j)\n"
     ]
    }
   ],
   "source": [
    "x0=complex(0,1)\n",
    "#x0=complex(0,+1)\n",
    "#x0=complex(2,+1)\n",
    "error = 1\n",
    "i=0\n",
    "while error>1.0*10**(-6):\n",
    "    print('At step: ',i,x0)\n",
    "    x1=x0-f(x0)/derivative(f, x0, dx=1e-6)\n",
    "    error=abs(x1-x0)\n",
    "    x0=x1\n",
    "print(x0)"
   ]
  },
  {
   "cell_type": "markdown",
   "metadata": {},
   "source": [
    "# 不动点迭代"
   ]
  },
  {
   "cell_type": "code",
   "execution_count": 33,
   "metadata": {},
   "outputs": [
    {
     "name": "stdout",
     "output_type": "stream",
     "text": [
      "(-0.3411629778198211+1.1615424773670562j)\n",
      "(-0.043314635495249346-0.4576073594645456j)\n"
     ]
    }
   ],
   "source": [
    "x0=complex(-0.3411639,1.161541)\n",
    "print(f3(x0))\n",
    "print(derivative(f3, x0))"
   ]
  },
  {
   "cell_type": "code",
   "execution_count": 27,
   "metadata": {},
   "outputs": [
    {
     "data": {
      "text/plain": [
       "(-0.04307696921446523+0.4576661514591345j)"
      ]
     },
     "execution_count": 27,
     "metadata": {},
     "output_type": "execute_result"
    }
   ],
   "source": [
    "x0=complex(-0.341,-1.161)\n",
    "derivative(f3, x0)"
   ]
  },
  {
   "cell_type": "code",
   "execution_count": 34,
   "metadata": {},
   "outputs": [
    {
     "name": "stdout",
     "output_type": "stream",
     "text": [
      "At step:  1 (-0.3411639+1.161541j)\n",
      "At step:  2 (-0.3411629778198211+1.1615424773670562j)\n",
      "At step:  3 (-0.3411688834585431+1.161540656866844j)\n",
      "At step:  4 (-0.3411488136618268+1.1615318207641265j)\n",
      "At step:  5 (-0.34118212077650323+1.1616021488279726j)\n",
      "At step:  6 (-0.34125612206235295+1.1613361402391165j)\n",
      "At step:  7 (-0.34043948319810463+1.1618773193856589j)\n",
      "At step:  8 (-0.3438922372728572+1.1623197497960864j)\n",
      "At step:  9 (-0.3357056717282959+1.1531691342599746j)\n",
      "At step:  10 (-0.33575893729764555+1.1974239308346295j)\n",
      "At step:  11 (-0.42831300613210443+1.0726054135593093j)\n",
      "At step:  12 (0.039002562203713044+1.0869509295139153j)\n",
      "At step:  13 (-4.547669157253832-2.1428486957159323j)\n",
      "At step:  14 (0.025434264404689138-0.029006834486915007j)\n",
      "At step:  15 (1.0001923540070314+0.0014761059155257842j)\n",
      "At step:  16 (0.4999032875237992-0.0007379109900142584j)\n",
      "At step:  17 (0.8000619645815681+0.0004722449983231107j)\n",
      "At step:  18 (0.6097191901024553-0.0002809188016880141j)\n",
      "At step:  19 (0.728991823910276+0.0001820480406004552j)\n",
      "At step:  20 (0.6529848525801853-0.00011317353700421937j)\n",
      "At step:  21 (0.7010709179753998+7.264435971993741e-05j)\n",
      "At step:  22 (0.6704657788886755-4.5787515845501975e-05j)\n",
      "At step:  23 (0.6898814720135655+2.9221510209506236e-05j)\n",
      "At step:  24 (0.6775359487397087-1.85085254492781e-05j)\n",
      "At step:  25 (0.6853751408253375+1.178123599090177e-05j)\n",
      "At step:  26 (0.6803928745519571-7.475990019080328e-06j)\n",
      "At step:  27 (0.6835576198216057+4.753447734996216e-06j)\n",
      "At step:  28 (0.6815466383232608-3.0185961076383873e-06j)\n",
      "At step:  29 (0.6828241897018301+1.918440699734103e-06j)\n",
      "At step:  30 (0.68201245893724-1.218630068888769e-06j)\n",
      "At step:  31 (0.6825281689581448+7.743465255253447e-07j)\n",
      "At step:  32 (0.6822005080280591-4.919375872025286e-07j)\n",
      "At step:  33 (0.6824086825421457+3.1256556361019623e-07j)\n",
      "At step:  34 (0.6822764188150693-1.9858040434601434e-07j)\n",
      "At step:  35 (0.6823604513405583+1.261695177639277e-07j)\n",
      "At step:  36 (0.6823070615483375-8.016005724481497e-08j)\n",
      "At step:  37 (0.6823409823733171+5.0929661911576455e-08j)\n",
      "At step:  38 (0.6823194309350528-3.2357705920593305e-08j)\n",
      "At step:  39 (0.682333123507448+2.055835529086774e-08j)\n",
      "At step:  40 (0.6823244240030917-1.306160818417445e-08j)\n",
      "At step:  41 (0.6823299511822738+8.298630641646273e-09j)\n",
      "At step:  42 (0.6823264395191165-5.272483950714449e-09j)\n",
      "At step:  43 (0.6823286706342648+3.3498449248698282e-09j)\n",
      "At step:  44 (0.6823272531076267-2.128304456366912e-09j)\n",
      "The fix point is  (0.6823281537251707+1.3522065969805322e-09j)\n"
     ]
    }
   ],
   "source": [
    "error=1\n",
    "#x0=0.5\n",
    "x0=complex(-0.3411639,1.161541)\n",
    "i=0\n",
    "while error > 1e-6:\n",
    "    i=i+1\n",
    "    if i>100:\n",
    "        print(\"100 steps!\")\n",
    "        break\n",
    "    print('At step: ',i,x0)\n",
    "    x1=f3(x0)\n",
    "    error=abs(x1-x0)\n",
    "    x0=x1\n",
    "print(\"The fix point is \", x0)"
   ]
  },
  {
   "cell_type": "code",
   "execution_count": null,
   "metadata": {},
   "outputs": [],
   "source": []
  },
  {
   "cell_type": "markdown",
   "metadata": {},
   "source": [
    "# 开根号计算"
   ]
  },
  {
   "cell_type": "code",
   "execution_count": 29,
   "metadata": {},
   "outputs": [
    {
     "data": {
      "image/png": "[encoded data removed]",
      "text/plain": [
       "<Figure size 432x288 with 1 Axes>"
      ]
     },
     "metadata": {
      "needs_background": "light"
     },
     "output_type": "display_data"
    }
   ],
   "source": [
    "def g(x): #x-f(x)/df(x)\n",
    "    return x-(x**2-7)/(2.0*x)\n",
    "x=np.linspace(2, 10, 100)\n",
    "plt.plot(x,g(x),'r',x,x,'b--')\n",
    "plt.show()"
   ]
  },
  {
   "cell_type": "code",
   "execution_count": 31,
   "metadata": {},
   "outputs": [
    {
     "name": "stdout",
     "output_type": "stream",
     "text": [
      "7.0\n",
      "4.0\n",
      "2.875\n",
      "2.654891304347826\n",
      "2.6457670441902894\n",
      "2.6457513111113693\n",
      "2.6457513110645907\n"
     ]
    }
   ],
   "source": [
    "x0=7.0\n",
    "error = 1\n",
    "while error>1.0*10**(-8):\n",
    "#    x1=x0-f(x0)/derivative(f, x0, dx=1e-6)\n",
    "    x1=g(x0)\n",
    "    print(x0)\n",
    "    error=abs(x1-x0)\n",
    "    x0=x1\n",
    "print(x0)"
   ]
  },
  {
   "cell_type": "markdown",
   "metadata": {},
   "source": [
    "# 牛顿法的线性收敛"
   ]
  },
  {
   "cell_type": "code",
   "execution_count": 42,
   "metadata": {},
   "outputs": [],
   "source": [
    "def f(x):\n",
    "    return (x-1)**3"
   ]
  },
  {
   "cell_type": "code",
   "execution_count": 43,
   "metadata": {},
   "outputs": [
    {
     "data": {
      "text/plain": [
       "[<matplotlib.lines.Line2D at 0x7ffa8194bf50>]"
      ]
     },
     "execution_count": 43,
     "metadata": {},
     "output_type": "execute_result"
    },
    {
     "data": {
      "image/png": "[encoded data removed]",
      "text/plain": [
       "<Figure size 432x288 with 1 Axes>"
      ]
     },
     "metadata": {
      "needs_background": "light"
     },
     "output_type": "display_data"
    }
   ],
   "source": [
    "x=np.linspace(-10, 10, 100)\n",
    "plt.plot(x,f(x),'b-')"
   ]
  },
  {
   "cell_type": "code",
   "execution_count": 44,
   "metadata": {},
   "outputs": [
    {
     "name": "stdout",
     "output_type": "stream",
     "text": [
      "          x               f(x)            e               |e(i)/e(i-1)|   |e(i)/e2(i-1)|  step            \n",
      "      1.0000e+01      7.0000e+00      3.0000e+00      3.0000e+00      3.0000e+00               1\n",
      "      7.0000e+00      5.0000e+00      2.0000e+00      6.6667e-01      2.2222e-01               2\n",
      "      5.0000e+00      3.6667e+00      1.3333e+00      6.6667e-01      3.3333e-01               3\n",
      "      3.6667e+00      2.7778e+00      8.8889e-01      6.6667e-01      5.0000e-01               4\n",
      "      2.7778e+00      2.1852e+00      5.9259e-01      6.6667e-01      7.5000e-01               5\n",
      "      2.1852e+00      1.7901e+00      3.9506e-01      6.6667e-01      1.1250e+00               6\n",
      "      1.7901e+00      1.5267e+00      2.6337e-01      6.6667e-01      1.6875e+00               7\n",
      "      1.5267e+00      1.3512e+00      1.7558e-01      6.6667e-01      2.5312e+00               8\n",
      "      1.3512e+00      1.2341e+00      1.1706e-01      6.6667e-01      3.7969e+00               9\n",
      "      1.2341e+00      1.1561e+00      7.8037e-02      6.6667e-01      5.6953e+00              10\n",
      "      1.1561e+00      1.1040e+00      5.2025e-02      6.6667e-01      8.5430e+00              11\n",
      "      1.1040e+00      1.0694e+00      3.4683e-02      6.6667e-01      1.2814e+01              12\n",
      "      1.0694e+00      1.0462e+00      2.3122e-02      6.6667e-01      1.9222e+01              13\n",
      "      1.0462e+00      1.0308e+00      1.5415e-02      6.6667e-01      2.8833e+01              14\n",
      "      1.0308e+00      1.0206e+00      1.0276e-02      6.6667e-01      4.3249e+01              15\n",
      "      1.0206e+00      1.0137e+00      6.8510e-03      6.6667e-01      6.4873e+01              16\n",
      "      1.0137e+00      1.0091e+00      4.5673e-03      6.6667e-01      9.7310e+01              17\n",
      "      1.0091e+00      1.0061e+00      3.0449e-03      6.6667e-01      1.4596e+02              18\n",
      "      1.0061e+00      1.0041e+00      2.0299e-03      6.6667e-01      2.1895e+02              19\n",
      "      1.0041e+00      1.0027e+00      1.3533e-03      6.6667e-01      3.2842e+02              20\n",
      "      1.0027e+00      1.0018e+00      9.0219e-04      6.6667e-01      4.9263e+02              21\n",
      "      1.0018e+00      1.0012e+00      6.0146e-04      6.6667e-01      7.3895e+02              22\n",
      "      1.0012e+00      1.0008e+00      4.0097e-04      6.6667e-01      1.1084e+03              23\n",
      "      1.0008e+00      1.0005e+00      2.6731e-04      6.6667e-01      1.6626e+03              24\n",
      "      1.0005e+00      1.0004e+00      1.7821e-04      6.6667e-01      2.4939e+03              25\n",
      "      1.0004e+00      1.0002e+00      1.1881e-04      6.6667e-01      3.7409e+03              26\n",
      "      1.0002e+00      1.0002e+00      7.9204e-05      6.6667e-01      5.6114e+03              27\n",
      "      1.0002e+00      1.0001e+00      5.2802e-05      6.6666e-01      8.4170e+03              28\n",
      "      1.0001e+00      1.0001e+00      3.5201e-05      6.6666e-01      1.2626e+04              29\n",
      "      1.0001e+00      1.0000e+00      2.3467e-05      6.6665e-01      1.8938e+04              30\n",
      "      1.0000e+00      1.0000e+00      1.5644e-05      6.6663e-01      2.8407e+04              31\n",
      "      1.0000e+00      1.0000e+00      1.0428e-05      6.6659e-01      4.2610e+04              32\n",
      "      1.0000e+00      1.0000e+00      6.9503e-06      6.6650e-01      6.3914e+04              33\n",
      "      1.0000e+00      1.0000e+00      4.6309e-06      6.6629e-01      9.5865e+04              34\n",
      "      1.0000e+00      1.0000e+00      3.0833e-06      6.6581e-01      1.4378e+05              35\n",
      "      1.0000e+00      1.0000e+00      2.0497e-06      6.6477e-01      2.1560e+05              36\n",
      "      1.0000e+00      1.0000e+00      1.3580e-06      6.6253e-01      3.2323e+05              37\n",
      "      1.0000e+00      1.0000e+00      8.9343e-07      6.5792e-01      4.8449e+05              38\n",
      "1.0000019012554378\n"
     ]
    }
   ],
   "source": [
    "x0=10.0\n",
    "error = 1\n",
    "i=0\n",
    "print('{:10s}{:16s}{:16s}{:16s}{:16s}{:16s}{:16s}'.format(' ','x','f(x)','e','|e(i)/e(i-1)|','|e(i)/e2(i-1)|','step'))\n",
    "while error>1.0*10**(-6):\n",
    "    i=i+1\n",
    "    x1=x0-f(x0)/derivative(f, x0, dx=1e-6)\n",
    "    error1=abs(x1-x0)\n",
    "    tmp=error1/error\n",
    "    tmp2=error1/error**2\n",
    "    print('{:16.4e}{:16.4e}{:16.4e}{:16.4e}{:16.4e}{:16d}'.format(x0,x1,error1,tmp,tmp2,i))\n",
    "    error=error1\n",
    "    x0=x1\n",
    "print(x0)"
   ]
  },
  {
   "cell_type": "markdown",
   "metadata": {},
   "source": [
    "# 改进的牛顿法"
   ]
  },
  {
   "cell_type": "code",
   "execution_count": 54,
   "metadata": {},
   "outputs": [
    {
     "name": "stdout",
     "output_type": "stream",
     "text": [
      "                x                    f(x)                 e                    |e(i)/e(i-1)|        |e(i)/e2(i-1)|       step                 \n",
      "      1.0000e+01      1.0000e+00      9.0000e+00      9.0000e+00      9.0000e+00               1\n",
      "      1.0000e+00      1.0000e+00      1.5274e-12      1.6972e-13      1.8857e-14               2\n",
      "0.999999992015894\n"
     ]
    }
   ],
   "source": [
    "x0=10.0 #100\n",
    "error = 1\n",
    "i=0\n",
    "print('{:16s}{:21s}{:21s}{:21s}{:21s}{:21s}{:21s}'.format(' ','x','f(x)','e','|e(i)/e(i-1)|','|e(i)/e2(i-1)|','step'))\n",
    "while error>1.0*10**(-9):\n",
    "    i=i+1\n",
    "    x1=x0-3.0*f(x0)/derivative(f, x0, dx=1e-6)\n",
    "    error1=abs(x1-x0)\n",
    "    tmp=error1/error\n",
    "    tmp2=error1/error**2\n",
    "    print('{:16.4e}{:16.4e}{:16.4e}{:16.4e}{:16.4e}{:16d}'.format(x0,x1,error1,tmp,tmp2,i))\n",
    "    error=error1\n",
    "    x0=x1\n",
    "print(x0)"
   ]
  },
  {
   "cell_type": "markdown",
   "metadata": {},
   "source": [
    "# 例2"
   ]
  },
  {
   "cell_type": "code",
   "execution_count": 55,
   "metadata": {},
   "outputs": [
    {
     "data": {
      "image/png": "[encoded data removed]",
      "text/plain": [
       "<Figure size 432x288 with 1 Axes>"
      ]
     },
     "metadata": {
      "needs_background": "light"
     },
     "output_type": "display_data"
    }
   ],
   "source": [
    "def f(x):\n",
    "    return np.sin(x)+x**2*np.cos(x)-x**2-x\n",
    "x=np.linspace(-0.5, 0.2, 100)\n",
    "y0=np.zeros(x.size)\n",
    "plt.plot(x,f(x),'b',x,y0,'r--')\n",
    "plt.show()"
   ]
  },
  {
   "cell_type": "code",
   "execution_count": 56,
   "metadata": {},
   "outputs": [
    {
     "name": "stdout",
     "output_type": "stream",
     "text": [
      "f:  0.0\n",
      "f^(1):  0.0\n",
      "f^(2):  0.0\n",
      "f^(3):  -0.9999223942337013\n"
     ]
    }
   ],
   "source": [
    "x0=0\n",
    "print('f: ',f(0))\n",
    "print('f^(1): ',derivative(f, x0, dx=1e-8, n=1))\n",
    "print('f^(2): ',derivative(f, x0, dx=1e-6, n=2))\n",
    "print('f^(3): ',derivative(f, x0, dx=1e-6, n=3,order=5))"
   ]
  },
  {
   "cell_type": "code",
   "execution_count": 57,
   "metadata": {},
   "outputs": [
    {
     "name": "stdout",
     "output_type": "stream",
     "text": [
      "          x               f(x)            e               |e(i)/e(i-1)|   |e(i)/e2(i-1)|  step            \n",
      "      1.0000e+00      7.2159e-01      2.7841e-01      2.7841e-01      2.7841e-01               1\n",
      "      7.2159e-01      5.2137e-01      2.0022e-01      7.1915e-01      2.5831e+00               2\n",
      "      5.2137e-01      3.7531e-01      1.4606e-01      7.2951e-01      3.6436e+00               3\n",
      "      3.7531e-01      2.6836e-01      1.0694e-01      7.3218e-01      5.0128e+00               4\n",
      "      2.6836e-01      1.9026e-01      7.8102e-02      7.3030e-01      6.8288e+00               5\n",
      "      1.9026e-01      1.3361e-01      5.6649e-02      7.2532e-01      9.2869e+00               6\n",
      "      1.3361e-01      9.2925e-02      4.0687e-02      7.1823e-01      1.2679e+01               7\n",
      "      9.2925e-02      6.4039e-02      2.8886e-02      7.0995e-01      1.7449e+01               8\n",
      "      6.4039e-02      4.3778e-02      2.0261e-02      7.0142e-01      2.4282e+01               9\n",
      "      4.3778e-02      2.9728e-02      1.4050e-02      6.9344e-01      3.4225e+01              10\n",
      "      2.9728e-02      2.0082e-02      9.6464e-03      6.8657e-01      4.8866e+01              11\n",
      "      2.0082e-02      1.3512e-02      6.5696e-03      6.8104e-01      7.0601e+01              12\n",
      "      1.3512e-02      9.0658e-03      4.4463e-03      6.7681e-01      1.0302e+02              13\n",
      "      9.0658e-03      6.0703e-03      2.9955e-03      6.7370e-01      1.5152e+02              14\n",
      "      6.0703e-03      4.0589e-03      2.0114e-03      6.7149e-01      2.2417e+02              15\n",
      "      4.0589e-03      2.7113e-03      1.3475e-03      6.6994e-01      3.3307e+02              16\n",
      "      2.7113e-03      1.8100e-03      9.0134e-04      6.6888e-01      4.9637e+02              17\n",
      "      1.8100e-03      1.2077e-03      6.0224e-04      6.6815e-01      7.4129e+02              18\n",
      "      1.2077e-03      8.0563e-04      4.0209e-04      6.6766e-01      1.1086e+03              19\n",
      "      8.0563e-04      5.3730e-04      2.6833e-04      6.6733e-01      1.6597e+03              20\n",
      "      5.3730e-04      3.5830e-04      1.7901e-04      6.6711e-01      2.4862e+03              21\n",
      "      3.5830e-04      2.3891e-04      1.1939e-04      6.6696e-01      3.7259e+03              22\n",
      "      2.3891e-04      1.5929e-04      7.9617e-05      6.6686e-01      5.5856e+03              23\n",
      "      1.5929e-04      1.0620e-04      5.3088e-05      6.6680e-01      8.3751e+03              24\n",
      "      1.0620e-04      7.0808e-05      3.5397e-05      6.6675e-01      1.2559e+04              25\n",
      "      7.0808e-05      4.7208e-05      2.3599e-05      6.6672e-01      1.8836e+04              26\n",
      "      4.7208e-05      3.1475e-05      1.5733e-05      6.6666e-01      2.8249e+04              27\n",
      "      3.1475e-05      2.0987e-05      1.0488e-05      6.6663e-01      4.2371e+04              28\n",
      "      2.0987e-05      1.3997e-05      6.9903e-06      6.6651e-01      6.3550e+04              29\n",
      "      1.3997e-05      9.3393e-06      4.6576e-06      6.6629e-01      9.5316e+04              30\n",
      "      9.3393e-06      6.2381e-06      3.1012e-06      6.6584e-01      1.4296e+05              31\n",
      "      6.2381e-06      4.1764e-06      2.0616e-06      6.6478e-01      2.1436e+05              32\n",
      "      4.1764e-06      2.8104e-06      1.3661e-06      6.6261e-01      3.2140e+05              33\n",
      "      2.8104e-06      1.9115e-06      8.9885e-07      6.5799e-01      4.8167e+05              34\n",
      "      1.9115e-06      1.3276e-06      5.8396e-07      6.4968e-01      7.2279e+05              35\n",
      "      1.3276e-06      9.5549e-07      3.7206e-07      6.3713e-01      1.0910e+06              36\n",
      "9.554924645596255e-07\n"
     ]
    }
   ],
   "source": [
    "x0=1  # -1\n",
    "error = 1\n",
    "i=0\n",
    "print('{:10s}{:16s}{:16s}{:16s}{:16s}{:16s}{:16s}'.format(' ','x','f(x)','e','|e(i)/e(i-1)|','|e(i)/e2(i-1)|','step'))\n",
    "while error>0.5*10**(-6):\n",
    "    i=i+1\n",
    "    x1=x0-f(x0)/derivative(f, x0, dx=1e-6)\n",
    "    error1=abs(x1-x0)\n",
    "    tmp=error1/error\n",
    "    tmp2=error1/error**2\n",
    "    print('{:16.4e}{:16.4e}{:16.4e}{:16.4e}{:16.4e}{:16d}'.format(x0,x1,error1,tmp,tmp2,i))\n",
    "    error=error1\n",
    "    x0=x1\n",
    "print(x1)"
   ]
  },
  {
   "cell_type": "code",
   "execution_count": 59,
   "metadata": {},
   "outputs": [
    {
     "data": {
      "text/plain": [
       "4.5784099211821586e-07"
      ]
     },
     "execution_count": 59,
     "metadata": {},
     "output_type": "execute_result"
    }
   ],
   "source": [
    "(2/3)**36"
   ]
  },
  {
   "cell_type": "code",
   "execution_count": 60,
   "metadata": {},
   "outputs": [
    {
     "name": "stdout",
     "output_type": "stream",
     "text": [
      "          x               f(x)            e               |e(i)/e(i-1)|   |e(i)/e2(i-1)|  step            \n",
      "     -1.0000e+00     -3.0562e-01      6.9438e-01      6.9438e-01      6.9438e-01               1\n",
      "     -3.0562e-01     -4.2672e-01      1.2110e-01      1.7439e-01      2.5115e-01               2\n",
      "     -4.2672e-01     -2.5819e-01      1.6853e-01      1.3917e+00      1.1492e+01               3\n",
      "     -2.5819e-01     -2.2251e+00      1.9669e+00      1.1671e+01      6.9255e+01               4\n",
      "     -2.2251e+00     -1.5746e-01      2.0677e+00      1.0512e+00      5.3444e-01               5\n",
      "     -1.5746e-01      6.6933e-02      2.2439e-01      1.0852e-01      5.2485e-02               6\n",
      "      6.6933e-02      3.5235e-03      6.3409e-02      2.8259e-01      1.2594e+00               7\n",
      "      3.5235e-03      1.2241e-05      3.5112e-03      5.5374e-02      8.7328e-01               8\n",
      "      1.2241e-05      2.7461e-08      1.2213e-05      3.4784e-03      9.9065e-01               9\n",
      "      2.7461e-08      2.7402e-08      5.9411e-11      4.8644e-06      3.9828e-01              10\n",
      "2.74017332020473e-08\n"
     ]
    }
   ],
   "source": [
    "x0=-1.0\n",
    "error = 1\n",
    "i=0\n",
    "print('{:10s}{:16s}{:16s}{:16s}{:16s}{:16s}{:16s}'.format(' ','x','f(x)','e','|e(i)/e(i-1)|','|e(i)/e2(i-1)|','step'))\n",
    "while error>0.5*10**(-6):\n",
    "    i=i+1\n",
    "    x1=x0-3*f(x0)/derivative(f, x0, dx=1e-6)\n",
    "    error1=abs(x1-x0)\n",
    "    tmp=error1/error\n",
    "    tmp2=error1/error**2\n",
    "    print('{:16.4e}{:16.4e}{:16.4e}{:16.4e}{:16.4e}{:16d}'.format(x0,x1,error1,tmp,tmp2,i))\n",
    "    error=error1\n",
    "    x0=x1\n",
    "print(x0)"
   ]
  },
  {
   "cell_type": "markdown",
   "metadata": {},
   "source": [
    "# 反例"
   ]
  },
  {
   "cell_type": "code",
   "execution_count": 37,
   "metadata": {},
   "outputs": [
    {
     "name": "stdout",
     "output_type": "stream",
     "text": [
      "-4.0 -3.9999999996709334 3.9999999996709334\n"
     ]
    },
    {
     "data": {
      "image/png": "[encoded data removed]",
      "text/plain": [
       "<Figure size 432x288 with 1 Axes>"
      ]
     },
     "metadata": {
      "needs_background": "light"
     },
     "output_type": "display_data"
    }
   ],
   "source": [
    "def f(x):\n",
    "    return 4*x**4-6*x**2-11/4\n",
    "x=np.linspace(-1.5, 1.5, 100)\n",
    "y0=np.zeros(x.size)\n",
    "print(f(0.5),derivative(f, 0.5, dx=1e-6),derivative(f, -0.5, dx=1e-6))\n",
    "plt.plot(x,f(x),'r',x,y0,'g--',x,-4-4*(x-0.5),'b--',x,-4+4*(x+0.5),'y--')\n",
    "plt.show()"
   ]
  },
  {
   "cell_type": "code",
   "execution_count": 17,
   "metadata": {},
   "outputs": [
    {
     "data": {
      "text/plain": [
       "3.9999999996709334"
      ]
     },
     "execution_count": 17,
     "metadata": {},
     "output_type": "execute_result"
    }
   ],
   "source": [
    "derivative(f, -0.5, dx=1e-6)"
   ]
  },
  {
   "cell_type": "code",
   "execution_count": 40,
   "metadata": {},
   "outputs": [
    {
     "name": "stdout",
     "output_type": "stream",
     "text": [
      "1\n",
      "-0.5729700855309646\n",
      "2\n",
      "0.5363592738367472\n",
      "3\n",
      "-0.5083899203291523\n",
      "4\n",
      "0.5004272655266196\n",
      "5\n",
      "-0.5000010959636486\n",
      "6\n",
      "0.49999999997124445\n",
      "7\n",
      "-0.49999999997124434\n",
      "8\n",
      "0.5000000000822666\n",
      "9\n",
      "-0.5000000000822666\n",
      "10\n",
      "0.5000000000822666\n",
      "11\n",
      "-0.5000000000822666\n",
      "12\n",
      "0.5000000000822666\n",
      "13\n",
      "-0.5000000000822666\n",
      "14\n",
      "0.5000000000822666\n",
      "15\n",
      "-0.5000000000822666\n",
      "16\n",
      "0.5000000000822666\n",
      "17\n",
      "-0.5000000000822666\n",
      "18\n",
      "0.5000000000822666\n",
      "19\n",
      "-0.5000000000822666\n",
      "20\n",
      "0.5000000000822666\n",
      "21\n",
      "-0.5000000000822666\n",
      "22\n",
      "0.5000000000822666\n",
      "23\n",
      "-0.5000000000822666\n",
      "24\n",
      "0.5000000000822666\n",
      "25\n",
      "-0.5000000000822666\n",
      "26\n",
      "0.5000000000822666\n",
      "27\n",
      "-0.5000000000822666\n",
      "28\n",
      "0.5000000000822666\n",
      "29\n",
      "-0.5000000000822666\n",
      "30\n",
      "0.5000000000822666\n",
      "31\n",
      "-0.5000000000822666\n",
      "32\n",
      "0.5000000000822666\n",
      "33\n",
      "-0.5000000000822666\n",
      "34\n",
      "0.5000000000822666\n",
      "35\n",
      "-0.5000000000822666\n",
      "36\n",
      "0.5000000000822666\n",
      "37\n",
      "-0.5000000000822666\n",
      "38\n",
      "0.5000000000822666\n",
      "39\n",
      "-0.5000000000822666\n",
      "40\n",
      "0.5000000000822666\n",
      "41\n",
      "-0.5000000000822666\n",
      "42\n",
      "0.5000000000822666\n",
      "43\n",
      "-0.5000000000822666\n",
      "44\n",
      "0.5000000000822666\n",
      "45\n",
      "-0.5000000000822666\n",
      "46\n",
      "0.5000000000822666\n",
      "47\n",
      "-0.5000000000822666\n",
      "48\n",
      "0.5000000000822666\n",
      "49\n",
      "-0.5000000000822666\n",
      "50\n",
      "0.5000000000822666\n",
      "51\n",
      "-0.5000000000822666\n",
      "52\n",
      "0.5000000000822666\n",
      "53\n",
      "-0.5000000000822666\n",
      "54\n",
      "0.5000000000822666\n",
      "55\n",
      "-0.5000000000822666\n",
      "56\n",
      "0.5000000000822666\n",
      "57\n",
      "-0.5000000000822666\n",
      "58\n",
      "0.5000000000822666\n",
      "59\n",
      "-0.5000000000822666\n",
      "60\n",
      "0.5000000000822666\n",
      "61\n",
      "-0.5000000000822666\n",
      "62\n",
      "0.5000000000822666\n",
      "63\n",
      "-0.5000000000822666\n",
      "64\n",
      "0.5000000000822666\n",
      "65\n",
      "-0.5000000000822666\n",
      "66\n",
      "0.5000000000822666\n",
      "67\n",
      "-0.5000000000822666\n",
      "68\n",
      "0.5000000000822666\n",
      "69\n",
      "-0.5000000000822666\n",
      "70\n",
      "0.5000000000822666\n",
      "71\n",
      "-0.5000000000822666\n",
      "72\n",
      "0.5000000000822666\n",
      "73\n",
      "-0.5000000000822666\n",
      "74\n",
      "0.5000000000822666\n",
      "75\n",
      "-0.5000000000822666\n",
      "76\n",
      "0.5000000000822666\n",
      "77\n",
      "-0.5000000000822666\n",
      "78\n",
      "0.5000000000822666\n",
      "79\n",
      "-0.5000000000822666\n",
      "80\n",
      "0.5000000000822666\n",
      "81\n",
      "-0.5000000000822666\n",
      "82\n",
      "0.5000000000822666\n",
      "83\n",
      "-0.5000000000822666\n",
      "84\n",
      "0.5000000000822666\n",
      "85\n",
      "-0.5000000000822666\n",
      "86\n",
      "0.5000000000822666\n",
      "87\n",
      "-0.5000000000822666\n",
      "88\n",
      "0.5000000000822666\n",
      "89\n",
      "-0.5000000000822666\n",
      "90\n",
      "0.5000000000822666\n",
      "91\n",
      "-0.5000000000822666\n",
      "92\n",
      "0.5000000000822666\n",
      "93\n",
      "-0.5000000000822666\n",
      "94\n",
      "0.5000000000822666\n",
      "95\n",
      "-0.5000000000822666\n",
      "96\n",
      "0.5000000000822666\n",
      "97\n",
      "-0.5000000000822666\n",
      "98\n",
      "0.5000000000822666\n",
      "99\n",
      "-0.5000000000822666\n",
      "100\n",
      "0.5000000000822666\n",
      "101\n",
      "0.5000000000822666\n"
     ]
    }
   ],
   "source": [
    "x0=0.6\n",
    "error = 1\n",
    "n=0\n",
    "while error>1.0*10**(-6):\n",
    "    n=n+1\n",
    "    print(n)\n",
    "    if(n>100):\n",
    "        break\n",
    "    x1=x0-f(x0)/derivative(f, x0, dx=1e-6)\n",
    "    error=abs(x1-x0)\n",
    "    print(x1)\n",
    "    x0=x1\n",
    "print(x0)"
   ]
  },
  {
   "cell_type": "code",
   "execution_count": null,
   "metadata": {},
   "outputs": [],
   "source": []
  }
 ],
 "metadata": {
  "kernelspec": {
   "display_name": "Python 3",
   "language": "python",
   "name": "python3"
  },
  "language_info": {
   "codemirror_mode": {
    "name": "ipython",
    "version": 3
   },
   "file_extension": ".py",
   "mimetype": "text/x-python",
   "name": "python",
   "nbconvert_exporter": "python",
   "pygments_lexer": "ipython3",
   "version": "3.7.6"
  }
 },
 "nbformat": 4,
 "nbformat_minor": 2
}