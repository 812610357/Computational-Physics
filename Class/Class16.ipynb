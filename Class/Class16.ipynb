{
 "cells": [
  {
   "cell_type": "code",
   "execution_count": 1,
   "metadata": {},
   "outputs": [],
   "source": [
    "import numpy as np\n",
    "import matplotlib.pyplot as plt\n",
    "\n",
    "%matplotlib inline\n",
    "\n",
    "def Newton(point):\n",
    "    points = np.array(point)\n",
    "    n = len(points)\n",
    "    coef_array = np.zeros(n)\n",
    "    \n",
    "    def coef(points):\n",
    "        if len(points) == 1:\n",
    "            return points[0, 1]\n",
    "        return (coef(points[1:]) - coef(points[:-1])) / (points[-1, 0] - points[0, 0])\n",
    "\n",
    "    for i in range(n):\n",
    "        coef_array[i] = coef(points[:i+1])\n",
    "        \n",
    "    print(\"coef: \",coef_array)\n",
    "    \n",
    "    def f(x):\n",
    "        y = 0\n",
    "        for i in range(n):\n",
    "            x_i = 1\n",
    "            for k in range(0, i):\n",
    "                x_i *= (x - points[k, 0])\n",
    "            y += coef_array[i] * x_i\n",
    "        return y\n",
    "    \n",
    "    return f"
   ]
  },
  {
   "cell_type": "code",
   "execution_count": 5,
   "metadata": {},
   "outputs": [
    {
     "name": "stdout",
     "output_type": "stream",
     "text": [
      "coef:  [1.433329   1.98987    3.2589     3.68066667 4.00041667]\n"
     ]
    },
    {
     "data": {
      "image/png": "[encoded data removed]",
      "text/plain": [
       "<Figure size 432x288 with 1 Axes>"
      ]
     },
     "metadata": {
      "needs_background": "light"
     },
     "output_type": "display_data"
    }
   ],
   "source": [
    "# (a)\n",
    "points = np.array([(0.6, 1.433329), (0.7, 1.632316), (0.8, 1.896481), (0.9, 2.247908), (1.0, 2.718282)])\n",
    "\n",
    "p_4 = Newton(points)\n",
    "\n",
    "x_range = np.linspace(-1, 1, 1000)\n",
    "y_range = p_4(x_range)\n",
    "plt.scatter(points[:,0],points[:,1])\n",
    "plt.plot(x_range, y_range)\n",
    "plt.show()"
   ]
  },
  {
   "cell_type": "code",
   "execution_count": 6,
   "metadata": {},
   "outputs": [
    {
     "name": "stdout",
     "output_type": "stream",
     "text": [
      "P_4(0.82): 1.958910\n",
      "P_4(0.98): 2.612848\n"
     ]
    }
   ],
   "source": [
    "# (b)\n",
    "print(\"P_4(0.82): %f\" % p_4(0.82))\n",
    "print(\"P_4(0.98): %f\" % p_4(0.98))"
   ]
  },
  {
   "cell_type": "code",
   "execution_count": 7,
   "metadata": {},
   "outputs": [
    {
     "name": "stdout",
     "output_type": "stream",
     "text": [
      "Error bound for x = 0.82: 5.373586503516332e-05\n",
      "Error bound for x = 0.98: 0.000217\n"
     ]
    }
   ],
   "source": [
    "# (c)\n",
    "# f(x) - p_4(x) = (x - 0.6)*(x - 0.7)*(x - 0.8)*(x - 0.9)*(x - 1)*(f'''''(c)) / 5!\n",
    "# f'''''(x) = (32*x**5 + 160*x**3 + 120*x)*np.exp(x**2)\n",
    "def error_bound(x):\n",
    "    return abs((x - 0.6)*(x - 0.7)*(x - 0.8)*(x - 0.9)*(x - 1)*(32 + 160 + 120)*np.exp(1) / 120)\n",
    "\n",
    "print(\"Error bound for x = 0.82:\", error_bound(0.82))\n",
    "print(\"Error bound for x = 0.98: %8f\" % error_bound(0.98))"
   ]
  },
  {
   "cell_type": "code",
   "execution_count": 19,
   "metadata": {},
   "outputs": [
    {
     "data": {
      "image/png": "[encoded data removed]",
      "text/plain": [
       "<Figure size 432x288 with 1 Axes>"
      ]
     },
     "metadata": {
      "needs_background": "light"
     },
     "output_type": "display_data"
    }
   ],
   "source": [
    "# (d)\n",
    "def f(x):\n",
    "    return np.exp(x**2)\n",
    "x_range2 = np.linspace(-1, 1, 1000)\n",
    "y_range2 = f(x_range2)\n",
    "plt.scatter(points[:,0],points[:,1])\n",
    "plt.plot(x_range, y_range,'r-',x_range2, y_range2,'b--')\n",
    "plt.show()"
   ]
  },
  {
   "cell_type": "code",
   "execution_count": 21,
   "metadata": {},
   "outputs": [
    {
     "data": {
      "text/plain": [
       "[<matplotlib.lines.Line2D at 0x7fd3e921c110>]"
      ]
     },
     "execution_count": 21,
     "metadata": {},
     "output_type": "execute_result"
    },
    {
     "data": {
      "image/png": "[encoded data removed]",
      "text/plain": [
       "<Figure size 432x288 with 1 Axes>"
      ]
     },
     "metadata": {
      "needs_background": "light"
     },
     "output_type": "display_data"
    }
   ],
   "source": [
    "dy_range=f(x_range)-y_range\n",
    "plt.plot(x_range, dy_range,'r-')"
   ]
  },
  {
   "cell_type": "markdown",
   "metadata": {},
   "source": [
    "# 自然三次样条插值"
   ]
  },
  {
   "cell_type": "code",
   "execution_count": 15,
   "metadata": {},
   "outputs": [],
   "source": [
    "def cubic_spline(x_i, y_i, x):\n",
    "    x_i = np.array(x_i)\n",
    "    y_i = np.array(y_i)\n",
    "\n",
    "    dx = x_i[1:] - x_i[:-1] # hi\n",
    "    dy = y_i[1:] - y_i[:-1] #f_(i+1)- f_i\n",
    "    n = len(x_i)\n",
    "\n",
    "    M = np.zeros((n, n))\n",
    "    N = np.zeros(n)\n",
    "\n",
    "    for i in range(1, n-1):\n",
    "        M[i, i-1] = dx[i-1]\n",
    "        M[i, i] = 2*(dx[i-1] + dx[i])\n",
    "        M[i, i+1] = dx[i]\n",
    "\n",
    "        N[i] = 3*(dy[i]/dx[i] - dy[i-1]/dx[i-1])\n",
    "    \n",
    "# 自然样条\n",
    "    M[0, 0] = 1\n",
    "    M[-1, -1] = 1\n",
    "    \n",
    "    N = N.reshape(-1, 1)\n",
    "    c = np.linalg.inv(M).dot(N).reshape(-1)\n",
    "\n",
    "    a = y_i[:-1]\n",
    "    b = dy/dx - dx*(2*c[:-1] + c[1:])/3\n",
    "    d = (c[1:] - c[:-1])/(3 * dx)\n",
    "    c = c[:-1]\n",
    "\n",
    "    for i in range(n-1):\n",
    "        if x_i[i] <= x and x <= x_i[i+1]:\n",
    "            return a[i] + b[i]*(x - x_i[i]) + c[i]*(x - x_i[i])**2 + d[i]*(x - x_i[i])**3"
   ]
  },
  {
   "cell_type": "code",
   "execution_count": 6,
   "metadata": {},
   "outputs": [
    {
     "name": "stdout",
     "output_type": "stream",
     "text": [
      "[0. 0. 0. 0. 0. 0. 0. 0. 0. 0.]\n",
      "[[0.]\n",
      " [0.]\n",
      " [0.]\n",
      " [0.]\n",
      " [0.]\n",
      " [0.]\n",
      " [0.]\n",
      " [0.]\n",
      " [0.]\n",
      " [0.]]\n",
      "[0. 0. 0. 0. 0. 0. 0. 0. 0. 0.]\n"
     ]
    }
   ],
   "source": [
    "import numpy as np\n",
    "n=np.zeros(10)\n",
    "print(n)\n",
    "n2=n.reshape(-1,1)\n",
    "print(n2)\n",
    "n3=n2.reshape(-1)\n",
    "print(n3)"
   ]
  },
  {
   "cell_type": "markdown",
   "metadata": {},
   "source": [
    "# 例1"
   ]
  },
  {
   "cell_type": "code",
   "execution_count": 16,
   "metadata": {},
   "outputs": [],
   "source": [
    "import numpy as np\n",
    "import matplotlib.pyplot as plt\n",
    "\n",
    "%matplotlib inline"
   ]
  },
  {
   "cell_type": "code",
   "execution_count": 17,
   "metadata": {},
   "outputs": [
    {
     "data": {
      "text/plain": [
       "1.0"
      ]
     },
     "execution_count": 17,
     "metadata": {},
     "output_type": "execute_result"
    }
   ],
   "source": [
    "x_i = [0, 1, 2]\n",
    "y_i = [3,-2,1]\n",
    "cubic_spline(x_i, y_i, 2.0)"
   ]
  },
  {
   "cell_type": "code",
   "execution_count": null,
   "metadata": {},
   "outputs": [],
   "source": []
  },
  {
   "cell_type": "code",
   "execution_count": 18,
   "metadata": {},
   "outputs": [
    {
     "data": {
      "image/png": "[encoded data removed]",
      "text/plain": [
       "<Figure size 432x288 with 1 Axes>"
      ]
     },
     "metadata": {
      "needs_background": "light"
     },
     "output_type": "display_data"
    }
   ],
   "source": [
    "x_i = [0, 1, 2]\n",
    "y_i = [3,-2,1]\n",
    "\n",
    "x_range = np.linspace(x_i[0], x_i[-1], 1000)\n",
    "cubic_spline(x_i, y_i, 3.0)\n",
    " \n",
    "y_range = [cubic_spline(x_i, y_i, x) for x in x_range]\n",
    "    \n",
    "plt.scatter(x_i, y_i)\n",
    "plt.plot(x_range, y_range)\n",
    "plt.show()"
   ]
  },
  {
   "cell_type": "markdown",
   "metadata": {},
   "source": [
    "# 例1+"
   ]
  },
  {
   "cell_type": "code",
   "execution_count": 19,
   "metadata": {},
   "outputs": [
    {
     "data": {
      "image/png": "[encoded data removed]",
      "text/plain": [
       "<Figure size 432x288 with 1 Axes>"
      ]
     },
     "metadata": {
      "needs_background": "light"
     },
     "output_type": "display_data"
    }
   ],
   "source": [
    "x_i = [0, 1, 2,4]\n",
    "y_i = [3,-2,1,-1]\n",
    "\n",
    "x_range = np.linspace(x_i[0], x_i[-1], 1000)\n",
    "y_range = [cubic_spline(x_i, y_i, x) for x in x_range]\n",
    "    \n",
    "plt.scatter(x_i, y_i)\n",
    "plt.plot(x_range, y_range)\n",
    "plt.show()"
   ]
  },
  {
   "cell_type": "markdown",
   "metadata": {},
   "source": [
    "# 曲率调整"
   ]
  },
  {
   "cell_type": "code",
   "execution_count": 20,
   "metadata": {},
   "outputs": [],
   "source": [
    "def cubic_spline_curve(x_i, y_i, x, v=(0, 0)):\n",
    "    x_i = np.array(x_i)\n",
    "    y_i = np.array(y_i)\n",
    "\n",
    "    dx = x_i[1:] - x_i[:-1]\n",
    "    dy = y_i[1:] - y_i[:-1]\n",
    "    n = len(x_i)\n",
    "\n",
    "    M = np.zeros((n, n))\n",
    "    N = np.zeros(n)\n",
    "\n",
    "    for i in range(1, n-1):\n",
    "        M[i, i-1] = dx[i-1]\n",
    "        M[i, i] = 2*(dx[i-1] + dx[i])\n",
    "        M[i, i+1] = dx[i]\n",
    "\n",
    "        N[i] = 3*(dy[i]/dx[i] - dy[i-1]/dx[i-1])\n",
    "    \n",
    "\n",
    "    M[0, 0] = 2\n",
    "    M[-1, -1] = 2\n",
    "    N[0] = v[0]\n",
    "    N[-1] = v[-1]        \n",
    "    \n",
    "    N = N.reshape(-1, 1)\n",
    "    c = np.linalg.inv(M).dot(N).reshape(-1)\n",
    "\n",
    "    a = y_i[:-1]\n",
    "    b = dy/dx - dx*(2*c[:-1] + c[1:])/3\n",
    "    d = (c[1:] - c[:-1])/(3 * dx)\n",
    "    c = c[:-1]\n",
    "\n",
    "    for i in range(n-1):\n",
    "        if x_i[i] <= x and x <= x_i[i+1]:\n",
    "            return a[i] + b[i]*(x - x_i[i]) + c[i]*(x - x_i[i])**2 + d[i]*(x - x_i[i])**3"
   ]
  },
  {
   "cell_type": "code",
   "execution_count": 22,
   "metadata": {},
   "outputs": [
    {
     "data": {
      "image/png": "[encoded data removed]",
      "text/plain": [
       "<Figure size 432x288 with 1 Axes>"
      ]
     },
     "metadata": {
      "needs_background": "light"
     },
     "output_type": "display_data"
    }
   ],
   "source": [
    "x_i = [0, 1, 2,4]\n",
    "y_i = [3,-2,1,-1]\n",
    "\n",
    "x_range = np.linspace(x_i[0], x_i[-1], 1000)\n",
    "y_range = [cubic_spline_curve(x_i, y_i, x,v=(30, 50)) for x in x_range]\n",
    "    \n",
    "plt.scatter(x_i, y_i)\n",
    "plt.plot(x_range, y_range)\n",
    "plt.show()"
   ]
  },
  {
   "cell_type": "code",
   "execution_count": 23,
   "metadata": {},
   "outputs": [
    {
     "data": {
      "text/plain": [
       "[<matplotlib.lines.Line2D at 0x7fd88081e590>,\n",
       " <matplotlib.lines.Line2D at 0x7fd88081e150>]"
      ]
     },
     "execution_count": 23,
     "metadata": {},
     "output_type": "execute_result"
    },
    {
     "data": {
      "image/png": "[encoded data removed]",
      "text/plain": [
       "<Figure size 432x288 with 1 Axes>"
      ]
     },
     "metadata": {
      "needs_background": "light"
     },
     "output_type": "display_data"
    }
   ],
   "source": [
    "x_range3 = np.linspace(x_i[0], x_i[-1], 1000)\n",
    "y_range3 = [cubic_spline(x_i, y_i, x) for x in x_range]\n",
    "    \n",
    "plt.plot(x_range3, y_range3,'r--',x_range, y_range,'b-')"
   ]
  },
  {
   "cell_type": "markdown",
   "metadata": {},
   "source": [
    "# 贝塞尔曲线"
   ]
  },
  {
   "cell_type": "code",
   "execution_count": 30,
   "metadata": {},
   "outputs": [],
   "source": [
    "def bezier(x_i, y_i, t):\n",
    "    bx = 3*(x_i[1] - x_i[0])\n",
    "    cx = 3*(x_i[2] - x_i[1]) - bx\n",
    "    dx = x_i[3] - x_i[0] - bx - cx\n",
    "    \n",
    "    by = 3*(y_i[1] - y_i[0])\n",
    "    cy = 3*(y_i[2] - y_i[1]) - by\n",
    "    dy = y_i[3] - y_i[0] - by - cy\n",
    "    \n",
    "    return (x_i[0] + bx*t + cx*t**2 + dx*t**3, y_i[0] + by*t + cy*t**2 + dy*t**3)"
   ]
  },
  {
   "cell_type": "code",
   "execution_count": 31,
   "metadata": {},
   "outputs": [],
   "source": [
    "def bezier2(x_i, y_i, t):\n",
    "    x1,x2,x3,x4=x_i\n",
    "    y1,y2,y3,y4=y_i\n",
    "    \n",
    "    bx = -10*(x1 - x2)\n",
    "    cx = 10*(x1 - 2*x2 + x3)\n",
    "    dx = -x1 + 10*x2 - 10*x3 + x4\n",
    "    \n",
    "    by = -10*(y1 - y2)\n",
    "    cy = -((-17*x3*y1 + 17*x4*y1 + 20*x3*y2 - 20*x4*y2 + 7*x1*y3 - 10*x3*y3 + 3*x4*y3 - 7*x1*y4 + 7*x3*y4)/(x3 - x4))\n",
    "    dy = -((8*x3*y1 - 8*x4*y1 - 10*x3*y2 + 10*x4*y2 - 7*x1*y3 + 10*x3*y3 - 3*x4*y3 + 7*x1*y4 - 8*x3*y4 + x4*y4)/(x3 - x4))\n",
    "    \n",
    "    return (x_i[0] + bx*t + cx*t**2 + dx*t**3, y_i[0] + by*t + cy*t**2 + dy*t**3)"
   ]
  },
  {
   "cell_type": "code",
   "execution_count": 36,
   "metadata": {},
   "outputs": [],
   "source": [
    "def bezier3(x_i, y_i, t):\n",
    "    x1,x2,x3,x4=x_i\n",
    "    y1,y2,y3,y4=y_i\n",
    "    \n",
    "    bx = -x1 + x2\n",
    "    cx = x1 - 2*x2 + x3\n",
    "    dx = -x1 + x2 - x3 + x4\n",
    "    \n",
    "    by = -y1 + y2\n",
    "    cy = -((x3*y1 - x4*y1 + 2*x3*y2 - 2*x4*y2 - 2*x1*y3 - x3*y3 + 3*x4*y3 + 2*x1*y4 - 2*x3*y4)/(x3 - x4))\n",
    "    dy = -((-(x3*y1) + x4*y1 - x3*y2 + x4*y2 + 2*x1*y3 + x3*y3 - 3*x4*y3 - 2*x1*y4 + x3*y4 + x4*y4)/(x3 - x4))\n",
    "    \n",
    "    return (x_i[0] + bx*t + cx*t**2 + dx*t**3, y_i[0] + by*t + cy*t**2 + dy*t**3)"
   ]
  },
  {
   "cell_type": "code",
   "execution_count": 38,
   "metadata": {},
   "outputs": [],
   "source": [
    "x_i = [1,2,3,2]\n",
    "y_i = [1,3,3,4]\n",
    "\n",
    "t_range = np.linspace(0, 1, 1001)\n",
    "t1 = np.zeros((1001, 2))\n",
    "t2 = np.zeros((1001, 2))\n",
    "t3 = np.zeros((1001, 2))\n",
    "\n",
    "for i in range(1001):\n",
    "    t1[i] = bezier(x_i, y_i, t_range[i])\n",
    "    t2[i] = bezier2(x_i, y_i, t_range[i])\n",
    "    t3[i] = bezier3(x_i, y_i, t_range[i])\n",
    "t1 = t1.T\n",
    "t2 = t2.T\n",
    "t3 = t3.T"
   ]
  },
  {
   "cell_type": "code",
   "execution_count": 39,
   "metadata": {},
   "outputs": [
    {
     "data": {
      "image/png": "[encoded data removed]",
      "text/plain": [
       "<Figure size 432x288 with 1 Axes>"
      ]
     },
     "metadata": {
      "needs_background": "light"
     },
     "output_type": "display_data"
    }
   ],
   "source": [
    "plt.scatter(x_i, y_i)\n",
    "plt.plot(t1[0],t1[1],'r-')\n",
    "plt.plot(t2[0],t2[1],'b--')\n",
    "plt.plot(t3[0],t3[1],'g--')\n",
    "plt.show()"
   ]
  },
  {
   "cell_type": "code",
   "execution_count": null,
   "metadata": {},
   "outputs": [],
   "source": []
  },
  {
   "cell_type": "code",
   "execution_count": null,
   "metadata": {},
   "outputs": [],
   "source": []
  }
 ],
 "metadata": {
  "kernelspec": {
   "display_name": "Python 3",
   "language": "python",
   "name": "python3"
  },
  "language_info": {
   "codemirror_mode": {
    "name": "ipython",
    "version": 3
   },
   "file_extension": ".py",
   "mimetype": "text/x-python",
   "name": "python",
   "nbconvert_exporter": "python",
   "pygments_lexer": "ipython3",
   "version": "3.7.6"
  }
 },
 "nbformat": 4,
 "nbformat_minor": 2
}
