{
 "cells": [
  {
   "cell_type": "code",
   "execution_count": null,
   "metadata": {},
   "outputs": [],
   "source": []
  },
  {
   "cell_type": "code",
   "execution_count": 46,
   "metadata": {},
   "outputs": [],
   "source": [
    "def conj_grad_method(A, b, initial_guess=0, iter_num=0):\n",
    "    n = len(A)\n",
    "    x = initial_guess * np.ones(n)\n",
    "    r = b - A.dot(x)\n",
    "    d = r\n",
    "    \n",
    "    if iter_num == 0:\n",
    "        iter_num = n\n",
    "\n",
    "    for i in range(iter_num):\n",
    "        print(\"At\", i, \"\\nx=\",x,\"\\nr=\",r,\"\\nd=\",d,\"\\nAd=\",A.dot(d),\"\\n\")\n",
    "        alpha = r.dot(r) / d.dot(A).dot(d)\n",
    "        x = x + alpha*d\n",
    "        beta = np.dot(r - alpha*A.dot(d), r - alpha*A.dot(d)) / r.dot(r)\n",
    "        r = r - alpha*A.dot(d)\n",
    "        d = r + beta*d\n",
    "        \n",
    "        if r.max() == 0:\n",
    "            break\n",
    "    \n",
    "    return x"
   ]
  },
  {
   "cell_type": "code",
   "execution_count": 49,
   "metadata": {},
   "outputs": [
    {
     "name": "stdout",
     "output_type": "stream",
     "text": [
      "A= [[ 1. -1.  0.]\n",
      " [-1.  2.  1.]\n",
      " [ 0.  1.  2.]]\n",
      "b= [0. 2. 3.]\n",
      "At 0 \n",
      "x= [0. 0. 0.] \n",
      "r= [0. 2. 3.] \n",
      "d= [0. 2. 3.] \n",
      "Ad= [-2.  7.  8.] \n",
      "\n",
      "At 1 \n",
      "x= [0.         0.68421053 1.02631579] \n",
      "r= [ 0.68421053 -0.39473684  0.26315789] \n",
      "d= [ 0.68421053 -0.28808864  0.42313019] \n",
      "Ad= [ 0.97229917 -0.83725762  0.55817175] \n",
      "\n",
      "At 2 \n",
      "x= [0.41509434 0.50943396 1.28301887] \n",
      "r= [ 0.09433962  0.11320755 -0.0754717 ] \n",
      "d= [ 0.12139551  0.10181559 -0.05873977] \n",
      "Ad= [ 0.01957992  0.02349591 -0.01566394] \n",
      "\n",
      "conj_grad:  [1. 1. 1.]\n"
     ]
    }
   ],
   "source": [
    "A=np.array([[1,-1,0],[-1,2,1],[0,1,2]],dtype=float)\n",
    "xr=np.ones(3)\n",
    "b=A.dot(xr)\n",
    "print(\"A=\",A)\n",
    "print(\"b=\",b)\n",
    "\n",
    "xb=conj_grad_method(A,b,0,3)\n",
    "print('conj_grad: ',xb)\n"
   ]
  },
  {
   "cell_type": "code",
   "execution_count": null,
   "metadata": {},
   "outputs": [],
   "source": []
  },
  {
   "cell_type": "code",
   "execution_count": null,
   "metadata": {},
   "outputs": [],
   "source": []
  },
  {
   "cell_type": "code",
   "execution_count": null,
   "metadata": {},
   "outputs": [],
   "source": []
  },
  {
   "cell_type": "code",
   "execution_count": 1,
   "metadata": {},
   "outputs": [],
   "source": [
    "def Gaussian_elimination(equation):\n",
    "    A = equation.copy()\n",
    "    m, n = A.shape\n",
    "\n",
    "    for i in range(m):\n",
    "        A[i] = A[i] / A[i, i]\n",
    "        for j in range(i+1, m):\n",
    "            A[j] -= A[j, i]*A[i]\n",
    "\n",
    "    for i in range(m-1, 0, -1):\n",
    "        for j in range(i):\n",
    "            A[j] -= A[j, i]*A[i]\n",
    "            \n",
    "    return A"
   ]
  },
  {
   "cell_type": "markdown",
   "metadata": {},
   "source": [
    "# 牛顿法"
   ]
  },
  {
   "cell_type": "code",
   "execution_count": 59,
   "metadata": {},
   "outputs": [],
   "source": [
    "def Newton_Method(F, DF, x, iter_num=10**4):\n",
    "    for i in range(iter_num):\n",
    "        s = np.linalg.inv(DF(x)).dot(F(x))\n",
    "        print('At',i,'x=',x, 'norm=',np.linalg.norm(s, ord=np.inf, keepdims=False))\n",
    "        x -= s\n",
    "    return x"
   ]
  },
  {
   "cell_type": "code",
   "execution_count": 60,
   "metadata": {},
   "outputs": [],
   "source": [
    "def Newton_Method2(F, DF, x, iter_num=10**4):\n",
    "    for i in range(iter_num):\n",
    "        A = np.insert(np.array(F(x), dtype=float).reshape(-1, 1), [0], DF(x), axis=1)\n",
    "        s = Gaussian_elimination(A)[:, -1]\n",
    "        print('At',i,'x=',x)\n",
    "        x -= s\n",
    "    return x"
   ]
  },
  {
   "cell_type": "markdown",
   "metadata": {},
   "source": [
    "# 例1"
   ]
  },
  {
   "cell_type": "code",
   "execution_count": 3,
   "metadata": {},
   "outputs": [],
   "source": [
    "import numpy as np\n",
    "def F(x):\n",
    "    u, v = x\n",
    "    f1 = v-u**3\n",
    "    f2 = u**2+v**2-1\n",
    "    \n",
    "    return np.array([f1, f2]) \n",
    "\n",
    "def DF(x):\n",
    "    u, v = x\n",
    "    df1 = (-3*u**2, 1)\n",
    "    df2 = (2*u , 2*v)\n",
    "    \n",
    "    return np.array([df1, df2])"
   ]
  },
  {
   "cell_type": "code",
   "execution_count": 4,
   "metadata": {},
   "outputs": [],
   "source": [
    "import numpy as np\n",
    "x0=np.array([1, 2],dtype=float)"
   ]
  },
  {
   "cell_type": "code",
   "execution_count": 5,
   "metadata": {},
   "outputs": [
    {
     "name": "stdout",
     "output_type": "stream",
     "text": [
      "At 0 x= [1. 2.] norm= 1.0\n",
      "At 1 x= [1. 1.] norm= 0.375\n",
      "At 2 x= [0.875 0.625] norm= 0.06065088757396449\n",
      "At 3 x= [0.82903635 0.56434911] norm= 0.0029962400964652037\n",
      "At 4 x= [0.82604011 0.56361977] norm= 8.750438242508192e-06\n",
      "At 5 x= [0.82603136 0.56362416] norm= 7.822279958384407e-11\n",
      "At 6 x= [0.82603136 0.56362416] norm= 4.632272209439611e-17\n",
      "At 7 x= [0.82603136 0.56362416] norm= 4.632272209439611e-17\n",
      "At 8 x= [0.82603136 0.56362416] norm= 4.632272209439611e-17\n",
      "At 9 x= [0.82603136 0.56362416] norm= 4.632272209439611e-17\n",
      "[0.82603136 0.56362416]\n"
     ]
    }
   ],
   "source": [
    "x = Newton_Method(F, DF, x0,10)\n",
    "print(x)"
   ]
  },
  {
   "cell_type": "code",
   "execution_count": 6,
   "metadata": {},
   "outputs": [
    {
     "name": "stdout",
     "output_type": "stream",
     "text": [
      "x0:  [1. 2.]\n",
      "F(x):  [1. 4.]\n"
     ]
    }
   ],
   "source": [
    "x0=np.array([1, 2],dtype=float)\n",
    "print('x0: ',x0)\n",
    "print('F(x): ',F(x0))"
   ]
  },
  {
   "cell_type": "code",
   "execution_count": 14,
   "metadata": {},
   "outputs": [
    {
     "data": {
      "text/plain": [
       "array([[1.],\n",
       "       [4.]])"
      ]
     },
     "execution_count": 14,
     "metadata": {},
     "output_type": "execute_result"
    }
   ],
   "source": [
    "np.array(F(x0), dtype=float).reshape(-1, 1) #任意行 一列"
   ]
  },
  {
   "cell_type": "code",
   "execution_count": 15,
   "metadata": {},
   "outputs": [
    {
     "data": {
      "text/plain": [
       "array([[-3.,  1.],\n",
       "       [ 2.,  4.]])"
      ]
     },
     "execution_count": 15,
     "metadata": {},
     "output_type": "execute_result"
    }
   ],
   "source": [
    "DF(x0)"
   ]
  },
  {
   "cell_type": "code",
   "execution_count": 16,
   "metadata": {},
   "outputs": [
    {
     "data": {
      "text/plain": [
       "array([[ 1., -3.,  1.],\n",
       "       [ 4.,  2.,  4.]])"
      ]
     },
     "execution_count": 16,
     "metadata": {},
     "output_type": "execute_result"
    }
   ],
   "source": [
    "np.insert(np.array(F(x0), dtype=float).reshape(-1, 1), [1], DF(x0), axis=1)"
   ]
  },
  {
   "cell_type": "code",
   "execution_count": 17,
   "metadata": {},
   "outputs": [
    {
     "name": "stdout",
     "output_type": "stream",
     "text": [
      "At 0 x= [1. 2.]\n",
      "At 1 x= [1. 1.]\n",
      "At 2 x= [0.875 0.625]\n",
      "At 3 x= [0.82903635 0.56434911]\n",
      "At 4 x= [0.82604011 0.56361977]\n",
      "At 5 x= [0.82603136 0.56362416]\n",
      "At 6 x= [0.82603136 0.56362416]\n",
      "At 7 x= [0.82603136 0.56362416]\n",
      "At 8 x= [0.82603136 0.56362416]\n",
      "At 9 x= [0.82603136 0.56362416]\n",
      "[0.82603136 0.56362416]\n"
     ]
    }
   ],
   "source": [
    "x = Newton_Method2(F, DF, x0,10)\n",
    "print(x)"
   ]
  },
  {
   "cell_type": "markdown",
   "metadata": {},
   "source": [
    "# 例2 多根情况"
   ]
  },
  {
   "cell_type": "code",
   "execution_count": null,
   "metadata": {},
   "outputs": [],
   "source": []
  },
  {
   "cell_type": "code",
   "execution_count": 66,
   "metadata": {},
   "outputs": [],
   "source": [
    "import numpy as np\n",
    "def F(x):\n",
    "    u, v = x\n",
    "    f1 = 6*u**3+u*v-3*v**3-4\n",
    "    f2 = u**2-18*u*v**2+16*v**3+1\n",
    "    \n",
    "    return np.array([f1, f2]) \n",
    "\n",
    "def DF(x):\n",
    "    u, v = x\n",
    "    df1 = (18*u**2+v, u-9*v**2)\n",
    "    df2 = (2*u-18*v**2 , -36*u*v+48*v**2)\n",
    "    \n",
    "    return np.array([df1, df2])\n",
    "\n",
    "x0=np.array([2, 2],dtype=float)\n",
    "x1=np.array([1, -1],dtype=float)\n",
    "x2=np.array([-1, 1],dtype=float)\n",
    "x3=np.array([complex(-1,-1), complex(-1,-1)])"
   ]
  },
  {
   "cell_type": "code",
   "execution_count": 62,
   "metadata": {},
   "outputs": [
    {
     "name": "stdout",
     "output_type": "stream",
     "text": [
      "At 0 x= [2. 2.] norm= 0.6596774193548389\n",
      "At 1 x= [1.37258065 1.34032258] norm= 0.2941938331568622\n",
      "At 2 x= [1.07838681 1.05380123] norm= 0.07303712303922415\n",
      "At 3 x= [1.00534969 1.00269262] norm= 0.005316010300139878\n",
      "At 4 x= [1.00003368 1.00002244] norm= 3.36775454921177e-05\n",
      "At 5 x= [1. 1.] norm= 1.1195720588027824e-09\n",
      "At 6 x= [1. 1.] norm= 0.0\n",
      "At 7 x= [1. 1.] norm= 0.0\n",
      "At 8 x= [1. 1.] norm= 0.0\n",
      "At 9 x= [1. 1.] norm= 0.0\n",
      "[1. 1.]\n"
     ]
    }
   ],
   "source": [
    "x = Newton_Method(F, DF, x0,10)\n",
    "print(x)"
   ]
  },
  {
   "cell_type": "code",
   "execution_count": 63,
   "metadata": {},
   "outputs": [
    {
     "name": "stdout",
     "output_type": "stream",
     "text": [
      "At 0 x= [ 1. -1.] norm= 0.36923076923076925\n",
      "At 1 x= [ 0.93846154 -0.63076923] norm= 0.2144002353326956\n",
      "At 2 x= [ 0.90210035 -0.416369  ] norm= 0.09794428732239696\n",
      "At 3 x= [ 0.88937014 -0.31842471] norm= 0.023149454532921648\n",
      "At 4 x= [ 0.88692997 -0.29527525] norm= 0.0012645281446828328\n",
      "At 5 x= [ 0.88680976 -0.29401073] norm= 3.6815035595844707e-06\n",
      "At 6 x= [ 0.88680942 -0.29400704] norm= 3.11338128773404e-11\n",
      "At 7 x= [ 0.88680942 -0.29400704] norm= 2.4610310083102583e-17\n",
      "At 8 x= [ 0.88680942 -0.29400704] norm= 2.4610310083102583e-17\n",
      "At 9 x= [ 0.88680942 -0.29400704] norm= 2.4610310083102583e-17\n",
      "[ 0.88680942 -0.29400704]\n"
     ]
    }
   ],
   "source": [
    "x = Newton_Method(F, DF, x1,10)\n",
    "print(x)"
   ]
  },
  {
   "cell_type": "code",
   "execution_count": 64,
   "metadata": {},
   "outputs": [
    {
     "name": "stdout",
     "output_type": "stream",
     "text": [
      "At 0 x= [-1.  1.] norm= 0.5845272206303724\n",
      "At 1 x= [-0.41547278  0.71060172] norm= 1.7790437804563934\n",
      "At 2 x= [1.363571   0.91017182] norm= 0.341468858221965\n",
      "At 3 x= [1.02210214 0.65607373] norm= 0.162755217467232\n",
      "At 4 x= [0.88365647 0.49331851] norm= 0.03070636067685037\n",
      "At 5 x= [0.86606776 0.46261215] norm= 0.000444299003436542\n",
      "At 6 x= [0.86593888 0.46216785] norm= 6.757743558674019e-08\n",
      "At 7 x= [0.86593892 0.46216792] norm= 3.0226440603995823e-15\n",
      "At 8 x= [0.86593892 0.46216792] norm= 6.12674962712547e-17\n",
      "At 9 x= [0.86593892 0.46216792] norm= 1.6524045275529335e-16\n",
      "[0.86593892 0.46216792]\n"
     ]
    }
   ],
   "source": [
    "x = Newton_Method(F, DF, x2,10)\n",
    "print(x)"
   ]
  },
  {
   "cell_type": "code",
   "execution_count": 67,
   "metadata": {},
   "outputs": [
    {
     "name": "stdout",
     "output_type": "stream",
     "text": [
      "At 0 x= [-1.-1.j -1.-1.j] norm= 0.4270562599708941\n",
      "At 1 x= [-1.11557377-0.92868852j -1.42704918-1.00245902j] norm= 0.23663144035999237\n",
      "At 2 x= [-0.99683777-0.96087163j -1.19250819-1.03384312j] norm= 0.07383633094621761\n",
      "At 3 x= [-0.9880023 -0.99738549j -1.15815415-1.09920063j] norm= 0.006596769152729591\n",
      "At 4 x= [-0.99124295-0.99733069j -1.16457809-1.10070077j] norm= 5.467667775877452e-05\n",
      "At 5 x= [-0.99121901-0.99734269j -1.16452488-1.10071337j] norm= 3.768412743152707e-09\n",
      "At 6 x= [-0.99121901-0.99734269j -1.16452488-1.10071338j] norm= 9.212308244384748e-16\n",
      "At 7 x= [-0.99121901-0.99734269j -1.16452488-1.10071338j] norm= 7.945059005890909e-16\n",
      "At 8 x= [-0.99121901-0.99734269j -1.16452488-1.10071338j] norm= 4.941403475726043e-16\n",
      "At 9 x= [-0.99121901-0.99734269j -1.16452488-1.10071338j] norm= 1.2770919580131549e-15\n",
      "[-0.99121901-0.99734269j -1.16452488-1.10071338j]\n"
     ]
    }
   ],
   "source": [
    "x = Newton_Method(F, DF, x3,10)\n",
    "print(x)"
   ]
  },
  {
   "cell_type": "code",
   "execution_count": null,
   "metadata": {},
   "outputs": [],
   "source": []
  },
  {
   "cell_type": "markdown",
   "metadata": {},
   "source": [
    "# Broyden 法"
   ]
  },
  {
   "cell_type": "code",
   "execution_count": 73,
   "metadata": {},
   "outputs": [],
   "source": [
    "def Broyden_Method_I(F, x, A, iter_num=10**4):\n",
    "    x = np.array(x, dtype=float)\n",
    "    n = len(x)\n",
    "    \n",
    "    for i in range(iter_num):\n",
    "        d_i = -np.linalg.inv(A).dot(F(x))\n",
    "        D_i = F(x + d_i) - F(x)\n",
    "        A += (D_i - A.dot(d_i)).reshape(n, 1).dot(d_i.reshape(1, n)) / d_i.dot(d_i)\n",
    "        print('At',i,'x=',x, 'norm=',np.linalg.norm(d_i, ord=np.inf, keepdims=False))\n",
    "        x += d_i\n",
    "        \n",
    "    return x   "
   ]
  },
  {
   "cell_type": "code",
   "execution_count": 74,
   "metadata": {},
   "outputs": [],
   "source": [
    "def F(x):\n",
    "    u, v = x\n",
    "    f1 = u**3 - v**3 + u\n",
    "    f2 = u**2 + v**2 - 1\n",
    "    \n",
    "    return np.array([f1, f2])"
   ]
  },
  {
   "cell_type": "code",
   "execution_count": 75,
   "metadata": {},
   "outputs": [
    {
     "name": "stdout",
     "output_type": "stream",
     "text": [
      "At 0 x= [1. 1.] norm= 1.0\n",
      "At 1 x= [0. 0.] norm= 0.6666666666666666\n",
      "At 2 x= [0.         0.66666667] norm= 0.4999999999999999\n",
      "At 3 x= [0.5   1.125] norm= 0.6221547440605979\n",
      "At 4 x= [0.70627827 0.50284526] norm= 0.30657464769023235\n",
      "At 5 x= [0.46849588 0.8094199 ] norm= 0.07436158658636592\n",
      "At 6 x= [0.54285747 0.84105596] norm= 0.031519339021486924\n",
      "At 7 x= [0.51133813 0.86776471] norm= 0.007324002831841049\n",
      "At 8 x= [0.50760711 0.86044071] norm= 0.0009151173473065652\n",
      "At 9 x= [0.50799393 0.86135582] norm= 5.89896712807776e-06\n",
      "At 10 x= [0.50799205 0.86136172] norm= 6.265120395279732e-08\n",
      "At 11 x= [0.507992   0.86136179] norm= 3.6019390897823303e-10\n",
      "At 12 x= [0.507992   0.86136179] norm= 1.3691807129468507e-13\n",
      "At 13 x= [0.507992   0.86136179] norm= 3.5811869840542484e-17\n",
      "At 14 x= [0.507992   0.86136179] norm= 0.3587657550936198\n",
      "At 15 x= [0.14922625 1.07184349] norm= 0.35876575509361974\n",
      "At 16 x= [0.507992   0.86136179] norm= 5.583973317945365e-17\n",
      "At 17 x= [0.507992   0.86136179] norm= 3.770832098432228e-17\n",
      "At 18 x= [0.507992   0.86136179] norm= 0.25912823906720495\n",
      "At 19 x= [0.24886376 0.94914616] norm= 0.259128239067205\n",
      "At 20 x= [0.507992   0.86136179] norm= 4.685106493038583e-17\n",
      "At 21 x= [0.507992   0.86136179] norm= 0.7819037924027739\n",
      "At 22 x= [1.28989579 1.52222138] norm= 0.781903792402774\n",
      "At 23 x= [0.507992   0.86136179] norm= 1.1268192580663925e-16\n",
      "At 24 x= [0.507992   0.86136179] norm= 3.7577810794539476e-17\n",
      "At 25 x= [0.507992   0.86136179] norm= 1.721182103159737\n",
      "At 26 x= [ 2.2291741  -0.21593444] norm= 1.721182103159737\n",
      "At 27 x= [0.507992   0.86136179] norm= 1.1861888338479539e-16\n",
      "At 28 x= [0.507992   0.86136179] norm= 1.4623861287217764e-16\n",
      "At 29 x= [0.507992   0.86136179] norm= 4.874620429072588e-17\n",
      "At 30 x= [0.507992   0.86136179] norm= 0.679271956937086\n",
      "At 31 x= [0.19038335 1.54063374] norm= 0.679271956937086\n",
      "At 32 x= [0.507992   0.86136179] norm= 9.490433112100871e-17\n",
      "At 33 x= [0.507992   0.86136179] norm= 1.0677146777961756e-16\n",
      "At 34 x= [0.507992   0.86136179] norm= 1.407229590767581e-17\n",
      "At 35 x= [0.507992   0.86136179] norm= 26.83769978902472\n",
      "At 36 x= [ 27.18891817 -25.976338  ] norm= 26.837699789024725\n",
      "At 37 x= [0.507992   0.86136179] norm= 2.0522512629530288e-14\n",
      "At 38 x= [0.507992   0.86136179] norm= 2.3784112576370083e-15\n",
      "At 39 x= [0.507992   0.86136179] norm= 8.078260022026577e-17\n",
      "At 40 x= [0.507992   0.86136179] norm= 1.1874276787591312e-12\n",
      "At 41 x= [0.507992   0.86136179] norm= 1.176155137783181e-12\n",
      "At 42 x= [0.507992   0.86136179] norm= 1.4653198555092504e-14\n",
      "At 43 x= [0.507992   0.86136179] norm= 6.700243016722982e-14\n",
      "At 44 x= [0.507992   0.86136179] norm= 7.481304162893307e-15\n",
      "At 45 x= [0.507992   0.86136179] norm= 2.4679173760329855e-15\n",
      "At 46 x= [0.507992   0.86136179] norm= 2.4686104739575416e-15\n",
      "At 47 x= [0.507992   0.86136179] norm= 8.250719425819017e-16\n",
      "At 48 x= [0.507992   0.86136179] norm= 5.5349768983882224e-14\n",
      "At 49 x= [0.507992   0.86136179] norm= 5.4918291758428664e-14\n",
      "[0.507992   0.86136179]\n"
     ]
    }
   ],
   "source": [
    "x_0 = (1, 1)\n",
    "A = np.identity(2)\n",
    "x = Broyden_Method_I(F, x_0, A, 50)\n",
    "print(x)"
   ]
  },
  {
   "cell_type": "code",
   "execution_count": 71,
   "metadata": {},
   "outputs": [],
   "source": [
    "def Broyden_Method_II(F, x, B, iter_num=10**4):\n",
    "    x = np.array(x, dtype=float)\n",
    "    n = len(x)\n",
    "    \n",
    "    for i in range(iter_num):\n",
    "        d_i = -B.dot(F(x))\n",
    "        D_i = F(x + d_i) - F(x)\n",
    "        B += (d_i - B.dot(D_i)).reshape(n, 1).dot(d_i.reshape(1, n)).dot(B) / d_i.dot(B).dot(D_i)\n",
    "        print('At',i,'x=',x, 'norm=',np.linalg.norm(d_i, ord=np.inf, keepdims=False))\n",
    "        x += d_i\n",
    "        \n",
    "    return x"
   ]
  },
  {
   "cell_type": "code",
   "execution_count": 72,
   "metadata": {},
   "outputs": [
    {
     "name": "stdout",
     "output_type": "stream",
     "text": [
      "At 0 x= [1. 2.] norm= 6.0\n",
      "At 1 x= [ 7. -2.] norm= 9.345381526104383\n",
      "At 2 x= [-2.34538153 -3.35742972] norm= 64.84242623905592\n",
      "At 3 x= [42.35646787 61.48499652] norm= 63.56376337741125\n",
      "At 4 x= [-4.28029123 -2.07876686] norm= 2.2541919548227995\n",
      "At 5 x= [-6.53448318 -0.64937427] norm= 5.615299073445127\n",
      "At 6 x= [-0.91918411 -4.06946509] norm= 8.039544118763661\n",
      "At 7 x= [ 7.12036001 -8.63661313] norm= 9.11959616373572\n",
      "At 8 x= [-1.99923615 -3.49046671] norm= 1.0556587242329574\n",
      "At 9 x= [-3.05489488 -2.94027651] norm= 40.565993331479525\n",
      "[ 37.51109845 -23.25071901]\n"
     ]
    }
   ],
   "source": [
    "x_0 = (1, 2)\n",
    "A = np.identity(2)\n",
    "x = Broyden_Method_II(F, x_0, A, 10)\n",
    "print(x)"
   ]
  },
  {
   "cell_type": "markdown",
   "metadata": {},
   "source": [
    "# 总结"
   ]
  },
  {
   "cell_type": "code",
   "execution_count": 76,
   "metadata": {},
   "outputs": [],
   "source": [
    "def Newton_Method(F, DF, x, iter_num=10**4):\n",
    "    for i in range(iter_num):\n",
    "        s = np.linalg.inv(DF(x)).dot(F(x))\n",
    "        print('At',i,'x=',x, 'norm=',np.linalg.norm(s, ord=np.inf, keepdims=False))\n",
    "        x -= s\n",
    "    return x\n",
    "\n",
    "def Broyden_Method_I(F, x, A, iter_num=10**4):\n",
    "    x = np.array(x, dtype=float)\n",
    "    n = len(x)\n",
    "    \n",
    "    for i in range(iter_num):\n",
    "        d_i = -np.linalg.inv(A).dot(F(x))\n",
    "        D_i = F(x + d_i) - F(x)\n",
    "        A += (D_i - A.dot(d_i)).reshape(n, 1).dot(d_i.reshape(1, n)) / d_i.dot(d_i)\n",
    "        print('At',i,'x=',x, 'norm=',np.linalg.norm(d_i, ord=np.inf, keepdims=False))\n",
    "        x += d_i\n",
    "        \n",
    "    return x \n",
    "\n",
    "def Broyden_Method_II(F, x, B, iter_num=10**4):\n",
    "    x = np.array(x, dtype=float)\n",
    "    n = len(x)\n",
    "    \n",
    "    for i in range(iter_num):\n",
    "        d_i = -B.dot(F(x))\n",
    "        D_i = F(x + d_i) - F(x)\n",
    "        B += (d_i - B.dot(D_i)).reshape(n, 1).dot(d_i.reshape(1, n)).dot(B) / d_i.dot(B).dot(D_i)\n",
    "        print('At',i,'x=',x, 'norm=',np.linalg.norm(d_i, ord=np.inf, keepdims=False))\n",
    "        x += d_i\n",
    "        \n",
    "    return x"
   ]
  },
  {
   "cell_type": "code",
   "execution_count": 77,
   "metadata": {},
   "outputs": [],
   "source": [
    "import numpy as np\n",
    "def F(x):\n",
    "    u, v = x\n",
    "    f1 = u**2+v**2-1\n",
    "    f2 = (u-1)**2+v**2-1\n",
    "    \n",
    "    return np.array([f1, f2]) \n",
    "\n",
    "def DF(x):\n",
    "    u, v = x\n",
    "    df1 = (2*u, 2*v)\n",
    "    df2 = (2*(u-1) , 2*v)\n",
    "    \n",
    "    return np.array([df1, df2])\n",
    "\n",
    "x_0 = (1, 1)\n",
    "x_1 = (0, -1)\n",
    "A = np.identity(2)\n",
    "B = np.identity(2)"
   ]
  },
  {
   "cell_type": "code",
   "execution_count": 84,
   "metadata": {},
   "outputs": [
    {
     "name": "stdout",
     "output_type": "stream",
     "text": [
      "At 0 x= (1, 1) norm= 0.5\n",
      "At 1 x= [0.5 1. ] norm= 0.125\n",
      "At 2 x= [0.5   0.875] norm= 0.008928571428571428\n",
      "At 3 x= [0.5        0.86607143] norm= 4.602356406479071e-05\n",
      "At 4 x= [0.5        0.86602541] norm= 1.2229251689478724e-09\n",
      "At 5 x= [0.5       0.8660254] norm= 6.409875621278547e-17\n",
      "At 6 x= [0.5       0.8660254] norm= 0.0\n",
      "At 7 x= [0.5       0.8660254] norm= 0.0\n",
      "At 8 x= [0.5       0.8660254] norm= 0.0\n",
      "At 9 x= [0.5       0.8660254] norm= 0.0\n",
      "[0.5       0.8660254]\n"
     ]
    }
   ],
   "source": [
    "x = Newton_Method(F, DF, x_0,10)\n",
    "print(x)"
   ]
  },
  {
   "cell_type": "code",
   "execution_count": 83,
   "metadata": {},
   "outputs": [
    {
     "name": "stdout",
     "output_type": "stream",
     "text": [
      "At 0 x= [1. 1.] norm= 0.4900472323315072\n",
      "At 1 x= [0.50995277 1.37493869] norm= 2.0555608287226352\n",
      "At 2 x= [0.48441772 3.43049952] norm= 2.2977703356460655\n",
      "At 3 x= [0.50007666 1.13272919] norm= 0.11716275817172388\n",
      "At 4 x= [0.50000518 1.01556643] norm= 0.13091327146728443\n",
      "At 5 x= [0.49999956 0.88465316] norm= 0.017160692565920746\n",
      "At 6 x= [0.49999999 0.86749247] norm= 0.0014514953006824578\n",
      "At 7 x= [0.5        0.86604097] norm= 1.5553306702430456e-05\n",
      "At 8 x= [0.5        0.86602542] norm= 1.291154931761529e-08\n",
      "At 9 x= [0.5       0.8660254] norm= 1.2824567231273286e-12\n",
      "[0.5       0.8660254]\n"
     ]
    }
   ],
   "source": [
    "x = Broyden_Method_I(F, x_0, A, 10)\n",
    "print(x)"
   ]
  },
  {
   "cell_type": "code",
   "execution_count": 82,
   "metadata": {},
   "outputs": [
    {
     "name": "stdout",
     "output_type": "stream",
     "text": [
      "At 0 x= [1. 1.] norm= 0.5\n",
      "At 1 x= [0.5        1.13421889] norm= 0.36461762171152073\n",
      "At 2 x= [0.5        1.49883651] norm= 0.5683552587380912\n",
      "At 3 x= [0.5        0.93048125] norm= 0.04766579297795012\n",
      "At 4 x= [0.5        0.88281546] norm= 0.01619323070153402\n",
      "At 5 x= [0.5        0.86662223] norm= 0.0005910950199320726\n",
      "At 6 x= [0.5        0.86603113] norm= 5.72597588437614e-06\n",
      "At 7 x= [0.5        0.86602541] norm= 1.9730203646731757e-09\n",
      "At 8 x= [0.5       0.8660254] norm= 6.40987524059745e-15\n",
      "At 9 x= [0.5       0.8660254] norm= 0.0\n",
      "[0.5       0.8660254]\n"
     ]
    },
    {
     "name": "stderr",
     "output_type": "stream",
     "text": [
      "/Users/jinmianli/opt/anaconda3/lib/python3.7/site-packages/ipykernel_launcher.py:28: RuntimeWarning: invalid value encountered in true_divide\n"
     ]
    }
   ],
   "source": [
    "x = Broyden_Method_II(F, x_0, B, 10)\n",
    "print(x)"
   ]
  },
  {
   "cell_type": "code",
   "execution_count": null,
   "metadata": {},
   "outputs": [],
   "source": []
  }
 ],
 "metadata": {
  "kernelspec": {
   "display_name": "Python 3",
   "language": "python",
   "name": "python3"
  },
  "language_info": {
   "codemirror_mode": {
    "name": "ipython",
    "version": 3
   },
   "file_extension": ".py",
   "mimetype": "text/x-python",
   "name": "python",
   "nbconvert_exporter": "python",
   "pygments_lexer": "ipython3",
   "version": "3.7.6"
  }
 },
 "nbformat": 4,
 "nbformat_minor": 2
}