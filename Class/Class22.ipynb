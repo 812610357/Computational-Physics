{
 "cells": [
  {
   "cell_type": "code",
   "execution_count": 1,
   "metadata": {},
   "outputs": [],
   "source": [
    "import numpy as np\n",
    "import matplotlib.pyplot as plt\n",
    "\n",
    "%matplotlib inline\n",
    "\n",
    "pi = np.pi\n",
    "exp = np.exp\n",
    "log = np.log\n",
    "sqrt = np.sqrt\n",
    "sin = np.sin\n",
    "cos = np.cos"
   ]
  },
  {
   "cell_type": "code",
   "execution_count": 2,
   "metadata": {},
   "outputs": [
    {
     "data": {
      "text/plain": [
       "{w0: -a/6 + b/6, w1: -2*a/3 + 2*b/3, w2: -a/6 + b/6}"
      ]
     },
     "execution_count": 2,
     "metadata": {},
     "output_type": "execute_result"
    }
   ],
   "source": [
    "from sympy import var, solve\n",
    "a,b=var(\"a,b\")\n",
    "w0,w1,w2=var(\"w0,w1,w2\")\n",
    "eq1=w0+w1+w2\n",
    "eq2=a*w0+(a+b)*w1/2+b*w2\n",
    "eq3=a**2*w0+(a+b)**2*w1/4+b**2*w2\n",
    "solve([eq1-b+a,eq2-b**2/2+a**2/2, eq3-b**3/3+a**3/3],[w0,w1,w2])"
   ]
  },
  {
   "cell_type": "markdown",
   "metadata": {},
   "source": [
    "# 例1"
   ]
  },
  {
   "cell_type": "code",
   "execution_count": 3,
   "metadata": {},
   "outputs": [
    {
     "name": "stdout",
     "output_type": "stream",
     "text": [
      "0.38629436111989063\n",
      "4.288728939981675e-15\n"
     ]
    }
   ],
   "source": [
    "from scipy import integrate\n",
    "def f(x):\n",
    "    return log(x)\n",
    "v, err = integrate.quad(f, 1, 2)\n",
    "print(v)\n",
    "print(err)"
   ]
  },
  {
   "cell_type": "code",
   "execution_count": 4,
   "metadata": {},
   "outputs": [
    {
     "name": "stdout",
     "output_type": "stream",
     "text": [
      "0.34657359027997264\n",
      "0.08333333333333333\n"
     ]
    }
   ],
   "source": [
    "trap=(2-1)/2*(f(1)+f(2))\n",
    "print(trap)\n",
    "c=1\n",
    "errtrap=(2-1)**3*(-1/c**2)/12.0\n",
    "print(np.abs(errtrap))"
   ]
  },
  {
   "cell_type": "code",
   "execution_count": 5,
   "metadata": {},
   "outputs": [
    {
     "name": "stdout",
     "output_type": "stream",
     "text": [
      "0.3858346021654338\n",
      "-0.0020833333333333333\n"
     ]
    }
   ],
   "source": [
    "simp=(2-1)*(log(1)+4*log(1.5)+log(2))/6\n",
    "print(simp)\n",
    "c=1\n",
    "errsimp=((2-1)/2)**5*(-6/c**4)/90\n",
    "print(errsimp)"
   ]
  },
  {
   "cell_type": "markdown",
   "metadata": {},
   "source": [
    "# 复合积分"
   ]
  },
  {
   "cell_type": "code",
   "execution_count": 6,
   "metadata": {},
   "outputs": [],
   "source": [
    "def trapezoid_rule(f, a, b, m=1):\n",
    "    x_range = np.linspace(a, b, m+1)\n",
    "    y_range = f(x_range)\n",
    "    h = (b - a)/m\n",
    "    \n",
    "    return (y_range[0] + y_range[-1] + 2*y_range[1:-1].sum())*h/2   "
   ]
  },
  {
   "cell_type": "code",
   "execution_count": 7,
   "metadata": {},
   "outputs": [],
   "source": [
    "def simpson_rule(f, a, b, m=1):\n",
    "    x_range = np.linspace(a, b, 2*m + 1)\n",
    "    y_range = f(x_range)0\n",
    "    h = (b - a)/(2*m)\n",
    "    \n",
    "    return (y_range[0] + y_range[-1] + 4*y_range[1::2].sum() + 2*y_range[2:-1:2].sum())*h/3"
   ]
  },
  {
   "cell_type": "code",
   "execution_count": null,
   "metadata": {},
   "outputs": [],
   "source": []
  },
  {
   "cell_type": "markdown",
   "metadata": {},
   "source": []
  },
  {
   "cell_type": "code",
   "execution_count": 8,
   "metadata": {},
   "outputs": [
    {
     "name": "stdout",
     "output_type": "stream",
     "text": [
      "[0 1 2 3 4 5 6 7 8 9]\n",
      "[1 2 3 4 5 6 7 8 9]\n",
      "[1 3 5 7]\n",
      "[2 4 6 8]\n"
     ]
    }
   ],
   "source": [
    "x=np.arange(10)\n",
    "print(x)\n",
    "print(x[1:])\n",
    "print(x[1:-1:2])\n",
    "print(x[2::2])"
   ]
  },
  {
   "cell_type": "markdown",
   "metadata": {},
   "source": [
    "# 例2"
   ]
  },
  {
   "cell_type": "code",
   "execution_count": 9,
   "metadata": {},
   "outputs": [
    {
     "name": "stdout",
     "output_type": "stream",
     "text": [
      "0.38629436111989063\n",
      "4.288728939981675e-15\n"
     ]
    }
   ],
   "source": [
    "from scipy import integrate\n",
    "def f(x):\n",
    "    return log(x)\n",
    "v, err = integrate.quad(f, 1, 2)\n",
    "print(v)\n",
    "print(err)"
   ]
  },
  {
   "cell_type": "code",
   "execution_count": 10,
   "metadata": {},
   "outputs": [
    {
     "name": "stdout",
     "output_type": "stream",
     "text": [
      "0.34657359027997264\n",
      "-0.039720770839917985\n",
      "0\n",
      "1\n",
      "2\n",
      "3\n",
      "4\n",
      "5\n",
      "6\n",
      "7\n",
      "8\n"
     ]
    }
   ],
   "source": [
    "def f(x):\n",
    "    return log(x)\n",
    "a=1\n",
    "b=2\n",
    "m=1\n",
    "err=np.ones(16)\n",
    "dm=np.ones(16)\n",
    "intf = trapezoid_rule(f, a, b, m)\n",
    "print(intf)\n",
    "print(intf-v)\n",
    "for i in range(9):\n",
    "    print(i)\n",
    "    m=10**i\n",
    "    dm[i]=m\n",
    "    intf = trapezoid_rule(f, a, b, m)\n",
    "    err[i]=np.abs(intf-v)"
   ]
  },
  {
   "cell_type": "code",
   "execution_count": 11,
   "metadata": {},
   "outputs": [
    {
     "data": {
      "text/plain": [
       "<matplotlib.collections.PathCollection at 0x7fa40fc2c690>"
      ]
     },
     "execution_count": 11,
     "metadata": {},
     "output_type": "execute_result"
    },
    {
     "data": {
      "image/png": "[encoded data removed]",
      "text/plain": [
       "<Figure size 432x288 with 1 Axes>"
      ]
     },
     "metadata": {
      "needs_background": "light"
     },
     "output_type": "display_data"
    }
   ],
   "source": [
    "plt.xscale(\"log\")\n",
    "plt.yscale(\"log\")\n",
    "plt.scatter(dm,err)"
   ]
  },
  {
   "cell_type": "code",
   "execution_count": 7,
   "metadata": {},
   "outputs": [
    {
     "name": "stdout",
     "output_type": "stream",
     "text": [
      "0.3862920434663129\n",
      "-2.3176535777214013e-06\n",
      "0.3858346021654338\n",
      "-0.0004597589544568237\n",
      "0\n",
      "1\n",
      "2\n",
      "3\n",
      "4\n",
      "5\n",
      "6\n",
      "7\n",
      "8\n"
     ]
    }
   ],
   "source": [
    "def f(x):\n",
    "    return log(x)\n",
    "a=1\n",
    "b=2\n",
    "m=4\n",
    "intf = simpson_rule(f, a, b, m)\n",
    "print(intf)\n",
    "print(intf-v)\n",
    "m=1\n",
    "err=np.ones(10)\n",
    "dm=np.ones(10)\n",
    "intf = simpson_rule(f, a, b, m)\n",
    "print(intf)\n",
    "print(intf-v)\n",
    "for i in range(9):\n",
    "    print(i)\n",
    "    m=10**i\n",
    "    dm[i]=m\n",
    "    intf = simpson_rule(f, a, b, m)\n",
    "    err[i]=np.abs(intf-v)\n",
    "for i in range(10):\n",
    "    if err[i]==0:\n",
    "        err[i]+=1.0*10**-16"
   ]
  },
  {
   "cell_type": "code",
   "execution_count": 8,
   "metadata": {},
   "outputs": [
    {
     "data": {
      "text/plain": [
       "<matplotlib.collections.PathCollection at 0x7fa7e085a150>"
      ]
     },
     "execution_count": 8,
     "metadata": {},
     "output_type": "execute_result"
    },
    {
     "data": {
      "image/png": "[encoded data removed]",
      "text/plain": [
       "<Figure size 432x288 with 1 Axes>"
      ]
     },
     "metadata": {
      "needs_background": "light"
     },
     "output_type": "display_data"
    }
   ],
   "source": [
    "plt.xscale(\"log\")\n",
    "plt.yscale(\"log\")\n",
    "plt.scatter(dm,err)"
   ]
  },
  {
   "cell_type": "code",
   "execution_count": 9,
   "metadata": {},
   "outputs": [
    {
     "data": {
      "text/plain": [
       "array([4.59758954e-04, 6.05255341e-08, 6.07613959e-12, 5.55111512e-16,\n",
       "       5.55111512e-17, 1.11022302e-16, 1.00000000e-16, 1.11022302e-16,\n",
       "       7.21644966e-16, 1.00000000e+00])"
      ]
     },
     "execution_count": 9,
     "metadata": {},
     "output_type": "execute_result"
    }
   ],
   "source": [
    "err"
   ]
  },
  {
   "cell_type": "code",
   "execution_count": 10,
   "metadata": {},
   "outputs": [
    {
     "data": {
      "text/plain": [
       "array([1.e+00, 1.e+01, 1.e+02, 1.e+03, 1.e+04, 1.e+05, 1.e+06, 1.e+07,\n",
       "       1.e+08, 1.e+00])"
      ]
     },
     "execution_count": 10,
     "metadata": {},
     "output_type": "execute_result"
    }
   ],
   "source": [
    "dm"
   ]
  },
  {
   "cell_type": "markdown",
   "metadata": {},
   "source": [
    "# 龙贝格"
   ]
  },
  {
   "cell_type": "code",
   "execution_count": 12,
   "metadata": {},
   "outputs": [],
   "source": [
    "def romberg(f, a, b, n):\n",
    "    h = b - a\n",
    "    R = np.zeros((n, n))\n",
    "    R[0, 0] = (f(a) + f(b))*h/2\n",
    "    \n",
    "    for j in range(1, n):\n",
    "        h /= 2\n",
    "        R[j, 0] = R[j-1, 0]/2 + sum([f(a + (2*k+1)*h) for k in range(2**(j-1))])*h\n",
    "        for k in range(0, j):\n",
    "            R[j, k+1] = ((4**(k+1)*R[j, k] - R[j-1, k])) / (4**(k+1) - 1)\n",
    "    \n",
    "    return R"
   ]
  },
  {
   "cell_type": "markdown",
   "metadata": {},
   "source": [
    "# 例1"
   ]
  },
  {
   "cell_type": "code",
   "execution_count": 13,
   "metadata": {},
   "outputs": [],
   "source": [
    "def trapezoid_rule(f, a, b, m=1):\n",
    "    x_range = np.linspace(a, b, m+1)\n",
    "    y_range = f(x_range)\n",
    "    h = (b - a)/m\n",
    "    \n",
    "    return (y_range[0] + y_range[-1] + 2*y_range[1:-1].sum())*h/2  "
   ]
  },
  {
   "cell_type": "code",
   "execution_count": 14,
   "metadata": {},
   "outputs": [],
   "source": [
    "def f(x):\n",
    "    return np.cos(x)"
   ]
  },
  {
   "cell_type": "code",
   "execution_count": 15,
   "metadata": {},
   "outputs": [
    {
     "name": "stdout",
     "output_type": "stream",
     "text": [
      "0 1 0.7853981633974483 0.21460183660255172\n",
      "1 2 0.9480594489685199 0.0519405510314801\n",
      "2 4 0.9871158009727755 0.012884199027224486\n",
      "3 8 0.9967851718861696 0.003214828113830448\n",
      "4 16 0.9991966804850723 0.0008033195149277361\n",
      "5 32 0.9997991943200185 0.00020080567998148613\n",
      "6 64 0.9999498000921012 5.01999078987847e-05\n",
      "7 128 0.9999874501175261 1.2549882473900098e-05\n",
      "8 256 0.9999968625352877 3.137464712255067e-06\n",
      "9 512 0.999999215634191 7.843658089701222e-07\n",
      "10 1024 0.9999998039085708 1.960914292054028e-07\n",
      "11 2048 0.9999999509771441 4.902285588581634e-08\n",
      "12 4096 0.9999999877442862 1.2255713777165056e-08\n",
      "13 8192 0.9999999969360717 3.0639283332689615e-09\n",
      "14 16384 0.9999999992340178 7.659821665839672e-10\n",
      "15 32768 0.9999999998085045 1.9149548613484058e-10\n",
      "16 65536 0.9999999999521261 4.7873927044861375e-11\n",
      "17 131072 0.9999999999880316 1.1968426250064113e-11\n",
      "18 262144 0.999999999997008 2.992051051364797e-12\n",
      "19 524288 0.9999999999992515 7.485123632022805e-13\n"
     ]
    }
   ],
   "source": [
    "for i in range(20):\n",
    "    inttrap=trapezoid_rule(f,0,pi/2,2**(i))\n",
    "    err=np.abs(inttrap-1)\n",
    "    print(i,2**(i), inttrap,err)"
   ]
  },
  {
   "cell_type": "code",
   "execution_count": 20,
   "metadata": {},
   "outputs": [
    {
     "data": {
      "text/plain": [
       "9.5367431640625e-07"
      ]
     },
     "execution_count": 20,
     "metadata": {},
     "output_type": "execute_result"
    }
   ],
   "source": [
    "1/(2**(10))**2"
   ]
  },
  {
   "cell_type": "code",
   "execution_count": 21,
   "metadata": {},
   "outputs": [
    {
     "name": "stdout",
     "output_type": "stream",
     "text": [
      "1 1 0.7853981633974483 0.21460183660255172\n",
      "2 2 1.0022798774922104 0.0022798774922103693\n",
      "3 3 0.9999915654729927 8.434527007272763e-06\n",
      "4 4 1.0000000081440208 8.144020791078788e-09\n",
      "5 5 0.9999999999980169 1.9830803665854546e-12\n",
      "6 6 1.0000000000000002 2.220446049250313e-16\n",
      "7 7 1.0000000000000002 2.220446049250313e-16\n"
     ]
    }
   ],
   "source": [
    "for i in range(7):\n",
    "    inttrap= romberg(f,0,pi/2,i+1)[-1,-1]\n",
    "    err=np.abs(inttrap-1)\n",
    "    print(i+1,i+1, inttrap,err)"
   ]
  },
  {
   "cell_type": "markdown",
   "metadata": {},
   "source": [
    "# R22 h=1/2^2"
   ]
  },
  {
   "cell_type": "code",
   "execution_count": 32,
   "metadata": {},
   "outputs": [
    {
     "data": {
      "text/plain": [
       "0.0625"
      ]
     },
     "execution_count": 32,
     "metadata": {},
     "output_type": "execute_result"
    }
   ],
   "source": [
    "(1/4)**2"
   ]
  },
  {
   "cell_type": "markdown",
   "metadata": {},
   "source": [
    "# 22->33 "
   ]
  },
  {
   "cell_type": "code",
   "execution_count": 34,
   "metadata": {},
   "outputs": [
    {
     "data": {
      "text/plain": [
       "0.00390625"
      ]
     },
     "execution_count": 34,
     "metadata": {},
     "output_type": "execute_result"
    }
   ],
   "source": [
    "(1/4)**4"
   ]
  },
  {
   "cell_type": "code",
   "execution_count": 35,
   "metadata": {},
   "outputs": [
    {
     "data": {
      "text/plain": [
       "0.000244140625"
      ]
     },
     "execution_count": 35,
     "metadata": {},
     "output_type": "execute_result"
    }
   ],
   "source": [
    "(1/4)**6"
   ]
  },
  {
   "cell_type": "code",
   "execution_count": 36,
   "metadata": {},
   "outputs": [
    {
     "data": {
      "text/plain": [
       "1.52587890625e-05"
      ]
     },
     "execution_count": 36,
     "metadata": {},
     "output_type": "execute_result"
    }
   ],
   "source": [
    "(1/4)**8"
   ]
  },
  {
   "cell_type": "code",
   "execution_count": null,
   "metadata": {},
   "outputs": [],
   "source": []
  }
 ],
 "metadata": {
  "kernelspec": {
   "display_name": "Python 3",
   "language": "python",
   "name": "python3"
  },
  "language_info": {
   "codemirror_mode": {
    "name": "ipython",
    "version": 3
   },
   "file_extension": ".py",
   "mimetype": "text/x-python",
   "name": "python",
   "nbconvert_exporter": "python",
   "pygments_lexer": "ipython3",
   "version": "3.7.6"
  }
 },
 "nbformat": 4,
 "nbformat_minor": 2
}