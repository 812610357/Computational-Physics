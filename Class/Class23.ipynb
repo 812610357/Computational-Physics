{
 "cells": [
  {
   "cell_type": "code",
   "execution_count": 6,
   "metadata": {},
   "outputs": [],
   "source": [
    "import numpy as np\n",
    "import matplotlib.pyplot as plt\n",
    "\n",
    "%matplotlib inline"
   ]
  },
  {
   "cell_type": "code",
   "execution_count": 7,
   "metadata": {},
   "outputs": [],
   "source": [
    "pi = np.pi\n",
    "exp = np.exp\n",
    "log = np.log\n",
    "sqrt = np.sqrt\n",
    "sin = np.sin\n",
    "cos = np.cos"
   ]
  },
  {
   "cell_type": "markdown",
   "metadata": {},
   "source": [
    "# 自适应"
   ]
  },
  {
   "cell_type": "code",
   "execution_count": 8,
   "metadata": {},
   "outputs": [],
   "source": [
    "def S_trapezoid(f, interval):\n",
    "    a, b = interval\n",
    "    return (b - a)*(f(a) + f(b))/2\n",
    "\n",
    "def Adapt_quad(f, interval, tol):\n",
    "    interval_list = [interval]\n",
    "    A, B = interval\n",
    "    S=S_trapezoid\n",
    "    criterion = 3\n",
    "    \n",
    "    area = 0\n",
    "    num = 1\n",
    "        \n",
    "    while len(interval_list) > 0:\n",
    "        interval = interval_list.pop(0)\n",
    "        a, b = interval\n",
    "        c = (a + b)/2\n",
    "        num += 1\n",
    "\n",
    "        S_ab, S_ac, S_cb = S(f, [a, b]), S(f, [a, c]), S(f, [c, b])\n",
    "        error = abs(S_ab - S_ac - S_cb)\n",
    "\n",
    "        if error < criterion*tol*(b - a)/(B - A):\n",
    "            area += S_ac + S_cb\n",
    "        else:\n",
    "            interval_list += [[a, c], [c, b]]\n",
    "            \n",
    "    return area, num"
   ]
  },
  {
   "cell_type": "code",
   "execution_count": 34,
   "metadata": {},
   "outputs": [
    {
     "name": "stdout",
     "output_type": "stream",
     "text": [
      "Area: 2.50081814 / Number of subintervals: 1316\n"
     ]
    }
   ],
   "source": [
    "def f(x):\n",
    "    return 1+np.sin(np.exp(3*x))\n",
    "\n",
    "interval = [-1,1]\n",
    "tol=5*10**(-5)\n",
    "\n",
    "area, num = Adapt_quad(f, interval, tol)\n",
    "\n",
    "print(\"Area: %.8f / Number of subintervals: %d\" % (area, num))"
   ]
  },
  {
   "cell_type": "code",
   "execution_count": 35,
   "metadata": {},
   "outputs": [],
   "source": [
    "def trapezoid_rule(f, a, b, m=1):\n",
    "    x_range = np.linspace(a, b, m+1)\n",
    "    y_range = f(x_range)\n",
    "    h = (b - a)/m\n",
    "    \n",
    "    return (y_range[0] + y_range[-1] + 2*y_range[1:-1].sum())*h/2   "
   ]
  },
  {
   "cell_type": "code",
   "execution_count": 36,
   "metadata": {},
   "outputs": [
    {
     "data": {
      "text/plain": [
       "2.500812893325843"
      ]
     },
     "execution_count": 36,
     "metadata": {},
     "output_type": "execute_result"
    }
   ],
   "source": [
    " trapezoid_rule(f,-1,1,1316)"
   ]
  },
  {
   "cell_type": "code",
   "execution_count": 37,
   "metadata": {},
   "outputs": [
    {
     "name": "stdout",
     "output_type": "stream",
     "text": [
      "2.500809110336167\n",
      "9.407896683910622e-11\n"
     ]
    }
   ],
   "source": [
    "from scipy import integrate\n",
    "def f(x):\n",
    "    return 1+np.sin(np.exp(3*x))\n",
    "\n",
    "v, err = integrate.quad(f, -1, 1)\n",
    "print(v)\n",
    "print(err)"
   ]
  },
  {
   "cell_type": "code",
   "execution_count": 29,
   "metadata": {},
   "outputs": [
    {
     "name": "stdout",
     "output_type": "stream",
     "text": [
      "[[-1, 1]]\n"
     ]
    }
   ],
   "source": [
    "list0=[[-1,1]]\n",
    "print(list0)"
   ]
  },
  {
   "cell_type": "code",
   "execution_count": 2,
   "metadata": {},
   "outputs": [
    {
     "name": "stdout",
     "output_type": "stream",
     "text": [
      "[[-1, 1], ['a', 'b'], [0, 1]]\n"
     ]
    }
   ],
   "source": [
    "list0+=[['a','b'],[0,1]]\n",
    "print(list0)"
   ]
  },
  {
   "cell_type": "code",
   "execution_count": 3,
   "metadata": {},
   "outputs": [
    {
     "name": "stdout",
     "output_type": "stream",
     "text": [
      "[-1, 1]\n",
      "[['a', 'b'], [0, 1]]\n"
     ]
    }
   ],
   "source": [
    "list1=list0.pop(0)\n",
    "print(list1)\n",
    "print(list0)"
   ]
  },
  {
   "cell_type": "markdown",
   "metadata": {},
   "source": [
    "# 高斯积分"
   ]
  },
  {
   "cell_type": "code",
   "execution_count": null,
   "metadata": {},
   "outputs": [],
   "source": [
    "def legendre2():\n",
    "    xi=np.array([-1/np.sqrt(3),1/np.sqrt(3)])\n",
    "    ci=np.array([1,1])\n",
    "    return xi,ci"
   ]
  },
  {
   "cell_type": "code",
   "execution_count": null,
   "metadata": {},
   "outputs": [],
   "source": [
    "def legendre3():\n",
    "    xi=np.array([-np.sqrt(3/5),0,np.sqrt(3/5)])\n",
    "    ci=np.array([5/9,8/9,5/9])\n",
    "    return xi,ci"
   ]
  },
  {
   "cell_type": "code",
   "execution_count": null,
   "metadata": {},
   "outputs": [],
   "source": [
    "def legendre4():\n",
    "    xi=np.array([-np.sqrt((15+2*np.sqrt(30))/35),-np.sqrt((15-2*np.sqrt(30))/35),np.sqrt((15-2*np.sqrt(30))/35),np.sqrt((15+2*np.sqrt(30))/35)])\n",
    "    ci=np.array([(90-5*np.sqrt(30))/180,(90+5*np.sqrt(30))/180,(90+5*np.sqrt(30))/180,(90-5*np.sqrt(30))/180])\n",
    "    return xi,ci"
   ]
  },
  {
   "cell_type": "markdown",
   "metadata": {},
   "source": [
    "# 例3"
   ]
  },
  {
   "cell_type": "code",
   "execution_count": null,
   "metadata": {},
   "outputs": [],
   "source": [
    "def f(x):\n",
    "    return np.exp(-x**2/2)"
   ]
  },
  {
   "cell_type": "code",
   "execution_count": null,
   "metadata": {},
   "outputs": [],
   "source": [
    "intf=0\n",
    "xi,ci=legendre2();\n",
    "for i in range(2):\n",
    "    intf+=ci[i]*f(xi[i])\n",
    "print(intf)"
   ]
  },
  {
   "cell_type": "code",
   "execution_count": null,
   "metadata": {},
   "outputs": [],
   "source": [
    "intf=0\n",
    "xi,ci=legendre3();\n",
    "for i in range(3):\n",
    "    intf+=ci[i]*f(xi[i])\n",
    "print(intf)"
   ]
  },
  {
   "cell_type": "code",
   "execution_count": null,
   "metadata": {},
   "outputs": [],
   "source": [
    "intf=0\n",
    "xi,ci=legendre4();\n",
    "for i in range(4):\n",
    "    intf+=ci[i]*f(xi[i])\n",
    "print(intf)"
   ]
  },
  {
   "cell_type": "markdown",
   "metadata": {},
   "source": [
    "# 例4"
   ]
  },
  {
   "cell_type": "code",
   "execution_count": null,
   "metadata": {},
   "outputs": [],
   "source": [
    "def f(x):\n",
    "    return 0.5*np.log((x+3)/2)"
   ]
  },
  {
   "cell_type": "code",
   "execution_count": null,
   "metadata": {},
   "outputs": [],
   "source": [
    "from scipy import integrate\n",
    "v, err = integrate.quad(f, -1, 1)\n",
    "print(v)\n",
    "print(err)"
   ]
  },
  {
   "cell_type": "code",
   "execution_count": null,
   "metadata": {},
   "outputs": [],
   "source": [
    "intf=0\n",
    "xi,ci=legendre2();\n",
    "for i in range(2):\n",
    "    intf+=ci[i]*f(xi[i])\n",
    "print(intf)\n",
    "print(intf-v)"
   ]
  },
  {
   "cell_type": "code",
   "execution_count": null,
   "metadata": {},
   "outputs": [],
   "source": [
    "intf=0\n",
    "xi,ci=legendre3();\n",
    "for i in range(3):\n",
    "    intf+=ci[i]*f(xi[i])\n",
    "print(intf)\n",
    "print(intf-v)"
   ]
  },
  {
   "cell_type": "code",
   "execution_count": null,
   "metadata": {},
   "outputs": [],
   "source": [
    "intf=0\n",
    "xi,ci=legendre4();\n",
    "for i in range(4):\n",
    "    intf+=ci[i]*f(xi[i])\n",
    "print(intf)\n",
    "print(intf-v)"
   ]
  },
  {
   "cell_type": "code",
   "execution_count": null,
   "metadata": {},
   "outputs": [],
   "source": [
    "def trapezoid_rule(f, a, b, m=1):\n",
    "    x_range = np.linspace(a, b, m+1)\n",
    "    y_range = f(x_range)\n",
    "    h = (b - a)/m\n",
    "    \n",
    "    return (y_range[0] + y_range[-1] + 2*y_range[1:-1].sum())*h/2  "
   ]
  },
  {
   "cell_type": "code",
   "execution_count": null,
   "metadata": {},
   "outputs": [],
   "source": [
    "intf= trapezoid_rule(f,-1,1,400)\n",
    "print(intf-v)"
   ]
  },
  {
   "cell_type": "code",
   "execution_count": null,
   "metadata": {},
   "outputs": [],
   "source": [
    "def simpson_rule(f, a, b, m=1):\n",
    "    x_range = np.linspace(a, b, 2*m + 1)\n",
    "    y_range = f(x_range)\n",
    "    h = (b - a)/(2*m)\n",
    "    \n",
    "    return (y_range[0] + y_range[-1] + 4*y_range[1::2].sum() + 2*y_range[2:-1:2].sum())*h/3"
   ]
  },
  {
   "cell_type": "code",
   "execution_count": null,
   "metadata": {},
   "outputs": [],
   "source": [
    "intf= simpson_rule(f,-1,1,7)\n",
    "print(intf-v)"
   ]
  },
  {
   "cell_type": "code",
   "execution_count": null,
   "metadata": {},
   "outputs": [],
   "source": [
    "def romberg(f, a, b, n):\n",
    "    h = b - a\n",
    "    R = np.zeros((n, n))\n",
    "    R[0, 0] = (f(a) + f(b))*h/2\n",
    "    \n",
    "    for j in range(1, n):\n",
    "        h /= 2\n",
    "        R[j, 0] = R[j-1, 0]/2 + sum([f(a + (2*k+1)*h) for k in range(2**(j-1))])*h\n",
    "        for k in range(0, j):\n",
    "            R[j, k+1] = ((4**(k+1)*R[j, k] - R[j-1, k])) / (4**(k+1) - 1)\n",
    "    \n",
    "    return R"
   ]
  },
  {
   "cell_type": "code",
   "execution_count": null,
   "metadata": {},
   "outputs": [],
   "source": [
    "intf= romberg(f,-1,1,3)[-1,-1]\n",
    "print(intf-v)"
   ]
  },
  {
   "cell_type": "code",
   "execution_count": null,
   "metadata": {},
   "outputs": [],
   "source": [
    "def S_trapezoid(f, interval):\n",
    "    a, b = interval\n",
    "    return (b - a)*(f(a) + f(b))/2\n",
    "\n",
    "def Adapt_quad(f, interval, tol):\n",
    "    interval_list = [interval]\n",
    "    A, B = interval\n",
    "    S=S_trapezoid\n",
    "    criterion = 3\n",
    "    \n",
    "    area = 0\n",
    "    num = 1\n",
    "        \n",
    "    while len(interval_list) > 0:\n",
    "        interval = interval_list.pop(0)\n",
    "        a, b = interval\n",
    "        c = (a + b)/2\n",
    "        num += 1\n",
    "\n",
    "        S_ab, S_ac, S_cb = S(f, [a, b]), S(f, [a, c]), S(f, [c, b])\n",
    "        error = abs(S_ab - S_ac - S_cb)\n",
    "\n",
    "        if error < criterion*tol*(b - a)/(B - A):\n",
    "            area += S_ac + S_cb\n",
    "        else:\n",
    "            interval_list += [[a, c], [c, b]]\n",
    "            \n",
    "    return area, num"
   ]
  },
  {
   "cell_type": "code",
   "execution_count": null,
   "metadata": {},
   "outputs": [],
   "source": [
    "tol=5*10**(-7)\n",
    "area, num = Adapt_quad(f, [-1,1], tol)\n",
    "print(\"Area: %.8f / Number of subintervals: %d\" % (area, num))"
   ]
  },
  {
   "cell_type": "code",
   "execution_count": null,
   "metadata": {},
   "outputs": [],
   "source": []
  },
  {
   "cell_type": "code",
   "execution_count": null,
   "metadata": {},
   "outputs": [],
   "source": []
  }
 ],
 "metadata": {
  "kernelspec": {
   "display_name": "Python 3",
   "language": "python",
   "name": "python3"
  },
  "language_info": {
   "codemirror_mode": {
    "name": "ipython",
    "version": 3
   },
   "file_extension": ".py",
   "mimetype": "text/x-python",
   "name": "python",
   "nbconvert_exporter": "python",
   "pygments_lexer": "ipython3",
   "version": "3.7.6"
  }
 },
 "nbformat": 4,
 "nbformat_minor": 2
}