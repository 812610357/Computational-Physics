{
 "cells": [
  {
   "cell_type": "code",
   "execution_count": 1,
   "metadata": {},
   "outputs": [],
   "source": [
    "import numpy as np\n",
    "import matplotlib.pyplot as plt\n",
    "from scipy.optimize import curve_fit\n",
    "import random as rand"
   ]
  },
  {
   "cell_type": "code",
   "execution_count": 5,
   "metadata": {},
   "outputs": [],
   "source": [
    "def ls(A, b):\n",
    "    return np.linalg.inv(np.dot(A.T, A)).dot(A.T).dot(b)"
   ]
  },
  {
   "cell_type": "code",
   "execution_count": null,
   "metadata": {},
   "outputs": [],
   "source": []
  },
  {
   "cell_type": "code",
   "execution_count": null,
   "metadata": {},
   "outputs": [],
   "source": [
    "def cubic_spline(x_i, y_i, x, end=\"Natural\", v=(0, 0)):\n",
    "    x_i = np.array(x_i)\n",
    "    y_i = np.array(y_i)\n",
    "\n",
    "    dx = x_i[1:] - x_i[:-1]\n",
    "    dy = y_i[1:] - y_i[:-1]\n",
    "    n = len(x_i)\n",
    "\n",
    "    M = np.zeros((n, n))\n",
    "    N = np.zeros(n)\n",
    "\n",
    "    for i in range(1, n-1):\n",
    "        M[i, i-1] = dx[i-1]\n",
    "        M[i, i] = 2*(dx[i-1] + dx[i])\n",
    "        M[i, i+1] = dx[i]\n",
    "\n",
    "        N[i] = 3*(dy[i]/dx[i] - dy[i-1]/dx[i-1])\n",
    "      \n",
    "  # 钳制样条\n",
    "        M[0, :2] = [2*dx[0], dx[0]]\n",
    "        M[-1, -2:] = [dx[-1], 2*dx[-1]]\n",
    "        N[0] = 3*(dy[0]/dx[0] - v[0])\n",
    "        N[-1] = 3*(v[-1] - dy[-1]/dx[-1])\n",
    "    \n",
    "    N = N.reshape(-1, 1)\n",
    "    c = np.linalg.inv(M).dot(N).reshape(-1)\n",
    "\n",
    "    a = y_i[:-1]\n",
    "    b = dy/dx - dx*(2*c[:-1] + c[1:])/3\n",
    "    d = (c[1:] - c[:-1])/(3 * dx)\n",
    "    c = c[:-1]\n",
    "\n",
    "    for i in range(n-1):\n",
    "        if x_i[i] <= x and x <= x_i[i+1]:\n",
    "            return a[i] + b[i]*(x - x_i[i]) + c[i]*(x - x_i[i])**2 + d[i]*(x - x_i[i])**3"
   ]
  },
  {
   "cell_type": "code",
   "execution_count": null,
   "metadata": {},
   "outputs": [],
   "source": []
  },
  {
   "cell_type": "markdown",
   "metadata": {},
   "source": [
    "# 例1"
   ]
  },
  {
   "cell_type": "code",
   "execution_count": 2,
   "metadata": {},
   "outputs": [
    {
     "name": "stdout",
     "output_type": "stream",
     "text": [
      "[0.    0.125 0.25  0.375 0.5   0.625 0.75  0.875]\n",
      "[-2.2 -2.8 -6.1 -3.9  0.   1.1 -0.6 -1.1]\n"
     ]
    },
    {
     "data": {
      "text/plain": [
       "<matplotlib.collections.PathCollection at 0x7fcd8dc3bad0>"
      ]
     },
     "execution_count": 2,
     "metadata": {},
     "output_type": "execute_result"
    },
    {
     "data": {
      "image/png": "[encoded data removed]",
      "text/plain": [
       "<Figure size 432x288 with 1 Axes>"
      ]
     },
     "metadata": {
      "needs_background": "light"
     },
     "output_type": "display_data"
    }
   ],
   "source": [
    "ti = np.linspace(0, 7/8, 8)\n",
    "print(ti)\n",
    "tmp=np.array([-2.2, -2.8, -6.1, -3.9, 0.0, 1.1, -0.6, -1.1], dtype=float)\n",
    "print(tmp)\n",
    "plt.scatter(ti, tmp)"
   ]
  },
  {
   "cell_type": "code",
   "execution_count": 5,
   "metadata": {},
   "outputs": [
    {
     "name": "stdout",
     "output_type": "stream",
     "text": [
      "[[0. 0. 0. 0. 0. 0. 0. 0.]\n",
      " [0. 0. 0. 0. 0. 0. 0. 0.]\n",
      " [0. 0. 0. 0. 0. 0. 0. 0.]]\n",
      "A [[ 1.00000000e+00  1.00000000e+00  1.00000000e+00  1.00000000e+00\n",
      "   1.00000000e+00  1.00000000e+00  1.00000000e+00  1.00000000e+00]\n",
      " [ 1.00000000e+00  7.07106781e-01  6.12323400e-17 -7.07106781e-01\n",
      "  -1.00000000e+00 -7.07106781e-01 -1.83697020e-16  7.07106781e-01]\n",
      " [ 0.00000000e+00  7.07106781e-01  1.00000000e+00  7.07106781e-01\n",
      "   1.22464680e-16 -7.07106781e-01 -1.00000000e+00 -7.07106781e-01]]\n",
      "[[ 1.00000000e+00  1.00000000e+00  0.00000000e+00]\n",
      " [ 1.00000000e+00  7.07106781e-01  7.07106781e-01]\n",
      " [ 1.00000000e+00  6.12323400e-17  1.00000000e+00]\n",
      " [ 1.00000000e+00 -7.07106781e-01  7.07106781e-01]\n",
      " [ 1.00000000e+00 -1.00000000e+00  1.22464680e-16]\n",
      " [ 1.00000000e+00 -7.07106781e-01 -7.07106781e-01]\n",
      " [ 1.00000000e+00 -1.83697020e-16 -1.00000000e+00]\n",
      " [ 1.00000000e+00  7.07106781e-01 -7.07106781e-01]]\n",
      "[-1.95       -0.74445436 -2.55940386]\n"
     ]
    }
   ],
   "source": [
    "#模型y=c1+c2 cos(2\\pi t)+ c3 sin(2\\pi t)\n",
    "A = np.zeros((3, 8), dtype=float)\n",
    "print(A)\n",
    "#for i in range(8):\n",
    "A[0]=ti**0\n",
    "A[1]=np.cos(2*np.pi*ti)\n",
    "A[2]=np.sin(2*np.pi*ti)\n",
    "print(\"A\",A)\n",
    "A=A.T\n",
    "print(A)\n",
    "b=tmp\n",
    "c=ls(A,b)\n",
    "print(c)"
   ]
  },
  {
   "cell_type": "code",
   "execution_count": 6,
   "metadata": {},
   "outputs": [
    {
     "data": {
      "text/plain": [
       "[<matplotlib.lines.Line2D at 0x7fc454e70d90>]"
      ]
     },
     "execution_count": 6,
     "metadata": {},
     "output_type": "execute_result"
    },
    {
     "data": {
      "image/png": "[encoded data removed]",
      "text/plain": [
       "<Figure size 432x288 with 1 Axes>"
      ]
     },
     "metadata": {
      "needs_background": "light"
     },
     "output_type": "display_data"
    }
   ],
   "source": [
    "plt.scatter(ti, tmp)\n",
    "t_range=np.linspace(0,1,100)\n",
    "yi=c[0]+c[1]*np.cos(2*3.14*t_range)+c[2]*np.sin(2*3.14*t_range)\n",
    "plt.plot(t_range,yi,'g-')"
   ]
  },
  {
   "cell_type": "markdown",
   "metadata": {},
   "source": [
    "# 改进模型"
   ]
  },
  {
   "cell_type": "code",
   "execution_count": 7,
   "metadata": {},
   "outputs": [
    {
     "name": "stdout",
     "output_type": "stream",
     "text": [
      "[[0. 0. 0. 0. 0. 0. 0. 0.]\n",
      " [0. 0. 0. 0. 0. 0. 0. 0.]\n",
      " [0. 0. 0. 0. 0. 0. 0. 0.]\n",
      " [0. 0. 0. 0. 0. 0. 0. 0.]]\n",
      "[[ 1.00000000e+00  1.00000000e+00  1.00000000e+00  1.00000000e+00\n",
      "   1.00000000e+00  1.00000000e+00  1.00000000e+00  1.00000000e+00]\n",
      " [ 1.00000000e+00  7.07388269e-01  7.96326711e-04 -7.06261645e-01\n",
      "  -9.99998732e-01 -7.08513099e-01 -2.38897811e-03  7.05133229e-01]\n",
      " [ 0.00000000e+00  7.06825181e-01  9.99999683e-01  7.07950909e-01\n",
      "   1.59265292e-03 -7.05697661e-01 -9.99997146e-01 -7.09074840e-01]\n",
      " [ 1.00000000e+00  7.96326711e-04 -9.99998732e-01 -2.38897811e-03\n",
      "   9.99994927e-01  3.98162345e-03 -9.99988586e-01 -5.57425870e-03]]\n",
      "[[ 1.00000000e+00  1.00000000e+00  0.00000000e+00  1.00000000e+00]\n",
      " [ 1.00000000e+00  7.07388269e-01  7.06825181e-01  7.96326711e-04]\n",
      " [ 1.00000000e+00  7.96326711e-04  9.99999683e-01 -9.99998732e-01]\n",
      " [ 1.00000000e+00 -7.06261645e-01  7.07950909e-01 -2.38897811e-03]\n",
      " [ 1.00000000e+00 -9.99998732e-01  1.59265292e-03  9.99994927e-01]\n",
      " [ 1.00000000e+00 -7.08513099e-01 -7.05697661e-01  3.98162345e-03]\n",
      " [ 1.00000000e+00 -2.38897811e-03 -9.99997146e-01 -9.99988586e-01]\n",
      " [ 1.00000000e+00  7.05133229e-01 -7.09074840e-01 -5.57425870e-03]]\n",
      "[-1.94939947 -0.74650552 -2.55745751  1.12832012]\n"
     ]
    }
   ],
   "source": [
    "#模型y=c1+c2 cos(2\\pi t)+ c3 sin(2\\pi t)+c4 cos(4 \\pi t)\n",
    "\n",
    "A = np.zeros((4, 8), dtype=float)\n",
    "print(A)\n",
    "\n",
    "A[0]=ti**0\n",
    "A[1]=np.cos(2*3.14*ti)\n",
    "A[2]=np.sin(2*3.14*ti)\n",
    "A[3]=np.cos(4*3.14*ti)\n",
    "print(A)\n",
    "A=A.T\n",
    "print(A)\n",
    "b=tmp\n",
    "c=ls(A,b)\n",
    "print(c)"
   ]
  },
  {
   "cell_type": "code",
   "execution_count": 8,
   "metadata": {},
   "outputs": [
    {
     "data": {
      "text/plain": [
       "[<matplotlib.lines.Line2D at 0x7fc454f4ce10>]"
      ]
     },
     "execution_count": 8,
     "metadata": {},
     "output_type": "execute_result"
    },
    {
     "data": {
      "image/png": "[encoded data removed]",
      "text/plain": [
       "<Figure size 432x288 with 1 Axes>"
      ]
     },
     "metadata": {
      "needs_background": "light"
     },
     "output_type": "display_data"
    }
   ],
   "source": [
    "plt.scatter(ti, tmp)\n",
    "t_range=np.linspace(0,1,100)\n",
    "yi=c[0]+c[1]*np.cos(2*3.14*t_range)+c[2]*np.sin(2*3.14*t_range)+c[3]*np.cos(4*3.14*t_range)\n",
    "plt.plot(t_range,yi,'g-')"
   ]
  },
  {
   "cell_type": "markdown",
   "metadata": {},
   "source": [
    "# 例2"
   ]
  },
  {
   "cell_type": "code",
   "execution_count": 6,
   "metadata": {},
   "outputs": [
    {
     "name": "stdout",
     "output_type": "stream",
     "text": [
      "[ 1.  2.  4.  8. 12. 15. 19. 23. 27. 29. 30. 32. 33.]\n",
      "[2.25e+03 2.50e+03 5.00e+03 2.90e+04 1.20e+05 2.75e+05 1.18e+06 3.10e+06\n",
      " 7.50e+06 2.40e+07 4.20e+07 2.20e+08 4.10e+08]\n"
     ]
    },
    {
     "data": {
      "text/plain": [
       "<matplotlib.collections.PathCollection at 0x7fcd8e949c50>"
      ]
     },
     "execution_count": 6,
     "metadata": {},
     "output_type": "execute_result"
    },
    {
     "data": {
      "image/png": "[encoded data removed]",
      "text/plain": [
       "<Figure size 432x288 with 1 Axes>"
      ]
     },
     "metadata": {
      "needs_background": "light"
     },
     "output_type": "display_data"
    }
   ],
   "source": [
    "ti = np.array([1,2,4,8,12,15,19,23,27,29,30,32,33], dtype=float)\n",
    "print(ti)\n",
    "tmp=np.array([2250,2500,5000,29000,120000,275000,1180000,3100000,7500000,24000000,42000000,220000000,410000000], dtype=float)\n",
    "print(tmp)\n",
    "num=np.log(tmp)\n",
    "plt.scatter(ti, num)"
   ]
  },
  {
   "cell_type": "code",
   "execution_count": 7,
   "metadata": {},
   "outputs": [
    {
     "name": "stdout",
     "output_type": "stream",
     "text": [
      "[[0. 0. 0. 0. 0. 0. 0. 0. 0. 0. 0. 0. 0.]\n",
      " [0. 0. 0. 0. 0. 0. 0. 0. 0. 0. 0. 0. 0.]]\n",
      "[[ 1.  1.  1.  1.  1.  1.  1.  1.  1.  1.  1.  1.  1.]\n",
      " [ 1.  2.  4.  8. 12. 15. 19. 23. 27. 29. 30. 32. 33.]]\n",
      "[[ 1.  1.]\n",
      " [ 1.  2.]\n",
      " [ 1.  4.]\n",
      " [ 1.  8.]\n",
      " [ 1. 12.]\n",
      " [ 1. 15.]\n",
      " [ 1. 19.]\n",
      " [ 1. 23.]\n",
      " [ 1. 27.]\n",
      " [ 1. 29.]\n",
      " [ 1. 30.]\n",
      " [ 1. 32.]\n",
      " [ 1. 33.]]\n",
      "[7.19694301 0.35463996]\n"
     ]
    }
   ],
   "source": [
    "#模型ln(y)=k+c2 t\n",
    "\n",
    "A = np.zeros((2, 13), dtype=float)\n",
    "print(A)\n",
    "\n",
    "A[0]=ti**0\n",
    "A[1]=ti\n",
    "print(A)\n",
    "A=A.T\n",
    "print(A)\n",
    "b=num\n",
    "c=ls(A,b)\n",
    "print(c)"
   ]
  },
  {
   "cell_type": "code",
   "execution_count": 8,
   "metadata": {},
   "outputs": [
    {
     "name": "stdout",
     "output_type": "stream",
     "text": [
      "1335.34238407948\n"
     ]
    }
   ],
   "source": [
    "print(np.exp(c[0]))"
   ]
  },
  {
   "cell_type": "code",
   "execution_count": 9,
   "metadata": {},
   "outputs": [
    {
     "data": {
      "text/plain": [
       "[<matplotlib.lines.Line2D at 0x7fcd8e6decd0>]"
      ]
     },
     "execution_count": 9,
     "metadata": {},
     "output_type": "execute_result"
    },
    {
     "data": {
      "image/png": "[encoded data removed]",
      "text/plain": [
       "<Figure size 432x288 with 1 Axes>"
      ]
     },
     "metadata": {
      "needs_background": "light"
     },
     "output_type": "display_data"
    }
   ],
   "source": [
    "plt.scatter(ti, num)\n",
    "t_range=np.linspace(1,35,100)\n",
    "yi=c[0]+c[1]*t_range\n",
    "plt.plot(t_range,yi,'g-')"
   ]
  },
  {
   "cell_type": "markdown",
   "metadata": {},
   "source": [
    "# 正交化"
   ]
  },
  {
   "cell_type": "code",
   "execution_count": 10,
   "metadata": {},
   "outputs": [],
   "source": [
    "def norm(x):\n",
    "    return np.sqrt(sum(x**2))\n",
    "\n",
    "def QR_classical(A):\n",
    "    m, n = A.shape\n",
    "\n",
    "    Q = np.zeros((m, n))\n",
    "    R = np.zeros((n, n))\n",
    "    k = n\n",
    "\n",
    "    r = norm(A[:, 0])\n",
    "    Q[:, 0] = A[:, 0] / r\n",
    "    R[0, 0] = r\n",
    "\n",
    "    for i in range(1, k):\n",
    "        y = A[:, i]\n",
    "        for j in range(i):\n",
    "            r = np.dot(Q[:, j], A[:, i])\n",
    "            y = y - r*Q[:, j]\n",
    "            R[j, i] = r\n",
    "        r = norm(y)\n",
    "        Q[:, i] = y / r\n",
    "        R[i, i] = r\n",
    "        \n",
    "    return Q, R"
   ]
  },
  {
   "cell_type": "markdown",
   "metadata": {},
   "source": [
    "# 例1"
   ]
  },
  {
   "cell_type": "code",
   "execution_count": 12,
   "metadata": {},
   "outputs": [
    {
     "name": "stdout",
     "output_type": "stream",
     "text": [
      "Q:\n",
      " [[ 5.77350269e-01 -7.07106781e-01]\n",
      " [ 5.77350269e-01 -1.57009246e-16]\n",
      " [ 5.77350269e-01  7.07106781e-01]]\n",
      "R:\n",
      " [[1.73205081 1.73205081]\n",
      " [0.         1.41421356]]\n",
      "[[-5.77350269e-01  7.07106781e-01]\n",
      " [-5.77350269e-01  4.43378006e-17]\n",
      " [-5.77350269e-01 -7.07106781e-01]]\n",
      "[[-1.73205081 -1.73205081]\n",
      " [ 0.         -1.41421356]]\n"
     ]
    }
   ],
   "source": [
    "import numpy as np\n",
    "A = np.array([[-2,1], [0,1], [1,1],[2,1]])\n",
    "A = np.array([[1,0], [1,1], [1,2]])\n",
    "Q, R = QR_classical(A)\n",
    "print(\"Q:\\n\", Q)\n",
    "print(\"R:\\n\", R)\n",
    "\n",
    "q,r = np.linalg.qr(A)\n",
    "print(q)\n",
    "print(r)"
   ]
  },
  {
   "cell_type": "code",
   "execution_count": 13,
   "metadata": {},
   "outputs": [
    {
     "name": "stdout",
     "output_type": "stream",
     "text": [
      "[[ 1.0000000e+00 -3.2385832e-16]\n",
      " [-3.2385832e-16  1.0000000e+00]]\n"
     ]
    }
   ],
   "source": [
    "print(Q.T.dot(Q))"
   ]
  },
  {
   "cell_type": "code",
   "execution_count": 14,
   "metadata": {},
   "outputs": [
    {
     "name": "stdout",
     "output_type": "stream",
     "text": [
      "[[ 0.83333333  0.33333333 -0.16666667]\n",
      " [ 0.33333333  0.33333333  0.33333333]\n",
      " [-0.16666667  0.33333333  0.83333333]]\n"
     ]
    }
   ],
   "source": [
    "print(Q.dot(Q.T))"
   ]
  },
  {
   "cell_type": "code",
   "execution_count": 5,
   "metadata": {},
   "outputs": [
    {
     "data": {
      "text/plain": [
       "array([1.30400767, 1.298696  ])"
      ]
     },
     "execution_count": 5,
     "metadata": {},
     "output_type": "execute_result"
    }
   ],
   "source": [
    "b=np.array([0,np.log(2),np.log(2),np.log(5)])\n",
    "(Q.T).dot(b)\n"
   ]
  },
  {
   "cell_type": "markdown",
   "metadata": {},
   "source": [
    "# 改进法"
   ]
  },
  {
   "cell_type": "code",
   "execution_count": 15,
   "metadata": {},
   "outputs": [],
   "source": [
    "def QR_modified(A, reduced=False):\n",
    "    m, n = A.shape\n",
    "\n",
    "    Q = np.zeros((m, n))\n",
    "    R = np.zeros((n, n))\n",
    "    k = n\n",
    "\n",
    "    r = norm(A[:, 0])\n",
    "    Q[:, 0] = A[:, 0] / r\n",
    "    R[0, 0] = r\n",
    "\n",
    "    for i in range(1, k):\n",
    "        y = A[:, i]\n",
    "        for j in range(i):\n",
    "            r = np.dot(Q[:, j], y)\n",
    "            y = y - r*Q[:, j]\n",
    "            R[j, i] = r\n",
    "\n",
    "        r = norm(y)\n",
    "        Q[:, i] = y / r\n",
    "        R[i, i] = r\n",
    "\n",
    "    return Q, R"
   ]
  },
  {
   "cell_type": "code",
   "execution_count": 16,
   "metadata": {},
   "outputs": [
    {
     "name": "stdout",
     "output_type": "stream",
     "text": [
      "Q:\n",
      " [[ 5.77350269e-01 -7.07106781e-01]\n",
      " [ 5.77350269e-01 -1.57009246e-16]\n",
      " [ 5.77350269e-01  7.07106781e-01]]\n",
      "R:\n",
      " [[1.73205081 1.73205081]\n",
      " [0.         1.41421356]]\n"
     ]
    }
   ],
   "source": [
    "A = np.array([[1,0], [1,1], [1,2]])\n",
    "#A = np.array([[1,1,1],[10**(-10),0,0],[0,10**(-10),0],[0,0,10**(-10)]])\n",
    "Q, R = QR_classical(A)\n",
    "print(\"Q:\\n\", Q)\n",
    "print(\"R:\\n\", R)"
   ]
  },
  {
   "cell_type": "code",
   "execution_count": 17,
   "metadata": {},
   "outputs": [
    {
     "name": "stdout",
     "output_type": "stream",
     "text": [
      "Q:\n",
      " [[ 5.77350269e-01 -7.07106781e-01]\n",
      " [ 5.77350269e-01 -1.57009246e-16]\n",
      " [ 5.77350269e-01  7.07106781e-01]]\n",
      "R:\n",
      " [[1.73205081 1.73205081]\n",
      " [0.         1.41421356]]\n"
     ]
    }
   ],
   "source": [
    "#A = np.array([[1,0], [1,1], [1,2]])\n",
    "Q, R = QR_modified(A)\n",
    "print(\"Q:\\n\", Q)\n",
    "print(\"R:\\n\", R)"
   ]
  },
  {
   "cell_type": "markdown",
   "metadata": {},
   "source": [
    "# 反射子"
   ]
  },
  {
   "cell_type": "code",
   "execution_count": 23,
   "metadata": {},
   "outputs": [
    {
     "name": "stdout",
     "output_type": "stream",
     "text": [
      "[[ 4 -4 -4]\n",
      " [-4  4  4]\n",
      " [-4  4  4]]\n",
      "[[12]]\n"
     ]
    }
   ],
   "source": [
    "z=np.array([2,-2,-2])\n",
    "z1=z.reshape(-1,1)\n",
    "print(z1.dot(z1.T))\n",
    "print(z1.T.dot(z1))"
   ]
  },
  {
   "cell_type": "code",
   "execution_count": 25,
   "metadata": {},
   "outputs": [
    {
     "name": "stdout",
     "output_type": "stream",
     "text": [
      "[[ 0.33333333  0.66666667  0.66666667]\n",
      " [ 0.66666667  0.33333333 -0.66666667]\n",
      " [ 0.66666667 -0.66666667  0.33333333]]\n"
     ]
    }
   ],
   "source": [
    "h1=np.identity(3)-2*z1.dot(z1.T)/z1.T.dot(z1)\n",
    "print(h1)"
   ]
  },
  {
   "cell_type": "code",
   "execution_count": 28,
   "metadata": {},
   "outputs": [
    {
     "name": "stdout",
     "output_type": "stream",
     "text": [
      "[[-0.6 -0.8]\n",
      " [-0.8  0.6]]\n"
     ]
    }
   ],
   "source": [
    "z=np.array([8,4])\n",
    "z1=z.reshape(-1,1)\n",
    "h1=np.identity(2)-2*z1.dot(z1.T)/z1.T.dot(z1)\n",
    "print(h1)"
   ]
  },
  {
   "cell_type": "code",
   "execution_count": null,
   "metadata": {},
   "outputs": [],
   "source": []
  },
  {
   "cell_type": "code",
   "execution_count": 31,
   "metadata": {},
   "outputs": [],
   "source": [
    "def norm(x):\n",
    "    return np.sqrt(sum(x**2))\n",
    "\n",
    "def QR_Householder(A):\n",
    "    m, n = np.shape(A)\n",
    "    H = np.tile(np.identity(m), (n, 1, 1))\n",
    "    R = A.copy()\n",
    "\n",
    "    for i in range(n):\n",
    "        A_i = R[i:, i]\n",
    "        w = np.zeros(m - i) # y\n",
    "        w[0] = norm(A_i) \n",
    "\n",
    "        v = (A_i - w).reshape(-1, 1) #z\n",
    "        P = np.dot(v, v.T) / norm(v)**2\n",
    "\n",
    "        H[i, i:, i:] -= 2*P\n",
    "        R = np.dot(H[i], R)\n",
    "    Q = np.linalg.multi_dot(H)\n",
    "    \n",
    "    return Q, R"
   ]
  },
  {
   "cell_type": "code",
   "execution_count": 32,
   "metadata": {},
   "outputs": [
    {
     "name": "stdout",
     "output_type": "stream",
     "text": [
      "[[1 0]\n",
      " [1 1]\n",
      " [1 2]]\n",
      "(3, 2)\n"
     ]
    }
   ],
   "source": [
    "A = np.array([[1,0], [1,1], [1,2]])\n",
    "print(A)\n",
    "print(np.shape(A))"
   ]
  },
  {
   "cell_type": "code",
   "execution_count": 34,
   "metadata": {},
   "outputs": [
    {
     "name": "stdout",
     "output_type": "stream",
     "text": [
      "[[[1. 0. 0.]\n",
      "  [0. 1. 0.]\n",
      "  [0. 0. 1.]]\n",
      "\n",
      " [[1. 0. 0.]\n",
      "  [0. 1. 0.]\n",
      "  [0. 0. 1.]]]\n",
      "h0:  [[1. 0. 0.]\n",
      " [0. 1. 0.]\n",
      " [0. 0. 1.]]\n",
      "h1:  [[1. 0. 0.]\n",
      " [0. 1. 0.]\n",
      " [0. 0. 1.]]\n"
     ]
    }
   ],
   "source": [
    "H=np.tile(np.identity(3), (2, 1,1))\n",
    "print(H)\n",
    "print(\"h0: \",H[0])\n",
    "print(\"h1: \",H[1])"
   ]
  },
  {
   "cell_type": "code",
   "execution_count": 30,
   "metadata": {},
   "outputs": [
    {
     "name": "stdout",
     "output_type": "stream",
     "text": [
      "[[ 2 -2 -2]]\n",
      "[[12]]\n",
      "[[ 4 -4 -4]\n",
      " [-4  4  4]\n",
      " [-4  4  4]]\n"
     ]
    },
    {
     "data": {
      "text/plain": [
       "array([[-5.,  6.,  6.],\n",
       "       [ 6., -5., -6.],\n",
       "       [ 6., -6., -5.]])"
      ]
     },
     "execution_count": 30,
     "metadata": {},
     "output_type": "execute_result"
    }
   ],
   "source": [
    "z=np.array([2,-2,-2]).reshape(1, -1)\n",
    "print(z)\n",
    "print(np.dot(z,z.T))\n",
    "print(np.dot(z.T,z))\n",
    "np.identity(3)-2*np.dot(z,z.T)/np.dot(z.T,z)"
   ]
  },
  {
   "cell_type": "code",
   "execution_count": 34,
   "metadata": {},
   "outputs": [
    {
     "name": "stdout",
     "output_type": "stream",
     "text": [
      "Q:\n",
      " [[ 0.33333333 -0.93333333 -0.13333333]\n",
      " [ 0.66666667  0.33333333 -0.66666667]\n",
      " [ 0.66666667  0.13333333  0.73333333]]\n",
      "R:\n",
      " [[ 3.00000000e+00  2.00000000e+00]\n",
      " [ 3.10862447e-16  5.00000000e+00]\n",
      " [ 4.44089210e-17 -8.88178420e-16]]\n"
     ]
    }
   ],
   "source": [
    "A = np.array([[1,-4], [2,3], [2,2]])\n",
    "Q, R = QR_Householder(A)\n",
    "print(\"Q:\\n\", Q)\n",
    "print(\"R:\\n\", R)"
   ]
  },
  {
   "cell_type": "code",
   "execution_count": 12,
   "metadata": {},
   "outputs": [
    {
     "name": "stdout",
     "output_type": "stream",
     "text": [
      "Q:\n",
      " [[ 0.33333333 -0.93333333 -0.13333333]\n",
      " [ 0.66666667  0.33333333 -0.66666667]\n",
      " [ 0.66666667  0.13333333  0.73333333]]\n",
      "R:\n",
      " [[ 3.00000000e+00  2.00000000e+00]\n",
      " [ 3.10862447e-16  5.00000000e+00]\n",
      " [ 4.44089210e-17 -8.88178420e-16]]\n"
     ]
    }
   ],
   "source": [
    "A = np.array([[1,-4], [2,3], [2,2]])\n",
    "Q, R = QR_Householder(A)\n",
    "print(\"Q:\\n\", Q)\n",
    "print(\"R:\\n\", R)"
   ]
  },
  {
   "cell_type": "code",
   "execution_count": null,
   "metadata": {},
   "outputs": [],
   "source": []
  }
 ],
 "metadata": {
  "kernelspec": {
   "display_name": "Python 3",
   "language": "python",
   "name": "python3"
  },
  "language_info": {
   "codemirror_mode": {
    "name": "ipython",
    "version": 3
   },
   "file_extension": ".py",
   "mimetype": "text/x-python",
   "name": "python",
   "nbconvert_exporter": "python",
   "pygments_lexer": "ipython3",
   "version": "3.7.6"
  }
 },
 "nbformat": 4,
 "nbformat_minor": 2
}