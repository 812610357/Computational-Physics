{
 "cells": [
  {
   "cell_type": "code",
   "execution_count": 1,
   "metadata": {},
   "outputs": [
    {
     "output_type": "stream",
     "name": "stdout",
     "text": [
      "[[7. 5. 9.]\n [4. 5. 6.]\n [5. 2. 3.]]\n[5. 2.]\nmax= 5.0\nnew:  [5. 2.]\n5 position:  (array([0]),)\n最大行号：  1\n"
     ]
    }
   ],
   "source": [
    "import numpy as np\n",
    "A=np.array([[5,2, 3],\n",
    "             [4,5,6],[7,5,9]],dtype=float)\n",
    "A[[0,2], :] = A[[2,0], :]\n",
    "print(A)\n",
    "print(A[1:,1])\n",
    "print('max=',np.max(A[1:,1]))\n",
    "\n",
    "id=np.where(A[1:,1]==5)\n",
    "print('new: ',A[1:,1])\n",
    "print('5 position: ',id)\n",
    "\n",
    "print('最大行号： ',id[0][0]+1)"
   ]
  },
  {
   "cell_type": "markdown",
   "metadata": {},
   "source": [
    "# 高斯消元"
   ]
  },
  {
   "cell_type": "code",
   "execution_count": 2,
   "metadata": {},
   "outputs": [],
   "source": [
    "def Gaussian_elimination(equation):\n",
    "    A = equation.copy()\n",
    "    m, n = A.shape\n",
    "\n",
    "    for i in range(m):  #化为上三角矩阵\n",
    "        A[i] = A[i] / A[i, i]\n",
    "        for j in range(i+1, m):\n",
    "            A[j] -= A[j, i]*A[i]\n",
    "\n",
    "    for i in range(m-1, 0, -1): # 化为对角矩阵\n",
    "        for j in range(i):\n",
    "            A[j] -= A[j, i]*A[i]\n",
    "            \n",
    "    return A"
   ]
  },
  {
   "cell_type": "markdown",
   "metadata": {},
   "source": [
    "# LU分解"
   ]
  },
  {
   "cell_type": "code",
   "execution_count": 3,
   "metadata": {},
   "outputs": [],
   "source": [
    "def LU(A):\n",
    "    m = A.shape[0]\n",
    "    L = np.identity(m)\n",
    "    U = A.copy()\n",
    "\n",
    "    for i in range(m):\n",
    "        for j in range(i+1, m):\n",
    "            if U[i, i] == 0:\n",
    "                raise ValueError(\"The matrix contains a zero pivot.\")\n",
    "            a = U[j, i] / U[i, i]\n",
    "            L[j, i] = a\n",
    "            U[j] -= a * U[i]\n",
    "    \n",
    "    return L, U\n",
    "\n",
    "def Lsolve(L,b):\n",
    "    m,n=L.shape\n",
    "    k=b.size\n",
    "    x=np.zeros(k)\n",
    "    print(m,n,k)\n",
    "    \n",
    "    for i in range(0,n,1):\n",
    "        x[i]=b[i]\n",
    "        for j in range(0,i,1):\n",
    "            x[i]=x[i]-L[i,j]*x[j]\n",
    "        x[i]=x[i]/L[i,i]\n",
    "        print(x[i])\n",
    "    return x\n",
    "\n",
    "def Usolve(U,b):\n",
    "    m,n=U.shape\n",
    "    k=b.size\n",
    "    x=np.zeros(k)\n",
    "    print(m,n,k)\n",
    "    \n",
    "    for i in range(n-1,-1,-1):\n",
    "        x[i]=b[i]\n",
    "        for j in range(i+1,n,1):\n",
    "            x[i]=x[i]-U[i,j]*x[j]\n",
    "        x[i]=x[i]/U[i,i]\n",
    "    return x"
   ]
  },
  {
   "cell_type": "markdown",
   "metadata": {},
   "source": [
    "# PLU分解"
   ]
  },
  {
   "cell_type": "code",
   "execution_count": 4,
   "metadata": {},
   "outputs": [],
   "source": [
    "def PLU(A):\n",
    "    m = A.shape[0]\n",
    "    L = np.zeros((m,m))\n",
    "    U = A.copy()\n",
    "    P = np.identity(m)\n",
    "    for i in range(m):\n",
    "        # add permutation\n",
    "        id=np.where(abs(U[i:,i])==np.max(abs(U[i:,i])))\n",
    "        #print(id,'At: ',i)\n",
    "        rmax=id[0][0]+i\n",
    "        if(rmax!=i):\n",
    "            U[[i,rmax], :] = U[[rmax,i], :]\n",
    "            P[[i,rmax], :] = P[[rmax,i], :]\n",
    "            L[[i,rmax], :] = L[[rmax,i], :]\n",
    "        #print('P=',P)\n",
    "        # UL factorization\n",
    "        for j in range(i+1, m):\n",
    "            if U[i, i] == 0:\n",
    "                raise ValueError(\"The matrix contains a zero pivot.\")\n",
    "            a = U[j, i] / U[i, i]\n",
    "            L[j, i] = a\n",
    "            U[j] -= a * U[i]\n",
    "    L=L+np.identity(m)\n",
    "    return P, L, U"
   ]
  },
  {
   "cell_type": "code",
   "execution_count": 5,
   "metadata": {},
   "outputs": [],
   "source": [
    "import numpy as np\n",
    "A=np.array([[2,1, 5],\n",
    "             [4,4,-4],[1,3,1]],dtype=float)\n",
    "b=np.array([5,0, 6],dtype=float)\n",
    "b2=np.expand_dims(b,axis=0)\n",
    "B=np.concatenate((A,b2.T),axis=1)"
   ]
  },
  {
   "cell_type": "code",
   "execution_count": 6,
   "metadata": {},
   "outputs": [
    {
     "output_type": "stream",
     "name": "stdout",
     "text": [
      "x: [-1.  2.  1.]\n"
     ]
    }
   ],
   "source": [
    "print(\"x:\", Gaussian_elimination(B)[:, -1])"
   ]
  },
  {
   "cell_type": "code",
   "execution_count": 7,
   "metadata": {},
   "outputs": [
    {
     "output_type": "stream",
     "name": "stdout",
     "text": [
      "3 3 3\n5.0\n-10.0\n16.0\n3 3 3\nx= [-1.  2.  1.]\n"
     ]
    }
   ],
   "source": [
    "L,U=LU(A)\n",
    "y=Lsolve(L,b)\n",
    "x=Usolve(U,y)\n",
    "print('x=',x)"
   ]
  },
  {
   "cell_type": "code",
   "execution_count": 8,
   "metadata": {},
   "outputs": [
    {
     "output_type": "stream",
     "name": "stdout",
     "text": [
      "3 3 3\n0.0\n6.0\n8.0\n3 3 3\nx= [-1.  2.  1.]\n"
     ]
    }
   ],
   "source": [
    "P, L, U=PLU(A)\n",
    "y=Lsolve(L, np.dot(P,b))\n",
    "x=Usolve(U,y)\n",
    "print('x=',x)"
   ]
  },
  {
   "cell_type": "markdown",
   "metadata": {},
   "source": [
    "# 雅可比迭代"
   ]
  },
  {
   "cell_type": "code",
   "execution_count": 9,
   "metadata": {},
   "outputs": [],
   "source": [
    "import numpy as np\n",
    "def Jacobi(A, b2, iter_n, initial_guess=0):\n",
    "    n = len(A)\n",
    "    \n",
    "    D = np.diag(A)\n",
    "    print(D)\n",
    "    print(np.diag(D))\n",
    "    R = A - np.diag(D)\n",
    "    x_i = initial_guess * np.ones(n)\n",
    "    for i in range(iter_n):\n",
    "        print('x_',i,'=',x_i)\n",
    "        x_i = (b2 - R.dot(x_i)) / D\n",
    "    \n",
    "    return x_i"
   ]
  },
  {
   "cell_type": "code",
   "execution_count": 10,
   "metadata": {},
   "outputs": [
    {
     "output_type": "stream",
     "name": "stdout",
     "text": [
      "[3.  0.5]\n"
     ]
    }
   ],
   "source": [
    "\n",
    "A=np.array([3,2])\n",
    "B=np.array([1,4])\n",
    "print(A/B)\n"
   ]
  },
  {
   "cell_type": "code",
   "execution_count": 11,
   "metadata": {},
   "outputs": [
    {
     "output_type": "stream",
     "name": "stdout",
     "text": [
      "[3 2]\n[[3 0]\n [0 2]]\nx_ 0 = [0. 0.]\nx_ 1 = [1.66666667 2.5       ]\nx_ 2 = [0.83333333 1.66666667]\nx_ 3 = [1.11111111 2.08333333]\nx_ 4 = [0.97222222 1.94444444]\nx_ 5 = [1.01851852 2.01388889]\nx_ 6 = [0.99537037 1.99074074]\nx_ 7 = [1.00308642 2.00231481]\nx_ 8 = [0.9992284  1.99845679]\nx_ 9 = [1.0005144 2.0003858]\nx_ 10 = [0.9998714 1.9997428]\nx_ 11 = [1.00008573 2.0000643 ]\nx_ 12 = [0.99997857 1.99995713]\nx_ 13 = [1.00001429 2.00001072]\nx_ 14 = [0.99999643 1.99999286]\nx_ 15 = [1.00000238 2.00000179]\nx_ 16 = [0.9999994  1.99999881]\nx_ 17 = [1.0000004 2.0000003]\nx_ 18 = [0.9999999 1.9999998]\nx_ 19 = [1.00000007 2.00000005]\n[0.99999998 1.99999997]\n"
     ]
    }
   ],
   "source": [
    "A=np.array([[3, 1],\n",
    "             [1,2]])\n",
    "b=np.array([5,5])\n",
    "x0=np.array([0,0])\n",
    "print(Jacobi(A,b,20,x0))"
   ]
  },
  {
   "cell_type": "code",
   "execution_count": 12,
   "metadata": {},
   "outputs": [
    {
     "output_type": "stream",
     "name": "stdout",
     "text": [
      "A= [[1 2]\n [3 1]]\n[1 1]\n[[1 0]\n [0 1]]\nx_ 0 = [0. 0.]\nx_ 1 = [5. 5.]\nx_ 2 = [ -5. -10.]\nx_ 3 = [25. 20.]\nx_ 4 = [-35. -70.]\nx_ 5 = [145. 110.]\nx_ 6 = [-215. -430.]\nx_ 7 = [865. 650.]\nx_ 8 = [-1295. -2590.]\nx_ 9 = [5185. 3890.]\nx_ 10 = [ -7775. -15550.]\nx_ 11 = [31105. 23330.]\nx_ 12 = [-46655. -93310.]\nx_ 13 = [186625. 139970.]\nx_ 14 = [-279935. -559870.]\nx_ 15 = [1119745.  839810.]\nx_ 16 = [-1679615. -3359230.]\nx_ 17 = [6718465. 5038850.]\nx_ 18 = [-10077695. -20155390.]\nx_ 19 = [40310785. 30233090.]\n[-6.0466175e+07 -1.2093235e+08]\n"
     ]
    }
   ],
   "source": [
    "A=np.array([[3, 1],\n",
    "             [1,2]])\n",
    "A[[0,1],:]=A[[1,0],:]\n",
    "print('A=',A)\n",
    "b=np.array([5,5])\n",
    "x0=np.array([0,0])\n",
    "print(Jacobi(A,b,20,x0))"
   ]
  },
  {
   "cell_type": "markdown",
   "metadata": {},
   "source": [
    "# 例2"
   ]
  },
  {
   "cell_type": "code",
   "execution_count": 13,
   "metadata": {},
   "outputs": [],
   "source": [
    "def A_ij(n):\n",
    "    A = np.ones((n, n))\n",
    "    for i in range(n):\n",
    "        A[i, i] = n+1\n",
    "    return A\n",
    "\n",
    "def b_i(n):\n",
    "    b=2*n*np.ones(n)\n",
    "    return b\n",
    "\n",
    "def x0(n):\n",
    "    return np.zeros(n)"
   ]
  },
  {
   "cell_type": "code",
   "execution_count": 14,
   "metadata": {},
   "outputs": [
    {
     "output_type": "stream",
     "name": "stdout",
     "text": [
      "[[6. 1. 1. 1. 1.]\n [1. 6. 1. 1. 1.]\n [1. 1. 6. 1. 1.]\n [1. 1. 1. 6. 1.]\n [1. 1. 1. 1. 6.]] [10. 10. 10. 10. 10.] [0. 0. 0. 0. 0.]\n"
     ]
    }
   ],
   "source": [
    "print(A_ij(5),b_i(5),x0(5))"
   ]
  },
  {
   "cell_type": "code",
   "execution_count": 15,
   "metadata": {},
   "outputs": [],
   "source": [
    "def Jacobi(A, b2, iter_n, initial_guess=0):\n",
    "    n = len(A)\n",
    "    \n",
    "    D = np.diag(A)\n",
    "    print(D)\n",
    "    print(np.diag(D))\n",
    "    R = A - np.diag(D)\n",
    "    x_i = initial_guess * np.ones(n)\n",
    "    for i in range(iter_n):\n",
    "#        print('x_',i,'=',x_i)\n",
    "        x_i = (b2 - R.dot(x_i)) / D\n",
    "    \n",
    "    return x_i"
   ]
  },
  {
   "cell_type": "code",
   "execution_count": 16,
   "metadata": {},
   "outputs": [
    {
     "output_type": "stream",
     "name": "stdout",
     "text": [
      "[101. 101. 101. 101. 101. 101. 101. 101. 101. 101. 101. 101. 101. 101.\n",
      " 101. 101. 101. 101. 101. 101. 101. 101. 101. 101. 101. 101. 101. 101.\n",
      " 101. 101. 101. 101. 101. 101. 101. 101. 101. 101. 101. 101. 101. 101.\n",
      " 101. 101. 101. 101. 101. 101. 101. 101. 101. 101. 101. 101. 101. 101.\n",
      " 101. 101. 101. 101. 101. 101. 101. 101. 101. 101. 101. 101. 101. 101.\n",
      " 101. 101. 101. 101. 101. 101. 101. 101. 101. 101. 101. 101. 101. 101.\n",
      " 101. 101. 101. 101. 101. 101. 101. 101. 101. 101. 101. 101. 101. 101.\n",
      " 101. 101.]\n",
      "[[101.   0.   0. ...   0.   0.   0.]\n",
      " [  0. 101.   0. ...   0.   0.   0.]\n",
      " [  0.   0. 101. ...   0.   0.   0.]\n",
      " ...\n",
      " [  0.   0.   0. ... 101.   0.   0.]\n",
      " [  0.   0.   0. ...   0. 101.   0.]\n",
      " [  0.   0.   0. ...   0.   0. 101.]]\n",
      "[0.75341454 0.75341454 0.75341454 0.75341454 0.75341454 0.75341454\n",
      " 0.75341454 0.75341454 0.75341454 0.75341454 0.75341454 0.75341454\n",
      " 0.75341454 0.75341454 0.75341454 0.75341454 0.75341454 0.75341454\n",
      " 0.75341454 0.75341454 0.75341454 0.75341454 0.75341454 0.75341454\n",
      " 0.75341454 0.75341454 0.75341454 0.75341454 0.75341454 0.75341454\n",
      " 0.75341454 0.75341454 0.75341454 0.75341454 0.75341454 0.75341454\n",
      " 0.75341454 0.75341454 0.75341454 0.75341454 0.75341454 0.75341454\n",
      " 0.75341454 0.75341454 0.75341454 0.75341454 0.75341454 0.75341454\n",
      " 0.75341454 0.75341454 0.75341454 0.75341454 0.75341454 0.75341454\n",
      " 0.75341454 0.75341454 0.75341454 0.75341454 0.75341454 0.75341454\n",
      " 0.75341454 0.75341454 0.75341454 0.75341454 0.75341454 0.75341454\n",
      " 0.75341454 0.75341454 0.75341454 0.75341454 0.75341454 0.75341454\n",
      " 0.75341454 0.75341454 0.75341454 0.75341454 0.75341454 0.75341454\n",
      " 0.75341454 0.75341454 0.75341454 0.75341454 0.75341454 0.75341454\n",
      " 0.75341454 0.75341454 0.75341454 0.75341454 0.75341454 0.75341454\n",
      " 0.75341454 0.75341454 0.75341454 0.75341454 0.75341454 0.75341454\n",
      " 0.75341454 0.75341454 0.75341454 0.75341454]\n"
     ]
    }
   ],
   "source": [
    "n=100\n",
    "print(Jacobi(A_ij(n),b_i(n),70,x0(n)))"
   ]
  },
  {
   "cell_type": "code",
   "execution_count": 17,
   "metadata": {},
   "outputs": [
    {
     "output_type": "error",
     "ename": "NameError",
     "evalue": "name 'Gauss_Seidel' is not defined",
     "traceback": [
      "\u001b[0;31m---------------------------------------------------------------------------\u001b[0m",
      "\u001b[0;31mNameError\u001b[0m                                 Traceback (most recent call last)",
      "\u001b[0;32m<ipython-input-17-2f9ebd922258>\u001b[0m in \u001b[0;36m<module>\u001b[0;34m\u001b[0m\n\u001b[0;32m----> 1\u001b[0;31m \u001b[0mprint\u001b[0m\u001b[0;34m(\u001b[0m\u001b[0mGauss_Seidel\u001b[0m\u001b[0;34m(\u001b[0m\u001b[0mA_ij\u001b[0m\u001b[0;34m(\u001b[0m\u001b[0mn\u001b[0m\u001b[0;34m)\u001b[0m\u001b[0;34m,\u001b[0m\u001b[0mb_i\u001b[0m\u001b[0;34m(\u001b[0m\u001b[0mn\u001b[0m\u001b[0;34m)\u001b[0m\u001b[0;34m,\u001b[0m\u001b[0;36m30\u001b[0m\u001b[0;34m,\u001b[0m\u001b[0mx0\u001b[0m\u001b[0;34m(\u001b[0m\u001b[0mn\u001b[0m\u001b[0;34m)\u001b[0m\u001b[0;34m)\u001b[0m\u001b[0;34m)\u001b[0m\u001b[0;34m\u001b[0m\u001b[0;34m\u001b[0m\u001b[0m\n\u001b[0m",
      "\u001b[0;31mNameError\u001b[0m: name 'Gauss_Seidel' is not defined"
     ]
    }
   ],
   "source": [
    "print(Gauss_Seidel(A_ij(n),b_i(n),30,x0(n)))"
   ]
  },
  {
   "cell_type": "markdown",
   "metadata": {},
   "source": [
    "# 高斯-塞德尔"
   ]
  },
  {
   "cell_type": "code",
   "execution_count": 44,
   "metadata": {},
   "outputs": [],
   "source": [
    "def Gauss_Seidel(A, b, iter_n, initial_guess=0):\n",
    "    n = len(A)\n",
    "    \n",
    "    D = np.diag(A)\n",
    "    #print('D=',D)\n",
    "    #print('diag(D)=',np.diag(D))\n",
    "    L = np.tril(A) - np.diag(D)\n",
    "    #print('L=',L)\n",
    "    U = np.triu(A) - np.diag(D)\n",
    "    #print('U=',U)\n",
    "    \n",
    "    x_i = initial_guess * np.ones(n)\n",
    "    x_ii = x_i.copy()\n",
    "    \n",
    "    for i in range(iter_n):\n",
    "        for k in range(n):\n",
    "            x_ii[k] = (b[k] - U[k].dot(x_i) - L[k].dot(x_ii)) / D[k]\n",
    "        print('x_',i,'=',x_i)\n",
    "        x_i = x_ii.copy()\n",
    "        \n",
    "    return x_i"
   ]
  },
  {
   "cell_type": "code",
   "execution_count": null,
   "metadata": {},
   "outputs": [],
   "source": []
  },
  {
   "cell_type": "code",
   "execution_count": 39,
   "metadata": {},
   "outputs": [],
   "source": [
    "a=np.array([1,2,3])\n",
    "b1=a\n",
    "b2=a.copy()"
   ]
  },
  {
   "cell_type": "code",
   "execution_count": 40,
   "metadata": {},
   "outputs": [
    {
     "name": "stdout",
     "output_type": "stream",
     "text": [
      "[1 2 3] [1 2 3] [1 2 3]\n",
      "[1 0 3] [1 0 3] [1 2 3]\n"
     ]
    }
   ],
   "source": [
    "print(a,b1,b2)\n",
    "b1[1]=0\n",
    "print(a,b1,b2)"
   ]
  },
  {
   "cell_type": "code",
   "execution_count": 55,
   "metadata": {},
   "outputs": [
    {
     "name": "stdout",
     "output_type": "stream",
     "text": [
      "[1 2 3] [1 2 3] [1 2 3]\n",
      "[1 2 3] [1 2 3] [1 0 3]\n"
     ]
    }
   ],
   "source": [
    "print(a,b1,b2)\n",
    "b2[1]=0\n",
    "print(a,b1,b2)"
   ]
  },
  {
   "cell_type": "code",
   "execution_count": 41,
   "metadata": {},
   "outputs": [
    {
     "name": "stdout",
     "output_type": "stream",
     "text": [
      "x_ 0 = [0. 0.]\n",
      "x_ 1 = [1.66666667 1.66666667]\n",
      "x_ 2 = [1.11111111 1.94444444]\n",
      "x_ 3 = [1.01851852 1.99074074]\n",
      "x_ 4 = [1.00308642 1.99845679]\n",
      "x_ 5 = [1.0005144 1.9997428]\n",
      "x_ 6 = [1.00008573 1.99995713]\n",
      "x_ 7 = [1.00001429 1.99999286]\n",
      "x_ 8 = [1.00000238 1.99999881]\n",
      "x_ 9 = [1.0000004 1.9999998]\n",
      "x_ 10 = [1.00000007 1.99999997]\n",
      "x_ 11 = [1.00000001 1.99999999]\n",
      "x_ 12 = [1. 2.]\n",
      "x_ 13 = [1. 2.]\n",
      "x_ 14 = [1. 2.]\n",
      "x_ 15 = [1. 2.]\n",
      "x_ 16 = [1. 2.]\n",
      "x_ 17 = [1. 2.]\n",
      "x_ 18 = [1. 2.]\n",
      "x_ 19 = [1. 2.]\n",
      "[1. 2.]\n"
     ]
    }
   ],
   "source": [
    "A=np.array([[3, 1],\n",
    "             [1,2]])\n",
    "b=np.array([5,5])\n",
    "x0=np.array([0,0])\n",
    "print(Gauss_Seidel(A,b,20,x0))"
   ]
  },
  {
   "cell_type": "markdown",
   "metadata": {},
   "source": [
    "# 例3"
   ]
  },
  {
   "cell_type": "code",
   "execution_count": 45,
   "metadata": {},
   "outputs": [
    {
     "name": "stdout",
     "output_type": "stream",
     "text": [
      "Jacobi\n",
      "[3 4 5]\n",
      "[[3 0 0]\n",
      " [0 4 0]\n",
      " [0 0 5]]\n",
      "x_ 0 = [0. 0. 0.]\n",
      "x_ 1 = [1.33333333 0.25       0.2       ]\n",
      "x_ 2 = [ 1.31666667 -0.46666667  0.36666667]\n",
      "x_ 3 = [ 1.61111111 -0.5         0.65      ]\n",
      "x_ 4 = [ 1.71666667 -0.71805556  0.72222222]\n",
      "x_ 5 = [ 1.81342593 -0.78888889  0.83055556]\n",
      "x_ 6 = [ 1.87314815 -0.86435185  0.87824074]\n",
      "x_ 7 = [ 1.91419753 -0.90613426  0.92037037]\n",
      "x_ 8 = [ 1.94216821 -0.93719136  0.94529321]\n",
      "x_ 9 = [ 1.96082819 -0.95740741  0.96331019]\n",
      "x_ 10 = [ 1.97357253 -0.97124164  0.9751286 ]\n",
      "x_ 11 = [ 1.98212341 -0.98056842  0.98321116]\n",
      "x_ 12 = [ 1.98792653 -0.9868645   0.98865205]\n",
      "x_ 13 = [ 1.99183885 -0.99112628  0.9923311 ]\n",
      "x_ 14 = [ 1.99448579 -0.9940022   0.99481828]\n",
      "x_ 15 = [ 1.99627349 -0.99594747  0.99649804]\n",
      "x_ 16 = [ 1.99748184 -0.99726126  0.99763369]\n",
      "x_ 17 = [ 1.99829831 -0.99814934  0.99840087]\n",
      "x_ 18 = [ 1.99885007 -0.99874937  0.9989194 ]\n",
      "x_ 19 = [ 1.99922292 -0.99915488  0.99926976]\n",
      "[ 1.99947488 -0.9994289   0.99950654]\n",
      "Gauss_Seidel\n",
      "x_ 0 = [0. 0. 0.]\n",
      "x_ 1 = [ 1.33333333 -0.41666667  0.63333333]\n",
      "x_ 2 = [ 1.68333333 -0.75        0.83666667]\n",
      "x_ 3 = [ 1.86222222 -0.89027778  0.92855556]\n",
      "x_ 4 = [ 1.93961111 -0.95194444  0.9687    ]\n",
      "x_ 5 = [ 1.97354815 -0.97894907  0.98628926]\n",
      "x_ 6 = [ 1.98841278 -0.9907787   0.99399404]\n",
      "x_ 7 = [ 1.99492425 -0.99596063  0.9973691 ]\n",
      "x_ 8 = [ 1.99777658 -0.99823056  0.99884754]\n",
      "x_ 9 = [ 1.99902604 -0.9992249   0.99949517]\n",
      "x_ 10 = [ 1.99957336 -0.99966047  0.99977886]\n",
      "x_ 11 = [ 1.99981311 -0.99985127  0.99990313]\n",
      "x_ 12 = [ 1.99991813 -0.99993485  0.99995757]\n",
      "x_ 13 = [ 1.99996414 -0.99997146  0.99998141]\n",
      "x_ 14 = [ 1.99998429 -0.9999875   0.99999186]\n",
      "x_ 15 = [ 1.99999312 -0.99999452  0.99999643]\n",
      "x_ 16 = [ 1.99999699 -0.9999976   0.99999844]\n",
      "x_ 17 = [ 1.99999868 -0.99999895  0.99999932]\n",
      "x_ 18 = [ 1.99999942 -0.99999954  0.9999997 ]\n",
      "x_ 19 = [ 1.99999975 -0.9999998   0.99999987]\n",
      "[ 1.99999989 -0.99999991  0.99999994]\n"
     ]
    }
   ],
   "source": [
    "A=np.array([[3, 1,-1],\n",
    "             [2,4,1],[-1,2,5]])\n",
    "b=np.array([4,1,1])\n",
    "x0=np.array([0,0,0])\n",
    "print('Jacobi')\n",
    "print(Jacobi(A,b,20,x0))\n",
    "print('Gauss_Seidel')\n",
    "print(Gauss_Seidel(A,b,20,x0))"
   ]
  },
  {
   "cell_type": "markdown",
   "metadata": {},
   "source": [
    "# 连续过松弛 SOR"
   ]
  },
  {
   "cell_type": "code",
   "execution_count": 46,
   "metadata": {},
   "outputs": [],
   "source": [
    "def SOR(A, b, w, iter_n, initial_guess=0):\n",
    "    n = len(A)\n",
    "    \n",
    "    D = np.diag(A)\n",
    "    L = np.tril(A) - np.diag(D)\n",
    "    U = np.triu(A) - np.diag(D)\n",
    "    \n",
    "    x_i = initial_guess * np.ones(n)\n",
    "    \n",
    "    for i in range(iter_n):\n",
    "        print('x_',i,'=',x_i)\n",
    "        x_i = np.linalg.inv(w*L + np.diag(D)).dot((1 - w)*np.diag(D).dot(x_i) - w*U.dot(x_i)) + \\\n",
    "        w*np.linalg.inv(np.diag(D) + w*L).dot(b)\n",
    "        \n",
    "    return x_i"
   ]
  },
  {
   "cell_type": "code",
   "execution_count": 47,
   "metadata": {},
   "outputs": [],
   "source": [
    "def SOR2(A, b, w, iter_n, initial_guess=0):\n",
    "    n = len(A)\n",
    "    \n",
    "    D = np.diag(A)\n",
    "    L = np.tril(A) - np.diag(D)\n",
    "    U = np.triu(A) - np.diag(D)\n",
    "    matinv=np.linalg.inv(w*L + np.diag(D))\n",
    "    \n",
    "    x_i = initial_guess * np.ones(n)\n",
    "    \n",
    "    for i in range(iter_n):\n",
    "        print('x_',i,'=',x_i)\n",
    "        x_i = matinv.dot((1 - w)*np.diag(D).dot(x_i) - w*U.dot(x_i)) + \\\n",
    "        w*matinv.dot(b)\n",
    "        \n",
    "    return x_i"
   ]
  },
  {
   "cell_type": "code",
   "execution_count": 48,
   "metadata": {},
   "outputs": [
    {
     "name": "stdout",
     "output_type": "stream",
     "text": [
      "x_ 0 = [0. 0. 0.]\n",
      "x_ 1 = [ 1.66666667 -0.72916667  1.03125   ]\n",
      "x_ 2 = [ 1.98350694 -1.0671658   1.02164714]\n",
      "x_ 3 = [ 2.04112865 -1.01567869  1.01270972]\n",
      "x_ 4 = [ 2.00154634 -1.00101858  0.99771844]\n",
      "x_ 5 = [ 1.99908717 -0.99846185  0.99957311]\n",
      "x_ 6 = [ 1.99940944 -0.99988203  0.9999001 ]\n",
      "x_ 7 = [ 2.00005686 -1.00003381  1.0000561 ]\n",
      "x_ 8 = [ 2.00002325 -1.00002361  1.00000359]\n",
      "x_ 9 = [ 2.00000552 -0.99999867  0.99999982]\n",
      "x_ 10 = [ 1.99999799 -0.99999902  0.99999905]\n",
      "x_ 11 = [ 1.9999997  -0.99999976  1.00000004]\n",
      "x_ 12 = [ 1.99999999 -1.00000007  1.00000002]\n",
      "x_ 13 = [ 2.00000004 -1.00000001  1.00000001]\n",
      "x_ 14 = [ 2. -1.  1.]\n",
      "x_ 15 = [ 2. -1.  1.]\n",
      "x_ 16 = [ 2. -1.  1.]\n",
      "x_ 17 = [ 2. -1.  1.]\n",
      "x_ 18 = [ 2. -1.  1.]\n",
      "x_ 19 = [ 2. -1.  1.]\n",
      "[ 2. -1.  1.]\n"
     ]
    }
   ],
   "source": [
    "A=np.array([[3, 1,-1],\n",
    "             [2,4,1],[-1,2,5]])\n",
    "b=np.array([4,1,1])\n",
    "x0=np.array([0,0,0])\n",
    "print(SOR2(A,b,1.25,20,x0))"
   ]
  },
  {
   "cell_type": "code",
   "execution_count": 52,
   "metadata": {},
   "outputs": [
    {
     "name": "stdout",
     "output_type": "stream",
     "text": [
      "x_ 0 = [0. 0. 0.]\n",
      "x_ 1 = [ 0.8    -0.09    0.2376]\n",
      "x_ 2 = [ 1.18552    -0.277296    0.42385344]\n",
      "x_ 3 = [ 1.41443789 -0.44882778  0.56699259]\n",
      "x_ 4 = [ 1.56893923 -0.58526177  0.67553257]\n",
      "x_ 5 = [ 1.67973456 -0.68935496  0.75722637]\n",
      "x_ 6 = [ 1.76121009 -0.76768897  0.81848111]\n",
      "x_ 7 = [ 1.82171805 -0.82636317  0.86432577]\n",
      "x_ 8 = [ 1.86682501 -0.87024164  0.8986073 ]\n",
      "x_ 9 = [ 1.90049979 -0.90303769  0.92423194]\n",
      "x_ 10 = [ 1.92565384 -0.92754602  0.94338228]\n",
      "x_ 11 = [ 1.9444472  -0.94585991  0.95769295]\n",
      "x_ 12 = [ 1.95848945 -0.95954474  0.96838665]\n",
      "x_ 13 = [ 1.96898206 -0.96977051  0.97637743]\n",
      "x_ 14 = [ 1.97682241 -0.97741154  0.98234843]\n",
      "x_ 15 = [ 1.98268096 -0.98312117  0.98681017]\n",
      "x_ 16 = [ 1.98705865 -0.98738759  0.99014413]\n",
      "x_ 17 = [ 1.9903298  -0.9905756   0.99263537]\n",
      "x_ 18 = [ 1.99277411 -0.99295778  0.99449691]\n",
      "x_ 19 = [ 1.99460058 -0.99473782  0.99588791]\n",
      "[ 1.99596538 -0.99606793  0.99692731]\n"
     ]
    }
   ],
   "source": [
    "A=np.array([[3, 1,-1],\n",
    "             [2,4,1],[-1,2,5]])\n",
    "b=np.array([4,1,1])\n",
    "x0=np.array([0,0,0])\n",
    "print(SOR(A,b,0.6,20,x0))"
   ]
  },
  {
   "cell_type": "code",
   "execution_count": 53,
   "metadata": {},
   "outputs": [
    {
     "name": "stdout",
     "output_type": "stream",
     "text": [
      "x_ 0 = [0. 0. 0.]\n",
      "x_ 1 = [ 2.66666667 -2.16666667  3.2       ]\n",
      "x_ 2 = [ 3.57777778 -2.51111111  0.64      ]\n",
      "x_ 3 = [ 1.18962963  1.50148148 -0.96533333]\n",
      "x_ 4 = [-0.16750617 -0.35130864  1.57937778]\n",
      "x_ 5 = [ 4.12129712 -4.05967737  3.71688296]\n",
      "x_ 6 = [ 3.7297431  -1.02850722 -1.00217995]\n",
      "x_ 7 = [-1.04552492  3.07512211 -1.47612771]\n",
      "x_ 8 = [ 0.67802504 -2.5150833   4.15940437]\n",
      "x_ 9 = [ 6.43830007 -5.50291895  3.21825082]\n",
      "x_ 10 = [ 2.04247978  2.35131376 -3.88230992]\n",
      "x_ 11 = [-3.53156223  3.62140343 -0.02743772]\n",
      "x_ 12 = [ 3.76566813 -6.8733527   7.43238714]\n",
      "x_ 13 = [ 8.43815843 -4.7809993   0.16767567]\n",
      "x_ 14 = [-2.47237512  7.66953658 -6.89225498]\n",
      "x_ 15 = [-4.56881925  0.84541017  4.78839915]\n",
      "x_ 16 = [  9.86414524 -12.60375498   9.64026293]\n",
      "x_ 17 = [ 7.6318667   0.65175681 -6.7089217 ]\n",
      "x_ 18 = [-9.87231904 13.07502309 -7.30002438]\n",
      "x_ 19 = [-1.04437927 -7.88063162 13.58677798]\n",
      "[ 18.02265234 -16.4354097    7.17061072]\n"
     ]
    }
   ],
   "source": [
    "A=np.array([[3, 1,-1],\n",
    "             [2,4,1],[-1,2,5]])\n",
    "b=np.array([4,1,1])\n",
    "x0=np.array([0,0,0])\n",
    "print(SOR(A,b,2.0,20,x0))"
   ]
  },
  {
   "cell_type": "markdown",
   "metadata": {},
   "source": [
    "# 稀疏矩阵"
   ]
  },
  {
   "cell_type": "code",
   "execution_count": 54,
   "metadata": {},
   "outputs": [],
   "source": [
    "import numpy as np\n",
    "def A_ij(n):\n",
    "    A = np.zeros((n, n))\n",
    "    for i in range(n):\n",
    "        A[i,n-1-i]=0.5\n",
    "    for i in range(n):\n",
    "        A[i, i] = 3\n",
    "        if i < n-1:\n",
    "            A[i, i+1] = -1\n",
    "            A[i+1, i] = -1\n",
    "\n",
    "    return A\n",
    "\n",
    "def b_i(n):\n",
    "    b=np.zeros(n)\n",
    "    for i in range(n):\n",
    "        b[i]=1.5\n",
    "    b[0]=2.5\n",
    "    b[n-1]=2.5\n",
    "    n2=int(n/2)\n",
    "    b[n2-1]=1\n",
    "    b[n2]=1\n",
    "    return b"
   ]
  },
  {
   "cell_type": "code",
   "execution_count": 55,
   "metadata": {},
   "outputs": [
    {
     "name": "stdout",
     "output_type": "stream",
     "text": [
      "[[ 3.  -1.   0.   0.   0.   0.   0.   0.   0.   0.5]\n",
      " [-1.   3.  -1.   0.   0.   0.   0.   0.   0.5  0. ]\n",
      " [ 0.  -1.   3.  -1.   0.   0.   0.   0.5  0.   0. ]\n",
      " [ 0.   0.  -1.   3.  -1.   0.   0.5  0.   0.   0. ]\n",
      " [ 0.   0.   0.  -1.   3.  -1.   0.   0.   0.   0. ]\n",
      " [ 0.   0.   0.   0.  -1.   3.  -1.   0.   0.   0. ]\n",
      " [ 0.   0.   0.   0.5  0.  -1.   3.  -1.   0.   0. ]\n",
      " [ 0.   0.   0.5  0.   0.   0.  -1.   3.  -1.   0. ]\n",
      " [ 0.   0.5  0.   0.   0.   0.   0.  -1.   3.  -1. ]\n",
      " [ 0.5  0.   0.   0.   0.   0.   0.   0.  -1.   3. ]]\n",
      "[2.5 1.5 1.5 1.5 1.  1.  1.5 1.5 1.5 2.5]\n"
     ]
    }
   ],
   "source": [
    "print(A_ij(10))\n",
    "print(b_i(10))"
   ]
  },
  {
   "cell_type": "markdown",
   "metadata": {},
   "source": [
    "# 迭代"
   ]
  },
  {
   "cell_type": "code",
   "execution_count": 57,
   "metadata": {},
   "outputs": [],
   "source": [
    "import numpy as np\n",
    "\n",
    "def Jacobi(A, b, iter_n, initial_guess=0):\n",
    "    n = len(A)\n",
    "    D = np.diag(A)\n",
    "    R = A - np.diag(D)\n",
    "    x_i = initial_guess * np.ones(n)\n",
    "    for i in range(iter_n):\n",
    "        x_i = (b - R.dot(x_i)) / D\n",
    "    return x_i\n",
    "\n",
    "def Gauss_Seidel(A, b, iter_n, initial_guess=0):\n",
    "    n = len(A)\n",
    "    D = np.diag(A)\n",
    "    L = np.tril(A) - np.diag(D)\n",
    "    U = np.triu(A) - np.diag(D)\n",
    "    x_i = initial_guess * np.ones(n)\n",
    "    x_ii = x_i.copy()\n",
    "    for i in range(iter_n):\n",
    "        for k in range(n):\n",
    "            x_ii[k] = (b[k] - U[k].dot(x_i) - L[k].dot(x_ii)) / D[k]\n",
    "        x_i = x_ii.copy()\n",
    "    return x_i\n",
    "\n",
    "def SOR(A, b, w, iter_n, initial_guess=0):\n",
    "    n = len(A)\n",
    "    \n",
    "    D = np.diag(A)\n",
    "    L = np.tril(A) - np.diag(D)\n",
    "    U = np.triu(A) - np.diag(D)\n",
    "    matinv=np.linalg.inv(w*L + np.diag(D))\n",
    "    \n",
    "    x_i = initial_guess * np.ones(n)\n",
    "    \n",
    "    for i in range(iter_n):\n",
    "        print('x_',i,'=',x_i)\n",
    "        x_i = matinv.dot((1 - w)*np.diag(D).dot(x_i) - w*U.dot(x_i)) + \\\n",
    "        w*matinv.dot(b)\n",
    "        \n",
    "    return x_i"
   ]
  },
  {
   "cell_type": "code",
   "execution_count": 58,
   "metadata": {},
   "outputs": [],
   "source": [
    "A=A_ij(10000)\n",
    "b=b_i(10000)\n",
    "x0=np.zeros(10000)"
   ]
  },
  {
   "cell_type": "code",
   "execution_count": 59,
   "metadata": {},
   "outputs": [
    {
     "name": "stdout",
     "output_type": "stream",
     "text": [
      "Jacobi:  [0.99992398 1.00013865 0.99981978 ... 0.99981978 1.00013865 0.99992398]\n"
     ]
    }
   ],
   "source": [
    "print('Jacobi: ',Jacobi(A,b,20,x0))"
   ]
  },
  {
   "cell_type": "code",
   "execution_count": 60,
   "metadata": {},
   "outputs": [
    {
     "name": "stdout",
     "output_type": "stream",
     "text": [
      "Gauss_Seidel:  [1.00005177 1.00009414 1.00013135 ... 0.99991024 0.99994084 0.99997165]\n"
     ]
    }
   ],
   "source": [
    "print('Gauss_Seidel: ',Gauss_Seidel(A,b,20,x0))"
   ]
  },
  {
   "cell_type": "code",
   "execution_count": 61,
   "metadata": {},
   "outputs": [
    {
     "name": "stdout",
     "output_type": "stream",
     "text": [
      "x_ 0 = [0. 0. 0. ... 0. 0. 0.]\n",
      "x_ 1 = [1.         1.         1.         ... 0.66666667 0.66666667 1.06666667]\n",
      "x_ 2 = [0.98666667 1.06133333 1.0912     ... 0.85659259 1.0237037  0.99881481]\n",
      "x_ 3 = [1.02743704 1.03044741 1.06387911 ... 0.99569939 0.98697546 0.98953981]\n",
      "x_ 4 = [1.00878359 1.02558051 1.02925363 ... 0.98483072 0.98723702 0.99523013]\n",
      "x_ 5 = [1.00942946 1.01290973 1.02002008 ... 0.98882794 0.99359388 0.99650563]\n",
      "x_ 6 = [1.00397687 1.00829806 1.01027894 ... 0.99427835 0.99593521 0.99827758]\n",
      "x_ 7 = [1.00286833 1.00441226 1.00628478 ... 0.99650962 0.99784539 0.99890897]\n",
      "x_ 8 = [1.00140944 1.00262616 1.00341105 ... 0.99810881 0.9987128  0.99942144]\n",
      "x_ 9 = [1.00088429 1.00145034 1.0019974  ... 0.99888772 0.99929103 0.99965527]\n",
      "x_ 10 = [1.00047223 1.00083958 1.00111774 ... 0.99937945 0.99958777 0.99980961]\n",
      "x_ 11 = [1.00027946 1.00047341 1.00064405 ... 0.99964118 0.99976808 0.99988942]\n",
      "x_ 12 = [1.00015559 1.00027156 1.00036593 ... 0.99979666 0.9998665  0.9999376 ]\n",
      "x_ 13 = [1.00008999 1.00015475 1.0002099  ... 0.99988309 0.99992402 0.99996409]\n",
      "x_ 14 = [1.00005109 1.00008864 1.00012014 ... 0.99993319 0.99995638 0.99997952]\n",
      "x_ 15 = [1.00002933 1.00005079 1.00006893 ... 0.99996162 0.99997502 0.99998824]\n",
      "x_ 16 = [1.0000168  1.00002913 1.00003961 ... 0.99997796 0.99998565 0.99999325]\n",
      "x_ 17 = [1.00000964 1.00001674 1.00002276 ... 0.99998733 0.99999175 0.99999612]\n",
      "x_ 18 = [1.00000554 1.00000962 1.00001311 ... 0.9999927  0.99999525 0.99999777]\n",
      "x_ 19 = [1.00000319 1.00000554 1.00000755 ... 0.9999958  0.99999727 0.99999872]\n",
      "SOR:  [1.00000184 1.00000319 1.00000436 ... 0.99999757 0.99999842 0.99999926]\n"
     ]
    }
   ],
   "source": [
    "print('SOR: ',SOR(A,b,1.2,20,x0))"
   ]
  },
  {
   "cell_type": "markdown",
   "metadata": {},
   "source": [
    "# 高斯消元"
   ]
  },
  {
   "cell_type": "code",
   "execution_count": 62,
   "metadata": {},
   "outputs": [],
   "source": [
    "def Gaussian_elimination(equation):\n",
    "    A = equation.copy()\n",
    "    m, n = A.shape\n",
    "\n",
    "    for i in range(m):  #化为上三角矩阵\n",
    "        A[i] = A[i] / A[i, i]\n",
    "        for j in range(i+1, m):\n",
    "            A[j] -= A[j, i]*A[i]\n",
    "    print('A1: ',A)\n",
    "\n",
    "    for i in range(m-1, 0, -1): # 化为对角矩阵\n",
    "        for j in range(i):\n",
    "            A[j] -= A[j, i]*A[i]\n",
    "    print('A2: ',A)        \n",
    "            \n",
    "    return A"
   ]
  },
  {
   "cell_type": "code",
   "execution_count": 63,
   "metadata": {},
   "outputs": [
    {
     "name": "stdout",
     "output_type": "stream",
     "text": [
      "[[ 3.  -1.   0.  ...  0.   0.5  2.5]\n",
      " [-1.   3.  -1.  ...  0.5  0.   1.5]\n",
      " [ 0.  -1.   3.  ...  0.   0.   1.5]\n",
      " ...\n",
      " [ 0.   0.   0.5 ... -1.   0.   1.5]\n",
      " [ 0.   0.5  0.  ...  3.  -1.   1.5]\n",
      " [ 0.5  0.   0.  ... -1.   3.   2.5]]\n",
      "A1:  [[ 1.         -0.33333333  0.         ...  0.          0.16666667\n",
      "   0.83333333]\n",
      " [ 0.          1.         -0.375      ...  0.1875      0.0625\n",
      "   0.875     ]\n",
      " [ 0.          0.          1.         ...  0.07142857  0.02380952\n",
      "   0.9047619 ]\n",
      " ...\n",
      " [ 0.          0.          0.         ... -0.43135607 -0.00686439\n",
      "   0.56177953]\n",
      " [ 0.          0.          0.         ...  1.         -0.42821612\n",
      "   0.57178388]\n",
      " [ 0.          0.          0.         ...  0.          1.\n",
      "   1.        ]]\n",
      "A2:  [[1. 0. 0. ... 0. 0. 1.]\n",
      " [0. 1. 0. ... 0. 0. 1.]\n",
      " [0. 0. 1. ... 0. 0. 1.]\n",
      " ...\n",
      " [0. 0. 0. ... 0. 0. 1.]\n",
      " [0. 0. 0. ... 1. 0. 1.]\n",
      " [0. 0. 0. ... 0. 1. 1.]]\n",
      "x, y [1. 1. 1. ... 1. 1. 1.]\n"
     ]
    }
   ],
   "source": [
    "A=A_ij(2000)\n",
    "b=b_i(2000)\n",
    "x0=np.zeros(2000)\n",
    "b2=np.expand_dims(b,axis=0)\n",
    "B=np.concatenate((A,b2.T),axis=1)\n",
    "print(B)\n",
    "print(\"x, y\", Gaussian_elimination(B)[:, -1])"
   ]
  },
  {
   "cell_type": "code",
   "execution_count": 65,
   "metadata": {},
   "outputs": [
    {
     "name": "stdout",
     "output_type": "stream",
     "text": [
      "x_ 0 = [0. 0. 0. ... 0. 0. 0.]\n",
      "x_ 1 = [1.         1.         1.         ... 0.66666667 0.66666667 1.06666667]\n",
      "x_ 2 = [0.98666667 1.06133333 1.0912     ... 0.85659259 1.0237037  0.99881481]\n",
      "x_ 3 = [1.02743704 1.03044741 1.06387911 ... 0.99569939 0.98697546 0.98953981]\n",
      "x_ 4 = [1.00878359 1.02558051 1.02925363 ... 0.98483072 0.98723702 0.99523013]\n",
      "SOR:  [1.00942946 1.01290973 1.02002008 ... 0.98882794 0.99359388 0.99650563]\n"
     ]
    }
   ],
   "source": [
    "x0=np.zeros(2000)\n",
    "print('SOR: ',SOR(A,b,1.2,5,x0))"
   ]
  },
  {
   "cell_type": "markdown",
   "metadata": {},
   "source": []
  }
 ],
 "metadata": {
  "kernelspec": {
   "name": "python385jvsc74a57bd0fdd701662b960f5e0f52ce3c0c621245723c4cc0dbe0a8943b870cb6c806648a",
   "display_name": "Python 3.8.5 64-bit ('base': conda)"
  },
  "language_info": {
   "codemirror_mode": {
    "name": "ipython",
    "version": 3
   },
   "file_extension": ".py",
   "mimetype": "text/x-python",
   "name": "python",
   "nbconvert_exporter": "python",
   "pygments_lexer": "ipython3",
   "version": "3.8.5"
  }
 },
 "nbformat": 4,
 "nbformat_minor": 2
}