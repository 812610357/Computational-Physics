{
 "cells": [
  {
   "cell_type": "code",
   "execution_count": 5,
   "metadata": {},
   "outputs": [],
   "source": [
    "import numpy as np\n",
    "import pandas as pd\n",
    "import matplotlib.pyplot as plt\n",
    "\n",
    "%matplotlib inline"
   ]
  },
  {
   "cell_type": "markdown",
   "metadata": {},
   "source": [
    "# 步长"
   ]
  },
  {
   "cell_type": "code",
   "execution_count": 6,
   "metadata": {},
   "outputs": [],
   "source": [
    "def f(x):\n",
    "    return np.exp(x)\n",
    "\n",
    "def df1(x, h):\n",
    "    return (f(x+h) - f(x))/(h)\n",
    "\n",
    "def df2(x, h):\n",
    "    return (f(x+h) - f(x-h))/(2*h)"
   ]
  },
  {
   "cell_type": "code",
   "execution_count": 7,
   "metadata": {},
   "outputs": [
    {
     "name": "stdout",
     "output_type": "stream",
     "text": [
      "2.7196414225332255\n"
     ]
    }
   ],
   "source": [
    "x=1\n",
    "h=0.001\n",
    "print(df1(x,h))"
   ]
  },
  {
   "cell_type": "code",
   "execution_count": 8,
   "metadata": {},
   "outputs": [
    {
     "name": "stdout",
     "output_type": "stream",
     "text": [
      "2.718282281505724\n"
     ]
    }
   ],
   "source": [
    "x=1\n",
    "h=0.001\n",
    "print(df2(x,h))"
   ]
  },
  {
   "cell_type": "code",
   "execution_count": 9,
   "metadata": {},
   "outputs": [
    {
     "data": {
      "text/plain": [
       "2.718281828459045"
      ]
     },
     "execution_count": 9,
     "metadata": {},
     "output_type": "execute_result"
    }
   ],
   "source": [
    "import numpy as np\n",
    "np.exp(1.0)"
   ]
  },
  {
   "cell_type": "code",
   "execution_count": 10,
   "metadata": {},
   "outputs": [
    {
     "data": {
      "text/plain": [
       "<matplotlib.collections.PathCollection at 0x7f974374a1d0>"
      ]
     },
     "execution_count": 10,
     "metadata": {},
     "output_type": "execute_result"
    },
    {
     "data": {
      "image/png": "[encoded data removed]",
      "text/plain": [
       "<Figure size 432x288 with 1 Axes>"
      ]
     },
     "metadata": {
      "needs_background": "light"
     },
     "output_type": "display_data"
    }
   ],
   "source": [
    "x=100.0\n",
    "h=1.0\n",
    "df=np.zeros(16)\n",
    "dh=np.zeros(16)\n",
    "err=np.zeros(16)\n",
    "for i in range(16):\n",
    "    df[i]=df1(x,h)\n",
    "    err[i]=np.abs(f(x)-df[i])\n",
    "    dh[i]=h\n",
    "    h=h/10.0\n",
    "plt.xscale(\"log\")\n",
    "plt.yscale(\"log\")\n",
    "plt.scatter(dh,err)"
   ]
  },
  {
   "cell_type": "code",
   "execution_count": 14,
   "metadata": {},
   "outputs": [
    {
     "data": {
      "text/plain": [
       "<matplotlib.collections.PathCollection at 0x7fc519528310>"
      ]
     },
     "execution_count": 14,
     "metadata": {},
     "output_type": "execute_result"
    },
    {
     "data": {
      "image/png": "[encoded data removed]",
      "text/plain": [
       "<Figure size 432x288 with 1 Axes>"
      ]
     },
     "metadata": {
      "needs_background": "light"
     },
     "output_type": "display_data"
    }
   ],
   "source": [
    "x=1.0\n",
    "h=1.0\n",
    "df=np.zeros(16)\n",
    "dh=np.zeros(16)\n",
    "err=np.zeros(16)\n",
    "for i in range(16):\n",
    "    df[i]=df2(x,h)\n",
    "    err[i]=np.abs(f(x)-df[i])\n",
    "    dh[i]=h\n",
    "    h=h/10.0\n",
    "plt.xscale(\"log\")\n",
    "plt.yscale(\"log\")\n",
    "plt.scatter(dh,err)"
   ]
  },
  {
   "cell_type": "code",
   "execution_count": 11,
   "metadata": {},
   "outputs": [],
   "source": [
    "def f(x):\n",
    "    return np.cos(x)\n",
    "\n",
    "def df1(x, h):\n",
    "    return (f(x+h) - f(x))/(h)\n",
    "\n",
    "def df2(x, h):\n",
    "    return (f(x+h) - f(x-h))/(2*h)"
   ]
  },
  {
   "cell_type": "code",
   "execution_count": 12,
   "metadata": {},
   "outputs": [
    {
     "data": {
      "text/plain": [
       "2.7013712616374974e-05"
      ]
     },
     "execution_count": 12,
     "metadata": {},
     "output_type": "execute_result"
    }
   ],
   "source": [
    "x=1.0\n",
    "h=0.0001\n",
    "-np.sin(x)-df1(x,h)"
   ]
  },
  {
   "cell_type": "code",
   "execution_count": 13,
   "metadata": {},
   "outputs": [
    {
     "data": {
      "text/plain": [
       "<matplotlib.collections.PathCollection at 0x7f97444f9a90>"
      ]
     },
     "execution_count": 13,
     "metadata": {},
     "output_type": "execute_result"
    },
    {
     "data": {
      "image/png": "[encoded data removed]",
      "text/plain": [
       "<Figure size 432x288 with 1 Axes>"
      ]
     },
     "metadata": {
      "needs_background": "light"
     },
     "output_type": "display_data"
    }
   ],
   "source": [
    "x=1.0\n",
    "h=1.0\n",
    "df=np.zeros(16)\n",
    "dh=np.zeros(16)\n",
    "err=np.zeros(16)\n",
    "for i in range(16):\n",
    "    df[i]=df1(x,h)\n",
    "    err[i]=np.abs(-np.sin(x)-df[i])\n",
    "    dh[i]=h\n",
    "    h=h/10.0\n",
    "plt.xscale(\"log\")\n",
    "plt.yscale(\"log\")\n",
    "plt.scatter(dh,err)"
   ]
  },
  {
   "cell_type": "code",
   "execution_count": 14,
   "metadata": {},
   "outputs": [
    {
     "data": {
      "text/plain": [
       "<matplotlib.collections.PathCollection at 0x7f97454e7910>"
      ]
     },
     "execution_count": 14,
     "metadata": {},
     "output_type": "execute_result"
    },
    {
     "data": {
      "image/png": "[encoded data removed]",
      "text/plain": [
       "<Figure size 432x288 with 1 Axes>"
      ]
     },
     "metadata": {
      "needs_background": "light"
     },
     "output_type": "display_data"
    }
   ],
   "source": [
    "x=1.0\n",
    "h=1.0\n",
    "df=np.zeros(16)\n",
    "dh=np.zeros(16)\n",
    "err=np.zeros(16)\n",
    "for i in range(16):\n",
    "    df[i]=df2(x,h)\n",
    "    err[i]=np.abs(-np.sin(x)-df[i])\n",
    "    dh[i]=h\n",
    "    h=h/10.0\n",
    "plt.xscale(\"log\")\n",
    "plt.yscale(\"log\")\n",
    "plt.scatter(dh,err)"
   ]
  },
  {
   "cell_type": "code",
   "execution_count": null,
   "metadata": {},
   "outputs": [],
   "source": []
  },
  {
   "cell_type": "code",
   "execution_count": 18,
   "metadata": {},
   "outputs": [
    {
     "data": {
      "text/plain": [
       "[<matplotlib.lines.Line2D at 0x7f9746a02bd0>,\n",
       " <matplotlib.lines.Line2D at 0x7f9746a02d90>]"
      ]
     },
     "execution_count": 18,
     "metadata": {},
     "output_type": "execute_result"
    },
    {
     "data": {
      "image/png": "[encoded data removed]",
      "text/plain": [
       "<Figure size 432x288 with 1 Axes>"
      ]
     },
     "metadata": {
      "needs_background": "light"
     },
     "output_type": "display_data"
    }
   ],
   "source": [
    "def f(f3,h):\n",
    "    return 10**(2*h)*f3/6.0+10**(-16)/10**(h)\n",
    "\n",
    "x_range=np.linspace(-16,1,100)\n",
    "plt.plot(x_range,np.log10(f(1,x_range)),'b-',x_range,np.log(f(0.01,x_range)),'r--')"
   ]
  },
  {
   "cell_type": "code",
   "execution_count": null,
   "metadata": {},
   "outputs": [],
   "source": []
  },
  {
   "cell_type": "markdown",
   "metadata": {},
   "source": [
    "# 多项式插值"
   ]
  },
  {
   "cell_type": "code",
   "execution_count": 22,
   "metadata": {},
   "outputs": [],
   "source": [
    "from scipy.misc import derivative"
   ]
  },
  {
   "cell_type": "code",
   "execution_count": 23,
   "metadata": {},
   "outputs": [],
   "source": [
    "pi = np.pi\n",
    "def chebyshev(n):\n",
    "    return np.array([np.cos((2*i + 1)*pi/(2*n)) for i in range(n)])"
   ]
  },
  {
   "cell_type": "code",
   "execution_count": 24,
   "metadata": {},
   "outputs": [],
   "source": [
    "def coef(points): #函数嵌套迭代\n",
    "    if len(points) == 1:\n",
    "        return points[0, 1]\n",
    "    return (coef(points[1:]) - coef(points[:-1])) / (points[-1, 0] - points[0, 0])\n",
    "\n",
    "def Newton(point):\n",
    "    points = np.array(point)\n",
    "    n = len(points)\n",
    "    coef_array = np.zeros(n)\n",
    "\n",
    "    for i in range(n):\n",
    "        coef_array[i] = coef(points[:i+1])\n",
    "    \n",
    "    def f(x):\n",
    "        y = 0\n",
    "        for i in range(n):\n",
    "            x_i = 1\n",
    "            for k in range(0, i):\n",
    "                x_i *= (x - points[k, 0])\n",
    "            y += coef_array[i] * x_i\n",
    "        return y\n",
    "    \n",
    "    return f"
   ]
  },
  {
   "cell_type": "code",
   "execution_count": 25,
   "metadata": {},
   "outputs": [
    {
     "data": {
      "text/plain": [
       "[<matplotlib.lines.Line2D at 0x7fc518e750d0>,\n",
       " <matplotlib.lines.Line2D at 0x7fc51a5da490>]"
      ]
     },
     "execution_count": 25,
     "metadata": {},
     "output_type": "execute_result"
    },
    {
     "data": {
      "image/png": "[encoded data removed]",
      "text/plain": [
       "<Figure size 432x288 with 1 Axes>"
      ]
     },
     "metadata": {
      "needs_background": "light"
     },
     "output_type": "display_data"
    }
   ],
   "source": [
    "def f(x):\n",
    "    return np.exp(x)\n",
    "\n",
    "#x=[0,10]\n",
    "xi=5.0+5.0*chebyshev(20)\n",
    "yi=f(xi)\n",
    "points= np.array([xi, yi]).T\n",
    "p=Newton(points)\n",
    "x_range=np.linspace(0,10,100)\n",
    "plt.plot(x_range,p(x_range),'b-',x_range,f(x_range),'r--')"
   ]
  },
  {
   "cell_type": "code",
   "execution_count": 26,
   "metadata": {},
   "outputs": [
    {
     "data": {
      "text/plain": [
       "[<matplotlib.lines.Line2D at 0x7fc51a63f0d0>]"
      ]
     },
     "execution_count": 26,
     "metadata": {},
     "output_type": "execute_result"
    },
    {
     "data": {
      "image/png": "[encoded data removed]",
      "text/plain": [
       "<Figure size 432x288 with 1 Axes>"
      ]
     },
     "metadata": {
      "needs_background": "light"
     },
     "output_type": "display_data"
    }
   ],
   "source": [
    "err=np.zeros(100)\n",
    "for i in range(100):\n",
    "    err[i]=np.abs(np.exp(x_range[i])-derivative(p, x_range[i], dx=1e-8))\n",
    "plt.plot(x_range,err)"
   ]
  },
  {
   "cell_type": "code",
   "execution_count": null,
   "metadata": {},
   "outputs": [],
   "source": []
  },
  {
   "cell_type": "markdown",
   "metadata": {},
   "source": [
    "# 例"
   ]
  },
  {
   "cell_type": "code",
   "execution_count": 4,
   "metadata": {},
   "outputs": [],
   "source": [
    "def f(x):\n",
    "    return np.exp(x)\n",
    "\n",
    "def df1(x, h):\n",
    "    return (f(x+h) - f(x))/(h)\n",
    "\n",
    "def df2(x, h):\n",
    "    return (f(x+h) - f(x-h))/(2*h)\n",
    "\n",
    "def extdf1(x,h):\n",
    "    return 2.0*df1(x,h/2)-df1(x,h)"
   ]
  },
  {
   "cell_type": "code",
   "execution_count": 28,
   "metadata": {},
   "outputs": [
    {
     "data": {
      "text/plain": [
       "[<matplotlib.lines.Line2D at 0x7fc51a488410>,\n",
       " <matplotlib.lines.Line2D at 0x7fc51a007ad0>]"
      ]
     },
     "execution_count": 28,
     "metadata": {},
     "output_type": "execute_result"
    },
    {
     "data": {
      "image/png": "[encoded data removed]",
      "text/plain": [
       "<Figure size 432x288 with 1 Axes>"
      ]
     },
     "metadata": {
      "needs_background": "light"
     },
     "output_type": "display_data"
    }
   ],
   "source": [
    "h=10**-4\n",
    "x_range=np.linspace(0,10,100)\n",
    "plt.yscale(\"log\")\n",
    "plt.plot(x_range,np.abs(df1(x_range, h)-df2(x_range, h)),'b-',x_range,np.abs(extdf1(x_range,h)-df2(x_range, h)),'r--')\n"
   ]
  },
  {
   "cell_type": "code",
   "execution_count": null,
   "metadata": {},
   "outputs": [],
   "source": []
  }
 ],
 "metadata": {
  "kernelspec": {
   "display_name": "Python 3",
   "language": "python",
   "name": "python3"
  },
  "language_info": {
   "codemirror_mode": {
    "name": "ipython",
    "version": 3
   },
   "file_extension": ".py",
   "mimetype": "text/x-python",
   "name": "python",
   "nbconvert_exporter": "python",
   "pygments_lexer": "ipython3",
   "version": "3.7.6"
  }
 },
 "nbformat": 4,
 "nbformat_minor": 2
}
