{
 "cells": [
  {
   "cell_type": "markdown",
   "metadata": {},
   "source": [
    "# 回顾"
   ]
  },
  {
   "cell_type": "code",
   "execution_count": 1,
   "metadata": {},
   "outputs": [],
   "source": [
    "import numpy as np\n",
    "def Gaussian_elimination(equation):\n",
    "    A = equation.copy()\n",
    "    m, n = A.shape\n",
    "\n",
    "    for i in range(m):  #化为上三角矩阵\n",
    "        A[i] = A[i] / A[i, i]\n",
    "        for j in range(i+1, m):\n",
    "            A[j] -= A[j, i]*A[i]\n",
    "    print('A1: ',A)\n",
    "\n",
    "    for i in range(m-1, 0, -1): # 化为对角矩阵\n",
    "        for j in range(i):\n",
    "            A[j] -= A[j, i]*A[i]\n",
    "    print('A2: ',A)        \n",
    "            \n",
    "    return A\n",
    "\n",
    "def LU(A):\n",
    "    m = A.shape[0]\n",
    "    L = np.identity(m)\n",
    "    U = A.copy()\n",
    "\n",
    "    for i in range(m):\n",
    "        for j in range(i+1, m):\n",
    "            if U[i, i] == 0:\n",
    "                raise ValueError(\"The matrix contains a zero pivot.\")\n",
    "            a = U[j, i] / U[i, i]\n",
    "            L[j, i] = a\n",
    "            U[j] -= a * U[i]\n",
    "    \n",
    "    return L, U\n",
    "\n",
    "def Usolve(U,b):\n",
    "    m,n=U.shape\n",
    "    k=b.size\n",
    "    x=np.zeros(k)\n",
    "    print(m,n,k)\n",
    "    \n",
    "    for i in range(n-1,-1,-1):\n",
    "        x[i]=b[i]\n",
    "        for j in range(i+1,n,1):\n",
    "            x[i]=x[i]-U[i,j]*x[j]\n",
    "        x[i]=x[i]/U[i,i]\n",
    "    return x\n",
    "\n",
    "def Lsolve(L,b):\n",
    "    m,n=L.shape\n",
    "    k=b.size\n",
    "    x=np.zeros(k)\n",
    "    print(m,n,k)\n",
    "    \n",
    "    for i in range(0,n,1):\n",
    "        x[i]=b[i]\n",
    "        for j in range(0,i,1):\n",
    "            x[i]=x[i]-L[i,j]*x[j]\n",
    "        x[i]=x[i]/L[i,i]\n",
    "        print(x[i])\n",
    "    return x"
   ]
  },
  {
   "cell_type": "code",
   "execution_count": 2,
   "metadata": {},
   "outputs": [],
   "source": [
    "A=np.array( [[2,1,0,0], [0,1,2,0],[2,4,5,1],[8,5,0,3]], dtype=float)\n",
    "B=np.array([1,1,2,0], dtype=float)\n",
    "AB=np.array( [[2,1,0,0,1], [0,1,2,0,1],[2,4,5,1,2],[8,5,0,3,0]], dtype=float)"
   ]
  },
  {
   "cell_type": "code",
   "execution_count": 3,
   "metadata": {},
   "outputs": [
    {
     "output_type": "stream",
     "name": "stdout",
     "text": [
      "A1:  [[ 1.   0.5  0.   0.   0.5]\n [ 0.   1.   2.   0.   1. ]\n [-0.  -0.   1.  -1.   2. ]\n [ 0.   0.   0.   1.  -1. ]]\nA2:  [[ 1.  0.  0.  0.  1.]\n [ 0.  1.  0.  0. -1.]\n [ 0.  0.  1.  0.  1.]\n [ 0.  0.  0.  1. -1.]]\n"
     ]
    },
    {
     "output_type": "execute_result",
     "data": {
      "text/plain": [
       "array([[ 1.,  0.,  0.,  0.,  1.],\n",
       "       [ 0.,  1.,  0.,  0., -1.],\n",
       "       [ 0.,  0.,  1.,  0.,  1.],\n",
       "       [ 0.,  0.,  0.,  1., -1.]])"
      ]
     },
     "metadata": {},
     "execution_count": 3
    }
   ],
   "source": [
    "Gaussian_elimination(AB)"
   ]
  },
  {
   "cell_type": "code",
   "execution_count": 4,
   "metadata": {},
   "outputs": [
    {
     "output_type": "stream",
     "name": "stdout",
     "text": [
      "[[1. 0. 0. 0.]\n [0. 1. 0. 0.]\n [1. 3. 1. 0.]\n [4. 1. 2. 1.]] [[ 2.  1.  0.  0.]\n [ 0.  1.  2.  0.]\n [ 0.  0. -1.  1.]\n [ 0.  0.  0.  1.]]\n"
     ]
    }
   ],
   "source": [
    "L,U=LU(A)\n",
    "print(L,U)"
   ]
  },
  {
   "cell_type": "code",
   "execution_count": 5,
   "metadata": {},
   "outputs": [
    {
     "output_type": "stream",
     "name": "stdout",
     "text": [
      "4 4 4\n1.0\n1.0\n-2.0\n-1.0\n[ 1.  1. -2. -1.]\n"
     ]
    }
   ],
   "source": [
    "y=Lsolve(L,B)\n",
    "print(y)"
   ]
  },
  {
   "cell_type": "code",
   "execution_count": 6,
   "metadata": {},
   "outputs": [
    {
     "output_type": "stream",
     "name": "stdout",
     "text": [
      "4 4 4\n[ 1. -1.  1. -1.]\n"
     ]
    }
   ],
   "source": [
    "x=Usolve(U,y)\n",
    "print(x)"
   ]
  },
  {
   "cell_type": "code",
   "execution_count": 7,
   "metadata": {},
   "outputs": [],
   "source": [
    "import numpy as np\n",
    "x=np.array([[0, 3, 4], [2, 6, 4]])"
   ]
  },
  {
   "cell_type": "markdown",
   "metadata": {},
   "source": [
    "# 向量范数"
   ]
  },
  {
   "cell_type": "code",
   "execution_count": 8,
   "metadata": {},
   "outputs": [
    {
     "output_type": "stream",
     "name": "stdout",
     "text": [
      "[5.         7.48331477]\n(2,)\n[[5.        ]\n [7.48331477]]\n(2, 1)\n[[2.         6.70820393 5.65685425]]\n[[4.]\n [6.]]\n[[ 7.]\n [12.]]\n[[2. 9. 8.]]\n"
     ]
    }
   ],
   "source": [
    "y=np.linalg.norm(x, axis=1,ord=2, keepdims=False)\n",
    "print(y)\n",
    "print(y.shape)\n",
    "y=np.linalg.norm(x, axis=1,ord=2, keepdims=True)\n",
    "print(y)\n",
    "print(y.shape)\n",
    "y=np.linalg.norm(x, axis=0,ord=2, keepdims=True)\n",
    "print(y)\n",
    "y=np.linalg.norm(x, axis=1,ord=np.inf, keepdims=True)\n",
    "print(y)\n",
    "y=np.linalg.norm(x, axis=1,ord=1, keepdims=True)\n",
    "print(y)\n",
    "y=np.linalg.norm(x, axis=0,ord=1, keepdims=True)\n",
    "print(y)"
   ]
  },
  {
   "cell_type": "markdown",
   "metadata": {},
   "source": [
    "# 矩阵范数"
   ]
  },
  {
   "cell_type": "code",
   "execution_count": 9,
   "metadata": {},
   "outputs": [
    {
     "output_type": "stream",
     "name": "stdout",
     "text": [
      "9.0\n"
     ]
    }
   ],
   "source": [
    "y=np.linalg.norm(x, ord=1, keepdims=False)\n",
    "print(y)"
   ]
  },
  {
   "cell_type": "code",
   "execution_count": 10,
   "metadata": {},
   "outputs": [
    {
     "output_type": "stream",
     "name": "stdout",
     "text": [
      "8.82419564510368\n"
     ]
    }
   ],
   "source": [
    "y=np.linalg.norm(x, ord=2, keepdims=False)\n",
    "print(y)"
   ]
  },
  {
   "cell_type": "code",
   "execution_count": 11,
   "metadata": {},
   "outputs": [
    {
     "output_type": "stream",
     "name": "stdout",
     "text": [
      "(array([ 7.78664288e+01, -6.15274170e-16,  3.13357122e+00]), array([[-0.19062904, -0.76822128, -0.61114371],\n       [-0.75578607,  0.51214752, -0.40803471],\n       [-0.62645669, -0.38411064,  0.67824113]]))\n"
     ]
    }
   ],
   "source": [
    "eigs=np.linalg.eig(x.T.dot(x))\n",
    "print(eigs)"
   ]
  },
  {
   "cell_type": "code",
   "execution_count": 12,
   "metadata": {},
   "outputs": [
    {
     "output_type": "stream",
     "name": "stderr",
     "text": [
      "<ipython-input-12-9d404d81f019>:1: RuntimeWarning: invalid value encountered in sqrt\n  np.sqrt(eigs[0])\n"
     ]
    },
    {
     "output_type": "execute_result",
     "data": {
      "text/plain": [
       "array([8.82419565,        nan, 1.7701896 ])"
      ]
     },
     "metadata": {},
     "execution_count": 12
    }
   ],
   "source": [
    "np.sqrt(eigs[0])"
   ]
  },
  {
   "cell_type": "code",
   "execution_count": 13,
   "metadata": {},
   "outputs": [
    {
     "output_type": "stream",
     "name": "stdout",
     "text": [
      "12.0\n"
     ]
    }
   ],
   "source": [
    "y=np.linalg.norm(x, ord=np.inf, keepdims=False)\n",
    "print(y)"
   ]
  },
  {
   "cell_type": "markdown",
   "metadata": {},
   "source": [
    "# 例1"
   ]
  },
  {
   "cell_type": "code",
   "execution_count": 14,
   "metadata": {},
   "outputs": [],
   "source": [
    "def Gaussian_elimination(equation):\n",
    "    A = equation.copy()\n",
    "    m, n = A.shape\n",
    "\n",
    "    for i in range(m):  #化为上三角矩阵\n",
    "        A[i] = A[i] / A[i, i]\n",
    "        for j in range(i+1, m):\n",
    "            A[j] -= A[j, i]*A[i]\n",
    "    print('A1: ',A)\n",
    "\n",
    "    for i in range(m-1, 0, -1): # 化为对角矩阵\n",
    "        for j in range(i):\n",
    "            A[j] -= A[j, i]*A[i]\n",
    "    print('A2: ',A)        \n",
    "            \n",
    "    return A"
   ]
  },
  {
   "cell_type": "code",
   "execution_count": 15,
   "metadata": {},
   "outputs": [
    {
     "output_type": "stream",
     "name": "stdout",
     "text": [
      "A1:  [[ 1.  1.  2.]\n [-0.  1.  1.]]\nA2:  [[ 1.  0.  1.]\n [-0.  1.  1.]]\nx, y [1. 1.]\n"
     ]
    }
   ],
   "source": [
    "A = np.array([[1.0, 1.0, 2.0], [1.0001,1,2.0001]])\n",
    "print(\"x, y\", Gaussian_elimination(A)[:, -1])"
   ]
  },
  {
   "cell_type": "markdown",
   "metadata": {},
   "source": [
    "# 条件数"
   ]
  },
  {
   "cell_type": "code",
   "execution_count": 16,
   "metadata": {},
   "outputs": [],
   "source": [
    "import numpy as np\n",
    "def cond(A):  # inf-范数\n",
    "    return abs(A).sum(axis=1).max() * abs(np.linalg.inv(A)).sum(axis=1).max()"
   ]
  },
  {
   "cell_type": "code",
   "execution_count": 17,
   "metadata": {},
   "outputs": [
    {
     "output_type": "stream",
     "name": "stdout",
     "text": [
      "cond(a1):  717.8074624553913\n"
     ]
    }
   ],
   "source": [
    "a1=np.random.rand(30,30)\n",
    "print('cond(a1): ',cond(a1))"
   ]
  },
  {
   "cell_type": "code",
   "execution_count": 18,
   "metadata": {},
   "outputs": [
    {
     "output_type": "stream",
     "name": "stdout",
     "text": [
      "[[1 1 2 4]\n [0 1 1 2]\n [0 0 1 1]\n [0 0 0 1]] [[1. 1. 2. 4.]\n [0. 1. 1. 2.]\n [0. 0. 1. 1.]\n [0. 0. 0. 1.]]\n"
     ]
    }
   ],
   "source": [
    "u=np.array([[1,-1,-1,-1], [0,1,-1,-1],[0,0,1,-1],[0,0,0,1]])\n",
    "ui=np.array([[1,1,2,4], [0,1,1,2],[0,0,1,1],[0,0,0,1]])\n",
    "uii=np.linalg.inv(u)\n",
    "print(ui,uii)"
   ]
  },
  {
   "cell_type": "code",
   "execution_count": 19,
   "metadata": {},
   "outputs": [
    {
     "output_type": "execute_result",
     "data": {
      "text/plain": [
       "32.0"
      ]
     },
     "metadata": {},
     "execution_count": 19
    }
   ],
   "source": [
    "cond(u)"
   ]
  },
  {
   "cell_type": "code",
   "execution_count": 20,
   "metadata": {},
   "outputs": [
    {
     "output_type": "stream",
     "name": "stdout",
     "text": [
      "[[4.]]\n[[8.]]\n"
     ]
    }
   ],
   "source": [
    "y=np.linalg.norm(u,ord=np.inf, keepdims=True)\n",
    "print(y)\n",
    "y=np.linalg.norm(ui,ord=np.inf, keepdims=True)\n",
    "print(y)"
   ]
  },
  {
   "cell_type": "code",
   "execution_count": 21,
   "metadata": {},
   "outputs": [
    {
     "output_type": "stream",
     "name": "stdout",
     "text": [
      "[[4.]]\n[[8.]]\n"
     ]
    }
   ],
   "source": [
    "y=np.linalg.norm(u,ord=1, keepdims=True)\n",
    "print(y)\n",
    "y=np.linalg.norm(ui,ord=1, keepdims=True)\n",
    "print(y)"
   ]
  },
  {
   "cell_type": "code",
   "execution_count": 22,
   "metadata": {},
   "outputs": [
    {
     "output_type": "stream",
     "name": "stdout",
     "text": [
      "[[2.26307741]]\n[[5.47512225]]\n[[12.39062548]]\n"
     ]
    }
   ],
   "source": [
    "y1=np.linalg.norm(u,ord=2, keepdims=True)\n",
    "print(y1)\n",
    "y2=np.linalg.norm(ui,ord=2, keepdims=True)\n",
    "print(y2)\n",
    "print(y1*y2)"
   ]
  },
  {
   "cell_type": "markdown",
   "metadata": {},
   "source": [
    "# 例1"
   ]
  },
  {
   "cell_type": "code",
   "execution_count": 23,
   "metadata": {},
   "outputs": [
    {
     "output_type": "stream",
     "name": "stdout",
     "text": [
      "40004.000099993355\n"
     ]
    }
   ],
   "source": [
    "a=np.array([[1,1],[1.0001,1]])\n",
    "print(cond(a))"
   ]
  },
  {
   "cell_type": "code",
   "execution_count": 24,
   "metadata": {},
   "outputs": [
    {
     "output_type": "stream",
     "name": "stdout",
     "text": [
      "[[2.00005]]\n[[20000.5000125]]\n[[40002.00007499]]\n"
     ]
    }
   ],
   "source": [
    "y1=np.linalg.norm(a,ord=2, keepdims=True)\n",
    "print(y1)\n",
    "y2=np.linalg.norm(np.linalg.inv(a),ord=2, keepdims=True)\n",
    "print(y2)\n",
    "print(y1*y2)"
   ]
  },
  {
   "cell_type": "markdown",
   "metadata": {},
   "source": [
    "# 常见矩阵"
   ]
  },
  {
   "cell_type": "code",
   "execution_count": 25,
   "metadata": {},
   "outputs": [
    {
     "output_type": "stream",
     "name": "stdout",
     "text": [
      "cond(a1):  497.59915452975264\n"
     ]
    }
   ],
   "source": [
    "a1=np.random.rand(30,30)\n",
    "print('cond(a1): ',cond(a1))"
   ]
  },
  {
   "cell_type": "code",
   "execution_count": 26,
   "metadata": {},
   "outputs": [
    {
     "output_type": "stream",
     "name": "stdout",
     "text": [
      "[[[0.78325    0.2571094  0.82390183]\n  [0.38230809 0.46735797 0.58001483]\n  [0.61343363 0.3205744  0.5288327 ]]\n\n [[0.31684151 0.3334224  0.47866383]\n  [0.72948916 0.63464668 0.27848344]\n  [0.79831534 0.37572429 0.54656681]]\n\n [[0.28040089 0.83390191 0.06948554]\n  [0.51218848 0.54540751 0.00811962]\n  [0.54945265 0.31389468 0.8614962 ]]]\n"
     ]
    },
    {
     "output_type": "execute_result",
     "data": {
      "text/plain": [
       "0.5465668141807097"
      ]
     },
     "metadata": {},
     "execution_count": 26
    }
   ],
   "source": [
    "a1=np.random.rand(3,3,3)\n",
    "print(a1)\n",
    "a1[1,2,2]"
   ]
  },
  {
   "cell_type": "code",
   "execution_count": 27,
   "metadata": {},
   "outputs": [
    {
     "output_type": "stream",
     "name": "stdout",
     "text": [
      "[[1.e+00 0.e+00 0.e+00]\n [0.e+00 1.e+00 0.e+00]\n [0.e+00 0.e+00 1.e-08]]\ncond(a2):  100000000.0\n"
     ]
    }
   ],
   "source": [
    "a2=np.eye(3,3)\n",
    "a2[2,2]=10**(-8)\n",
    "print(a2)\n",
    "print('cond(a2): ',cond(a2))"
   ]
  },
  {
   "cell_type": "code",
   "execution_count": 28,
   "metadata": {},
   "outputs": [
    {
     "output_type": "stream",
     "name": "stdout",
     "text": [
      "[[1. 0. 0. 0. 0. 0. 0. 0. 0. 0. 0. 0.]\n [0. 1. 0. 0. 0. 0. 0. 0. 0. 0. 0. 0.]\n [0. 0. 1. 0. 0. 0. 0. 0. 0. 0. 0. 0.]\n [0. 0. 0. 1. 0. 0. 0. 0. 0. 0. 0. 0.]\n [0. 0. 0. 0. 1. 0. 0. 0. 0. 0. 0. 0.]\n [0. 0. 0. 0. 0. 1. 0. 0. 0. 0. 0. 0.]\n [0. 0. 0. 0. 0. 0. 1. 0. 0. 0. 0. 0.]\n [0. 0. 0. 0. 0. 0. 0. 1. 0. 0. 0. 0.]\n [0. 0. 0. 0. 0. 0. 0. 0. 1. 0. 0. 0.]\n [0. 0. 0. 0. 0. 0. 0. 0. 0. 1. 0. 0.]]\n"
     ]
    }
   ],
   "source": [
    "a2=np.eye(10,12)\n",
    "print(a2)"
   ]
  },
  {
   "cell_type": "code",
   "execution_count": 29,
   "metadata": {},
   "outputs": [],
   "source": [
    "def hilb(n):\n",
    "    matrix = np.zeros((n, n))\n",
    "    for i in range(n):\n",
    "        for j in range(n):\n",
    "            matrix[i, j] = 1/(i+j+1)\n",
    "    return matrix"
   ]
  },
  {
   "cell_type": "code",
   "execution_count": 30,
   "metadata": {},
   "outputs": [
    {
     "output_type": "stream",
     "name": "stdout",
     "text": [
      "[[1.         0.5       ]\n [0.5        0.33333333]]\n[[1.         0.5        0.33333333]\n [0.5        0.33333333 0.25      ]\n [0.33333333 0.25       0.2       ]]\n[[1.         0.5        0.33333333 0.25      ]\n [0.5        0.33333333 0.25       0.2       ]\n [0.33333333 0.25       0.2        0.16666667]\n [0.25       0.2        0.16666667 0.14285714]]\n2.0708969268259664e+19\n"
     ]
    }
   ],
   "source": [
    "import numpy as np\n",
    "print(hilb(2))\n",
    "print(hilb(3))\n",
    "print(hilb(4))\n",
    "print(cond(hilb(30)))"
   ]
  },
  {
   "cell_type": "markdown",
   "metadata": {},
   "source": [
    "# 淹没"
   ]
  },
  {
   "cell_type": "code",
   "execution_count": 31,
   "metadata": {},
   "outputs": [
    {
     "output_type": "stream",
     "name": "stdout",
     "text": [
      "A1:  [[ 1.e+00  1.e+20  1.e+20]\n [-0.e+00  1.e+00  1.e+00]]\nA2:  [[ 1.  0.  0.]\n [-0.  1.  1.]]\nhere:  x, y [0. 1.]\nA1:  [[1. 2. 4.]\n [0. 1. 1.]]\nA2:  [[1. 0. 2.]\n [0. 1. 1.]]\nthere:  x, y [2. 1.]\n"
     ]
    }
   ],
   "source": [
    "import numpy as np\n",
    "A = np.array([[10**(-20), 1.0, 1.0], [1.0,2.0,4.0]])\n",
    "A2=np.array([[1.0,2.0,4.0], [10**(-20), 1.0, 1.0]])\n",
    "print(\"here: \",\"x, y\", Gaussian_elimination(A)[:, -1])\n",
    "print(\"there: \", \"x, y\", Gaussian_elimination(A2)[:, -1])"
   ]
  },
  {
   "cell_type": "code",
   "execution_count": 32,
   "metadata": {},
   "outputs": [
    {
     "output_type": "stream",
     "name": "stdout",
     "text": [
      "[[ 1.e+00 -2.e+00]\n",
      " [-1.e-20  1.e+00]]\n",
      "9.0\n"
     ]
    }
   ],
   "source": [
    "A = np.array([[1.0,2.0],[10**(-20), 1.0]])\n",
    "print(np.linalg.inv(A))\n",
    "print(cond(A))"
   ]
  },
  {
   "cell_type": "code",
   "execution_count": 33,
   "metadata": {},
   "outputs": [
    {
     "output_type": "stream",
     "name": "stdout",
     "text": [
      "[[-2.e+00  1.e+00]\n [ 1.e+00 -1.e-20]]\n9.0\n"
     ]
    }
   ],
   "source": [
    "A = np.array([[10**(-20), 1.0], [1.0,2.0]])\n",
    "print(np.linalg.inv(A))\n",
    "print(cond(A))"
   ]
  },
  {
   "cell_type": "markdown",
   "metadata": {},
   "source": [
    "# 实例"
   ]
  },
  {
   "cell_type": "code",
   "execution_count": 34,
   "metadata": {},
   "outputs": [],
   "source": [
    "import numpy as np\n",
    "def cond(A):  # inf-范数\n",
    "    return abs(A).sum(axis=1).max() * abs(np.linalg.inv(A)).sum(axis=1).max()"
   ]
  },
  {
   "cell_type": "code",
   "execution_count": 35,
   "metadata": {},
   "outputs": [],
   "source": [
    "def A_ij(n):\n",
    "    matrix = np.zeros((n, n))\n",
    "    for i in range(n):\n",
    "        for j in range(n):\n",
    "            matrix[i, j] = 5/(i + 2*j + 2)\n",
    "    return matrix"
   ]
  },
  {
   "cell_type": "code",
   "execution_count": 36,
   "metadata": {},
   "outputs": [
    {
     "output_type": "stream",
     "name": "stdout",
     "text": [
      "[[2.5        1.25       0.83333333 0.625      0.5        0.41666667]\n [1.66666667 1.         0.71428571 0.55555556 0.45454545 0.38461538]\n [1.25       0.83333333 0.625      0.5        0.41666667 0.35714286]\n [1.         0.71428571 0.55555556 0.45454545 0.38461538 0.33333333]\n [0.83333333 0.625      0.5        0.41666667 0.35714286 0.3125    ]\n [0.71428571 0.55555556 0.45454545 0.38461538 0.33333333 0.29411765]]\n"
     ]
    }
   ],
   "source": [
    "print(A_ij(6))"
   ]
  },
  {
   "cell_type": "code",
   "execution_count": 37,
   "metadata": {},
   "outputs": [
    {
     "output_type": "stream",
     "name": "stdout",
     "text": [
      "131370135425813.03\n"
     ]
    }
   ],
   "source": [
    "print(cond(A_ij(10)))"
   ]
  },
  {
   "cell_type": "code",
   "execution_count": 38,
   "metadata": {},
   "outputs": [
    {
     "output_type": "stream",
     "name": "stdout",
     "text": [
      "A1:  [[ 1.          0.5         0.33333333  0.25        0.2         0.16666667\n   0.14285714  0.125       0.11111111  0.1         2.92896825]\n [ 0.          1.          0.95238095  0.83333333  0.72727273  0.64102564\n   0.57142857  0.51470588  0.46783626  0.42857143  6.13655479]\n [ 0.          0.          1.          1.4         1.52727273  1.53846154\n   1.5         1.44117647  1.3754386   1.30909091 11.09144024]\n [ 0.          0.          0.          1.          1.84615385  2.41758242\n   2.77310924  2.97987616  3.0877193   3.13043478 17.23487575]\n [ 0.          0.          0.          0.          1.          2.29166667\n   3.50490196  4.51947884  5.32163743  5.93478261 22.57246751]\n [ 0.          0.          0.          0.          0.          1.\n   2.73684211  4.78947368  6.86554331  8.80505929 24.19691838]\n [ 0.          0.          0.          0.          0.          0.\n   1.          3.18181818  6.27140974  9.89917907 20.35240702]\n [ 0.          0.          0.          0.          0.          0.\n   0.          1.          3.62666649  7.95076873 12.57743486]\n [ 0.          0.          0.          0.          0.          0.\n   0.          0.          1.          4.07142305  5.07142853]\n [ 0.          0.          0.          0.          0.          0.\n   0.          0.          0.          1.          0.99998139]]\nA2:  [[1.         0.         0.         0.         0.         0.\n  0.         0.         0.         0.         1.        ]\n [0.         1.         0.         0.         0.         0.\n  0.         0.         0.         0.         0.99999999]\n [0.         0.         1.         0.         0.         0.\n  0.         0.         0.         0.         1.00000042]\n [0.         0.         0.         1.         0.         0.\n  0.         0.         0.         0.         0.9999953 ]\n [0.         0.         0.         0.         1.         0.\n  0.         0.         0.         0.         1.00002606]\n [0.         0.         0.         0.         0.         1.\n  0.         0.         0.         0.         0.99992001]\n [0.         0.         0.         0.         0.         0.\n  1.         0.         0.         0.         1.00014268]\n [0.         0.         0.         0.         0.         0.\n  0.         1.         0.         0.         0.9998529 ]\n [0.         0.         0.         0.         0.         0.\n  0.         0.         1.         0.         1.00008127]\n [0.         0.         0.         0.         0.         0.\n  0.         0.         0.         1.         0.99998139]]\nxc2:  [1.         0.99999999 1.00000042 0.9999953  1.00002606 0.99992001\n 1.00014268 0.9998529  1.00008127 0.99998139]\nForward error: 1.471040e-04\nBackward error: 8.881784e-16\nError magnification factor: 1.212772e+12\n"
     ]
    }
   ],
   "source": [
    "n = 10\n",
    "\n",
    "A = A_ij(n)\n",
    "x = np.ones(n)\n",
    "b = np.dot(A, x)\n",
    "\n",
    "b2=np.expand_dims(b,axis=0)\n",
    "B=np.concatenate((A,b2.T),axis=1)\n",
    "xc2=Gaussian_elimination(B)[:, -1]\n",
    "\n",
    "forward_error = abs(xc2 - x).max()\n",
    "backward_error = abs(A.dot(xc2) - b).max()\n",
    "error_mag_factor = (forward_error/abs(x).max()) / (backward_error/abs(b).max())\n",
    "\n",
    "print('xc2: ',xc2)\n",
    "print(\"Forward error: %e\" % forward_error)\n",
    "print(\"Backward error: %e\" % backward_error)\n",
    "print(\"Error magnification factor: %e\" % error_mag_factor)"
   ]
  },
  {
   "cell_type": "code",
   "execution_count": 39,
   "metadata": {},
   "outputs": [
    {
     "output_type": "execute_result",
     "data": {
      "text/plain": [
       "array([7.32242063, 5.90437289, 5.04969336, 4.45509753, 4.0080267 ,\n",
       "       3.65509753, 3.36700105, 3.125997  , 2.92057248, 2.74285524])"
      ]
     },
     "metadata": {},
     "execution_count": 39
    }
   ],
   "source": [
    "A.dot(xc2)"
   ]
  },
  {
   "cell_type": "code",
   "execution_count": 40,
   "metadata": {},
   "outputs": [
    {
     "output_type": "execute_result",
     "data": {
      "text/plain": [
       "array([7.32242063, 5.90437289, 5.04969336, 4.45509753, 4.0080267 ,\n",
       "       3.65509753, 3.36700105, 3.125997  , 2.92057248, 2.74285524])"
      ]
     },
     "metadata": {},
     "execution_count": 40
    }
   ],
   "source": [
    "b"
   ]
  },
  {
   "cell_type": "code",
   "execution_count": null,
   "metadata": {},
   "outputs": [],
   "source": []
  }
 ],
 "metadata": {
  "kernelspec": {
   "name": "python385jvsc74a57bd0fdd701662b960f5e0f52ce3c0c621245723c4cc0dbe0a8943b870cb6c806648a",
   "display_name": "Python 3.8.5 64-bit ('base': conda)"
  },
  "language_info": {
   "codemirror_mode": {
    "name": "ipython",
    "version": 3
   },
   "file_extension": ".py",
   "mimetype": "text/x-python",
   "name": "python",
   "nbconvert_exporter": "python",
   "pygments_lexer": "ipython3",
   "version": "3.8.5"
  }
 },
 "nbformat": 4,
 "nbformat_minor": 2
}