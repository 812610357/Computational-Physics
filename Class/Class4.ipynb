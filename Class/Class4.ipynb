{
 "cells": [
  {
   "cell_type": "code",
   "execution_count": 1,
   "metadata": {},
   "outputs": [],
   "source": [
    "import numpy as np\n",
    "import matplotlib.pyplot as plt"
   ]
  },
  {
   "cell_type": "markdown",
   "metadata": {},
   "source": [
    "# 回顾"
   ]
  },
  {
   "cell_type": "code",
   "execution_count": 5,
   "metadata": {},
   "outputs": [],
   "source": [
    "def f(x):   #-1.023; 0.7889; 0.1638\n",
    "    return np.exp(x-2)+x**3-x"
   ]
  },
  {
   "cell_type": "code",
   "execution_count": 16,
   "metadata": {},
   "outputs": [
    {
     "data": {
      "image/png": "[encoded data removed]",
      "text/plain": [
       "<Figure size 432x288 with 1 Axes>"
      ]
     },
     "metadata": {
      "needs_background": "light"
     },
     "output_type": "display_data"
    }
   ],
   "source": [
    "x= np.linspace(-1.5,1, 100)\n",
    "y0=np.zeros(x.size)\n",
    "plt.plot(x,f(x),'r',x,y0,'b')\n",
    "plt.show()"
   ]
  },
  {
   "cell_type": "markdown",
   "metadata": {},
   "source": [
    "二分法"
   ]
  },
  {
   "cell_type": "code",
   "execution_count": 19,
   "metadata": {},
   "outputs": [
    {
     "name": "stdout",
     "output_type": "stream",
     "text": [
      "0.7889413890555456\n",
      "0.0\n"
     ]
    }
   ],
   "source": [
    "a = 0.5\n",
    "b = 5\n",
    "N=0\n",
    "\n",
    "while N <100:\n",
    "    N=N+1\n",
    "    c = (b + a) / 2\n",
    "    if f(c) == 0:\n",
    "        break\n",
    "    elif f(a)*f(c) < 0:\n",
    "        b = c\n",
    "    else:\n",
    "        a = c\n",
    "c = (b + a) / 2\n",
    "        \n",
    "print(c)\n",
    "print(f(c))"
   ]
  },
  {
   "cell_type": "markdown",
   "metadata": {},
   "source": [
    "不动点迭代  e^(x-2)+x^3=x\n",
    "df=e^(x-2)+3x^2->{3.18824, 2.16496, 0.239913}"
   ]
  },
  {
   "cell_type": "code",
   "execution_count": 20,
   "metadata": {},
   "outputs": [],
   "source": [
    "def g1(x):\n",
    "    return np.exp(x-2)+x**3"
   ]
  },
  {
   "cell_type": "code",
   "execution_count": 24,
   "metadata": {},
   "outputs": [
    {
     "name": "stdout",
     "output_type": "stream",
     "text": [
      "0.5 0.3481301601484298\n",
      "0.3481301601484298 0.23388264000426678\n",
      "0.23388264000426678 0.18378925121642659\n",
      "0.18378925121642659 0.16884899507090886\n",
      "0.16884899507090886 0.16504291918823072\n",
      "0.16504291918823072 0.16411598373365113\n",
      "0.16411598373365113 0.16389277230116817\n",
      "0.16389277230116817 0.16383916874820367\n",
      "0.16383916874820367 0.16382630449759025\n",
      "0.16382630449759025 0.16382321771041206\n",
      "0.16382321771041206 0.16382247706149522\n",
      "The fix point is  0.16382247706149522\n"
     ]
    }
   ],
   "source": [
    "error=1\n",
    "x0= 0.5\n",
    "i=0\n",
    "while error > 1e-6:\n",
    "    i=i+1\n",
    "    if i>1000:\n",
    "        print('Not Converge')\n",
    "        break\n",
    "    x1=g1(x0)\n",
    "    print(x0,x1)\n",
    "    error=abs(x1-x0)\n",
    "    x0=x1\n",
    "print(\"The fix point is \", x0)"
   ]
  },
  {
   "cell_type": "code",
   "execution_count": 26,
   "metadata": {},
   "outputs": [],
   "source": [
    "def g2(x):\n",
    "    return (x-np.exp(x-2))**(1/3)  # df -> {{-0.151408 - 0.262247 I, 0.376032, 10.47}}"
   ]
  },
  {
   "cell_type": "code",
   "execution_count": 30,
   "metadata": {},
   "outputs": [
    {
     "name": "stdout",
     "output_type": "stream",
     "text": [
      "3 0.6555486896972685\n",
      "0.6555486896972685 0.7336404052217741\n",
      "0.7336404052217741 0.7673210888704626\n",
      "0.7673210888704626 0.7806888989089026\n",
      "0.7806888989089026 0.7858206238028406\n",
      "0.7858206238028406 0.7877654217904158\n",
      "0.7877654217904158 0.7884988550426484\n",
      "0.7884988550426484 0.7887749410638899\n",
      "0.7887749410638899 0.7888787957536115\n",
      "0.7888787957536115 0.7889178523270365\n",
      "0.7889178523270365 0.7889325388643946\n",
      "0.7889325388643946 0.788938061273985\n",
      "0.788938061273985 0.788940137773194\n",
      "0.788940137773194 0.7889409185603357\n",
      "The fix point is  0.7889409185603357\n"
     ]
    }
   ],
   "source": [
    "error=1\n",
    "x0= 3\n",
    "i=0\n",
    "while error > 1e-6:\n",
    "    i=i+1\n",
    "    if i>1000:\n",
    "        break\n",
    "    x1=g2(x0)\n",
    "    print(x0,x1)\n",
    "    error=abs(x1-x0)\n",
    "    x0=x1\n",
    "print(\"The fix point is \", x0)"
   ]
  },
  {
   "cell_type": "markdown",
   "metadata": {},
   "source": [
    "# New"
   ]
  },
  {
   "cell_type": "code",
   "execution_count": 14,
   "metadata": {},
   "outputs": [],
   "source": [
    "def f(x):\n",
    "    return (x-3/2)**3\n",
    "def f1(x):\n",
    "    return -3.375 + 6.75*x - 4.5*x**2 + x**3"
   ]
  },
  {
   "cell_type": "code",
   "execution_count": 5,
   "metadata": {
    "scrolled": true
   },
   "outputs": [
    {
     "data": {
      "image/png": "[encoded data removed]",
      "text/plain": [
       "<Figure size 432x288 with 1 Axes>"
      ]
     },
     "metadata": {
      "needs_background": "light"
     },
     "output_type": "display_data"
    }
   ],
   "source": [
    "x = np.linspace(1, 2, 100)\n",
    "plt.plot(x,f(x))\n",
    "plt.show()"
   ]
  },
  {
   "cell_type": "code",
   "execution_count": 16,
   "metadata": {},
   "outputs": [
    {
     "name": "stdout",
     "output_type": "stream",
     "text": [
      "find root 20 1.4999966621398926\n",
      "1.4999966621398926\n",
      "-3.71881345162528e-17\n"
     ]
    }
   ],
   "source": [
    "a = 1.\n",
    "b = 3\n",
    "N=0\n",
    "\n",
    "while N <200:\n",
    "    N=N+1DraftSight\n",
    "    c = (b + a) / 2\n",
    "    if f1(c) == 0:\n",
    "        print(\"find root\",N,c)\n",
    "        break\n",
    "    elif f1(a)*f1(c) < 0:\n",
    "        b = c\n",
    "    else:\n",
    "        a = c\n",
    "c = (b + a) / 2\n",
    "        \n",
    "print(c)\n",
    "print(f(c))"
   ]
  },
  {
   "cell_type": "markdown",
   "metadata": {},
   "source": [
    "# 威尔金森多项式"
   ]
  },
  {
   "cell_type": "code",
   "execution_count": 17,
   "metadata": {},
   "outputs": [],
   "source": [
    "def wilkinson(x):\n",
    "    p=1\n",
    "    for i in range(1,21,1):\n",
    "        p=p*(x-i)\n",
    "    return p"
   ]
  },
  {
   "cell_type": "code",
   "execution_count": 18,
   "metadata": {},
   "outputs": [],
   "source": [
    "def wilkinsonE(x):\n",
    "    p=2432902008176640000 - 8752948036761600000*x + 13803759753640704000*x**2 - 12870931245150988800*x**3 + 8037811822645051776*x**4 - 3599979517947607200*x**5 + 1206647803780373360*x**6 - 311333643161390640*x**7 + 63030812099294896*x**8 - 10142299865511450*x**9 + 1307535010540395*x**10 - 135585182899530*x**11 + 11310276995381*x**12 - 756111184500*x**13 + 40171771630*x**14 - 1672280820*x**15 + 53327946*x**16 - 1256850*x**17 + 20615*x**18 - 210*x**19 + x**20\n",
    "    return p"
   ]
  },
  {
   "cell_type": "code",
   "execution_count": 19,
   "metadata": {},
   "outputs": [],
   "source": [
    "def wilkinsonFix(x):\n",
    "    p=2432902008176640000 - (8752948036761600000-1)*x + 13803759753640704000*x**2 - 12870931245150988800*x**3 + 8037811822645051776*x**4 - 3599979517947607200*x**5 + 1206647803780373360*x**6 - 311333643161390640*x**7 + 63030812099294896*x**8 - 10142299865511450*x**9 + 1307535010540395*x**10 - 135585182899530*x**11 + 11310276995381*x**12 - 756111184500*x**13 + 40171771630*x**14 - 1672280820*x**15 + 53327946*x**16 - 1256850*x**17 + 20615*x**18 - 210*x**19 + x**20\n",
    "    return p"
   ]
  },
  {
   "cell_type": "code",
   "execution_count": 18,
   "metadata": {},
   "outputs": [
    {
     "data": {
      "text/plain": [
       "0.0"
      ]
     },
     "execution_count": 18,
     "metadata": {},
     "output_type": "execute_result"
    }
   ],
   "source": [
    "wilkinsonFix(16.0)"
   ]
  },
  {
   "cell_type": "code",
   "execution_count": 32,
   "metadata": {},
   "outputs": [
    {
     "data": {
      "image/png": "[encoded data removed]",
      "text/plain": [
       "<Figure size 432x288 with 1 Axes>"
      ]
     },
     "metadata": {
      "needs_background": "light"
     },
     "output_type": "display_data"
    }
   ],
   "source": [
    "x= np.linspace(1,20,100)\n",
    "plt.plot(x,wilkinson(x),'r',x,x,'b')\n",
    "plt.show()"
   ]
  },
  {
   "cell_type": "markdown",
   "metadata": {},
   "source": [
    "# 二分法"
   ]
  },
  {
   "cell_type": "code",
   "execution_count": 26,
   "metadata": {},
   "outputs": [
    {
     "name": "stdout",
     "output_type": "stream",
     "text": [
      "17.0070802525741\n",
      "-271119810560.0\n"
     ]
    }
   ],
   "source": [
    "a = 16.2\n",
    "b = 17.8\n",
    "N=0\n",
    "\n",
    "while N <1000:\n",
    "    N=N+1\n",
    "    c = (b + a) / 2\n",
    "    if wilkinsonE(c) == 0:\n",
    "        print(\"find root\",N,c)\n",
    "        break\n",
    "    elif wilkinsonE(a)*wilkinsonE(c) < 0:\n",
    "        b = c\n",
    "    else:\n",
    "        a = c\n",
    "c = (b + a) / 2\n",
    "        \n",
    "print(c)\n",
    "print(wilkinsonE(c))"
   ]
  },
  {
   "cell_type": "code",
   "execution_count": 27,
   "metadata": {},
   "outputs": [
    {
     "name": "stdout",
     "output_type": "stream",
     "text": [
      "15.002454224216795\n",
      "40735080448.0\n"
     ]
    }
   ],
   "source": [
    "a = 15\n",
    "b = 16.8\n",
    "N=0\n",
    "\n",
    "while N <100:\n",
    "    N=N+1\n",
    "    c = (b + a) / 2\n",
    "    if wilkinsonFix(c) == 0:\n",
    "        break\n",
    "    elif wilkinsonFix(a)*wilkinsonFix(c) < 0:\n",
    "        b = c\n",
    "    else:\n",
    "        a = c\n",
    "c = (b + a) / 2\n",
    "        \n",
    "print(c)\n",
    "print(wilkinsonFix(c))"
   ]
  },
  {
   "cell_type": "markdown",
   "metadata": {},
   "source": [
    "# 不动点迭代"
   ]
  },
  {
   "cell_type": "code",
   "execution_count": 28,
   "metadata": {},
   "outputs": [
    {
     "name": "stdout",
     "output_type": "stream",
     "text": [
      "At:  1\n",
      "15.9\n",
      "At:  2\n",
      "-2480343613440.0\n",
      "At:  3\n",
      "7.766708334446537e+247\n"
     ]
    },
    {
     "ename": "OverflowError",
     "evalue": "(34, 'Result too large')",
     "output_type": "error",
     "traceback": [
      "\u001b[0;31m---------------------------------------------------------------------------\u001b[0m",
      "\u001b[0;31mOverflowError\u001b[0m                             Traceback (most recent call last)",
      "\u001b[0;32m<ipython-input-28-3bd214a7538a>\u001b[0m in \u001b[0;36m<module>\u001b[0;34m\u001b[0m\n\u001b[1;32m      6\u001b[0m     \u001b[0mprint\u001b[0m\u001b[0;34m(\u001b[0m\u001b[0;34m\"At: \"\u001b[0m\u001b[0;34m,\u001b[0m\u001b[0mn\u001b[0m\u001b[0;34m)\u001b[0m\u001b[0;34m\u001b[0m\u001b[0;34m\u001b[0m\u001b[0m\n\u001b[1;32m      7\u001b[0m     \u001b[0mprint\u001b[0m\u001b[0;34m(\u001b[0m\u001b[0mx0\u001b[0m\u001b[0;34m)\u001b[0m\u001b[0;34m\u001b[0m\u001b[0;34m\u001b[0m\u001b[0m\n\u001b[0;32m----> 8\u001b[0;31m     \u001b[0mx1\u001b[0m\u001b[0;34m=\u001b[0m\u001b[0mwilkinsonE\u001b[0m\u001b[0;34m(\u001b[0m\u001b[0mx0\u001b[0m\u001b[0;34m)\u001b[0m\u001b[0;34m\u001b[0m\u001b[0;34m\u001b[0m\u001b[0m\n\u001b[0m\u001b[1;32m      9\u001b[0m     \u001b[0merror\u001b[0m\u001b[0;34m=\u001b[0m\u001b[0mabs\u001b[0m\u001b[0;34m(\u001b[0m\u001b[0mx1\u001b[0m\u001b[0;34m-\u001b[0m\u001b[0mx0\u001b[0m\u001b[0;34m)\u001b[0m\u001b[0;34m\u001b[0m\u001b[0;34m\u001b[0m\u001b[0m\n\u001b[1;32m     10\u001b[0m     \u001b[0mx0\u001b[0m\u001b[0;34m=\u001b[0m\u001b[0mx1\u001b[0m\u001b[0;34m\u001b[0m\u001b[0;34m\u001b[0m\u001b[0m\n",
      "\u001b[0;32m<ipython-input-16-4a309aba748b>\u001b[0m in \u001b[0;36mwilkinsonE\u001b[0;34m(x)\u001b[0m\n\u001b[1;32m      1\u001b[0m \u001b[0;32mdef\u001b[0m \u001b[0mwilkinsonE\u001b[0m\u001b[0;34m(\u001b[0m\u001b[0mx\u001b[0m\u001b[0;34m)\u001b[0m\u001b[0;34m:\u001b[0m\u001b[0;34m\u001b[0m\u001b[0;34m\u001b[0m\u001b[0m\n\u001b[0;32m----> 2\u001b[0;31m     \u001b[0mp\u001b[0m\u001b[0;34m=\u001b[0m\u001b[0;36m2432902008176640000\u001b[0m \u001b[0;34m-\u001b[0m \u001b[0;36m8752948036761600000\u001b[0m\u001b[0;34m*\u001b[0m\u001b[0mx\u001b[0m \u001b[0;34m+\u001b[0m \u001b[0;36m13803759753640704000\u001b[0m\u001b[0;34m*\u001b[0m\u001b[0mx\u001b[0m\u001b[0;34m**\u001b[0m\u001b[0;36m2\u001b[0m \u001b[0;34m-\u001b[0m \u001b[0;36m12870931245150988800\u001b[0m\u001b[0;34m*\u001b[0m\u001b[0mx\u001b[0m\u001b[0;34m**\u001b[0m\u001b[0;36m3\u001b[0m \u001b[0;34m+\u001b[0m \u001b[0;36m8037811822645051776\u001b[0m\u001b[0;34m*\u001b[0m\u001b[0mx\u001b[0m\u001b[0;34m**\u001b[0m\u001b[0;36m4\u001b[0m \u001b[0;34m-\u001b[0m \u001b[0;36m3599979517947607200\u001b[0m\u001b[0;34m*\u001b[0m\u001b[0mx\u001b[0m\u001b[0;34m**\u001b[0m\u001b[0;36m5\u001b[0m \u001b[0;34m+\u001b[0m \u001b[0;36m1206647803780373360\u001b[0m\u001b[0;34m*\u001b[0m\u001b[0mx\u001b[0m\u001b[0;34m**\u001b[0m\u001b[0;36m6\u001b[0m \u001b[0;34m-\u001b[0m \u001b[0;36m311333643161390640\u001b[0m\u001b[0;34m*\u001b[0m\u001b[0mx\u001b[0m\u001b[0;34m**\u001b[0m\u001b[0;36m7\u001b[0m \u001b[0;34m+\u001b[0m \u001b[0;36m63030812099294896\u001b[0m\u001b[0;34m*\u001b[0m\u001b[0mx\u001b[0m\u001b[0;34m**\u001b[0m\u001b[0;36m8\u001b[0m \u001b[0;34m-\u001b[0m \u001b[0;36m10142299865511450\u001b[0m\u001b[0;34m*\u001b[0m\u001b[0mx\u001b[0m\u001b[0;34m**\u001b[0m\u001b[0;36m9\u001b[0m \u001b[0;34m+\u001b[0m \u001b[0;36m1307535010540395\u001b[0m\u001b[0;34m*\u001b[0m\u001b[0mx\u001b[0m\u001b[0;34m**\u001b[0m\u001b[0;36m10\u001b[0m \u001b[0;34m-\u001b[0m \u001b[0;36m135585182899530\u001b[0m\u001b[0;34m*\u001b[0m\u001b[0mx\u001b[0m\u001b[0;34m**\u001b[0m\u001b[0;36m11\u001b[0m \u001b[0;34m+\u001b[0m \u001b[0;36m11310276995381\u001b[0m\u001b[0;34m*\u001b[0m\u001b[0mx\u001b[0m\u001b[0;34m**\u001b[0m\u001b[0;36m12\u001b[0m \u001b[0;34m-\u001b[0m \u001b[0;36m756111184500\u001b[0m\u001b[0;34m*\u001b[0m\u001b[0mx\u001b[0m\u001b[0;34m**\u001b[0m\u001b[0;36m13\u001b[0m \u001b[0;34m+\u001b[0m \u001b[0;36m40171771630\u001b[0m\u001b[0;34m*\u001b[0m\u001b[0mx\u001b[0m\u001b[0;34m**\u001b[0m\u001b[0;36m14\u001b[0m \u001b[0;34m-\u001b[0m \u001b[0;36m1672280820\u001b[0m\u001b[0;34m*\u001b[0m\u001b[0mx\u001b[0m\u001b[0;34m**\u001b[0m\u001b[0;36m15\u001b[0m \u001b[0;34m+\u001b[0m \u001b[0;36m53327946\u001b[0m\u001b[0;34m*\u001b[0m\u001b[0mx\u001b[0m\u001b[0;34m**\u001b[0m\u001b[0;36m16\u001b[0m \u001b[0;34m-\u001b[0m \u001b[0;36m1256850\u001b[0m\u001b[0;34m*\u001b[0m\u001b[0mx\u001b[0m\u001b[0;34m**\u001b[0m\u001b[0;36m17\u001b[0m \u001b[0;34m+\u001b[0m \u001b[0;36m20615\u001b[0m\u001b[0;34m*\u001b[0m\u001b[0mx\u001b[0m\u001b[0;34m**\u001b[0m\u001b[0;36m18\u001b[0m \u001b[0;34m-\u001b[0m \u001b[0;36m210\u001b[0m\u001b[0;34m*\u001b[0m\u001b[0mx\u001b[0m\u001b[0;34m**\u001b[0m\u001b[0;36m19\u001b[0m \u001b[0;34m+\u001b[0m \u001b[0mx\u001b[0m\u001b[0;34m**\u001b[0m\u001b[0;36m20\u001b[0m\u001b[0;34m\u001b[0m\u001b[0;34m\u001b[0m\u001b[0m\n\u001b[0m\u001b[1;32m      3\u001b[0m     \u001b[0;32mreturn\u001b[0m \u001b[0mp\u001b[0m\u001b[0;34m\u001b[0m\u001b[0;34m\u001b[0m\u001b[0m\n",
      "\u001b[0;31mOverflowError\u001b[0m: (34, 'Result too large')"
     ]
    }
   ],
   "source": [
    "error=1\n",
    "x0=15.9\n",
    "n=0\n",
    "while error > 1e-4:\n",
    "    n=n+1\n",
    "    print(\"At: \",n)\n",
    "    print(x0)\n",
    "    x1=wilkinsonE(x0)\n",
    "    error=abs(x1-x0)\n",
    "    x0=x1\n",
    "print(\"The fix point is \", x0)"
   ]
  },
  {
   "cell_type": "code",
   "execution_count": 56,
   "metadata": {},
   "outputs": [],
   "source": [
    "def p(x):\n",
    "    return (x-1)*(x-1.49)*(x-1.5)*(x-1.51)\n",
    "def p1(x):\n",
    "    return 3.374850000000000 - 10.12475*x + 11.2499*x**2 - 5.5*x**3 + x**4"
   ]
  },
  {
   "cell_type": "code",
   "execution_count": 57,
   "metadata": {},
   "outputs": [
    {
     "data": {
      "text/plain": [
       "[<matplotlib.lines.Line2D at 0x7f809fe0de90>]"
      ]
     },
     "execution_count": 57,
     "metadata": {},
     "output_type": "execute_result"
    },
    {
     "data": {
      "image/png": "[encoded data removed]",
      "text/plain": [
       "<Figure size 432x288 with 1 Axes>"
      ]
     },
     "metadata": {
      "needs_background": "light"
     },
     "output_type": "display_data"
    }
   ],
   "source": [
    "x = np.linspace(0, 3, 100)\n",
    "plt.plot(x,p(x))"
   ]
  },
  {
   "cell_type": "code",
   "execution_count": 64,
   "metadata": {},
   "outputs": [
    {
     "name": "stdout",
     "output_type": "stream",
     "text": [
      "1.5099999999718041\n"
     ]
    }
   ],
   "source": [
    "a = 1.5003\n",
    "b = 10\n",
    "N=0\n",
    "\n",
    "while N <1000:\n",
    "    N=N+1\n",
    "    c = (b + a) / 2\n",
    "    if p1(c) == 0:\n",
    "        break\n",
    "    elif p1(a)*p1(c) < 0:\n",
    "        b = c\n",
    "    else:\n",
    "        a = c\n",
    "c = (b + a) / 2\n",
    "        \n",
    "print(c)"
   ]
  },
  {
   "cell_type": "markdown",
   "metadata": {},
   "source": [
    "# 例二"
   ]
  },
  {
   "cell_type": "code",
   "execution_count": 29,
   "metadata": {},
   "outputs": [],
   "source": [
    "def f(x):\n",
    "    return x**3-2.0*x**2+4.0*x/3.0-8.0/27\n",
    "def f1(x):\n",
    "    return (x-2.0/3.0)**3\n",
    "def df(x):\n",
    "    return 3.0*x**2-4.0*x+4/3.0"
   ]
  },
  {
   "cell_type": "code",
   "execution_count": 15,
   "metadata": {},
   "outputs": [
    {
     "data": {
      "text/plain": [
       "[<matplotlib.lines.Line2D at 0x1210d1e48>]"
      ]
     },
     "execution_count": 15,
     "metadata": {},
     "output_type": "execute_result"
    },
    {
     "data": {
      "image/png": "[encoded data removed]",
      "text/plain": [
       "<Figure size 432x288 with 1 Axes>"
      ]
     },
     "metadata": {
      "needs_background": "light"
     },
     "output_type": "display_data"
    }
   ],
   "source": [
    "x = np.linspace(0, 1.5, 100)\n",
    "plt.plot(x,f(x),'r')"
   ]
  },
  {
   "cell_type": "code",
   "execution_count": 31,
   "metadata": {},
   "outputs": [
    {
     "name": "stdout",
     "output_type": "stream",
     "text": [
      "find root\n",
      "0.6666641235351562\n",
      "0.0\n"
     ]
    }
   ],
   "source": [
    "import numpy as np\n",
    "a = 0\n",
    "b = 1\n",
    "N=0\n",
    "\n",
    "while N <300:\n",
    "    N=N+1\n",
    "    c = (b + a) / 2\n",
    "    if f(c) == 0:\n",
    "        print(\"find root\")\n",
    "        break\n",
    "    elif f(a)*f(c) < 0:\n",
    "        b = c\n",
    "    else:\n",
    "        a = c\n",
    "c = (b + a) / 2\n",
    "        \n",
    "print(c)\n",
    "print(f(c))"
   ]
  },
  {
   "cell_type": "code",
   "execution_count": 33,
   "metadata": {},
   "outputs": [
    {
     "name": "stdout",
     "output_type": "stream",
     "text": [
      "                x                    f(x)                 e                    |e(i)/e(i-1)|        |e(i)/e2(i-1)|       step                 \n",
      "  5.00000000e+00  6.66666667e-01  4.33333333e+00  4.33333333e+00  4.33333333e+00               1\n",
      "  6.66666667e-01  6.66666667e-01  0.00000000e+00  0.00000000e+00  0.00000000e+00               2\n",
      "0.6666666666666661\n"
     ]
    }
   ],
   "source": [
    "x0=5.0\n",
    "error = 1\n",
    "i=0\n",
    "print('{:16s}{:21s}{:21s}{:21s}{:21s}{:21s}{:21s}'.format(' ','x','f(x)','e','|e(i)/e(i-1)|','|e(i)/e2(i-1)|','step'))\n",
    "while error>1.0*10**(-8):\n",
    "    i=i+1\n",
    "    x1=x0-3.0*f(x0)/df(x0)\n",
    "    error1=abs(x1-x0)\n",
    "    tmp=error1/error\n",
    "    tmp2=error1/error**2\n",
    "    print('{:16.8e}{:16.8e}{:16.8e}{:16.8e}{:16.8e}{:16d}'.format(x0,x1,error1,tmp,tmp2,i))\n",
    "    error=error1\n",
    "    x0=x1\n",
    "print(x0)"
   ]
  },
  {
   "cell_type": "markdown",
   "metadata": {},
   "source": [
    "# 根的敏感度"
   ]
  },
  {
   "cell_type": "code",
   "execution_count": 6,
   "metadata": {},
   "outputs": [],
   "source": [
    "def P(x):\n",
    "    p=1\n",
    "    for i in range(1,7,1):\n",
    "        p=p*(x-i)\n",
    "        p=p-10**(-6)*x**7\n",
    "    return p"
   ]
  },
  {
   "cell_type": "code",
   "execution_count": 7,
   "metadata": {},
   "outputs": [
    {
     "name": "stdout",
     "output_type": "stream",
     "text": [
      "6.002527074361117\n",
      "8.315570454442422e-14\n"
     ]
    }
   ],
   "source": [
    "a = 5\n",
    "b = 7\n",
    "N=0\n",
    "\n",
    "while N <1000:\n",
    "    N=N+1\n",
    "    c = (b + a) / 2\n",
    "    if P(c) == 0:\n",
    "        break\n",
    "    elif P(a)*P(c) < 0:\n",
    "        b = c\n",
    "    else:\n",
    "        a = c\n",
    "c = (b + a) / 2\n",
    "        \n",
    "print(c)\n",
    "print(P(c))"
   ]
  },
  {
   "cell_type": "code",
   "execution_count": null,
   "metadata": {},
   "outputs": [],
   "source": []
  }
 ],
 "metadata": {
  "kernelspec": {
   "display_name": "Python 3",
   "language": "python",
   "name": "python3"
  },
  "language_info": {
   "codemirror_mode": {
    "name": "ipython",
    "version": 3
   },
   "file_extension": ".py",
   "mimetype": "text/x-python",
   "name": "python",
   "nbconvert_exporter": "python",
   "pygments_lexer": "ipython3",
   "version": "3.8.5-final"
  }
 },
 "nbformat": 4,
 "nbformat_minor": 2
}