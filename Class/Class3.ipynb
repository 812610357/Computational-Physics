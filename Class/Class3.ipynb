{
 "cells": [
  {
   "cell_type": "code",
   "execution_count": 1,
   "metadata": {},
   "outputs": [],
   "source": [
    "import numpy as np\n",
    "import matplotlib.pyplot as plt"
   ]
  },
  {
   "cell_type": "code",
   "execution_count": 21,
   "metadata": {},
   "outputs": [],
   "source": [
    "def f(x):\n",
    "    return np.cos(x)**2 - x + 6"
   ]
  },
  {
   "cell_type": "code",
   "execution_count": 5,
   "metadata": {},
   "outputs": [],
   "source": [
    "def f(x):\n",
    "    return x**3+x-1"
   ]
  },
  {
   "cell_type": "code",
   "execution_count": 30,
   "metadata": {},
   "outputs": [
    {
     "name": "stdout",
     "output_type": "stream",
     "text": [
      "[ 0.  1.  2.  3.  4.  5.  6.  7.  8.  9. 10.]\n",
      "[ 7.          5.29192658  4.17317819  3.98008514  2.42724998  1.08046424\n",
      "  0.92192698 -0.43163139 -1.97882974 -2.16984165 -3.29595897]\n"
     ]
    }
   ],
   "source": [
    "domain = np.linspace(0, 10, 11)\n",
    "print(domain)\n",
    "f(domain)\n",
    "print(f(domain))"
   ]
  },
  {
   "cell_type": "code",
   "execution_count": 33,
   "metadata": {},
   "outputs": [
    {
     "data": {
      "text/plain": [
       "<matplotlib.legend.Legend at 0x7ff7f2fc9650>"
      ]
     },
     "execution_count": 33,
     "metadata": {},
     "output_type": "execute_result"
    },
    {
     "data": {
      "image/png": "[encoded data removed]",
      "text/plain": [
       "<Figure size 432x288 with 1 Axes>"
      ]
     },
     "metadata": {
      "needs_background": "light"
     },
     "output_type": "display_data"
    }
   ],
   "source": [
    "plt.plot(domain, f(domain), color='green', marker='o', linestyle='dashed', linewidth=2, markersize=12,label=\"function\")\n",
    "plt.plot(domain,np.zeros(domain.size),label=\"y=0\")\n",
    "plt.legend()"
   ]
  },
  {
   "cell_type": "code",
   "execution_count": 23,
   "metadata": {},
   "outputs": [
    {
     "data": {
      "image/png": "[encoded data removed]",
      "text/plain": [
       "<Figure size 432x288 with 1 Axes>"
      ]
     },
     "metadata": {
      "needs_background": "light"
     },
     "output_type": "display_data"
    }
   ],
   "source": [
    "domain = np.linspace(-10, 10, 100)\n",
    "y0=np.zeros(domain.size)\n",
    "plt.plot(domain, f(domain),'r',domain,domain,'b--')\n",
    "plt.show()"
   ]
  },
  {
   "cell_type": "code",
   "execution_count": 1,
   "metadata": {},
   "outputs": [],
   "source": [
    "a=1\n",
    "b=1"
   ]
  },
  {
   "cell_type": "code",
   "execution_count": 2,
   "metadata": {},
   "outputs": [
    {
     "name": "stdout",
     "output_type": "stream",
     "text": [
      "1       1\n"
     ]
    }
   ],
   "source": [
    "print(a,\"     \",b)"
   ]
  },
  {
   "cell_type": "code",
   "execution_count": null,
   "metadata": {},
   "outputs": [],
   "source": []
  },
  {
   "cell_type": "code",
   "execution_count": 28,
   "metadata": {},
   "outputs": [
    {
     "name": "stdout",
     "output_type": "stream",
     "text": [
      "          a               b               c               f               b-a             step            \n",
      "    -1.00000e+01      1.0000e+01      0.0000e+00      7.0000e+00      2.0000e+01               1\n",
      "     0.00000e+00      1.0000e+01      5.0000e+00      1.0805e+00      1.0000e+01               2\n",
      "     5.00000e+00      1.0000e+01      7.5000e+00     -1.3798e+00      5.0000e+00               3\n",
      "     5.00000e+00      7.5000e+00      6.2500e+00      7.4890e-01      2.5000e+00               4\n",
      "     6.25000e+00      7.5000e+00      6.8750e+00     -1.8622e-01      1.2500e+00               5\n",
      "     6.25000e+00      6.8750e+00      6.5625e+00      3.6149e-01      6.2500e-01               6\n",
      "     6.56250e+00      6.8750e+00      6.7188e+00      1.0323e-01      3.1250e-01               7\n",
      "     6.71875e+00      6.8750e+00      6.7969e+00     -3.8343e-02      1.5625e-01               8\n",
      "     6.71875e+00      6.7969e+00      6.7578e+00      3.3332e-02      7.8125e-02               9\n",
      "     6.75781e+00      6.7969e+00      6.7773e+00     -2.2956e-03      3.9062e-02              10\n",
      "     6.75781e+00      6.7773e+00      6.7676e+00      1.5572e-02      1.9531e-02              11\n",
      "     6.76758e+00      6.7773e+00      6.7725e+00      6.6516e-03      9.7656e-03              12\n",
      "     6.77246e+00      6.7773e+00      6.7749e+00      2.1813e-03      4.8828e-03              13\n",
      "     6.77490e+00      6.7773e+00      6.7761e+00     -5.6352e-05      2.4414e-03              14\n",
      "     6.77490e+00      6.7761e+00      6.7755e+00      1.0627e-03      1.2207e-03              15\n",
      "     6.77551e+00      6.7761e+00      6.7758e+00      5.0321e-04      6.1035e-04              16\n",
      "     6.77582e+00      6.7761e+00      6.7760e+00      2.2344e-04      3.0518e-04              17\n",
      "     6.77597e+00      6.7761e+00      6.7760e+00      8.3549e-05      1.5259e-04              18\n",
      "     6.77605e+00      6.7761e+00      6.7761e+00      1.3600e-05      7.6294e-05              19\n",
      "     6.77608e+00      6.7761e+00      6.7761e+00     -2.1376e-05      3.8147e-05              20\n",
      "     6.77608e+00      6.7761e+00      6.7761e+00     -3.8881e-06      1.9073e-05              21\n",
      "     6.77608e+00      6.7761e+00      6.7761e+00      4.8558e-06      9.5367e-06              22\n",
      "     6.77609e+00      6.7761e+00      6.7761e+00      4.8385e-07      4.7684e-06              23\n",
      "     6.77609e+00      6.7761e+00      6.7761e+00     -1.7021e-06      2.3842e-06              24\n",
      "     6.77609e+00      6.7761e+00      6.7761e+00     -6.0914e-07      1.1921e-06              25\n",
      "Solution:  6.776092350482941\n",
      "Function value:  -6.264624374807681e-08\n"
     ]
    }
   ],
   "source": [
    "error = 0.5 * 10**(-6)\n",
    "\n",
    "a = -10\n",
    "b = 10\n",
    "i=0\n",
    "print('{:10s}{:16s}{:16s}{:16s}{:16s}{:16s}{:16s}'.format(' ','a','b','c','f','b-a','step'))\n",
    "while (b - a) / 2 > error:\n",
    "    i=i+1\n",
    "    c = (b + a) / 2\n",
    "    print('{:16.5e}{:16.4e}{:16.4e}{:16.4e}{:16.4e}{:16d}'.format(a,b,c,f(c),b-a,i))\n",
    "    if f(c) == 0:\n",
    "        break\n",
    "    elif f(a)*f(c) < 0:\n",
    "        b = c\n",
    "    else:分批\n",
    "        a = c\n",
    "c = (b + a) / 2\n",
    "        \n",
    "print(\"Solution: \",c)\n",
    "print(\"Function value: \", f(c))"
   ]
  },
  {
   "cell_type": "code",
   "execution_count": 5,
   "metadata": {},
   "outputs": [
    {
     "name": "stdout",
     "output_type": "stream",
     "text": [
      "                a                    b                    c                    f                    b-a                  step                 \n",
      "      0.0000e+00      1.0000e+01      5.0000e+00      1.0805e+00      1.0000e+01               1\n",
      "      5.0000e+00      1.0000e+01      7.5000e+00     -1.3798e+00      5.0000e+00               2\n",
      "      5.0000e+00      7.5000e+00      6.2500e+00      7.4890e-01      2.5000e+00               3\n",
      "      6.2500e+00      7.5000e+00      6.8750e+00     -1.8622e-01      1.2500e+00               4\n",
      "      6.2500e+00      6.8750e+00      6.5625e+00      3.6149e-01      6.2500e-01               5\n",
      "      6.5625e+00      6.8750e+00      6.7188e+00      1.0323e-01      3.1250e-01               6\n",
      "      6.7188e+00      6.8750e+00      6.7969e+00     -3.8343e-02      1.5625e-01               7\n",
      "      6.7188e+00      6.7969e+00      6.7578e+00      3.3332e-02      7.8125e-02               8\n",
      "      6.7578e+00      6.7969e+00      6.7773e+00     -2.2956e-03      3.9062e-02               9\n",
      "      6.7578e+00      6.7773e+00      6.7676e+00      1.5572e-02      1.9531e-02              10\n",
      "      6.7676e+00      6.7773e+00      6.7725e+00      6.6516e-03      9.7656e-03              11\n",
      "      6.7725e+00      6.7773e+00      6.7749e+00      2.1813e-03      4.8828e-03              12\n",
      "      6.7749e+00      6.7773e+00      6.7761e+00     -5.6352e-05      2.4414e-03              13\n",
      "      6.7749e+00      6.7761e+00      6.7755e+00      1.0627e-03      1.2207e-03              14\n",
      "      6.7755e+00      6.7761e+00      6.7758e+00      5.0321e-04      6.1035e-04              15\n",
      "      6.7758e+00      6.7761e+00      6.7760e+00      2.2344e-04      3.0518e-04              16\n",
      "      6.7760e+00      6.7761e+00      6.7760e+00      8.3549e-05      1.5259e-04              17\n",
      "      6.7760e+00      6.7761e+00      6.7761e+00      1.3600e-05      7.6294e-05              18\n",
      "      6.7761e+00      6.7761e+00      6.7761e+00     -2.1376e-05      3.8147e-05              19\n",
      "      6.7761e+00      6.7761e+00      6.7761e+00     -3.8881e-06      1.9073e-05              20\n",
      "      6.7761e+00      6.7761e+00      6.7761e+00      4.8558e-06      9.5367e-06              21\n",
      "      6.7761e+00      6.7761e+00      6.7761e+00      4.8385e-07      4.7684e-06              22\n",
      "Solution:  6.776092052459717\n",
      "Function value:  4.83845417065254e-07\n"
     ]
    }
   ],
   "source": [
    "error = 0.5 * 10**(-6)\n",
    "\n",
    "a = 0\n",
    "b = 10\n",
    "i=0\n",
    "print('{:16s}{:21s}{:21s}{:21s}{:21s}{:21s}{:21s}'.format(' ','a','b','c','f','b-a','step'))\n",
    "\n",
    "while True:\n",
    "    i=i+1\n",
    "    c = (b + a) / 2\n",
    "    print('{:16.4e}{:16.4e}{:16.4e}{:16.4e}{:16.4e}{:16d}'.format(a,b,c,f(c),b-a,i))\n",
    "    if abs(f(c)) < error:\n",
    "        break\n",
    "    elif f(a)*f(c) < 0:\n",
    "        b = c\n",
    "    else:\n",
    "        a = c\n",
    "c = (b + a) / 2\n",
    "        \n",
    "print(\"Solution: \",c)\n",
    "print(\"Function value: \", f(c))"
   ]
  },
  {
   "cell_type": "code",
   "execution_count": 19,
   "metadata": {},
   "outputs": [
    {
     "name": "stdout",
     "output_type": "stream",
     "text": [
      "6.776089668273926\n",
      "4.855775174839039e-06\n"
     ]
    }
   ],
   "source": [
    "a = 0\n",
    "b = 10\n",
    "N=0\n",
    "\n",
    "while N <20:\n",
    "    N=N+1\n",
    "    c = (b + a) / 2\n",
    "    if f(c) == 0:\n",
    "        break\n",
    "    elif f(a)*f(c) < 0:\n",
    "        b = c\n",
    "    else:\n",
    "        a = c\n",
    "c = (b + a) / 2\n",
    "        \n",
    "print(c)\n",
    "print(f(c))"
   ]
  },
  {
   "cell_type": "code",
   "execution_count": 46,
   "metadata": {},
   "outputs": [],
   "source": [
    "def f(x):\n",
    "    return (x-1)*(x-2.9)*(x-3)*(x-3.1)"
   ]
  },
  {
   "cell_type": "code",
   "execution_count": 43,
   "metadata": {},
   "outputs": [
    {
     "data": {
      "image/png": "[encoded data removed]",
      "text/plain": [
       "<Figure size 432x288 with 1 Axes>"
      ]
     },
     "metadata": {
      "needs_background": "light"
     },
     "output_type": "display_data"
    }
   ],
   "source": [
    "domain = np.linspace(0, 5, 1000)\n",
    "plt.plot(domain, f(domain))\n",
    "plt.plot(domain,np.zeros(domain.size))\n",
    "plt.show()"
   ]
  },
  {
   "cell_type": "code",
   "execution_count": 44,
   "metadata": {},
   "outputs": [
    {
     "name": "stdout",
     "output_type": "stream",
     "text": [
      "3.0999996662139893\n",
      "-1.4018940036475835e-08\n"
     ]
    }
   ],
   "source": [
    "a = 1.5\n",
    "b = 4.0\n",
    "N=0\n",
    "\n",
    "while N <20:\n",
    "    N=N+1\n",
    "    c = (b + a) / 2\n",
    "    if f(c) == 0:\n",
    "        break\n",
    "    elif f(a)*f(c) < 0:\n",
    "        b = c\n",
    "    else:\n",
    "        a = c\n",
    "c = (b + a) / 2\n",
    "        \n",
    "print(c)\n",
    "print(f(c))"
   ]
  },
  {
   "cell_type": "code",
   "execution_count": 48,
   "metadata": {},
   "outputs": [
    {
     "name": "stdout",
     "output_type": "stream",
     "text": [
      "2.9999999761581417\n",
      "4.768371596241841e-10\n"
     ]
    }
   ],
   "source": [
    "a = 2.96\n",
    "b = 3.05\n",
    "N=0\n",
    "\n",
    "while N <20:\n",
    "    N=N+1\n",
    "    c = (b + a) / 2\n",
    "    if f(c) == 0:\n",
    "        break\n",
    "    elif f(a)*f(c) < 0:\n",
    "        b = c\n",
    "    else:\n",
    "        a = c\n",
    "c = (b + a) / 2\n",
    "        \n",
    "print(c)\n",
    "print(f(c))"
   ]
  },
  {
   "cell_type": "markdown",
   "metadata": {},
   "source": [
    "# 不动点迭代"
   ]
  },
  {
   "cell_type": "code",
   "execution_count": 49,
   "metadata": {},
   "outputs": [],
   "source": [
    "import numpy as np\n",
    "import matplotlib.pyplot as plt"
   ]
  },
  {
   "cell_type": "code",
   "execution_count": 60,
   "metadata": {},
   "outputs": [],
   "source": [
    "def g(x):\n",
    "    return (1-x)**(1/3)"
   ]
  },
  {
   "cell_type": "code",
   "execution_count": 61,
   "metadata": {},
   "outputs": [
    {
     "name": "stdout",
     "output_type": "stream",
     "text": [
      "At step:  1 0.5\n",
      "At step:  2 0.7937005259840998\n",
      "At step:  3 0.5908801132751771\n",
      "At step:  4 0.7423639321680063\n",
      "At step:  5 0.6363102034816613\n",
      "At step:  6 0.7138008141442069\n",
      "At step:  7 0.6590061456223998\n",
      "At step:  8 0.6986326057302191\n",
      "At step:  9 0.670448496228072\n",
      "At step:  10 0.6907291205891408\n",
      "At step:  11 0.6762589249268274\n",
      "At step:  12 0.6866455368644897\n",
      "At step:  13 0.6792223398970035\n",
      "At step:  14 0.6845440054697164\n",
      "At step:  15 0.680737373803562\n",
      "At step:  16 0.6834646031717696\n",
      "At step:  17 0.6815129209547558\n",
      "At step:  18 0.6829107343858817\n",
      "At step:  19 0.681910189621121\n",
      "At step:  20 0.6826266706195234\n",
      "At step:  21 0.682113758124644\n",
      "At step:  22 0.6824810189413075\n",
      "At step:  23 0.6822180893227887\n",
      "At step:  24 0.6824063466799226\n",
      "At step:  25 0.6822715651542335\n",
      "At step:  26 0.6823680664498976\n",
      "At step:  27 0.682298975927841\n",
      "At step:  28 0.6823484430100466\n",
      "At step:  29 0.6823130265482631\n",
      "At step:  30 0.6823383836989513\n",
      "At step:  31 0.682320228912402\n",
      "At step:  32 0.6823332271695629\n",
      "At step:  33 0.6823239208758985\n",
      "At step:  34 0.682330583879731\n",
      "At step:  35 0.6823258133987494\n",
      "At step:  36 0.6823292289054128\n",
      "At step:  37 0.6823267835190405\n",
      "At step:  38 0.6823285343341278\n",
      "At step:  39 0.6823272808098299\n",
      "At step:  40 0.6823281782912355\n",
      "At step:  41 0.6823275357248537\n",
      "At step:  42 0.6823279957808089\n",
      "At step:  43 0.6823276663962544\n",
      "At step:  44 0.6823279022245236\n",
      "At step:  45 0.6823277333794265\n",
      "At step:  46 0.6823278542668372\n",
      "At step:  47 0.6823277677155214\n",
      "At step:  48 0.6823278296833515\n",
      "At step:  49 0.6823277853164712\n",
      "At step:  50 0.6823278170816646\n",
      "At step:  51 0.6823277943388553\n",
      "At step:  52 0.6823278106219414\n",
      "At step:  53 0.6823277989637998\n",
      "The fix point is  0.6823278073106368\n"
     ]
    }
   ],
   "source": [
    "error=1\n",
    "x0=0.5\n",
    "i=0\n",
    "while error > 1e-8:\n",
    "    i=i+1\n",
    "    if i>100:\n",
    "        break\n",
    "    print('At step: ',i,x0)\n",
    "    x1=g(x0)\n",
    "    error=abs(x1-x0)\n",
    "    x0=x1\n",
    "print(\"The fix point is \", x0)"
   ]
  },
  {
   "cell_type": "code",
   "execution_count": 62,
   "metadata": {},
   "outputs": [],
   "source": [
    "def g(x):\n",
    "    return 1-x**3"
   ]
  },
  {
   "cell_type": "code",
   "execution_count": 63,
   "metadata": {},
   "outputs": [
    {
     "name": "stdout",
     "output_type": "stream",
     "text": [
      "At step:  1 0.5\n",
      "At step:  2 0.875\n",
      "At step:  3 0.330078125\n",
      "At step:  4 0.9640374705195427\n",
      "At step:  5 0.10405418832767732\n",
      "At step:  6 0.9988733767808354\n",
      "At step:  7 0.003376063247859995\n",
      "At step:  8 0.999999961520296\n",
      "At step:  9 1.1543910749534092e-07\n",
      "At step:  10 1.0\n",
      "At step:  11 0.0\n",
      "At step:  12 1.0\n",
      "At step:  13 0.0\n",
      "At step:  14 1.0\n",
      "At step:  15 0.0\n",
      "At step:  16 1.0\n",
      "At step:  17 0.0\n",
      "At step:  18 1.0\n",
      "At step:  19 0.0\n",
      "At step:  20 1.0\n",
      "At step:  21 0.0\n",
      "At step:  22 1.0\n",
      "At step:  23 0.0\n",
      "At step:  24 1.0\n",
      "At step:  25 0.0\n",
      "At step:  26 1.0\n",
      "At step:  27 0.0\n",
      "At step:  28 1.0\n",
      "At step:  29 0.0\n",
      "At step:  30 1.0\n",
      "At step:  31 0.0\n",
      "At step:  32 1.0\n",
      "At step:  33 0.0\n",
      "At step:  34 1.0\n",
      "At step:  35 0.0\n",
      "At step:  36 1.0\n",
      "At step:  37 0.0\n",
      "At step:  38 1.0\n",
      "At step:  39 0.0\n",
      "At step:  40 1.0\n",
      "At step:  41 0.0\n",
      "At step:  42 1.0\n",
      "At step:  43 0.0\n",
      "At step:  44 1.0\n",
      "At step:  45 0.0\n",
      "At step:  46 1.0\n",
      "At step:  47 0.0\n",
      "At step:  48 1.0\n",
      "At step:  49 0.0\n",
      "At step:  50 1.0\n",
      "At step:  51 0.0\n",
      "At step:  52 1.0\n",
      "At step:  53 0.0\n",
      "At step:  54 1.0\n",
      "At step:  55 0.0\n",
      "At step:  56 1.0\n",
      "At step:  57 0.0\n",
      "At step:  58 1.0\n",
      "At step:  59 0.0\n",
      "At step:  60 1.0\n",
      "At step:  61 0.0\n",
      "At step:  62 1.0\n",
      "At step:  63 0.0\n",
      "At step:  64 1.0\n",
      "At step:  65 0.0\n",
      "At step:  66 1.0\n",
      "At step:  67 0.0\n",
      "At step:  68 1.0\n",
      "At step:  69 0.0\n",
      "At step:  70 1.0\n",
      "At step:  71 0.0\n",
      "At step:  72 1.0\n",
      "At step:  73 0.0\n",
      "At step:  74 1.0\n",
      "At step:  75 0.0\n",
      "At step:  76 1.0\n",
      "At step:  77 0.0\n",
      "At step:  78 1.0\n",
      "At step:  79 0.0\n",
      "At step:  80 1.0\n",
      "At step:  81 0.0\n",
      "At step:  82 1.0\n",
      "At step:  83 0.0\n",
      "At step:  84 1.0\n",
      "At step:  85 0.0\n",
      "At step:  86 1.0\n",
      "At step:  87 0.0\n",
      "At step:  88 1.0\n",
      "At step:  89 0.0\n",
      "At step:  90 1.0\n",
      "At step:  91 0.0\n",
      "At step:  92 1.0\n",
      "At step:  93 0.0\n",
      "At step:  94 1.0\n",
      "At step:  95 0.0\n",
      "At step:  96 1.0\n",
      "At step:  97 0.0\n",
      "At step:  98 1.0\n",
      "At step:  99 0.0\n",
      "At step:  100 1.0\n",
      "The fix point is  0.0\n"
     ]
    }
   ],
   "source": [
    "error=1\n",
    "x0=0.5\n",
    "i=0\n",
    "while error > 1e-8:\n",
    "    i=i+1\n",
    "    if i>100:\n",
    "        break\n",
    "    print('At step: ',i,x0)\n",
    "    x1=g(x0)\n",
    "    error=abs(x1-x0)\n",
    "    x0=x1\n",
    "print(\"The fix point is \", x0)"
   ]
  },
  {
   "cell_type": "code",
   "execution_count": 65,
   "metadata": {},
   "outputs": [],
   "source": [
    "def g(x):\n",
    "    return (1+2*x**3)/(1+3*x**2)"
   ]
  },
  {
   "cell_type": "code",
   "execution_count": 66,
   "metadata": {},
   "outputs": [
    {
     "name": "stdout",
     "output_type": "stream",
     "text": [
      "At step:  1 0.5\n",
      "At step:  2 0.7142857142857143\n",
      "At step:  3 0.6831797235023042\n",
      "At step:  4 0.6823284233045783\n",
      "At step:  5 0.682327803828347\n",
      "The fix point is  0.6823278038280193\n"
     ]
    }
   ],
   "source": [
    "error=1\n",
    "x0=0.5\n",
    "i=0\n",
    "while error > 1e-8:\n",
    "    i=i+1\n",
    "    if i>100:\n",
    "        break\n",
    "    print('At step: ',i,x0)\n",
    "    x1=g(x0)\n",
    "    error=abs(x1-x0)\n",
    "    x0=x1\n",
    "print(\"The fix point is \", x0)"
   ]
  },
  {
   "cell_type": "code",
   "execution_count": 52,
   "metadata": {},
   "outputs": [],
   "source": [
    "def g(x):\n",
    "    return np.cos(x)**2 + 6\n",
    "def y(x):\n",
    "    return x\n",
    "def f(x):\n",
    "    return np.cos(x)**2 + 6 -x"
   ]
  },
  {
   "cell_type": "code",
   "execution_count": 53,
   "metadata": {},
   "outputs": [
    {
     "data": {
      "image/png": "[encoded data removed]",
      "text/plain": [
       "<Figure size 432x288 with 1 Axes>"
      ]
     },
     "metadata": {
      "needs_background": "light"
     },
     "output_type": "display_data"
    }
   ],
   "source": [
    "x = np.linspace(0, 10, 1000)\n",
    "plt.plot(x,y(x),'r',x,g(x),'b')\n",
    "plt.show()"
   ]
  },
  {
   "cell_type": "code",
   "execution_count": 54,
   "metadata": {},
   "outputs": [
    {
     "name": "stdout",
     "output_type": "stream",
     "text": [
      "At step:  1 0.5\n",
      "At step:  2 6.77015115293407\n",
      "At step:  3 6.781025987055281\n",
      "At step:  4 6.7719656332736635\n",
      "At step:  5 6.77952337972147\n",
      "At step:  6 6.773225285825132\n",
      "At step:  7 6.778478070332858\n",
      "At step:  8 6.774100125674716\n",
      "At step:  9 6.777751053284242\n",
      "At step:  10 6.774707874312991\n",
      "At step:  11 6.777245496042034\n",
      "At step:  12 6.7751301517266995\n",
      "At step:  13 6.7768939822828544\n",
      "At step:  14 6.7754235953003255\n",
      "At step:  15 6.776649596551669\n",
      "At step:  16 6.775627528219653\n",
      "At step:  17 6.776479700973154\n",
      "At step:  18 6.775769262435164\n",
      "At step:  19 6.7763615957563825\n",
      "At step:  20 6.775867772139042\n",
      "At step:  21 6.776279495862671\n",
      "At step:  22 6.775936241300761\n",
      "At step:  23 6.776222426020638\n",
      "At step:  24 6.775983831671668\n",
      "At step:  25 6.776182755842006\n",
      "At step:  26 6.77601691039696\n",
      "At step:  27 6.776155180745132\n",
      "At step:  28 6.776039902691894\n",
      "At step:  29 6.776136013189303\n",
      "At step:  30 6.776055884229851\n",
      "At step:  31 6.776122689815928\n",
      "At step:  32 6.776066992762318\n",
      "At step:  33 6.776113428768458\n",
      "At step:  34 6.776074714163273\n",
      "At step:  35 6.776106991450756\n",
      "At step:  36 6.776080081222935\n",
      "At step:  37 6.776102516904246\n",
      "At step:  38 6.7760838118116125\n",
      "At step:  39 6.776099406673658\n",
      "At step:  40 6.776086404908524\n",
      "At step:  41 6.776097244772733\n",
      "At step:  42 6.776088207346921\n",
      "At step:  43 6.776095742050423\n",
      "At step:  44 6.776089460206284\n",
      "At step:  45 6.776094697519008\n",
      "At step:  46 6.7760903310583025\n",
      "At step:  47 6.776093971472976\n",
      "At step:  48 6.776090936380365\n",
      "At step:  49 6.776093466803868\n",
      "At step:  50 6.776091357134812\n",
      "At step:  51 6.776093116012234\n",
      "At step:  52 6.776091649597841\n",
      "At step:  53 6.776092872179676\n",
      "At step:  54 6.776091852886556\n",
      "At step:  55 6.77609270269356\n",
      "At step:  56 6.776091994190924\n",
      "At step:  57 6.776092584885081\n",
      "At step:  58 6.77609209241047\n",
      "At step:  59 6.7760925029973285\n",
      "At step:  60 6.7760921606821\n",
      "At step:  61 6.776092446077793\n",
      "At step:  62 6.77609220813717\n",
      "At step:  63 6.77609240651347\n",
      "At step:  64 6.776092241122816\n",
      "At step:  65 6.77609237901262\n",
      "At step:  66 6.776092264050878\n",
      "At step:  67 6.776092359896995\n",
      "At step:  68 6.776092279987993\n",
      "At step:  69 6.776092346609875\n",
      "At step:  70 6.776092291065756\n",
      "At step:  71 6.776092337374102\n",
      "At step:  72 6.776092298765822\n",
      "At step:  73 6.7760923309543895\n",
      "At step:  74 6.776092304118077\n",
      "At step:  75 6.776092326492098\n",
      "At step:  76 6.776092307838387\n",
      "At step:  77 6.776092323390394\n",
      "At step:  78 6.776092310424345\n",
      "At step:  79 6.776092321234423\n",
      "The fix point is  6.7760923122218255\n"
     ]
    }
   ],
   "source": [
    "error=1\n",
    "x0=0.5\n",
    "i=0\n",
    "while error > 1e-8:\n",
    "    i=i+1\n",
    "    if i>1000:\n",
    "        break\n",
    "    print('At step: ',i,x0)\n",
    "    x1=g(x0)\n",
    "    error=abs(x1-x0)\n",
    "    x0=x1\n",
    "print(\"The fix point is \", x0)"
   ]
  },
  {
   "cell_type": "code",
   "execution_count": 55,
   "metadata": {},
   "outputs": [
    {
     "name": "stdout",
     "output_type": "stream",
     "text": [
      "Solution:  6.776092350482941\n",
      "Function value:  -6.264624374807681e-08\n"
     ]
    }
   ],
   "source": [
    "error = 0.5 * 10**(-6)\n",
    "a = 0\n",
    "b = 10\n",
    "while (b - a) / 2 > error:\n",
    "    c = (b + a) / 2\n",
    "    if f(c) == 0:\n",
    "        break\n",
    "    elif f(a)*f(c) < 0:\n",
    "        b = c\n",
    "    else:\n",
    "        a = c\n",
    "c = (b + a) / 2\n",
    "        \n",
    "print(\"Solution: \",c)\n",
    "print(\"Function value: \", f(c))"
   ]
  },
  {
   "cell_type": "code",
   "execution_count": 57,
   "metadata": {},
   "outputs": [
    {
     "name": "stdout",
     "output_type": "stream",
     "text": [
      "          x               g(x)            e               |e(i)/e(i-1)|   step            \n",
      "      5.0000e-01      6.7702e+00      1.0000e+00      6.2702e+00               1\n",
      "      6.7702e+00      6.7810e+00      6.2702e+00      1.7344e-03               2\n",
      "      6.7810e+00      6.7720e+00      1.0875e-02      8.3315e-01               3\n",
      "      6.7720e+00      6.7795e+00      9.0604e-03      8.3416e-01               4\n",
      "      6.7795e+00      6.7732e+00      7.5577e-03      8.3333e-01               5\n",
      "      6.7732e+00      6.7785e+00      6.2981e-03      8.3403e-01               6\n",
      "      6.7785e+00      6.7741e+00      5.2528e-03      8.3345e-01               7\n",
      "      6.7741e+00      6.7778e+00      4.3779e-03      8.3394e-01               8\n",
      "      6.7778e+00      6.7747e+00      3.6509e-03      8.3354e-01               9\n",
      "      6.7747e+00      6.7772e+00      3.0432e-03      8.3387e-01              10\n",
      "      6.7772e+00      6.7751e+00      2.5376e-03      8.3359e-01              11\n",
      "      6.7751e+00      6.7769e+00      2.1153e-03      8.3383e-01              12\n",
      "      6.7769e+00      6.7754e+00      1.7638e-03      8.3363e-01              13\n",
      "      6.7754e+00      6.7766e+00      1.4704e-03      8.3379e-01              14\n",
      "      6.7766e+00      6.7756e+00      1.2260e-03      8.3366e-01              15\n",
      "      6.7756e+00      6.7765e+00      1.0221e-03      8.3377e-01              16\n",
      "      6.7765e+00      6.7758e+00      8.5217e-04      8.3368e-01              17\n",
      "      6.7758e+00      6.7764e+00      7.1044e-04      8.3376e-01              18\n",
      "      6.7764e+00      6.7759e+00      5.9233e-04      8.3369e-01              19\n",
      "      6.7759e+00      6.7763e+00      4.9382e-04      8.3375e-01              20\n",
      "      6.7763e+00      6.7759e+00      4.1172e-04      8.3370e-01              21\n",
      "      6.7759e+00      6.7762e+00      3.4325e-04      8.3374e-01              22\n",
      "      6.7762e+00      6.7760e+00      2.8618e-04      8.3371e-01              23\n",
      "      6.7760e+00      6.7762e+00      2.3859e-04      8.3373e-01              24\n",
      "      6.7762e+00      6.7760e+00      1.9892e-04      8.3371e-01              25\n",
      "      6.7760e+00      6.7762e+00      1.6585e-04      8.3373e-01              26\n",
      "      6.7762e+00      6.7760e+00      1.3827e-04      8.3371e-01              27\n",
      "      6.7760e+00      6.7761e+00      1.1528e-04      8.3373e-01              28\n",
      "      6.7761e+00      6.7761e+00      9.6110e-05      8.3372e-01              29\n",
      "      6.7761e+00      6.7761e+00      8.0129e-05      8.3373e-01              30\n",
      "      6.7761e+00      6.7761e+00      6.6806e-05      8.3372e-01              31\n",
      "      6.7761e+00      6.7761e+00      5.5697e-05      8.3372e-01              32\n",
      "      6.7761e+00      6.7761e+00      4.6436e-05      8.3372e-01              33\n",
      "      6.7761e+00      6.7761e+00      3.8715e-05      8.3372e-01              34\n",
      "      6.7761e+00      6.7761e+00      3.2277e-05      8.3372e-01              35\n",
      "      6.7761e+00      6.7761e+00      2.6910e-05      8.3372e-01              36\n",
      "      6.7761e+00      6.7761e+00      2.2436e-05      8.3372e-01              37\n",
      "      6.7761e+00      6.7761e+00      1.8705e-05      8.3372e-01              38\n",
      "      6.7761e+00      6.7761e+00      1.5595e-05      8.3372e-01              39\n",
      "      6.7761e+00      6.7761e+00      1.3002e-05      8.3372e-01              40\n",
      "      6.7761e+00      6.7761e+00      1.0840e-05      8.3372e-01              41\n",
      "      6.7761e+00      6.7761e+00      9.0374e-06      8.3372e-01              42\n",
      "      6.7761e+00      6.7761e+00      7.5347e-06      8.3372e-01              43\n",
      "      6.7761e+00      6.7761e+00      6.2818e-06      8.3372e-01              44\n",
      "      6.7761e+00      6.7761e+00      5.2373e-06      8.3372e-01              45\n",
      "      6.7761e+00      6.7761e+00      4.3665e-06      8.3372e-01              46\n",
      "      6.7761e+00      6.7761e+00      3.6404e-06      8.3372e-01              47\n",
      "      6.7761e+00      6.7761e+00      3.0351e-06      8.3372e-01              48\n",
      "      6.7761e+00      6.7761e+00      2.5304e-06      8.3372e-01              49\n",
      "      6.7761e+00      6.7761e+00      2.1097e-06      8.3372e-01              50\n",
      "      6.7761e+00      6.7761e+00      1.7589e-06      8.3372e-01              51\n",
      "      6.7761e+00      6.7761e+00      1.4664e-06      8.3372e-01              52\n",
      "      6.7761e+00      6.7761e+00      1.2226e-06      8.3372e-01              53\n",
      "      6.7761e+00      6.7761e+00      1.0193e-06      8.3372e-01              54\n",
      "      6.7761e+00      6.7761e+00      8.4981e-07      8.3372e-01              55\n",
      "      6.7761e+00      6.7761e+00      7.0850e-07      8.3372e-01              56\n",
      "      6.7761e+00      6.7761e+00      5.9069e-07      8.3372e-01              57\n",
      "      6.7761e+00      6.7761e+00      4.9247e-07      8.3372e-01              58\n",
      "      6.7761e+00      6.7761e+00      4.1059e-07      8.3372e-01              59\n",
      "      6.7761e+00      6.7761e+00      3.4232e-07      8.3372e-01              60\n",
      "      6.7761e+00      6.7761e+00      2.8540e-07      8.3372e-01              61\n",
      "      6.7761e+00      6.7761e+00      2.3794e-07      8.3372e-01              62\n",
      "      6.7761e+00      6.7761e+00      1.9838e-07      8.3372e-01              63\n",
      "      6.7761e+00      6.7761e+00      1.6539e-07      8.3372e-01              64\n",
      "      6.7761e+00      6.7761e+00      1.3789e-07      8.3372e-01              65\n",
      "      6.7761e+00      6.7761e+00      1.1496e-07      8.3372e-01              66\n",
      "      6.7761e+00      6.7761e+00      9.5846e-08      8.3372e-01              67\n",
      "      6.7761e+00      6.7761e+00      7.9909e-08      8.3372e-01              68\n",
      "      6.7761e+00      6.7761e+00      6.6622e-08      8.3372e-01              69\n",
      "      6.7761e+00      6.7761e+00      5.5544e-08      8.3372e-01              70\n",
      "      6.7761e+00      6.7761e+00      4.6308e-08      8.3372e-01              71\n",
      "      6.7761e+00      6.7761e+00      3.8608e-08      8.3372e-01              72\n",
      "      6.7761e+00      6.7761e+00      3.2189e-08      8.3372e-01              73\n",
      "      6.7761e+00      6.7761e+00      2.6836e-08      8.3372e-01              74\n",
      "      6.7761e+00      6.7761e+00      2.2374e-08      8.3372e-01              75\n",
      "      6.7761e+00      6.7761e+00      1.8654e-08      8.3372e-01              76\n",
      "      6.7761e+00      6.7761e+00      1.5552e-08      8.3372e-01              77\n",
      "      6.7761e+00      6.7761e+00      1.2966e-08      8.3372e-01              78\n",
      "      6.7761e+00      6.7761e+00      1.0810e-08      8.3372e-01              79\n",
      "The fix point is  6.7760923122218255\n"
     ]
    }
   ],
   "source": [
    "error=1\n",
    "x0=0.5\n",
    "i=0\n",
    "print('{:10s}{:16s}{:16s}{:16s}{:16s}{:16s}'.format(' ','x','g(x)','e','|e(i)/e(i-1)|','step'))\n",
    "while error > 1e-8:\n",
    "    i=i+1\n",
    "    if i>1000:\n",
    "        print(\"out of step\")\n",
    "        break\n",
    "    x1=g(x0)\n",
    "    error1=abs(x1-x0)\n",
    "    tmp=error1/error\n",
    "    print('{:16.4e}{:16.4e}{:16.4e}{:16.4e}{:16d}'.format(x0,x1,error,tmp,i))\n",
    "    error=error1\n",
    "    x0=x1\n",
    "print(\"The fix point is \", x0)"
   ]
  },
  {
   "cell_type": "code",
   "execution_count": 5,
   "metadata": {},
   "outputs": [
    {
     "data": {
      "text/plain": [
       "[<matplotlib.lines.Line2D at 0x11ff7af28>,\n",
       " <matplotlib.lines.Line2D at 0x11ff86128>]"
      ]
     },
     "execution_count": 5,
     "metadata": {},
     "output_type": "execute_result"
    },
    {
     "data": {
      "image/png": "[encoded data removed]",
      "text/plain": [
       "<Figure size 432x288 with 1 Axes>"
      ]
     },
     "metadata": {
      "needs_background": "light"
     },
     "output_type": "display_data"
    }
   ],
   "source": [
    "x = np.linspace(-3, 3, 1000)\n",
    "plt.plot(x,x,'r',x,2*np.sin(x),'b')"
   ]
  },
  {
   "cell_type": "code",
   "execution_count": 58,
   "metadata": {},
   "outputs": [
    {
     "data": {
      "text/plain": [
       "-0.6371080900569202"
      ]
     },
     "execution_count": 58,
     "metadata": {},
     "output_type": "execute_result"
    }
   ],
   "source": [
    "2*np.cos(1.895)"
   ]
  },
  {
   "cell_type": "code",
   "execution_count": 64,
   "metadata": {},
   "outputs": [
    {
     "name": "stdout",
     "output_type": "stream",
     "text": [
      "          x               f(x)            e               |e(i)/e(i-1)|   step            \n",
      "      5.0000e-01      9.5885e-01      1.0000e+00      4.5885e-01               1\n",
      "      9.5885e-01      1.6371e+00      4.5885e-01      1.4781e+00               2\n",
      "      1.6371e+00      1.9956e+00      6.7821e-01      5.2866e-01               3\n",
      "      1.9956e+00      1.8222e+00      3.5855e-01      4.8356e-01               4\n",
      "      1.8222e+00      1.9371e+00      1.7338e-01      6.6261e-01               5\n",
      "      1.9371e+00      1.8673e+00      1.1488e-01      6.0764e-01               6\n",
      "      1.8673e+00      1.9127e+00      6.9807e-02      6.5063e-01               7\n",
      "      1.9127e+00      1.8842e+00      4.5418e-02      6.2760e-01               8\n",
      "      1.8842e+00      1.9026e+00      2.8504e-02      6.4366e-01               9\n",
      "      1.9026e+00      1.8909e+00      1.8347e-02      6.3405e-01              10\n",
      "      1.8909e+00      1.8984e+00      1.1633e-02      6.4042e-01              11\n",
      "      1.8984e+00      1.8936e+00      7.4501e-03      6.3646e-01              12\n",
      "      1.8936e+00      1.8967e+00      4.7417e-03      6.3903e-01              13\n",
      "      1.8967e+00      1.8947e+00      3.0301e-03      6.3741e-01              14\n",
      "      1.8947e+00      1.8960e+00      1.9314e-03      6.3845e-01              15\n",
      "      1.8960e+00      1.8952e+00      1.2331e-03      6.3779e-01              16\n",
      "      1.8952e+00      1.8957e+00      7.8645e-04      6.3821e-01              17\n",
      "      1.8957e+00      1.8954e+00      5.0192e-04      6.3794e-01              18\n",
      "      1.8954e+00      1.8956e+00      3.2020e-04      6.3811e-01              19\n",
      "      1.8956e+00      1.8954e+00      2.0432e-04      6.3800e-01              20\n",
      "      1.8954e+00      1.8955e+00      1.3036e-04      6.3807e-01              21\n",
      "      1.8955e+00      1.8955e+00      8.3177e-05      6.3803e-01              22\n",
      "      1.8955e+00      1.8955e+00      5.3069e-05      6.3806e-01              23\n",
      "      1.8955e+00      1.8955e+00      3.3861e-05      6.3804e-01              24\n",
      "      1.8955e+00      1.8955e+00      2.1605e-05      6.3805e-01              25\n",
      "      1.8955e+00      1.8955e+00      1.3785e-05      6.3804e-01              26\n",
      "      1.8955e+00      1.8955e+00      8.7953e-06      6.3805e-01              27\n",
      "      1.8955e+00      1.8955e+00      5.6118e-06      6.3804e-01              28\n",
      "      1.8955e+00      1.8955e+00      3.5806e-06      6.3805e-01              29\n",
      "      1.8955e+00      1.8955e+00      2.2846e-06      6.3804e-01              30\n",
      "      1.8955e+00      1.8955e+00      1.4577e-06      6.3805e-01              31\n",
      "      1.8955e+00      1.8955e+00      9.3006e-07      6.3804e-01              32\n",
      "      1.8955e+00      1.8955e+00      5.9342e-07      6.3805e-01              33\n",
      "      1.8955e+00      1.8955e+00      3.7863e-07      6.3804e-01              34\n",
      "      1.8955e+00      1.8955e+00      2.4158e-07      6.3805e-01              35\n",
      "      1.8955e+00      1.8955e+00      1.5414e-07      6.3805e-01              36\n",
      "      1.8955e+00      1.8955e+00      9.8348e-08      6.3805e-01              37\n",
      "      1.8955e+00      1.8955e+00      6.2751e-08      6.3805e-01              38\n",
      "      1.8955e+00      1.8955e+00      4.0038e-08      6.3805e-01              39\n",
      "      1.8955e+00      1.8955e+00      2.5546e-08      6.3805e-01              40\n",
      "      1.8955e+00      1.8955e+00      1.6299e-08      6.3805e-01              41\n",
      "      1.8955e+00      1.8955e+00      1.0400e-08      6.3805e-01              42\n",
      "The fix point is  1.8954942644493404\n"
     ]
    }
   ],
   "source": [
    "def f(x):\n",
    "    return 2*np.sin(x)\n",
    "error=1\n",
    "x0=0.5\n",
    "i=0\n",
    "print('{:10s}{:16s}{:16s}{:16s}{:16s}{:16s}'.format(' ','x','f(x)','e','|e(i)/e(i-1)|','step'))\n",
    "while error > 1e-8:\n",
    "    i=i+1\n",
    "    x1=f(x0)\n",
    "    error1=abs(x1-x0)\n",
    "    tmp=error1/error\n",
    "    print('{:16.4e}{:16.4e}{:16.4e}{:16.4e}{:16d}'.format(x0,x1,error,tmp,i))\n",
    "    error=error1\n",
    "    x0=x1\n",
    "print(\"The fix point is \", x0)"
   ]
  },
  {
   "cell_type": "code",
   "execution_count": null,
   "metadata": {},
   "outputs": [],
   "source": []
  }
 ],
 "metadata": {
  "kernelspec": {
   "display_name": "Python 3",
   "language": "python",
   "name": "python3"
  },
  "language_info": {
   "codemirror_mode": {
    "name": "ipython",
    "version": 3
   },
   "file_extension": ".py",
   "mimetype": "text/x-python",
   "name": "python",
   "nbconvert_exporter": "python",
   "pygments_lexer": "ipython3",
   "version": "3.8.5-final"
  }
 },
 "nbformat": 4,
 "nbformat_minor": 2
}