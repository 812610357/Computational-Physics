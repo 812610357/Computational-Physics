{
 "metadata": {
  "language_info": {
   "codemirror_mode": {
    "name": "ipython",
    "version": 3
   },
   "file_extension": ".py",
   "mimetype": "text/x-python",
   "name": "python",
   "nbconvert_exporter": "python",
   "pygments_lexer": "ipython3",
   "version": "3.8.5"
  },
  "orig_nbformat": 2,
  "kernelspec": {
   "name": "python385jvsc74a57bd0b3ba2566441a7c06988d0923437866b63cedc61552a5af99d1f4fb67d367b25f",
   "display_name": "Python 3.8.5 64-bit ('base': conda)"
  }
 },
 "nbformat": 4,
 "nbformat_minor": 2,
 "cells": [
  {
   "cell_type": "code",
   "execution_count": null,
   "metadata": {},
   "outputs": [],
   "source": [
    "import numpy as np\n",
    "import matplotlib.pyplot as plt"
   ]
  },
  {
   "source": [
    "# 编程 5.4-1(a)"
   ],
   "cell_type": "markdown",
   "metadata": {}
  },
  {
   "cell_type": "code",
   "execution_count": 9,
   "metadata": {},
   "outputs": [
    {
     "output_type": "stream",
     "name": "stdout",
     "text": [
      "I = 2.00000000, num = 12606\n"
     ]
    }
   ],
   "source": [
    "def S_trapezoid(f, interval):\n",
    "    a, b = interval\n",
    "    return (b - a)*(f(a) + f(b))/2\n",
    "\n",
    "def Adapt_quad(f, interval, tol):\n",
    "    interval_list = [interval]\n",
    "    A, B = interval\n",
    "    S=S_trapezoid\n",
    "    criterion = 3\n",
    "    \n",
    "    area = 0\n",
    "    num = 1\n",
    "        \n",
    "    while len(interval_list) > 0:\n",
    "        interval = interval_list.pop(0)\n",
    "        a, b = interval\n",
    "        c = (a + b)/2\n",
    "        num += 1\n",
    "\n",
    "        S_ab, S_ac, S_cb = S(f, [a, b]), S(f, [a, c]), S(f, [c, b])\n",
    "        error = abs(S_ab - S_ac - S_cb)\n",
    "\n",
    "        if error < criterion*tol*(b - a)/(B - A):\n",
    "            area += S_ac + S_cb\n",
    "        else:\n",
    "            interval_list += [[a, c], [c, b]]\n",
    "            \n",
    "    return area, num\n",
    "\n",
    "def f(x):\n",
    "    return x/np.sqrt(x**2+9)\n",
    "\n",
    "I,num =Adapt_quad(f,[0,4],0.5e-8)\n",
    "print('I = %.8f, num = %d'%(I,num))"
   ]
  },
  {
   "source": [
    "# 编程 5.4-6(a)"
   ],
   "cell_type": "markdown",
   "metadata": {}
  },
  {
   "cell_type": "code",
   "execution_count": 12,
   "metadata": {},
   "outputs": [
    {
     "output_type": "stream",
     "name": "stdout",
     "text": [
      "I =  1.4626517488454323\n"
     ]
    }
   ],
   "source": [
    "def f(x):\n",
    "    return np.exp(x**2)\n",
    "\n",
    "I,num = Adapt_quad(f,[0,1],0.5e-8)\n",
    "print('I = ',I)"
   ]
  },
  {
   "source": [
    "# 编程 5.4-6(e)"
   ],
   "cell_type": "markdown",
   "metadata": {}
  },
  {
   "cell_type": "code",
   "execution_count": 13,
   "metadata": {},
   "outputs": [
    {
     "output_type": "stream",
     "name": "stdout",
     "text": [
      "I =  0.1610199002405315\n"
     ]
    }
   ],
   "source": [
    "def f(x):\n",
    "    return x/(2*np.exp(x)-np.exp(-x))\n",
    "\n",
    "I,num = Adapt_quad(f,[0,1],0.5e-8)\n",
    "print('I = ',I)"
   ]
  },
  {
   "cell_type": "code",
   "execution_count": null,
   "metadata": {},
   "outputs": [],
   "source": []
  }
 ]
}