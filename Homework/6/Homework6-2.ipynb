{
 "metadata": {
  "language_info": {
   "codemirror_mode": {
    "name": "ipython",
    "version": 3
   },
   "file_extension": ".py",
   "mimetype": "text/x-python",
   "name": "python",
   "nbconvert_exporter": "python",
   "pygments_lexer": "ipython3",
   "version": "3.8.5"
  },
  "orig_nbformat": 2,
  "kernelspec": {
   "name": "python385jvsc74a57bd0b3ba2566441a7c06988d0923437866b63cedc61552a5af99d1f4fb67d367b25f",
   "display_name": "Python 3.8.5 64-bit ('base': conda)"
  }
 },
 "nbformat": 4,
 "nbformat_minor": 2,
 "cells": [
  {
   "source": [
    "# 编程 5.2-1(a)"
   ],
   "cell_type": "markdown",
   "metadata": {}
  },
  {
   "cell_type": "code",
   "execution_count": 4,
   "metadata": {},
   "outputs": [],
   "source": [
    "import numpy as np\n",
    "import matplotlib.pyplot as plt"
   ]
  },
  {
   "cell_type": "code",
   "execution_count": 12,
   "metadata": {},
   "outputs": [
    {
     "output_type": "stream",
     "name": "stdout",
     "text": [
      "m = 16\nI = 1.998638181470279\ne = 0.0013618185297210594\nm = 32\nI = 1.9996596780779115\ne = 0.00034032192208854894\n"
     ]
    }
   ],
   "source": [
    "def trapezoid_rule(f, a, b, m=1):\n",
    "    x_range = np.linspace(a, b, m+1)\n",
    "    y_range = f(x_range)\n",
    "    h = (b - a)/m\n",
    "    return (y_range[0] + y_range[-1] + 2*y_range[1:-1].sum())*h/2\n",
    "\n",
    "def f(x):\n",
    "    return x/np.sqrt(x**2+9)\n",
    "\n",
    "I=trapezoid_rule(f,0,4,m=16)\n",
    "print('m = 16')\n",
    "print('I =',I)\n",
    "print('e =',np.abs(I-2))\n",
    "I=trapezoid_rule(f,0,4,m=32)\n",
    "print('m = 32')\n",
    "print('I =',I)\n",
    "print('e =',np.abs(I-2))"
   ]
  },
  {
   "source": [
    "# 编程 5.2-2(a)"
   ],
   "cell_type": "markdown",
   "metadata": {}
  },
  {
   "cell_type": "code",
   "execution_count": 11,
   "metadata": {},
   "outputs": [
    {
     "output_type": "stream",
     "name": "stdout",
     "text": [
      "m = 16\nI = 2.0000001769471223\ne = 1.769471222878849e-07\nm = 32\nI = 2.0000000110375145\ne = 1.1037514457967745e-08\n"
     ]
    }
   ],
   "source": [
    "def simpson_rule(f, a, b, m=1):\n",
    "    x_range = np.linspace(a, b, 2*m + 1)\n",
    "    y_range = f(x_range)\n",
    "    h = (b - a)/(2*m)\n",
    "    return (y_range[0] + y_range[-1] + 4*y_range[1::2].sum() + 2*y_range[2:-1:2].sum())*h/3\n",
    "\n",
    "I=simpson_rule(f,0,4,m=16)\n",
    "print('m = 16')\n",
    "print('I =',I)\n",
    "print('e =',np.abs(I-2))\n",
    "I=simpson_rule(f,0,4,m=32)\n",
    "print('m = 32')\n",
    "print('I =',I)\n",
    "print('e =',np.abs(I-2))"
   ]
  },
  {
   "source": [
    "# 编程 5.2-8(b)"
   ],
   "cell_type": "markdown",
   "metadata": {}
  },
  {
   "cell_type": "code",
   "execution_count": 16,
   "metadata": {},
   "outputs": [
    {
     "output_type": "stream",
     "name": "stdout",
     "text": [
      "I = 1.277978223742703\n"
     ]
    }
   ],
   "source": [
    "def dy(x):\n",
    "    return 1/(np.cos(x)**2)\n",
    "\n",
    "def f(x):\n",
    "    return np.sqrt(1+dy(x)**2)\n",
    "\n",
    "I=simpson_rule(f,0,np.pi/4,m=16)\n",
    "print('I =',I)"
   ]
  },
  {
   "source": [
    "# 编程 5.3-2(a)"
   ],
   "cell_type": "markdown",
   "metadata": {}
  },
  {
   "cell_type": "code",
   "execution_count": 50,
   "metadata": {},
   "outputs": [
    {
     "output_type": "stream",
     "name": "stdout",
     "text": [
      "I = 1.4626517459101027\n"
     ]
    }
   ],
   "source": [
    "def romberg(f, a, b, n=10):\n",
    "    h = b - a\n",
    "    R = np.zeros((n, n))\n",
    "    R[0, 0] = (f(a) + f(b))*h/2\n",
    "\n",
    "    for j in range(1, n):\n",
    "        h /= 2\n",
    "        R[j, 0] = R[j-1, 0]/2 + sum([f(a + (2*k+1)*h) for k in range(2**(j-1))])*h\n",
    "        for k in range(0, j):\n",
    "            R[j, k+1] = ((4**(k+1)*R[j, k] - R[j-1, k])) / (4**(k+1) - 1)\n",
    "        if np.abs(R[j-1,j-1]-R[j-2,j-2])<0.5e-8:\n",
    "            return R[j-1,j-1]\n",
    "\n",
    "def f(x):\n",
    "    return np.exp(x**2)\n",
    "\n",
    "I=romberg(f,0,1)\n",
    "print('I =',I)"
   ]
  },
  {
   "source": [
    "# 编程 5.3-2(e)"
   ],
   "cell_type": "markdown",
   "metadata": {}
  },
  {
   "cell_type": "code",
   "execution_count": 52,
   "metadata": {},
   "outputs": [
    {
     "output_type": "stream",
     "name": "stdout",
     "text": [
      "I = 0.16101990302796826\n"
     ]
    }
   ],
   "source": [
    "def f(x):\n",
    "    return x/(2*np.exp(x)-np.exp(-x))\n",
    "\n",
    "I=romberg(f,0,1)\n",
    "print('I =',I)"
   ]
  },
  {
   "cell_type": "code",
   "execution_count": null,
   "metadata": {},
   "outputs": [],
   "source": []
  }
 ]
}