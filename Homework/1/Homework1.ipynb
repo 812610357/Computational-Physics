{
 "metadata": {
  "language_info": {
   "codemirror_mode": {
    "name": "ipython",
    "version": 3
   },
   "file_extension": ".py",
   "mimetype": "text/x-python",
   "name": "python",
   "nbconvert_exporter": "python",
   "pygments_lexer": "ipython3",
   "version": "3.8.5-final"
  },
  "orig_nbformat": 2,
  "kernelspec": {
   "name": "python3",
   "display_name": "Python 3.8.5 64-bit ('base': conda)",
   "metadata": {
    "interpreter": {
     "hash": "fdd701662b960f5e0f52ce3c0c621245723c4cc0dbe0a8943b870cb6c806648a"
    }
   }
  }
 },
 "nbformat": 4,
 "nbformat_minor": 2,
 "cells": [
  {
   "source": [
    "## 习题 0.3-15 （手动运算过程见PDF文件）"
   ],
   "cell_type": "markdown",
   "metadata": {}
  },
  {
   "source": [
    "8.3-7.3-1"
   ],
   "cell_type": "code",
   "metadata": {},
   "execution_count": 1,
   "outputs": [
    {
     "output_type": "execute_result",
     "data": {
      "text/plain": [
       "8.881784197001252e-16"
      ]
     },
     "metadata": {},
     "execution_count": 1
    }
   ]
  },
  {
   "cell_type": "code",
   "execution_count": 2,
   "metadata": {},
   "outputs": [
    {
     "output_type": "execute_result",
     "data": {
      "text/plain": [
       "0.0"
      ]
     },
     "metadata": {},
     "execution_count": 2
    }
   ],
   "source": [
    "8.4-7.4-1"
   ]
  },
  {
   "cell_type": "code",
   "execution_count": 3,
   "metadata": {},
   "outputs": [
    {
     "output_type": "execute_result",
     "data": {
      "text/plain": [
       "8.881784197001252e-16"
      ]
     },
     "metadata": {},
     "execution_count": 3
    }
   ],
   "source": [
    "8.8-7.8-1"
   ]
  },
  {
   "cell_type": "code",
   "execution_count": 4,
   "metadata": {},
   "outputs": [
    {
     "output_type": "execute_result",
     "data": {
      "text/plain": [
       "8.881784197001252e-16"
      ]
     },
     "metadata": {},
     "execution_count": 4
    }
   ],
   "source": [
    "2**-50"
   ]
  },
  {
   "source": [
    "## 习题 1.2-31 （S值的求解过程见PDF文件）"
   ],
   "cell_type": "markdown",
   "metadata": {}
  },
  {
   "cell_type": "code",
   "execution_count": 5,
   "metadata": {},
   "outputs": [],
   "source": [
    "import numpy as np\n",
    "import matplotlib.pyplot as plt"
   ]
  },
  {
   "cell_type": "code",
   "execution_count": 6,
   "metadata": {},
   "outputs": [
    {
     "output_type": "stream",
     "name": "stdout",
     "text": [
      "r=0.250000\n"
     ]
    },
    {
     "output_type": "execute_result",
     "data": {
      "text/plain": [
       "[<matplotlib.lines.Line2D at 0x7fc72c0adf10>]"
      ]
     },
     "metadata": {},
     "execution_count": 6
    },
    {
     "output_type": "display_data",
     "data": {
      "text/plain": "<Figure size 432x288 with 1 Axes>",
      "image/svg+xml": "<?xml version=\"1.0\" encoding=\"utf-8\" standalone=\"no\"?>\n<!DOCTYPE svg PUBLIC \"-//W3C//DTD SVG 1.1//EN\"\n  \"http://www.w3.org/Graphics/SVG/1.1/DTD/svg11.dtd\">\n<!-- Created with matplotlib (https://matplotlib.org/) -->\n<svg height=\"248.518125pt\" version=\"1.1\" viewBox=\"0 0 372.103125 248.518125\" width=\"372.103125pt\" xmlns=\"http://www.w3.org/2000/svg\" xmlns:xlink=\"http://www.w3.org/1999/xlink\">\n <metadata>\n  <rdf:RDF xmlns:cc=\"http://creativecommons.org/ns#\" xmlns:dc=\"http://purl.org/dc/elements/1.1/\" xmlns:rdf=\"http://www.w3.org/1999/02/22-rdf-syntax-ns#\">\n   <cc:Work>\n    <dc:type rdf:resource=\"http://purl.org/dc/dcmitype/StillImage\"/>\n    <dc:date>2021-03-21T22:50:55.955468</dc:date>\n    <dc:format>image/svg+xml</dc:format>\n    <dc:creator>\n     <cc:Agent>\n      <dc:title>Matplotlib v3.3.4, https://matplotlib.org/</dc:title>\n     </cc:Agent>\n    </dc:creator>\n   </cc:Work>\n  </rdf:RDF>\n </metadata>\n <defs>\n  <style type=\"text/css\">*{stroke-linecap:butt;stroke-linejoin:round;}</style>\n </defs>\n <g id=\"figure_1\">\n  <g id=\"patch_1\">\n   <path d=\"M 0 248.518125 \nL 372.103125 248.518125 \nL 372.103125 0 \nL 0 0 \nz\n\" style=\"fill:none;\"/>\n  </g>\n  <g id=\"axes_1\">\n   <g id=\"patch_2\">\n    <path d=\"M 30.103125 224.64 \nL 364.903125 224.64 \nL 364.903125 7.2 \nL 30.103125 7.2 \nz\n\" style=\"fill:#ffffff;\"/>\n   </g>\n   <g id=\"matplotlib.axis_1\">\n    <g id=\"xtick_1\">\n     <g id=\"line2d_1\">\n      <defs>\n       <path d=\"M 0 0 \nL 0 3.5 \n\" id=\"m3b9513d4a3\" style=\"stroke:#000000;stroke-width:0.8;\"/>\n      </defs>\n      <g>\n       <use style=\"stroke:#000000;stroke-width:0.8;\" x=\"45.321307\" xlink:href=\"#m3b9513d4a3\" y=\"224.64\"/>\n      </g>\n     </g>\n     <g id=\"text_1\">\n      <!-- 0.0 -->\n      <g transform=\"translate(37.369744 239.238437)scale(0.1 -0.1)\">\n       <defs>\n        <path d=\"M 31.78125 66.40625 \nQ 24.171875 66.40625 20.328125 58.90625 \nQ 16.5 51.421875 16.5 36.375 \nQ 16.5 21.390625 20.328125 13.890625 \nQ 24.171875 6.390625 31.78125 6.390625 \nQ 39.453125 6.390625 43.28125 13.890625 \nQ 47.125 21.390625 47.125 36.375 \nQ 47.125 51.421875 43.28125 58.90625 \nQ 39.453125 66.40625 31.78125 66.40625 \nz\nM 31.78125 74.21875 \nQ 44.046875 74.21875 50.515625 64.515625 \nQ 56.984375 54.828125 56.984375 36.375 \nQ 56.984375 17.96875 50.515625 8.265625 \nQ 44.046875 -1.421875 31.78125 -1.421875 \nQ 19.53125 -1.421875 13.0625 8.265625 \nQ 6.59375 17.96875 6.59375 36.375 \nQ 6.59375 54.828125 13.0625 64.515625 \nQ 19.53125 74.21875 31.78125 74.21875 \nz\n\" id=\"DejaVuSans-48\"/>\n        <path d=\"M 10.6875 12.40625 \nL 21 12.40625 \nL 21 0 \nL 10.6875 0 \nz\n\" id=\"DejaVuSans-46\"/>\n       </defs>\n       <use xlink:href=\"#DejaVuSans-48\"/>\n       <use x=\"63.623047\" xlink:href=\"#DejaVuSans-46\"/>\n       <use x=\"95.410156\" xlink:href=\"#DejaVuSans-48\"/>\n      </g>\n     </g>\n    </g>\n    <g id=\"xtick_2\">\n     <g id=\"line2d_2\">\n      <g>\n       <use style=\"stroke:#000000;stroke-width:0.8;\" x=\"106.194034\" xlink:href=\"#m3b9513d4a3\" y=\"224.64\"/>\n      </g>\n     </g>\n     <g id=\"text_2\">\n      <!-- 0.1 -->\n      <g transform=\"translate(98.242472 239.238437)scale(0.1 -0.1)\">\n       <defs>\n        <path d=\"M 12.40625 8.296875 \nL 28.515625 8.296875 \nL 28.515625 63.921875 \nL 10.984375 60.40625 \nL 10.984375 69.390625 \nL 28.421875 72.90625 \nL 38.28125 72.90625 \nL 38.28125 8.296875 \nL 54.390625 8.296875 \nL 54.390625 0 \nL 12.40625 0 \nz\n\" id=\"DejaVuSans-49\"/>\n       </defs>\n       <use xlink:href=\"#DejaVuSans-48\"/>\n       <use x=\"63.623047\" xlink:href=\"#DejaVuSans-46\"/>\n       <use x=\"95.410156\" xlink:href=\"#DejaVuSans-49\"/>\n      </g>\n     </g>\n    </g>\n    <g id=\"xtick_3\">\n     <g id=\"line2d_3\">\n      <g>\n       <use style=\"stroke:#000000;stroke-width:0.8;\" x=\"167.066761\" xlink:href=\"#m3b9513d4a3\" y=\"224.64\"/>\n      </g>\n     </g>\n     <g id=\"text_3\">\n      <!-- 0.2 -->\n      <g transform=\"translate(159.115199 239.238437)scale(0.1 -0.1)\">\n       <defs>\n        <path d=\"M 19.1875 8.296875 \nL 53.609375 8.296875 \nL 53.609375 0 \nL 7.328125 0 \nL 7.328125 8.296875 \nQ 12.9375 14.109375 22.625 23.890625 \nQ 32.328125 33.6875 34.8125 36.53125 \nQ 39.546875 41.84375 41.421875 45.53125 \nQ 43.3125 49.21875 43.3125 52.78125 \nQ 43.3125 58.59375 39.234375 62.25 \nQ 35.15625 65.921875 28.609375 65.921875 \nQ 23.96875 65.921875 18.8125 64.3125 \nQ 13.671875 62.703125 7.8125 59.421875 \nL 7.8125 69.390625 \nQ 13.765625 71.78125 18.9375 73 \nQ 24.125 74.21875 28.421875 74.21875 \nQ 39.75 74.21875 46.484375 68.546875 \nQ 53.21875 62.890625 53.21875 53.421875 \nQ 53.21875 48.921875 51.53125 44.890625 \nQ 49.859375 40.875 45.40625 35.40625 \nQ 44.1875 33.984375 37.640625 27.21875 \nQ 31.109375 20.453125 19.1875 8.296875 \nz\n\" id=\"DejaVuSans-50\"/>\n       </defs>\n       <use xlink:href=\"#DejaVuSans-48\"/>\n       <use x=\"63.623047\" xlink:href=\"#DejaVuSans-46\"/>\n       <use x=\"95.410156\" xlink:href=\"#DejaVuSans-50\"/>\n      </g>\n     </g>\n    </g>\n    <g id=\"xtick_4\">\n     <g id=\"line2d_4\">\n      <g>\n       <use style=\"stroke:#000000;stroke-width:0.8;\" x=\"227.939489\" xlink:href=\"#m3b9513d4a3\" y=\"224.64\"/>\n      </g>\n     </g>\n     <g id=\"text_4\">\n      <!-- 0.3 -->\n      <g transform=\"translate(219.987926 239.238437)scale(0.1 -0.1)\">\n       <defs>\n        <path d=\"M 40.578125 39.3125 \nQ 47.65625 37.796875 51.625 33 \nQ 55.609375 28.21875 55.609375 21.1875 \nQ 55.609375 10.40625 48.1875 4.484375 \nQ 40.765625 -1.421875 27.09375 -1.421875 \nQ 22.515625 -1.421875 17.65625 -0.515625 \nQ 12.796875 0.390625 7.625 2.203125 \nL 7.625 11.71875 \nQ 11.71875 9.328125 16.59375 8.109375 \nQ 21.484375 6.890625 26.8125 6.890625 \nQ 36.078125 6.890625 40.9375 10.546875 \nQ 45.796875 14.203125 45.796875 21.1875 \nQ 45.796875 27.640625 41.28125 31.265625 \nQ 36.765625 34.90625 28.71875 34.90625 \nL 20.21875 34.90625 \nL 20.21875 43.015625 \nL 29.109375 43.015625 \nQ 36.375 43.015625 40.234375 45.921875 \nQ 44.09375 48.828125 44.09375 54.296875 \nQ 44.09375 59.90625 40.109375 62.90625 \nQ 36.140625 65.921875 28.71875 65.921875 \nQ 24.65625 65.921875 20.015625 65.03125 \nQ 15.375 64.15625 9.8125 62.3125 \nL 9.8125 71.09375 \nQ 15.4375 72.65625 20.34375 73.4375 \nQ 25.25 74.21875 29.59375 74.21875 \nQ 40.828125 74.21875 47.359375 69.109375 \nQ 53.90625 64.015625 53.90625 55.328125 \nQ 53.90625 49.265625 50.4375 45.09375 \nQ 46.96875 40.921875 40.578125 39.3125 \nz\n\" id=\"DejaVuSans-51\"/>\n       </defs>\n       <use xlink:href=\"#DejaVuSans-48\"/>\n       <use x=\"63.623047\" xlink:href=\"#DejaVuSans-46\"/>\n       <use x=\"95.410156\" xlink:href=\"#DejaVuSans-51\"/>\n      </g>\n     </g>\n    </g>\n    <g id=\"xtick_5\">\n     <g id=\"line2d_5\">\n      <g>\n       <use style=\"stroke:#000000;stroke-width:0.8;\" x=\"288.812216\" xlink:href=\"#m3b9513d4a3\" y=\"224.64\"/>\n      </g>\n     </g>\n     <g id=\"text_5\">\n      <!-- 0.4 -->\n      <g transform=\"translate(280.860653 239.238437)scale(0.1 -0.1)\">\n       <defs>\n        <path d=\"M 37.796875 64.3125 \nL 12.890625 25.390625 \nL 37.796875 25.390625 \nz\nM 35.203125 72.90625 \nL 47.609375 72.90625 \nL 47.609375 25.390625 \nL 58.015625 25.390625 \nL 58.015625 17.1875 \nL 47.609375 17.1875 \nL 47.609375 0 \nL 37.796875 0 \nL 37.796875 17.1875 \nL 4.890625 17.1875 \nL 4.890625 26.703125 \nz\n\" id=\"DejaVuSans-52\"/>\n       </defs>\n       <use xlink:href=\"#DejaVuSans-48\"/>\n       <use x=\"63.623047\" xlink:href=\"#DejaVuSans-46\"/>\n       <use x=\"95.410156\" xlink:href=\"#DejaVuSans-52\"/>\n      </g>\n     </g>\n    </g>\n    <g id=\"xtick_6\">\n     <g id=\"line2d_6\">\n      <g>\n       <use style=\"stroke:#000000;stroke-width:0.8;\" x=\"349.684943\" xlink:href=\"#m3b9513d4a3\" y=\"224.64\"/>\n      </g>\n     </g>\n     <g id=\"text_6\">\n      <!-- 0.5 -->\n      <g transform=\"translate(341.733381 239.238437)scale(0.1 -0.1)\">\n       <defs>\n        <path d=\"M 10.796875 72.90625 \nL 49.515625 72.90625 \nL 49.515625 64.59375 \nL 19.828125 64.59375 \nL 19.828125 46.734375 \nQ 21.96875 47.46875 24.109375 47.828125 \nQ 26.265625 48.1875 28.421875 48.1875 \nQ 40.625 48.1875 47.75 41.5 \nQ 54.890625 34.8125 54.890625 23.390625 \nQ 54.890625 11.625 47.5625 5.09375 \nQ 40.234375 -1.421875 26.90625 -1.421875 \nQ 22.3125 -1.421875 17.546875 -0.640625 \nQ 12.796875 0.140625 7.71875 1.703125 \nL 7.71875 11.625 \nQ 12.109375 9.234375 16.796875 8.0625 \nQ 21.484375 6.890625 26.703125 6.890625 \nQ 35.15625 6.890625 40.078125 11.328125 \nQ 45.015625 15.765625 45.015625 23.390625 \nQ 45.015625 31 40.078125 35.4375 \nQ 35.15625 39.890625 26.703125 39.890625 \nQ 22.75 39.890625 18.8125 39.015625 \nQ 14.890625 38.140625 10.796875 36.28125 \nz\n\" id=\"DejaVuSans-53\"/>\n       </defs>\n       <use xlink:href=\"#DejaVuSans-48\"/>\n       <use x=\"63.623047\" xlink:href=\"#DejaVuSans-46\"/>\n       <use x=\"95.410156\" xlink:href=\"#DejaVuSans-53\"/>\n      </g>\n     </g>\n    </g>\n   </g>\n   <g id=\"matplotlib.axis_2\">\n    <g id=\"ytick_1\">\n     <g id=\"line2d_7\">\n      <defs>\n       <path d=\"M 0 0 \nL -3.5 0 \n\" id=\"me70686c642\" style=\"stroke:#000000;stroke-width:0.8;\"/>\n      </defs>\n      <g>\n       <use style=\"stroke:#000000;stroke-width:0.8;\" x=\"30.103125\" xlink:href=\"#me70686c642\" y=\"214.756364\"/>\n      </g>\n     </g>\n     <g id=\"text_7\">\n      <!-- 0.0 -->\n      <g transform=\"translate(7.2 218.555582)scale(0.1 -0.1)\">\n       <use xlink:href=\"#DejaVuSans-48\"/>\n       <use x=\"63.623047\" xlink:href=\"#DejaVuSans-46\"/>\n       <use x=\"95.410156\" xlink:href=\"#DejaVuSans-48\"/>\n      </g>\n     </g>\n    </g>\n    <g id=\"ytick_2\">\n     <g id=\"line2d_8\">\n      <g>\n       <use style=\"stroke:#000000;stroke-width:0.8;\" x=\"30.103125\" xlink:href=\"#me70686c642\" y=\"175.221818\"/>\n      </g>\n     </g>\n     <g id=\"text_8\">\n      <!-- 0.1 -->\n      <g transform=\"translate(7.2 179.021037)scale(0.1 -0.1)\">\n       <use xlink:href=\"#DejaVuSans-48\"/>\n       <use x=\"63.623047\" xlink:href=\"#DejaVuSans-46\"/>\n       <use x=\"95.410156\" xlink:href=\"#DejaVuSans-49\"/>\n      </g>\n     </g>\n    </g>\n    <g id=\"ytick_3\">\n     <g id=\"line2d_9\">\n      <g>\n       <use style=\"stroke:#000000;stroke-width:0.8;\" x=\"30.103125\" xlink:href=\"#me70686c642\" y=\"135.687273\"/>\n      </g>\n     </g>\n     <g id=\"text_9\">\n      <!-- 0.2 -->\n      <g transform=\"translate(7.2 139.486491)scale(0.1 -0.1)\">\n       <use xlink:href=\"#DejaVuSans-48\"/>\n       <use x=\"63.623047\" xlink:href=\"#DejaVuSans-46\"/>\n       <use x=\"95.410156\" xlink:href=\"#DejaVuSans-50\"/>\n      </g>\n     </g>\n    </g>\n    <g id=\"ytick_4\">\n     <g id=\"line2d_10\">\n      <g>\n       <use style=\"stroke:#000000;stroke-width:0.8;\" x=\"30.103125\" xlink:href=\"#me70686c642\" y=\"96.152727\"/>\n      </g>\n     </g>\n     <g id=\"text_10\">\n      <!-- 0.3 -->\n      <g transform=\"translate(7.2 99.951946)scale(0.1 -0.1)\">\n       <use xlink:href=\"#DejaVuSans-48\"/>\n       <use x=\"63.623047\" xlink:href=\"#DejaVuSans-46\"/>\n       <use x=\"95.410156\" xlink:href=\"#DejaVuSans-51\"/>\n      </g>\n     </g>\n    </g>\n    <g id=\"ytick_5\">\n     <g id=\"line2d_11\">\n      <g>\n       <use style=\"stroke:#000000;stroke-width:0.8;\" x=\"30.103125\" xlink:href=\"#me70686c642\" y=\"56.618182\"/>\n      </g>\n     </g>\n     <g id=\"text_11\">\n      <!-- 0.4 -->\n      <g transform=\"translate(7.2 60.417401)scale(0.1 -0.1)\">\n       <use xlink:href=\"#DejaVuSans-48\"/>\n       <use x=\"63.623047\" xlink:href=\"#DejaVuSans-46\"/>\n       <use x=\"95.410156\" xlink:href=\"#DejaVuSans-52\"/>\n      </g>\n     </g>\n    </g>\n    <g id=\"ytick_6\">\n     <g id=\"line2d_12\">\n      <g>\n       <use style=\"stroke:#000000;stroke-width:0.8;\" x=\"30.103125\" xlink:href=\"#me70686c642\" y=\"17.083636\"/>\n      </g>\n     </g>\n     <g id=\"text_12\">\n      <!-- 0.5 -->\n      <g transform=\"translate(7.2 20.882855)scale(0.1 -0.1)\">\n       <use xlink:href=\"#DejaVuSans-48\"/>\n       <use x=\"63.623047\" xlink:href=\"#DejaVuSans-46\"/>\n       <use x=\"95.410156\" xlink:href=\"#DejaVuSans-53\"/>\n      </g>\n     </g>\n    </g>\n   </g>\n   <g id=\"line2d_13\">\n    <path clip-path=\"url(#p406ceeb69c)\" d=\"M 45.321307 91.210909 \nL 51.53281 91.252074 \nL 57.744312 91.375568 \nL 63.955815 91.581391 \nL 70.167318 91.869544 \nL 76.378821 92.240026 \nL 82.590324 92.692837 \nL 88.801826 93.227978 \nL 95.013329 93.845448 \nL 101.224832 94.545247 \nL 107.436335 95.327376 \nL 113.647837 96.191834 \nL 119.85934 97.138621 \nL 126.070843 98.167738 \nL 132.282346 99.279184 \nL 138.493849 100.472959 \nL 144.705351 101.749064 \nL 150.916854 103.107498 \nL 157.128357 104.548261 \nL 163.33986 106.071354 \nL 169.551362 107.676776 \nL 175.762865 109.364527 \nL 181.974368 111.134608 \nL 188.185871 112.987018 \nL 194.397374 114.921757 \nL 200.608876 116.938825 \nL 206.820379 119.038223 \nL 213.031882 121.219951 \nL 219.243385 123.484007 \nL 225.454888 125.830393 \nL 231.66639 128.259109 \nL 237.877893 130.770153 \nL 244.089396 133.363527 \nL 250.300899 136.039231 \nL 256.512401 138.797263 \nL 262.723904 141.637625 \nL 268.935407 144.560317 \nL 275.14691 147.565337 \nL 281.358413 150.652687 \nL 287.569915 153.822366 \nL 293.781418 157.074375 \nL 299.992921 160.408713 \nL 306.204424 163.82538 \nL 312.415926 167.324377 \nL 318.627429 170.905703 \nL 324.838932 174.569358 \nL 331.050435 178.315343 \nL 337.261938 182.143657 \nL 343.47344 186.0543 \nL 349.684943 190.047273 \n\" style=\"fill:none;stroke:#1f77b4;stroke-linecap:square;stroke-width:1.5;\"/>\n   </g>\n   <g id=\"line2d_14\">\n    <path clip-path=\"url(#p406ceeb69c)\" d=\"M 45.321307 214.756364 \nL 51.53281 210.722226 \nL 57.744312 206.688089 \nL 63.955815 202.653952 \nL 70.167318 198.619814 \nL 76.378821 194.585677 \nL 82.590324 190.55154 \nL 88.801826 186.517403 \nL 95.013329 182.483265 \nL 101.224832 178.449128 \nL 107.436335 174.414991 \nL 113.647837 170.380853 \nL 119.85934 166.346716 \nL 126.070843 162.312579 \nL 132.282346 158.278442 \nL 138.493849 154.244304 \nL 144.705351 150.210167 \nL 150.916854 146.17603 \nL 157.128357 142.141892 \nL 163.33986 138.107755 \nL 169.551362 134.073618 \nL 175.762865 130.039481 \nL 181.974368 126.005343 \nL 188.185871 121.971206 \nL 194.397374 117.937069 \nL 200.608876 113.902931 \nL 206.820379 109.868794 \nL 213.031882 105.834657 \nL 219.243385 101.800519 \nL 225.454888 97.766382 \nL 231.66639 93.732245 \nL 237.877893 89.698108 \nL 244.089396 85.66397 \nL 250.300899 81.629833 \nL 256.512401 77.595696 \nL 262.723904 73.561558 \nL 268.935407 69.527421 \nL 275.14691 65.493284 \nL 281.358413 61.459147 \nL 287.569915 57.425009 \nL 293.781418 53.390872 \nL 299.992921 49.356735 \nL 306.204424 45.322597 \nL 312.415926 41.28846 \nL 318.627429 37.254323 \nL 324.838932 33.220186 \nL 331.050435 29.186048 \nL 337.261938 25.151911 \nL 343.47344 21.117774 \nL 349.684943 17.083636 \n\" style=\"fill:none;stroke:#ff7f0e;stroke-dasharray:5.55,2.4;stroke-dashoffset:0;stroke-width:1.5;\"/>\n   </g>\n   <g id=\"line2d_15\">\n    <path clip-path=\"url(#p406ceeb69c)\" d=\"M 45.321307 214.756364 \nL 45.321307 91.210909 \nL 235.54858 91.210909 \nL 235.54858 129.818864 \nL 176.102557 129.818864 \nL 176.102557 109.4592 \nL 207.451045 109.4592 \nL 207.451045 119.255983 \nL 192.366594 119.255983 \nL 192.366594 114.280158 \nL 200.028048 114.280158 \nL 200.028048 116.746723 \nL 196.230191 116.746723 \nL 196.230191 115.508367 \nL 198.13693 115.508367 \nL 198.13693 116.126245 \nL 197.185562 116.126245 \nL 197.185562 115.816985 \nL 197.661741 115.816985 \nL 197.661741 115.971534 \nL 197.423776 115.971534 \nL 197.423776 115.89424 \nL 197.542789 115.89424 \nL 197.542789 115.932882 \nL 197.48329 115.932882 \nL 197.48329 115.913559 \nL 197.513042 115.913559 \nL 197.513042 115.92322 \nL 197.498166 115.92322 \nL 197.498166 115.91839 \nL 197.505604 115.91839 \nL 197.505604 115.920805 \nL 197.501885 115.920805 \nL 197.501885 115.919597 \nL 197.503745 115.919597 \nL 197.503745 115.920201 \nL 197.502815 115.920201 \nL 197.502815 115.919899 \nL 197.50328 115.919899 \n\" style=\"fill:none;stroke:#2ca02c;stroke-linecap:square;stroke-width:1.5;\"/>\n   </g>\n   <g id=\"patch_3\">\n    <path d=\"M 30.103125 224.64 \nL 30.103125 7.2 \n\" style=\"fill:none;stroke:#000000;stroke-linecap:square;stroke-linejoin:miter;stroke-width:0.8;\"/>\n   </g>\n   <g id=\"patch_4\">\n    <path d=\"M 364.903125 224.64 \nL 364.903125 7.2 \n\" style=\"fill:none;stroke:#000000;stroke-linecap:square;stroke-linejoin:miter;stroke-width:0.8;\"/>\n   </g>\n   <g id=\"patch_5\">\n    <path d=\"M 30.103125 224.64 \nL 364.903125 224.64 \n\" style=\"fill:none;stroke:#000000;stroke-linecap:square;stroke-linejoin:miter;stroke-width:0.8;\"/>\n   </g>\n   <g id=\"patch_6\">\n    <path d=\"M 30.103125 7.2 \nL 364.903125 7.2 \n\" style=\"fill:none;stroke:#000000;stroke-linecap:square;stroke-linejoin:miter;stroke-width:0.8;\"/>\n   </g>\n  </g>\n </g>\n <defs>\n  <clipPath id=\"p406ceeb69c\">\n   <rect height=\"217.44\" width=\"334.8\" x=\"30.103125\" y=\"7.2\"/>\n  </clipPath>\n </defs>\n</svg>\n",
      "image/png": "[encoded data removed]"
     },
     "metadata": {
      "needs_background": "light"
     }
    }
   ],
   "source": [
    "def fun1(x):\n",
    "    return 5/16-x**2\n",
    "\n",
    "t=np.linspace(0,0.5)\n",
    "plt.plot(t,fun1(t),'-')\n",
    "plt.plot(t,t,'--')\n",
    "\n",
    "x0=0\n",
    "data1=np.array([0,0])\n",
    "error=1\n",
    "\n",
    "while error>1e-6:\n",
    "    x=fun1(x0)\n",
    "    error=np.abs(x-x0)\n",
    "    data1=np.row_stack((data1,[[x0,x],[x,x]]))\n",
    "    x0=x\n",
    "\n",
    "print(\"r=%6f\"%x)\n",
    "plt.plot(data1[:,0],data1[:,1],'-')"
   ]
  },
  {
   "cell_type": "code",
   "execution_count": 7,
   "metadata": {},
   "outputs": [
    {
     "output_type": "stream",
     "name": "stdout",
     "text": [
      "r=-1.250000\n"
     ]
    },
    {
     "output_type": "execute_result",
     "data": {
      "text/plain": [
       "[<matplotlib.lines.Line2D at 0x7fc729fbfd00>]"
      ]
     },
     "metadata": {},
     "execution_count": 7
    },
    {
     "output_type": "display_data",
     "data": {
      "text/plain": "<Figure size 432x288 with 1 Axes>",
      "image/svg+xml": "<?xml version=\"1.0\" encoding=\"utf-8\" standalone=\"no\"?>\n<!DOCTYPE svg PUBLIC \"-//W3C//DTD SVG 1.1//EN\"\n  \"http://www.w3.org/Graphics/SVG/1.1/DTD/svg11.dtd\">\n<!-- Created with matplotlib (https://matplotlib.org/) -->\n<svg height=\"248.518125pt\" version=\"1.1\" viewBox=\"0 0 380.482813 248.518125\" width=\"380.482813pt\" xmlns=\"http://www.w3.org/2000/svg\" xmlns:xlink=\"http://www.w3.org/1999/xlink\">\n <metadata>\n  <rdf:RDF xmlns:cc=\"http://creativecommons.org/ns#\" xmlns:dc=\"http://purl.org/dc/elements/1.1/\" xmlns:rdf=\"http://www.w3.org/1999/02/22-rdf-syntax-ns#\">\n   <cc:Work>\n    <dc:type rdf:resource=\"http://purl.org/dc/dcmitype/StillImage\"/>\n    <dc:date>2021-03-21T22:50:56.110192</dc:date>\n    <dc:format>image/svg+xml</dc:format>\n    <dc:creator>\n     <cc:Agent>\n      <dc:title>Matplotlib v3.3.4, https://matplotlib.org/</dc:title>\n     </cc:Agent>\n    </dc:creator>\n   </cc:Work>\n  </rdf:RDF>\n </metadata>\n <defs>\n  <style type=\"text/css\">*{stroke-linecap:butt;stroke-linejoin:round;}</style>\n </defs>\n <g id=\"figure_1\">\n  <g id=\"patch_1\">\n   <path d=\"M -0 248.518125 \nL 380.482813 248.518125 \nL 380.482813 0 \nL -0 0 \nz\n\" style=\"fill:none;\"/>\n  </g>\n  <g id=\"axes_1\">\n   <g id=\"patch_2\">\n    <path d=\"M 38.482813 224.64 \nL 373.282813 224.64 \nL 373.282813 7.2 \nL 38.482813 7.2 \nz\n\" style=\"fill:#ffffff;\"/>\n   </g>\n   <g id=\"matplotlib.axis_1\">\n    <g id=\"xtick_1\">\n     <g id=\"line2d_1\">\n      <defs>\n       <path d=\"M 0 0 \nL 0 3.5 \n\" id=\"mb916e28f45\" style=\"stroke:#000000;stroke-width:0.8;\"/>\n      </defs>\n      <g>\n       <use style=\"stroke:#000000;stroke-width:0.8;\" x=\"53.700994\" xlink:href=\"#mb916e28f45\" y=\"224.64\"/>\n      </g>\n     </g>\n     <g id=\"text_1\">\n      <!-- −1.5 -->\n      <g transform=\"translate(41.559588 239.238438)scale(0.1 -0.1)\">\n       <defs>\n        <path d=\"M 10.59375 35.5 \nL 73.1875 35.5 \nL 73.1875 27.203125 \nL 10.59375 27.203125 \nz\n\" id=\"DejaVuSans-8722\"/>\n        <path d=\"M 12.40625 8.296875 \nL 28.515625 8.296875 \nL 28.515625 63.921875 \nL 10.984375 60.40625 \nL 10.984375 69.390625 \nL 28.421875 72.90625 \nL 38.28125 72.90625 \nL 38.28125 8.296875 \nL 54.390625 8.296875 \nL 54.390625 0 \nL 12.40625 0 \nz\n\" id=\"DejaVuSans-49\"/>\n        <path d=\"M 10.6875 12.40625 \nL 21 12.40625 \nL 21 0 \nL 10.6875 0 \nz\n\" id=\"DejaVuSans-46\"/>\n        <path d=\"M 10.796875 72.90625 \nL 49.515625 72.90625 \nL 49.515625 64.59375 \nL 19.828125 64.59375 \nL 19.828125 46.734375 \nQ 21.96875 47.46875 24.109375 47.828125 \nQ 26.265625 48.1875 28.421875 48.1875 \nQ 40.625 48.1875 47.75 41.5 \nQ 54.890625 34.8125 54.890625 23.390625 \nQ 54.890625 11.625 47.5625 5.09375 \nQ 40.234375 -1.421875 26.90625 -1.421875 \nQ 22.3125 -1.421875 17.546875 -0.640625 \nQ 12.796875 0.140625 7.71875 1.703125 \nL 7.71875 11.625 \nQ 12.109375 9.234375 16.796875 8.0625 \nQ 21.484375 6.890625 26.703125 6.890625 \nQ 35.15625 6.890625 40.078125 11.328125 \nQ 45.015625 15.765625 45.015625 23.390625 \nQ 45.015625 31 40.078125 35.4375 \nQ 35.15625 39.890625 26.703125 39.890625 \nQ 22.75 39.890625 18.8125 39.015625 \nQ 14.890625 38.140625 10.796875 36.28125 \nz\n\" id=\"DejaVuSans-53\"/>\n       </defs>\n       <use xlink:href=\"#DejaVuSans-8722\"/>\n       <use x=\"83.789062\" xlink:href=\"#DejaVuSans-49\"/>\n       <use x=\"147.412109\" xlink:href=\"#DejaVuSans-46\"/>\n       <use x=\"179.199219\" xlink:href=\"#DejaVuSans-53\"/>\n      </g>\n     </g>\n    </g>\n    <g id=\"xtick_2\">\n     <g id=\"line2d_2\">\n      <g>\n       <use style=\"stroke:#000000;stroke-width:0.8;\" x=\"114.573722\" xlink:href=\"#mb916e28f45\" y=\"224.64\"/>\n      </g>\n     </g>\n     <g id=\"text_2\">\n      <!-- −1.4 -->\n      <g transform=\"translate(102.432315 239.238438)scale(0.1 -0.1)\">\n       <defs>\n        <path d=\"M 37.796875 64.3125 \nL 12.890625 25.390625 \nL 37.796875 25.390625 \nz\nM 35.203125 72.90625 \nL 47.609375 72.90625 \nL 47.609375 25.390625 \nL 58.015625 25.390625 \nL 58.015625 17.1875 \nL 47.609375 17.1875 \nL 47.609375 0 \nL 37.796875 0 \nL 37.796875 17.1875 \nL 4.890625 17.1875 \nL 4.890625 26.703125 \nz\n\" id=\"DejaVuSans-52\"/>\n       </defs>\n       <use xlink:href=\"#DejaVuSans-8722\"/>\n       <use x=\"83.789062\" xlink:href=\"#DejaVuSans-49\"/>\n       <use x=\"147.412109\" xlink:href=\"#DejaVuSans-46\"/>\n       <use x=\"179.199219\" xlink:href=\"#DejaVuSans-52\"/>\n      </g>\n     </g>\n    </g>\n    <g id=\"xtick_3\">\n     <g id=\"line2d_3\">\n      <g>\n       <use style=\"stroke:#000000;stroke-width:0.8;\" x=\"175.446449\" xlink:href=\"#mb916e28f45\" y=\"224.64\"/>\n      </g>\n     </g>\n     <g id=\"text_3\">\n      <!-- −1.3 -->\n      <g transform=\"translate(163.305043 239.238438)scale(0.1 -0.1)\">\n       <defs>\n        <path d=\"M 40.578125 39.3125 \nQ 47.65625 37.796875 51.625 33 \nQ 55.609375 28.21875 55.609375 21.1875 \nQ 55.609375 10.40625 48.1875 4.484375 \nQ 40.765625 -1.421875 27.09375 -1.421875 \nQ 22.515625 -1.421875 17.65625 -0.515625 \nQ 12.796875 0.390625 7.625 2.203125 \nL 7.625 11.71875 \nQ 11.71875 9.328125 16.59375 8.109375 \nQ 21.484375 6.890625 26.8125 6.890625 \nQ 36.078125 6.890625 40.9375 10.546875 \nQ 45.796875 14.203125 45.796875 21.1875 \nQ 45.796875 27.640625 41.28125 31.265625 \nQ 36.765625 34.90625 28.71875 34.90625 \nL 20.21875 34.90625 \nL 20.21875 43.015625 \nL 29.109375 43.015625 \nQ 36.375 43.015625 40.234375 45.921875 \nQ 44.09375 48.828125 44.09375 54.296875 \nQ 44.09375 59.90625 40.109375 62.90625 \nQ 36.140625 65.921875 28.71875 65.921875 \nQ 24.65625 65.921875 20.015625 65.03125 \nQ 15.375 64.15625 9.8125 62.3125 \nL 9.8125 71.09375 \nQ 15.4375 72.65625 20.34375 73.4375 \nQ 25.25 74.21875 29.59375 74.21875 \nQ 40.828125 74.21875 47.359375 69.109375 \nQ 53.90625 64.015625 53.90625 55.328125 \nQ 53.90625 49.265625 50.4375 45.09375 \nQ 46.96875 40.921875 40.578125 39.3125 \nz\n\" id=\"DejaVuSans-51\"/>\n       </defs>\n       <use xlink:href=\"#DejaVuSans-8722\"/>\n       <use x=\"83.789062\" xlink:href=\"#DejaVuSans-49\"/>\n       <use x=\"147.412109\" xlink:href=\"#DejaVuSans-46\"/>\n       <use x=\"179.199219\" xlink:href=\"#DejaVuSans-51\"/>\n      </g>\n     </g>\n    </g>\n    <g id=\"xtick_4\">\n     <g id=\"line2d_4\">\n      <g>\n       <use style=\"stroke:#000000;stroke-width:0.8;\" x=\"236.319176\" xlink:href=\"#mb916e28f45\" y=\"224.64\"/>\n      </g>\n     </g>\n     <g id=\"text_4\">\n      <!-- −1.2 -->\n      <g transform=\"translate(224.17777 239.238438)scale(0.1 -0.1)\">\n       <defs>\n        <path d=\"M 19.1875 8.296875 \nL 53.609375 8.296875 \nL 53.609375 0 \nL 7.328125 0 \nL 7.328125 8.296875 \nQ 12.9375 14.109375 22.625 23.890625 \nQ 32.328125 33.6875 34.8125 36.53125 \nQ 39.546875 41.84375 41.421875 45.53125 \nQ 43.3125 49.21875 43.3125 52.78125 \nQ 43.3125 58.59375 39.234375 62.25 \nQ 35.15625 65.921875 28.609375 65.921875 \nQ 23.96875 65.921875 18.8125 64.3125 \nQ 13.671875 62.703125 7.8125 59.421875 \nL 7.8125 69.390625 \nQ 13.765625 71.78125 18.9375 73 \nQ 24.125 74.21875 28.421875 74.21875 \nQ 39.75 74.21875 46.484375 68.546875 \nQ 53.21875 62.890625 53.21875 53.421875 \nQ 53.21875 48.921875 51.53125 44.890625 \nQ 49.859375 40.875 45.40625 35.40625 \nQ 44.1875 33.984375 37.640625 27.21875 \nQ 31.109375 20.453125 19.1875 8.296875 \nz\n\" id=\"DejaVuSans-50\"/>\n       </defs>\n       <use xlink:href=\"#DejaVuSans-8722\"/>\n       <use x=\"83.789062\" xlink:href=\"#DejaVuSans-49\"/>\n       <use x=\"147.412109\" xlink:href=\"#DejaVuSans-46\"/>\n       <use x=\"179.199219\" xlink:href=\"#DejaVuSans-50\"/>\n      </g>\n     </g>\n    </g>\n    <g id=\"xtick_5\">\n     <g id=\"line2d_5\">\n      <g>\n       <use style=\"stroke:#000000;stroke-width:0.8;\" x=\"297.191903\" xlink:href=\"#mb916e28f45\" y=\"224.64\"/>\n      </g>\n     </g>\n     <g id=\"text_5\">\n      <!-- −1.1 -->\n      <g transform=\"translate(285.050497 239.238438)scale(0.1 -0.1)\">\n       <use xlink:href=\"#DejaVuSans-8722\"/>\n       <use x=\"83.789062\" xlink:href=\"#DejaVuSans-49\"/>\n       <use x=\"147.412109\" xlink:href=\"#DejaVuSans-46\"/>\n       <use x=\"179.199219\" xlink:href=\"#DejaVuSans-49\"/>\n      </g>\n     </g>\n    </g>\n    <g id=\"xtick_6\">\n     <g id=\"line2d_6\">\n      <g>\n       <use style=\"stroke:#000000;stroke-width:0.8;\" x=\"358.064631\" xlink:href=\"#mb916e28f45\" y=\"224.64\"/>\n      </g>\n     </g>\n     <g id=\"text_6\">\n      <!-- −1.0 -->\n      <g transform=\"translate(345.923224 239.238438)scale(0.1 -0.1)\">\n       <defs>\n        <path d=\"M 31.78125 66.40625 \nQ 24.171875 66.40625 20.328125 58.90625 \nQ 16.5 51.421875 16.5 36.375 \nQ 16.5 21.390625 20.328125 13.890625 \nQ 24.171875 6.390625 31.78125 6.390625 \nQ 39.453125 6.390625 43.28125 13.890625 \nQ 47.125 21.390625 47.125 36.375 \nQ 47.125 51.421875 43.28125 58.90625 \nQ 39.453125 66.40625 31.78125 66.40625 \nz\nM 31.78125 74.21875 \nQ 44.046875 74.21875 50.515625 64.515625 \nQ 56.984375 54.828125 56.984375 36.375 \nQ 56.984375 17.96875 50.515625 8.265625 \nQ 44.046875 -1.421875 31.78125 -1.421875 \nQ 19.53125 -1.421875 13.0625 8.265625 \nQ 6.59375 17.96875 6.59375 36.375 \nQ 6.59375 54.828125 13.0625 64.515625 \nQ 19.53125 74.21875 31.78125 74.21875 \nz\n\" id=\"DejaVuSans-48\"/>\n       </defs>\n       <use xlink:href=\"#DejaVuSans-8722\"/>\n       <use x=\"83.789062\" xlink:href=\"#DejaVuSans-49\"/>\n       <use x=\"147.412109\" xlink:href=\"#DejaVuSans-46\"/>\n       <use x=\"179.199219\" xlink:href=\"#DejaVuSans-48\"/>\n      </g>\n     </g>\n    </g>\n   </g>\n   <g id=\"matplotlib.axis_2\">\n    <g id=\"ytick_1\">\n     <g id=\"line2d_7\">\n      <defs>\n       <path d=\"M 0 0 \nL -3.5 0 \n\" id=\"mf2a0f26605\" style=\"stroke:#000000;stroke-width:0.8;\"/>\n      </defs>\n      <g>\n       <use style=\"stroke:#000000;stroke-width:0.8;\" x=\"38.482813\" xlink:href=\"#mf2a0f26605\" y=\"214.756364\"/>\n      </g>\n     </g>\n     <g id=\"text_7\">\n      <!-- −1.5 -->\n      <g transform=\"translate(7.2 218.555582)scale(0.1 -0.1)\">\n       <use xlink:href=\"#DejaVuSans-8722\"/>\n       <use x=\"83.789062\" xlink:href=\"#DejaVuSans-49\"/>\n       <use x=\"147.412109\" xlink:href=\"#DejaVuSans-46\"/>\n       <use x=\"179.199219\" xlink:href=\"#DejaVuSans-53\"/>\n      </g>\n     </g>\n    </g>\n    <g id=\"ytick_2\">\n     <g id=\"line2d_8\">\n      <g>\n       <use style=\"stroke:#000000;stroke-width:0.8;\" x=\"38.482813\" xlink:href=\"#mf2a0f26605\" y=\"175.221818\"/>\n      </g>\n     </g>\n     <g id=\"text_8\">\n      <!-- −1.4 -->\n      <g transform=\"translate(7.2 179.021037)scale(0.1 -0.1)\">\n       <use xlink:href=\"#DejaVuSans-8722\"/>\n       <use x=\"83.789062\" xlink:href=\"#DejaVuSans-49\"/>\n       <use x=\"147.412109\" xlink:href=\"#DejaVuSans-46\"/>\n       <use x=\"179.199219\" xlink:href=\"#DejaVuSans-52\"/>\n      </g>\n     </g>\n    </g>\n    <g id=\"ytick_3\">\n     <g id=\"line2d_9\">\n      <g>\n       <use style=\"stroke:#000000;stroke-width:0.8;\" x=\"38.482813\" xlink:href=\"#mf2a0f26605\" y=\"135.687273\"/>\n      </g>\n     </g>\n     <g id=\"text_9\">\n      <!-- −1.3 -->\n      <g transform=\"translate(7.2 139.486491)scale(0.1 -0.1)\">\n       <use xlink:href=\"#DejaVuSans-8722\"/>\n       <use x=\"83.789062\" xlink:href=\"#DejaVuSans-49\"/>\n       <use x=\"147.412109\" xlink:href=\"#DejaVuSans-46\"/>\n       <use x=\"179.199219\" xlink:href=\"#DejaVuSans-51\"/>\n      </g>\n     </g>\n    </g>\n    <g id=\"ytick_4\">\n     <g id=\"line2d_10\">\n      <g>\n       <use style=\"stroke:#000000;stroke-width:0.8;\" x=\"38.482813\" xlink:href=\"#mf2a0f26605\" y=\"96.152727\"/>\n      </g>\n     </g>\n     <g id=\"text_10\">\n      <!-- −1.2 -->\n      <g transform=\"translate(7.2 99.951946)scale(0.1 -0.1)\">\n       <use xlink:href=\"#DejaVuSans-8722\"/>\n       <use x=\"83.789062\" xlink:href=\"#DejaVuSans-49\"/>\n       <use x=\"147.412109\" xlink:href=\"#DejaVuSans-46\"/>\n       <use x=\"179.199219\" xlink:href=\"#DejaVuSans-50\"/>\n      </g>\n     </g>\n    </g>\n    <g id=\"ytick_5\">\n     <g id=\"line2d_11\">\n      <g>\n       <use style=\"stroke:#000000;stroke-width:0.8;\" x=\"38.482813\" xlink:href=\"#mf2a0f26605\" y=\"56.618182\"/>\n      </g>\n     </g>\n     <g id=\"text_11\">\n      <!-- −1.1 -->\n      <g transform=\"translate(7.2 60.417401)scale(0.1 -0.1)\">\n       <use xlink:href=\"#DejaVuSans-8722\"/>\n       <use x=\"83.789062\" xlink:href=\"#DejaVuSans-49\"/>\n       <use x=\"147.412109\" xlink:href=\"#DejaVuSans-46\"/>\n       <use x=\"179.199219\" xlink:href=\"#DejaVuSans-49\"/>\n      </g>\n     </g>\n    </g>\n    <g id=\"ytick_6\">\n     <g id=\"line2d_12\">\n      <g>\n       <use style=\"stroke:#000000;stroke-width:0.8;\" x=\"38.482813\" xlink:href=\"#mf2a0f26605\" y=\"17.083636\"/>\n      </g>\n     </g>\n     <g id=\"text_12\">\n      <!-- −1.0 -->\n      <g transform=\"translate(7.2 20.882855)scale(0.1 -0.1)\">\n       <use xlink:href=\"#DejaVuSans-8722\"/>\n       <use x=\"83.789062\" xlink:href=\"#DejaVuSans-49\"/>\n       <use x=\"147.412109\" xlink:href=\"#DejaVuSans-46\"/>\n       <use x=\"179.199219\" xlink:href=\"#DejaVuSans-48\"/>\n      </g>\n     </g>\n    </g>\n   </g>\n   <g id=\"line2d_13\">\n    <path clip-path=\"url(#p05595ad13e)\" d=\"M 53.700994 41.792727 \nL 59.912497 45.7857 \nL 66.124 49.696343 \nL 72.335503 53.524657 \nL 78.547005 57.270642 \nL 84.758508 60.934297 \nL 90.970011 64.515623 \nL 97.181514 68.01462 \nL 103.393017 71.431287 \nL 109.604519 74.765625 \nL 115.816022 78.017634 \nL 122.027525 81.187313 \nL 128.239028 84.274663 \nL 134.45053 87.279683 \nL 140.662033 90.202375 \nL 146.873536 93.042737 \nL 153.085039 95.800769 \nL 159.296542 98.476473 \nL 165.508044 101.069847 \nL 171.719547 103.580891 \nL 177.93105 106.009607 \nL 184.142553 108.355993 \nL 190.354056 110.620049 \nL 196.565558 112.801777 \nL 202.777061 114.901175 \nL 208.988564 116.918243 \nL 215.200067 118.852982 \nL 221.411569 120.705392 \nL 227.623072 122.475473 \nL 233.834575 124.163224 \nL 240.046078 125.768646 \nL 246.257581 127.291739 \nL 252.469083 128.732502 \nL 258.680586 130.090936 \nL 264.892089 131.367041 \nL 271.103592 132.560816 \nL 277.315095 133.672262 \nL 283.526597 134.701379 \nL 289.7381 135.648166 \nL 295.949603 136.512624 \nL 302.161106 137.294753 \nL 308.372608 137.994552 \nL 314.584111 138.612022 \nL 320.795614 139.147163 \nL 327.007117 139.599974 \nL 333.21862 139.970456 \nL 339.430122 140.258609 \nL 345.641625 140.464432 \nL 351.853128 140.587926 \nL 358.064631 140.629091 \n\" style=\"fill:none;stroke:#1f77b4;stroke-linecap:square;stroke-width:1.5;\"/>\n   </g>\n   <g id=\"line2d_14\">\n    <path clip-path=\"url(#p05595ad13e)\" d=\"M 53.700994 214.756364 \nL 59.912497 210.722226 \nL 66.124 206.688089 \nL 72.335503 202.653952 \nL 78.547005 198.619814 \nL 84.758508 194.585677 \nL 90.970011 190.55154 \nL 97.181514 186.517403 \nL 103.393017 182.483265 \nL 109.604519 178.449128 \nL 115.816022 174.414991 \nL 122.027525 170.380853 \nL 128.239028 166.346716 \nL 134.45053 162.312579 \nL 140.662033 158.278442 \nL 146.873536 154.244304 \nL 153.085039 150.210167 \nL 159.296542 146.17603 \nL 165.508044 142.141892 \nL 171.719547 138.107755 \nL 177.93105 134.073618 \nL 184.142553 130.039481 \nL 190.354056 126.005343 \nL 196.565558 121.971206 \nL 202.777061 117.937069 \nL 208.988564 113.902931 \nL 215.200067 109.868794 \nL 221.411569 105.834657 \nL 227.623072 101.800519 \nL 233.834575 97.766382 \nL 240.046078 93.732245 \nL 246.257581 89.698108 \nL 252.469083 85.66397 \nL 258.680586 81.629833 \nL 264.892089 77.595696 \nL 271.103592 73.561558 \nL 277.315095 69.527421 \nL 283.526597 65.493284 \nL 289.7381 61.459147 \nL 295.949603 57.425009 \nL 302.161106 53.390872 \nL 308.372608 49.356735 \nL 314.584111 45.322597 \nL 320.795614 41.28846 \nL 327.007117 37.254323 \nL 333.21862 33.220186 \nL 339.430122 29.186048 \nL 345.641625 25.151911 \nL 351.853128 21.117774 \nL 358.064631 17.083636 \n\" style=\"fill:none;stroke:#ff7f0e;stroke-dasharray:5.55,2.4;stroke-dashoffset:0;stroke-width:1.5;\"/>\n   </g>\n   <g id=\"line2d_15\">\n    <path clip-path=\"url(#p05595ad13e)\" d=\"M 358.064631 17.083636 \nL 358.064631 140.629091 \nL 167.837358 140.629091 \nL 167.837358 102.021136 \nL 227.283381 102.021136 \nL 227.283381 122.3808 \nL 195.934892 122.3808 \nL 195.934892 112.584017 \nL 211.019343 112.584017 \nL 211.019343 117.559842 \nL 203.35789 117.559842 \nL 203.35789 115.093277 \nL 207.155747 115.093277 \nL 207.155747 116.331633 \nL 205.249007 116.331633 \nL 205.249007 115.713755 \nL 206.200375 115.713755 \nL 206.200375 116.023015 \nL 205.724197 116.023015 \nL 205.724197 115.868466 \nL 205.962162 115.868466 \nL 205.962162 115.94576 \nL 205.843148 115.94576 \nL 205.843148 115.907118 \nL 205.902647 115.907118 \nL 205.902647 115.926441 \nL 205.872896 115.926441 \nL 205.872896 115.91678 \nL 205.887771 115.91678 \nL 205.887771 115.92161 \nL 205.880333 115.92161 \nL 205.880333 115.919195 \nL 205.884052 115.919195 \nL 205.884052 115.920403 \nL 205.882193 115.920403 \nL 205.882193 115.919799 \nL 205.883122 115.919799 \nL 205.883122 115.920101 \nL 205.882658 115.920101 \n\" style=\"fill:none;stroke:#2ca02c;stroke-linecap:square;stroke-width:1.5;\"/>\n   </g>\n   <g id=\"patch_3\">\n    <path d=\"M 38.482813 224.64 \nL 38.482813 7.2 \n\" style=\"fill:none;stroke:#000000;stroke-linecap:square;stroke-linejoin:miter;stroke-width:0.8;\"/>\n   </g>\n   <g id=\"patch_4\">\n    <path d=\"M 373.282813 224.64 \nL 373.282813 7.2 \n\" style=\"fill:none;stroke:#000000;stroke-linecap:square;stroke-linejoin:miter;stroke-width:0.8;\"/>\n   </g>\n   <g id=\"patch_5\">\n    <path d=\"M 38.482813 224.64 \nL 373.282813 224.64 \n\" style=\"fill:none;stroke:#000000;stroke-linecap:square;stroke-linejoin:miter;stroke-width:0.8;\"/>\n   </g>\n   <g id=\"patch_6\">\n    <path d=\"M 38.482813 7.2 \nL 373.282813 7.2 \n\" style=\"fill:none;stroke:#000000;stroke-linecap:square;stroke-linejoin:miter;stroke-width:0.8;\"/>\n   </g>\n  </g>\n </g>\n <defs>\n  <clipPath id=\"p05595ad13e\">\n   <rect height=\"217.44\" width=\"334.8\" x=\"38.482813\" y=\"7.2\"/>\n  </clipPath>\n </defs>\n</svg>\n",
      "image/png": "[encoded data removed]"
     },
     "metadata": {
      "needs_background": "light"
     }
    }
   ],
   "source": [
    "def fun2(x):\n",
    "    return x**2+2*x-5/16\n",
    "\n",
    "t=np.linspace(-1.5,-1)\n",
    "plt.plot(t,fun2(t),'-')\n",
    "plt.plot(t,t,'--')\n",
    "\n",
    "x0=-1\n",
    "data2=np.array([-1,-1])\n",
    "error=1\n",
    "\n",
    "while error>1e-6:\n",
    "    x=fun2(x0)\n",
    "    error=np.abs(x-x0)\n",
    "    data2=np.row_stack((data2,[[x0,x],[x,x]]))\n",
    "    x0=x\n",
    "\n",
    "print(\"r=%6f\"%x)\n",
    "plt.plot(data2[:,0],data2[:,1],'-')"
   ]
  },
  {
   "source": [
    "## 编程 1.1-2"
   ],
   "cell_type": "markdown",
   "metadata": {}
  },
  {
   "cell_type": "code",
   "execution_count": 8,
   "metadata": {},
   "outputs": [],
   "source": [
    "steps=0\n",
    "def Bisecion(fun, a, b, error):\n",
    "    '''\n",
    "    # 二分法求解函数\n",
    "    ## 参数说明\n",
    "    求解函数f(x)==0```fun```，求解区间```[a,b]```，求解误差```error```\n",
    "    ## 举例\n",
    "    >>> import numpy as np\n",
    "    >>> Bisecion(np.sin, 3, 4 ,10e-8)\n",
    "    3.1415926590561867\n",
    "    >>> def f(x):\\n\n",
    "            return x**2-2\n",
    "    >>> Bisecion(f ,1 ,2 ,10e-8)\n",
    "    1.4142135605216026\n",
    "    '''\n",
    "    global steps\n",
    "    steps=0\n",
    "    while (b-a)/2 > error:\n",
    "        c = (b+a)/2\n",
    "        if fun(c) == 0:\n",
    "            return c\n",
    "        elif fun(a)*fun(c) > 0:\n",
    "            a = c\n",
    "        else:\n",
    "            b = c\n",
    "        steps+=1\n",
    "    return (b+a)/2\n"
   ]
  },
  {
   "cell_type": "code",
   "execution_count": 9,
   "metadata": {},
   "outputs": [
    {
     "output_type": "stream",
     "name": "stdout",
     "text": [
      "(a) r= 0.75487766   steps=26\n(b) r=-0.97089892   steps=27\n(c) r= 1.59214293   steps=26\n"
     ]
    }
   ],
   "source": [
    "def fun_a(x):\n",
    "    return x**5+x-1\n",
    "\n",
    "def fun_b(x):\n",
    "    return np.sin(x)-6*x-5\n",
    "\n",
    "def fun_c(x):\n",
    "    return np.log(x)+x**2-3\n",
    "\n",
    "print(\"(a)\",\"r=%11.8f\"%Bisecion(fun_a, 0,1,1e-8),\"  steps=%d\"%steps)\n",
    "print(\"(b)\",\"r=%11.8f\"%Bisecion(fun_b,-2,0,1e-8),\"  steps=%d\"%steps)\n",
    "print(\"(c)\",\"r=%11.8f\"%Bisecion(fun_c, 1,2,1e-8),\"  steps=%d\"%steps)"
   ]
  },
  {
   "source": [
    "## 编程 1.1-6"
   ],
   "cell_type": "markdown",
   "metadata": {}
  },
  {
   "cell_type": "code",
   "execution_count": 10,
   "metadata": {},
   "outputs": [
    {
     "output_type": "stream",
     "name": "stdout",
     "text": [
      "r=0.785398   steps=19\n"
     ]
    }
   ],
   "source": [
    "def fun(x):\n",
    "    return np.cos(x)-np.sin(x)\n",
    "\n",
    "print(\"r=%.6f\"%Bisecion(fun,0,1,1e-6),\"  steps=%d\"%steps)\n"
   ]
  },
  {
   "source": [
    "## 编程 1.2-4"
   ],
   "cell_type": "markdown",
   "metadata": {}
  },
  {
   "cell_type": "code",
   "execution_count": 11,
   "metadata": {},
   "outputs": [],
   "source": [
    "steps=0\n",
    "s=0\n",
    "def FPI(fun,x0,errorArg):\n",
    "    '''\n",
    "    # 不动点迭代法求解函数\n",
    "    ## 参数说明\n",
    "    输入函数g(x)==x```fun```，求解起点```x0```，求解误差```errorArg```\n",
    "    ## 举例\n",
    "    >>> import numpy as np\n",
    "    >>> Bisecion(np.cos, 1 ,1e-8)\n",
    "    0.7390851300853067\n",
    "    >>> def f(x):\\n\n",
    "            return (1+2*x**3)/(1+3*x**2)\n",
    "    >>> Bisecion(f ,1 ,1e-8)\n",
    "    0.6823278038280193\n",
    "    '''\n",
    "    global steps\n",
    "    global s\n",
    "    steps=0\n",
    "    error=1\n",
    "    while error>errorArg:\n",
    "        x=fun(x0)\n",
    "        error=np.abs(x-x0)\n",
    "        x0=x\n",
    "        steps+=1\n",
    "    s=np.abs(fun(x0)-x0)/error\n",
    "    return x0"
   ]
  },
  {
   "cell_type": "code",
   "execution_count": 12,
   "metadata": {},
   "outputs": [
    {
     "output_type": "stream",
     "name": "stdout",
     "text": [
      "(a) r=1.25992105   Start at 1   steps=5\n(b) r=1.44224957   Start at 1   steps=6\n(c) r=1.70997595   Start at 1   steps=6\n"
     ]
    }
   ],
   "source": [
    "def fun(x):\n",
    "    global A\n",
    "    return (2*x+A/x**2)/3\n",
    "\n",
    "A=2\n",
    "print(\"(a)\",\"r=%10.8f\"%FPI(fun,1,1e-8),\"  Start at 1   steps=%d\"%steps)\n",
    "A=3\n",
    "print(\"(b)\",\"r=%10.8f\"%FPI(fun,1,1e-8),\"  Start at 1   steps=%d\"%steps)\n",
    "A=5\n",
    "print(\"(c)\",\"r=%10.8f\"%FPI(fun,1,1e-8),\"  Start at 1   steps=%d\"%steps)\n"
   ]
  },
  {
   "source": [
    "## 编程 1.2-6 （S_t由微分算法给出，求解过程见1.2-6(*).nb文件）"
   ],
   "cell_type": "markdown",
   "metadata": {}
  },
  {
   "cell_type": "code",
   "execution_count": 13,
   "metadata": {},
   "outputs": [
    {
     "output_type": "stream",
     "name": "stdout",
     "text": [
      "(a3) r=-1.641783   Start at -2   steps=113   S=0.887015 S_t=0.887015\n(a2) r=-0.168254   Start at  0   steps= 18   S=0.478463 S_t=0.478463\n(a1) r= 1.810038   Start at  2   steps= 15   S=0.389544 S_t=0.389544\n"
     ]
    }
   ],
   "source": [
    "def fun_a2(x):\n",
    "    return (2*x+1)/(2*x**2-4)\n",
    "\n",
    "def fun_a3(x):\n",
    "    return (6*x+1)/(2*x**2)\n",
    "\n",
    "def fun_a1(x):\n",
    "    return np.power(-x**3+6*x+1,1/3)\n",
    "\n",
    "print(\"(a3)\",\"r=%9.6f\"%FPI(fun_a3,-2,1e-6),\"  Start at -2   steps=%3d\"%steps,\"  S=%f\"%s,\"S_t=0.887015\")\n",
    "print(\"(a2)\",\"r=%9.6f\"%FPI(fun_a2,0,1e-6),\"  Start at  0   steps=%3d\"%steps,\"  S=%f\"%s,\"S_t=0.478463\")\n",
    "print(\"(a1)\",\"r=%9.6f\"%FPI(fun_a1,2,1e-6),\"  Start at  2   steps=%3d\"%steps,\"  S=%f\"%s,\"S_t=0.389544\")\n"
   ]
  },
  {
   "cell_type": "code",
   "execution_count": 14,
   "metadata": {},
   "outputs": [
    {
     "output_type": "stream",
     "name": "stdout",
     "text": [
      "(b1) r=-1.023482   Start at -1   steps=  6   S=0.095590 S_t=0.095590\n(b2) r= 0.163822   Start at  0   steps=  9   S=0.239938 S_t=0.239939\n(b3) r= 0.788942   Start at  1   steps= 13   S=0.376010 S_t=0.376010\n"
     ]
    }
   ],
   "source": [
    "def fun_b1(x):\n",
    "    return (3*x-x**3-np.exp(x-2))/2\n",
    "\n",
    "def fun_b2(x):\n",
    "    return np.exp(x-2)+x**3\n",
    "\n",
    "def fun_b3(x):\n",
    "    return np.power(x-np.exp(x-2),1/3)\n",
    "\n",
    "print(\"(b1)\",\"r=%9.6f\"%FPI(fun_b1,-1,1e-6),\"  Start at -1   steps=%3d\"%steps,\"  S=%f\"%s,\"S_t=0.095590\")\n",
    "print(\"(b2)\",\"r=%9.6f\"%FPI(fun_b2,0,1e-6),\"  Start at  0   steps=%3d\"%steps,\"  S=%f\"%s,\"S_t=0.239939\")\n",
    "print(\"(b3)\",\"r=%9.6f\"%FPI(fun_b3,1,1e-6),\"  Start at  1   steps=%3d\"%steps,\"  S=%f\"%s,\"S_t=0.376010\")\n"
   ]
  },
  {
   "cell_type": "code",
   "execution_count": 15,
   "metadata": {},
   "outputs": [
    {
     "output_type": "stream",
     "name": "stdout",
     "text": [
      "(c1) r=-0.818094   Start at  -1   steps= 15   S=0.487286 S_t=0.487287\n(c2) r= 0.000000   Start at 0.5   steps= 20   S=0.400001 S_t=0.400000\n(c3) r= 0.506308   Start at 0.5   steps=  5   S=0.070063 S_t=0.070062\n"
     ]
    }
   ],
   "source": [
    "def fun_c1(x):\n",
    "    return (1+10*x-6*x**3-np.exp(2*x))/5\n",
    "\n",
    "def fun_c2(x):\n",
    "    return (-1+np.exp(2*x))/(5-6*x**2)\n",
    "\n",
    "def fun_c3(x):\n",
    "    return np.log(1+5*x-6*x**3)/2\n",
    "\n",
    "print(\"(c1)\",\"r=%9.6f\"%FPI(fun_c1,-1,1e-6),\"  Start at  -1   steps=%3d\"%steps,\"  S=%f\"%s,\"S_t=0.487287\")\n",
    "print(\"(c2)\",\"r=%9.6f\"%FPI(fun_c2,0.5,1e-6),\"  Start at 0.5   steps=%3d\"%steps,\"  S=%f\"%s,\"S_t=0.400000\")\n",
    "print(\"(c3)\",\"r=%9.6f\"%FPI(fun_c3,0.5,1e-6),\"  Start at 0.5   steps=%3d\"%steps,\"  S=%f\"%s,\"S_t=0.070062\")"
   ]
  },
  {
   "source": [
    "## 编程 1.3-5\n",
    "\n",
    "令 $F(x)=(x - 1)(x - 2)(x - 3)(x - 4), \\varepsilon=10^{-6}, g(x)=x^6$，则 $f'(4)=3!=6$\n",
    "$$\\therefore \\kappa = |\\frac{g(r)}{r F'(r)}| = 170.667$$\n",
    "$$\\Delta r \\thickapprox -\\frac{\\varepsilon g(r)}{F'(r)} = \\frac{10^{-6} \\times 4^6}{6} = 0.000682667$$\n",
    "$$\\therefore r' = r+\\Delta r = 4.000682667$$\n",
    "\n",
    "使用Mathmatica（见1.3-5.nb文件）```FindRoot```求解得：\n",
    "$$r'=4.000682512$$\n",
    "使用MATLAB（见1.3-5.m文件）```fzero```求解得：\n",
    "$$r'=4.000682511$$"
   ],
   "cell_type": "markdown",
   "metadata": {}
  },
  {
   "cell_type": "code",
   "execution_count": 16,
   "metadata": {},
   "outputs": [
    {
     "output_type": "stream",
     "name": "stdout",
     "text": [
      "4.000682511541527\n"
     ]
    }
   ],
   "source": [
    "def fun(x):\n",
    "    return (x - 1)*(x - 2)*(x - 3)*(x - 4)-10**(-6)*x**6\n",
    "\n",
    "print(Bisecion(fun, 4, 5, 1e-10))"
   ]
  },
  {
   "cell_type": "code",
   "execution_count": null,
   "metadata": {},
   "outputs": [],
   "source": []
  }
 ]
}