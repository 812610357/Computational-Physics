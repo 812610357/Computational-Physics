{
 "metadata": {
  "language_info": {
   "codemirror_mode": {
    "name": "ipython",
    "version": 3
   },
   "file_extension": ".py",
   "mimetype": "text/x-python",
   "name": "python",
   "nbconvert_exporter": "python",
   "pygments_lexer": "ipython3",
   "version": "3.8.5-final"
  },
  "orig_nbformat": 2,
  "kernelspec": {
   "name": "python385jvsc74a57bd0fdd701662b960f5e0f52ce3c0c621245723c4cc0dbe0a8943b870cb6c806648a",
   "display_name": "Python 3.8.5 64-bit ('base': conda)"
  }
 },
 "nbformat": 4,
 "nbformat_minor": 2,
 "cells": [
  {
   "cell_type": "code",
   "execution_count": 69,
   "metadata": {},
   "outputs": [],
   "source": [
    "import numpy as np"
   ]
  },
  {
   "source": [
    "## 编程 2.7-5"
   ],
   "cell_type": "markdown",
   "metadata": {}
  },
  {
   "cell_type": "code",
   "execution_count": 70,
   "metadata": {},
   "outputs": [],
   "source": [
    "def Newton_Method(F, DF, x, errorArg=1e-6):\n",
    "    error=1\n",
    "    while error>errorArg:\n",
    "        s = np.linalg.inv(DF(x)).dot(F(x))\n",
    "        error=np.linalg.norm(s, ord=np.inf, keepdims=False)\n",
    "        x -= s\n",
    "    return x"
   ]
  },
  {
   "source": [
    "## (a)\n",
    "$$(x-1)^2+(y-1)^2+z^2=1$$\n",
    "$$(x-1)^2+y^2+(z-1)^2=1$$\n",
    "$$x^2+(y-1)^2+(z-1)^2=1$$"
   ],
   "cell_type": "markdown",
   "metadata": {}
  },
  {
   "cell_type": "code",
   "execution_count": 71,
   "metadata": {},
   "outputs": [],
   "source": [
    "def Fa(r):\n",
    "    x=r[0]\n",
    "    y=r[1]\n",
    "    z=r[2]\n",
    "    f1=(x-1)**2+(y-1)**2+z**2-1\n",
    "    f2=(x-1)**2+y**2+(z-1)**2-1\n",
    "    f3=x**2+(y-1)**2+(z-1)**2-1\n",
    "    return np.array([f1,f2,f3])\n",
    "\n",
    "def DFa(r):\n",
    "    x=r[0]\n",
    "    y=r[1]\n",
    "    z=r[2]\n",
    "    df1=np.array([2*x-2,2*y-2,2*z])\n",
    "    df2=np.array([2*x-2,2*y,2*z-2])\n",
    "    df3=np.array([2*x,2*y-2,2*z-2])\n",
    "    return np.array([df1,df2,df3])"
   ]
  },
  {
   "cell_type": "code",
   "execution_count": 72,
   "metadata": {},
   "outputs": [
    {
     "output_type": "stream",
     "name": "stdout",
     "text": [
      "[0.33333333 0.33333333 0.33333333]\n[1. 1. 1.]\n"
     ]
    }
   ],
   "source": [
    "x=np.array([0.,0.,0.])\n",
    "print(Newton_Method(Fa, DFa, x,))\n",
    "x=np.array([2.,2.,2.])\n",
    "print(Newton_Method(Fa, DFa, x,))"
   ]
  },
  {
   "source": [
    "## (b)\n",
    "$$(x-1)^2+(y+2)^2+z^2=25$$\n",
    "$$(x+2)^2+(y-2)^2+(z+1)^2=25$$\n",
    "$$(x-4)^2+(y+2)^2+(z-3)^2=25$$"
   ],
   "cell_type": "markdown",
   "metadata": {}
  },
  {
   "cell_type": "code",
   "execution_count": 73,
   "metadata": {},
   "outputs": [],
   "source": [
    "def Fb(r):\n",
    "    x=r[0]\n",
    "    y=r[1]\n",
    "    z=r[2]\n",
    "    f1=(x-1)**2+(y+2)**2+z**2-25\n",
    "    f2=(x+2)**2+(y-2)**2+(z+1)**2-25\n",
    "    f3=(x-4)**2+(y+2)**2+(z-3)**2-25\n",
    "    return np.array([f1,f2,f3])\n",
    "\n",
    "def DFb(r):\n",
    "    x=r[0]\n",
    "    y=r[1]\n",
    "    z=r[2]\n",
    "    df1=np.array([2*x-2,2*y+4,2*z])\n",
    "    df2=np.array([2*x+4,2*y-4,2*z+2])\n",
    "    df3=np.array([2*x-8,2*y+4,2*z-6])\n",
    "    return np.array([df1,df2,df3])"
   ]
  },
  {
   "cell_type": "code",
   "execution_count": 74,
   "metadata": {},
   "outputs": [
    {
     "output_type": "stream",
     "name": "stdout",
     "text": [
      "[1. 2. 3.]\n[1.88888889 2.44444444 2.11111111]\n"
     ]
    }
   ],
   "source": [
    "x=np.array([0.,0.,1.])\n",
    "print(Newton_Method(Fb, DFb, x))\n",
    "x=np.array([2.,2.,2.])\n",
    "print(Newton_Method(Fb, DFb, x))"
   ]
  },
  {
   "source": [
    "## 编程 2.7-9"
   ],
   "cell_type": "markdown",
   "metadata": {}
  },
  {
   "cell_type": "code",
   "execution_count": 75,
   "metadata": {},
   "outputs": [],
   "source": [
    "def Broyden_Method_I(F, DF, x, A, errorArg=1e-6):\n",
    "    error=1\n",
    "    n=len(x)\n",
    "    while error>errorArg:\n",
    "        d_i = -np.linalg.inv(A).dot(F(x))\n",
    "        D_i = F(x + d_i) - F(x)\n",
    "        A += (D_i - A.dot(d_i)).reshape(n, 1).dot(d_i.reshape(1, n)) / d_i.dot(d_i)\n",
    "        error=np.linalg.norm(d_i, ord=np.inf, keepdims=False)\n",
    "        x += d_i\n",
    "    return x"
   ]
  },
  {
   "source": [
    "## (a)"
   ],
   "cell_type": "markdown",
   "metadata": {}
  },
  {
   "cell_type": "code",
   "execution_count": 84,
   "metadata": {},
   "outputs": [
    {
     "output_type": "stream",
     "name": "stdout",
     "text": [
      "[0.33333333 0.33333333 0.33333333]\n[1.00000092 1.00000002 0.99999894]\n"
     ]
    }
   ],
   "source": [
    "A=np.identity(3)\n",
    "x=np.array([0.,0.,0.])\n",
    "print(Broyden_Method_I(Fa, DFa, x, A, errorArg=1e-5))\n",
    "x=np.array([2.,2.,2.])\n",
    "print(Broyden_Method_I(Fa, DFa, x, A, errorArg=1e-5))"
   ]
  },
  {
   "source": [
    "## (b)"
   ],
   "cell_type": "markdown",
   "metadata": {}
  },
  {
   "cell_type": "code",
   "execution_count": 90,
   "metadata": {},
   "outputs": [
    {
     "output_type": "stream",
     "name": "stdout",
     "text": [
      "[0.99999982 1.99999991 3.00000018]\n[1.88888889 2.44444444 2.11111111]\n"
     ]
    }
   ],
   "source": [
    "A=np.identity(3)\n",
    "x=np.array([0.,0.,0.])\n",
    "print(Broyden_Method_I(Fb, DFb, x, A, errorArg=1e-5))\n",
    "x=np.array([3.,3.,3.])\n",
    "print(Broyden_Method_I(Fb, DFb, x, A, errorArg=1e-5))"
   ]
  },
  {
   "source": [
    "## 编程 2.7-11"
   ],
   "cell_type": "markdown",
   "metadata": {}
  },
  {
   "cell_type": "code",
   "execution_count": null,
   "metadata": {},
   "outputs": [],
   "source": [
    "def Broyden_Method_II(F, DF, x, A, errorArg=1e-6):\n",
    "    error=1\n",
    "    n=len(x)\n",
    "    while error>errorArg:\n",
    "        d_i = -np.linalg.inv(A).dot(F(x))\n",
    "        D_i = F(x + d_i) - F(x)\n",
    "        A += (D_i - A.dot(d_i)).reshape(n, 1).dot(d_i.reshape(1, n)) / d_i.dot(d_i)\n",
    "        error=np.linalg.norm(d_i, ord=np.inf, keepdims=False)\n",
    "        x += d_i\n",
    "    return x"
   ]
  }
 ]
}