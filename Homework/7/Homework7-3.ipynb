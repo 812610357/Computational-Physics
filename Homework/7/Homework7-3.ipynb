{
 "metadata": {
  "language_info": {
   "codemirror_mode": {
    "name": "ipython",
    "version": 3
   },
   "file_extension": ".py",
   "mimetype": "text/x-python",
   "name": "python",
   "nbconvert_exporter": "python",
   "pygments_lexer": "ipython3",
   "version": "3.8.5"
  },
  "orig_nbformat": 2,
  "kernelspec": {
   "name": "python385jvsc74a57bd0b3ba2566441a7c06988d0923437866b63cedc61552a5af99d1f4fb67d367b25f",
   "display_name": "Python 3.8.5 64-bit ('base': conda)"
  }
 },
 "nbformat": 4,
 "nbformat_minor": 2,
 "cells": [
  {
   "cell_type": "code",
   "execution_count": 1,
   "metadata": {},
   "outputs": [],
   "source": [
    "import numpy as np\n",
    "from pandas import DataFrame as DF\n",
    "import matplotlib.pyplot as plt"
   ]
  },
  {
   "source": [
    "# 编程 6.4-1(d)"
   ],
   "cell_type": "markdown",
   "metadata": {}
  },
  {
   "cell_type": "code",
   "execution_count": 2,
   "metadata": {},
   "outputs": [],
   "source": [
    "def Midpoint_method(f, a, b, h, y_0):\n",
    "    n = int((b - a)/h)\n",
    "    d = len(y_0)\n",
    "    \n",
    "    t = np.linspace(a, b, n+1)\n",
    "    w = np.zeros((d, n+1))\n",
    "    w[:, 0] = y_0\n",
    "    \n",
    "    for i in range(n):\n",
    "        w[:, i+1] = w[:, i] + h*f(t[i] + h/2, w[:, i] + f(t[i], w[:, i])*h/2)\n",
    "        \n",
    "    return t, w"
   ]
  },
  {
   "cell_type": "code",
   "execution_count": 6,
   "metadata": {},
   "outputs": [
    {
     "output_type": "execute_result",
     "data": {
      "text/plain": [
       "            w     Error\n",
       "t                      \n",
       "0.0  1.000000  0.000000\n",
       "0.1  1.000003  0.000007\n",
       "0.2  1.000256  0.000064\n",
       "0.3  1.002211  0.000222\n",
       "0.4  1.009746  0.000547\n",
       "0.5  1.030581  0.001162\n",
       "0.6  1.078470  0.002393\n",
       "0.7  1.177846  0.005174\n",
       "0.8  1.375370  0.012375\n",
       "0.9  1.771104  0.033768\n",
       "1.0  2.610701  0.107580"
      ],
      "text/html": "<div>\n<style scoped>\n    .dataframe tbody tr th:only-of-type {\n        vertical-align: middle;\n    }\n\n    .dataframe tbody tr th {\n        vertical-align: top;\n    }\n\n    .dataframe thead th {\n        text-align: right;\n    }\n</style>\n<table border=\"1\" class=\"dataframe\">\n  <thead>\n    <tr style=\"text-align: right;\">\n      <th></th>\n      <th>w</th>\n      <th>Error</th>\n    </tr>\n    <tr>\n      <th>t</th>\n      <th></th>\n      <th></th>\n    </tr>\n  </thead>\n  <tbody>\n    <tr>\n      <th>0.0</th>\n      <td>1.000000</td>\n      <td>0.000000</td>\n    </tr>\n    <tr>\n      <th>0.1</th>\n      <td>1.000003</td>\n      <td>0.000007</td>\n    </tr>\n    <tr>\n      <th>0.2</th>\n      <td>1.000256</td>\n      <td>0.000064</td>\n    </tr>\n    <tr>\n      <th>0.3</th>\n      <td>1.002211</td>\n      <td>0.000222</td>\n    </tr>\n    <tr>\n      <th>0.4</th>\n      <td>1.009746</td>\n      <td>0.000547</td>\n    </tr>\n    <tr>\n      <th>0.5</th>\n      <td>1.030581</td>\n      <td>0.001162</td>\n    </tr>\n    <tr>\n      <th>0.6</th>\n      <td>1.078470</td>\n      <td>0.002393</td>\n    </tr>\n    <tr>\n      <th>0.7</th>\n      <td>1.177846</td>\n      <td>0.005174</td>\n    </tr>\n    <tr>\n      <th>0.8</th>\n      <td>1.375370</td>\n      <td>0.012375</td>\n    </tr>\n    <tr>\n      <th>0.9</th>\n      <td>1.771104</td>\n      <td>0.033768</td>\n    </tr>\n    <tr>\n      <th>1.0</th>\n      <td>2.610701</td>\n      <td>0.107580</td>\n    </tr>\n  </tbody>\n</table>\n</div>"
     },
     "metadata": {},
     "execution_count": 6
    }
   ],
   "source": [
    "a, b = 0, 1\n",
    "h = 0.1\n",
    "y_0 = [1]\n",
    "\n",
    "def f(x, y):\n",
    "    return 5*x**4*y\n",
    "\n",
    "def s(x):\n",
    "    return np.exp(t**5)\n",
    "\n",
    "t, w = Midpoint_method(f, a, b, h, y_0)\n",
    "\n",
    "error = abs(s(t) - w[0])\n",
    "\n",
    "DF({\"t\": t, \"w\": w[0], \"Error\": error}).set_index('t')[['w', 'Error']]"
   ]
  },
  {
   "source": [
    "# 编程 6.4-2(d)"
   ],
   "cell_type": "markdown",
   "metadata": {}
  },
  {
   "cell_type": "code",
   "execution_count": 8,
   "metadata": {},
   "outputs": [],
   "source": [
    "def RK4(f, a, b, h, y_0):\n",
    "    n = int((b - a)/h)\n",
    "    d = len(y_0)\n",
    "    \n",
    "    t = np.linspace(a, b, n+1)\n",
    "    w = np.zeros((d, n+1))\n",
    "    w[:, 0] = y_0\n",
    "    \n",
    "    for i in range(n):\n",
    "        s_1 = f(t[i], w[:, i])\n",
    "        s_2 = f(t[i] + h/2, w[:, i] + s_1*h/2)\n",
    "        s_3 = f(t[i] + h/2, w[:, i] + s_2*h/2)\n",
    "        s_4 = f(t[i] + h, w[:, i] + s_3*h)        \n",
    "        \n",
    "        w[:, i+1] = w[:, i] + (s_1 + 2*s_2 + 2*s_3 + s_4)*h/6\n",
    "        \n",
    "    return t, w"
   ]
  },
  {
   "cell_type": "code",
   "execution_count": 9,
   "metadata": {},
   "outputs": [
    {
     "output_type": "execute_result",
     "data": {
      "text/plain": [
       "            w         Error\n",
       "t                          \n",
       "0.0  1.000000  0.000000e+00\n",
       "0.1  1.000010  4.166443e-07\n",
       "0.2  1.000321  8.319322e-07\n",
       "0.3  1.002434  1.238971e-06\n",
       "0.4  1.010294  1.621918e-06\n",
       "0.5  1.031745  1.952405e-06\n",
       "0.6  1.080865  2.165436e-06\n",
       "0.7  1.183021  1.944933e-06\n",
       "0.8  1.387744  1.205333e-06\n",
       "0.9  1.804843  3.003836e-05\n",
       "1.0  2.717976  3.054192e-04"
      ],
      "text/html": "<div>\n<style scoped>\n    .dataframe tbody tr th:only-of-type {\n        vertical-align: middle;\n    }\n\n    .dataframe tbody tr th {\n        vertical-align: top;\n    }\n\n    .dataframe thead th {\n        text-align: right;\n    }\n</style>\n<table border=\"1\" class=\"dataframe\">\n  <thead>\n    <tr style=\"text-align: right;\">\n      <th></th>\n      <th>w</th>\n      <th>Error</th>\n    </tr>\n    <tr>\n      <th>t</th>\n      <th></th>\n      <th></th>\n    </tr>\n  </thead>\n  <tbody>\n    <tr>\n      <th>0.0</th>\n      <td>1.000000</td>\n      <td>0.000000e+00</td>\n    </tr>\n    <tr>\n      <th>0.1</th>\n      <td>1.000010</td>\n      <td>4.166443e-07</td>\n    </tr>\n    <tr>\n      <th>0.2</th>\n      <td>1.000321</td>\n      <td>8.319322e-07</td>\n    </tr>\n    <tr>\n      <th>0.3</th>\n      <td>1.002434</td>\n      <td>1.238971e-06</td>\n    </tr>\n    <tr>\n      <th>0.4</th>\n      <td>1.010294</td>\n      <td>1.621918e-06</td>\n    </tr>\n    <tr>\n      <th>0.5</th>\n      <td>1.031745</td>\n      <td>1.952405e-06</td>\n    </tr>\n    <tr>\n      <th>0.6</th>\n      <td>1.080865</td>\n      <td>2.165436e-06</td>\n    </tr>\n    <tr>\n      <th>0.7</th>\n      <td>1.183021</td>\n      <td>1.944933e-06</td>\n    </tr>\n    <tr>\n      <th>0.8</th>\n      <td>1.387744</td>\n      <td>1.205333e-06</td>\n    </tr>\n    <tr>\n      <th>0.9</th>\n      <td>1.804843</td>\n      <td>3.003836e-05</td>\n    </tr>\n    <tr>\n      <th>1.0</th>\n      <td>2.717976</td>\n      <td>3.054192e-04</td>\n    </tr>\n  </tbody>\n</table>\n</div>"
     },
     "metadata": {},
     "execution_count": 9
    }
   ],
   "source": [
    "t, w = RK4(f, a, b, h, y_0)\n",
    "\n",
    "error = abs(s(t) - w[0])\n",
    "\n",
    "DF({\"t\": t, \"w\": w[0], \"Error\": error}).set_index('t')[['w', 'Error']]"
   ]
  },
  {
   "cell_type": "code",
   "execution_count": null,
   "metadata": {},
   "outputs": [],
   "source": []
  }
 ]
}