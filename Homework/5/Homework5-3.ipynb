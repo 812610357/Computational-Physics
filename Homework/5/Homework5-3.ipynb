{
 "metadata": {
  "language_info": {
   "codemirror_mode": {
    "name": "ipython",
    "version": 3
   },
   "file_extension": ".py",
   "mimetype": "text/x-python",
   "name": "python",
   "nbconvert_exporter": "python",
   "pygments_lexer": "ipython3",
   "version": "3.8.5"
  },
  "orig_nbformat": 2,
  "kernelspec": {
   "name": "python385jvsc74a57bd0fdd701662b960f5e0f52ce3c0c621245723c4cc0dbe0a8943b870cb6c806648a",
   "display_name": "Python 3.8.5 64-bit ('base': conda)"
  }
 },
 "nbformat": 4,
 "nbformat_minor": 2,
 "cells": [
  {
   "cell_type": "code",
   "execution_count": 104,
   "metadata": {},
   "outputs": [],
   "source": [
    "import numpy as np"
   ]
  },
  {
   "source": [
    "# 编程 4.5-1"
   ],
   "cell_type": "markdown",
   "metadata": {}
  },
  {
   "cell_type": "code",
   "execution_count": 105,
   "metadata": {},
   "outputs": [],
   "source": [
    "def Gauss_Newton(r, Dr, x, iter_num):\n",
    "    for i in range(iter_num):\n",
    "        A = Dr(x)\n",
    "        v = -np.linalg.inv(A.T.dot(A)).dot(A.T).dot(r(x))\n",
    "        x += v\n",
    "    return x"
   ]
  },
  {
   "cell_type": "code",
   "execution_count": 106,
   "metadata": {},
   "outputs": [],
   "source": [
    "def r(x):\n",
    "    r1 = np.sqrt(np.sum((c1 - x)**2)) - R\n",
    "    r2 = np.sqrt(np.sum((c2 - x)**2)) - R\n",
    "    r3 = np.sqrt(np.sum((c3 - x)**2)) - R\n",
    "    return np.array([r1, r2, r3])\n",
    "        \n",
    "def Dr(x):    \n",
    "    dr1 = (x - c1) / np.sqrt(np.sum((c1 - x)**2))\n",
    "    dr2 = (x - c2) / np.sqrt(np.sum((c2 - x)**2))\n",
    "    dr3 = (x - c3) / np.sqrt(np.sum((c3 - x)**2))\n",
    "    return np.array([dr1, dr2, dr3])"
   ]
  },
  {
   "source": [
    "## (a)"
   ],
   "cell_type": "markdown",
   "metadata": {}
  },
  {
   "cell_type": "code",
   "execution_count": 107,
   "metadata": {},
   "outputs": [
    {
     "output_type": "execute_result",
     "data": {
      "text/plain": [
       "array([0.4106232, 0.0555014])"
      ]
     },
     "metadata": {},
     "execution_count": 107
    }
   ],
   "source": [
    "c1=np.array([0,1])\n",
    "c2=np.array([1,1])\n",
    "c3=np.array([0,-1])\n",
    "R=1\n",
    "x0=np.zeros(2)\n",
    "Gauss_Newton(r, Dr, x0, 100)"
   ]
  },
  {
   "source": [
    "## (b)"
   ],
   "cell_type": "markdown",
   "metadata": {}
  },
  {
   "cell_type": "code",
   "execution_count": 108,
   "metadata": {},
   "outputs": [
    {
     "output_type": "execute_result",
     "data": {
      "text/plain": [
       "array([0.2755494, 0.       ])"
      ]
     },
     "metadata": {},
     "execution_count": 108
    }
   ],
   "source": [
    "c1=np.array([-1,0])\n",
    "c2=np.array([1,1])\n",
    "c3=np.array([1,-1])\n",
    "R=1\n",
    "x0=np.zeros(2)\n",
    "Gauss_Newton(r, Dr, x0, 100)"
   ]
  },
  {
   "source": [
    "# 编程 4.5-7"
   ],
   "cell_type": "markdown",
   "metadata": {}
  },
  {
   "cell_type": "code",
   "execution_count": 109,
   "metadata": {},
   "outputs": [],
   "source": [
    "data=np.array([[0.9120,13.7],\n",
    "               [0.9860,15.9],\n",
    "               [1.0600,18.5],\n",
    "               [1.1300,21.3],\n",
    "               [1.1900,23.5],\n",
    "               [1.2600,27.2],\n",
    "               [1.3200,32.7],\n",
    "               [1.3800,36.0],\n",
    "               [1.4100,38.6],\n",
    "               [1.4900,43.7]])\n",
    "\n",
    "def r(c):\n",
    "    return np.array(c[0]*np.power(data[:,0],c[1])-data[:,1])\n",
    "\n",
    "def Dr(c):\n",
    "    return np.column_stack((np.power(data[:,0],c[1]),c[0]*np.power(data[:,0],c[1])*np.log(data[:,0])))"
   ]
  },
  {
   "cell_type": "code",
   "execution_count": 110,
   "metadata": {},
   "outputs": [],
   "source": [
    "def Levenberg_Marquardt(r, Dr, x, lamb, iter_num):\n",
    "    for i in range(iter_num):\n",
    "        A = Dr(x)\n",
    "        ATA = A.T.dot(A)\n",
    "        v = -np.linalg.inv(ATA + lamb*np.diag(np.diag(ATA))).dot(A.T).dot(r(x))\n",
    "        x += v\n",
    "    return x"
   ]
  },
  {
   "cell_type": "code",
   "execution_count": 111,
   "metadata": {},
   "outputs": [
    {
     "output_type": "stream",
     "name": "stdout",
     "text": [
      "[15.88537402  2.53359327]\n"
     ]
    }
   ],
   "source": [
    "c=np.ones(2)\n",
    "x=Levenberg_Marquardt(r, Dr, c, 1, 1000)\n",
    "print(x)"
   ]
  },
  {
   "cell_type": "code",
   "execution_count": 112,
   "metadata": {},
   "outputs": [
    {
     "output_type": "stream",
     "name": "stdout",
     "text": [
      "W=15.885374*H^2.533593\n"
     ]
    }
   ],
   "source": [
    "print('W=%f*H^%f'%(x[0],x[1]))"
   ]
  },
  {
   "cell_type": "code",
   "execution_count": 113,
   "metadata": {},
   "outputs": [
    {
     "output_type": "stream",
     "name": "stdout",
     "text": [
      "RMSE=0.754702\n"
     ]
    }
   ],
   "source": [
    "print('RMSE=%f'%(np.linalg.norm(r(x))/np.sqrt(len(r(x)))))"
   ]
  },
  {
   "cell_type": "code",
   "execution_count": null,
   "metadata": {},
   "outputs": [],
   "source": []
  }
 ]
}