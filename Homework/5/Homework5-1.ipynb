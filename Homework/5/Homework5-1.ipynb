{
 "metadata": {
  "language_info": {
   "codemirror_mode": {
    "name": "ipython",
    "version": 3
   },
   "file_extension": ".py",
   "mimetype": "text/x-python",
   "name": "python",
   "nbconvert_exporter": "python",
   "pygments_lexer": "ipython3",
   "version": "3.8.5"
  },
  "orig_nbformat": 2,
  "kernelspec": {
   "name": "python385jvsc74a57bd0fdd701662b960f5e0f52ce3c0c621245723c4cc0dbe0a8943b870cb6c806648a",
   "display_name": "Python 3.8.5 64-bit ('base': conda)"
  }
 },
 "nbformat": 4,
 "nbformat_minor": 2,
 "cells": [
  {
   "cell_type": "code",
   "execution_count": 23,
   "metadata": {},
   "outputs": [],
   "source": [
    "import numpy as np"
   ]
  },
  {
   "source": [
    "# 编程 4.1-1"
   ],
   "cell_type": "markdown",
   "metadata": {}
  },
  {
   "cell_type": "code",
   "execution_count": 24,
   "metadata": {},
   "outputs": [],
   "source": [
    "A=np.array([[3,-1,2],\n",
    "            [4,1,0],\n",
    "            [-3,2,1],\n",
    "            [1,1,5],\n",
    "            [-2,0,3]])\n",
    "b=np.array([[10,10,-5,15,0]]).T"
   ]
  },
  {
   "cell_type": "code",
   "execution_count": 25,
   "metadata": {},
   "outputs": [
    {
     "output_type": "stream",
     "name": "stdout",
     "text": [
      "[[2.5246085 ]\n [0.66163311]\n [2.09340045]]\n"
     ]
    }
   ],
   "source": [
    "x=np.dot(np.linalg.inv(A.T.dot(A)),A.T.dot(b))\n",
    "print(x)"
   ]
  },
  {
   "cell_type": "code",
   "execution_count": 26,
   "metadata": {},
   "outputs": [
    {
     "output_type": "stream",
     "name": "stdout",
     "text": [
      "2.413492090641353\n"
     ]
    }
   ],
   "source": [
    "e=np.linalg.norm(b-A.dot(x))\n",
    "print(e)"
   ]
  },
  {
   "source": [
    "# 编程4.1-9"
   ],
   "cell_type": "markdown",
   "metadata": {}
  },
  {
   "cell_type": "code",
   "execution_count": 32,
   "metadata": {},
   "outputs": [],
   "source": [
    "x = np.linspace(2, 4, 11).reshape(11, 1)\n",
    "def fit(x, d):\n",
    "    A = np.ones_like(x)\n",
    "    for i in range(d):\n",
    "        A = np.column_stack((A, np.power(x, i+1)))\n",
    "    b = A.dot(np.ones((d+1,1)))\n",
    "    return A,b"
   ]
  },
  {
   "cell_type": "code",
   "execution_count": 34,
   "metadata": {},
   "outputs": [
    {
     "output_type": "stream",
     "name": "stdout",
     "text": [
      "[[1.00073242]\n [0.99938965]\n [1.00006104]\n [1.00004578]\n [0.99999523]\n [1.00000012]]\n"
     ]
    },
    {
     "output_type": "execute_result",
     "data": {
      "text/plain": [
       "27242729218275.67"
      ]
     },
     "metadata": {},
     "execution_count": 34
    }
   ],
   "source": [
    "A,b=fit(x,5)\n",
    "print(np.dot(np.linalg.inv(A.T.dot(A)), A.T.dot(b)))\n",
    "np.linalg.cond(A.T.dot(A))"
   ]
  },
  {
   "source": [
    "可以精确到到小数点后2位，因为cond~1e14"
   ],
   "cell_type": "markdown",
   "metadata": {}
  },
  {
   "cell_type": "code",
   "execution_count": 35,
   "metadata": {},
   "outputs": [
    {
     "output_type": "stream",
     "name": "stdout",
     "text": [
      "[[0.16796875]\n [1.625     ]\n [0.890625  ]\n [0.98046875]\n [1.0078125 ]\n [0.99914551]\n [1.00003052]]\n"
     ]
    },
    {
     "output_type": "execute_result",
     "data": {
      "text/plain": [
       "2.538626958278206e+16"
      ]
     },
     "metadata": {},
     "execution_count": 35
    }
   ],
   "source": [
    "A,b=fit(x,6)\n",
    "print(np.dot(np.linalg.inv(A.T.dot(A)), A.T.dot(b)))\n",
    "np.linalg.cond(A.T.dot(A))"
   ]
  },
  {
   "source": [
    "可以精确到到小数点后0位，因为cond~1e16"
   ],
   "cell_type": "markdown",
   "metadata": {}
  },
  {
   "cell_type": "code",
   "execution_count": 36,
   "metadata": {},
   "outputs": [
    {
     "output_type": "stream",
     "name": "stdout",
     "text": [
      "[[ 1.42772000e+05]\n [-1.97440000e+04]\n [-1.58880000e+04]\n [ 3.82400000e+03]\n [-7.60000000e+01]\n [-1.77000000e+02]\n [ 4.47500000e+01]\n [-4.09375000e+00]\n [ 1.20507812e+00]]\n"
     ]
    },
    {
     "output_type": "execute_result",
     "data": {
      "text/plain": [
       "1.41537084609883e+19"
      ]
     },
     "metadata": {},
     "execution_count": 36
    }
   ],
   "source": [
    "A,b=fit(x,8)\n",
    "print(np.dot(np.linalg.inv(A.T.dot(A)), A.T.dot(b)))\n",
    "np.linalg.cond(A.T.dot(A))"
   ]
  },
  {
   "cell_type": "code",
   "execution_count": null,
   "metadata": {},
   "outputs": [],
   "source": [
    "无法精确到小数点后，因为cond>>1e16"
   ]
  }
 ]
}