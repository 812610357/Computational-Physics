{
 "metadata": {
  "language_info": {
   "codemirror_mode": {
    "name": "ipython",
    "version": 3
   },
   "file_extension": ".py",
   "mimetype": "text/x-python",
   "name": "python",
   "nbconvert_exporter": "python",
   "pygments_lexer": "ipython3",
   "version": "3.8.5"
  },
  "orig_nbformat": 2,
  "kernelspec": {
   "name": "python385jvsc74a57bd0fdd701662b960f5e0f52ce3c0c621245723c4cc0dbe0a8943b870cb6c806648a",
   "display_name": "Python 3.8.5 64-bit ('base': conda)"
  }
 },
 "nbformat": 4,
 "nbformat_minor": 2,
 "cells": [
  {
   "cell_type": "code",
   "execution_count": 16,
   "metadata": {},
   "outputs": [],
   "source": [
    "import numpy as np"
   ]
  },
  {
   "source": [
    "# 编程 4.3-6(a)"
   ],
   "cell_type": "markdown",
   "metadata": {}
  },
  {
   "cell_type": "code",
   "execution_count": 17,
   "metadata": {},
   "outputs": [],
   "source": [
    "A=np.array([[3,-1,2],\n",
    "            [4,1,0],\n",
    "            [-3,2,1],\n",
    "            [1,1,5],\n",
    "            [-2,0,3]])\n",
    "b=np.array([[10,10,-5,15,0]]).T"
   ]
  },
  {
   "cell_type": "code",
   "execution_count": 18,
   "metadata": {},
   "outputs": [],
   "source": [
    "def QR_modified(A):\n",
    "    m, n = A.shape\n",
    "\n",
    "    Q = np.zeros((m, n))\n",
    "    R = np.zeros((n, n))\n",
    "    k = n\n",
    "\n",
    "    r = np.linalg.norm(A[:, 0])\n",
    "    Q[:, 0] = A[:, 0] / r\n",
    "    R[0, 0] = r\n",
    "\n",
    "    for i in range(1, k):\n",
    "        y = A[:, i]\n",
    "        for j in range(i):\n",
    "            r = np.dot(Q[:, j], y)\n",
    "            y = y - r*Q[:, j]\n",
    "            R[j, i] = r\n",
    "\n",
    "        r = np.linalg.norm(y)\n",
    "        Q[:, i] = y / r\n",
    "        R[i, i] = r\n",
    "\n",
    "    return Q, R"
   ]
  },
  {
   "cell_type": "code",
   "execution_count": 20,
   "metadata": {},
   "outputs": [
    {
     "output_type": "stream",
     "name": "stdout",
     "text": [
      "[[2.5246085 ]\n [0.66163311]\n [2.09340045]]\n"
     ]
    }
   ],
   "source": [
    "Q,R=QR_modified(A)\n",
    "x=np.dot(np.linalg.inv(R),Q.T.dot(b))\n",
    "print(x)"
   ]
  },
  {
   "cell_type": "code",
   "execution_count": null,
   "metadata": {},
   "outputs": [],
   "source": []
  }
 ]
}