{
 "metadata": {
  "language_info": {
   "codemirror_mode": {
    "name": "ipython",
    "version": 3
   },
   "file_extension": ".py",
   "mimetype": "text/x-python",
   "name": "python",
   "nbconvert_exporter": "python",
   "pygments_lexer": "ipython3",
   "version": "3.8.5"
  },
  "orig_nbformat": 2,
  "kernelspec": {
   "name": "python385jvsc74a57bd0fdd701662b960f5e0f52ce3c0c621245723c4cc0dbe0a8943b870cb6c806648a",
   "display_name": "Python 3.8.5 64-bit ('base': conda)"
  }
 },
 "nbformat": 4,
 "nbformat_minor": 2,
 "cells": [
  {
   "cell_type": "code",
   "execution_count": 2,
   "metadata": {},
   "outputs": [],
   "source": [
    "import numpy as np\n",
    "import matplotlib.pyplot as plt\n",
    "from scipy.misc import derivative"
   ]
  },
  {
   "source": [
    "## 编程 2.3-1"
   ],
   "cell_type": "markdown",
   "metadata": {}
  },
  {
   "cell_type": "code",
   "execution_count": 3,
   "metadata": {},
   "outputs": [],
   "source": [
    "def new_A(n):\n",
    "    A=np.ones([n,n],dtype='float64')\n",
    "    for i in range(n):\n",
    "       for j in range(n):\n",
    "           A[i,j]=5/(i+2*j+2)\n",
    "    return A\n",
    "\n",
    "def new_x(n):\n",
    "    return np.ones([n,1],dtype='float64')"
   ]
  },
  {
   "cell_type": "code",
   "execution_count": 4,
   "metadata": {},
   "outputs": [],
   "source": [
    "def Gaussian_elimination(equation):\n",
    "    A = equation.copy()\n",
    "    m, n = A.shape\n",
    "    for i in range(m):  #化为上三角矩阵\n",
    "        A[i] = A[i] / A[i, i]\n",
    "        for j in range(i+1, m):\n",
    "            A[j] -= A[j, i]*A[i]\n",
    "    for i in range(m-1, 0, -1): # 化为对角矩阵\n",
    "        for j in range(i):\n",
    "            A[j] -= A[j, i]*A[i]\n",
    "    return A\n",
    "\n",
    "def FE(x,xa):\n",
    "    return np.max(np.abs(x-xa))\n",
    "\n",
    "def BE(b,A,xa):\n",
    "    return np.max(np.abs(b-A.dot(xa)))"
   ]
  },
  {
   "source": [
    "# (a) n=6"
   ],
   "cell_type": "markdown",
   "metadata": {}
  },
  {
   "source": [
    "A=new_A(6)\n",
    "x=new_x(6)\n",
    "b=A.dot(x)\n",
    "xa=np.array([Gaussian_elimination(np.column_stack((A,b)))[:,6]]).T\n",
    "print(xa)\n",
    "\n",
    "fe=FE(x,xa)\n",
    "be=BE(b,A,xa)\n",
    "emf=((fe/np.max(np.abs(x)))/(be/np.max(np.abs(b))))\n",
    "\n",
    "print('FE=  %12e'%fe)\n",
    "print('BE=  %12e'%be)\n",
    "print('EMF= %12e'%emf)\n",
    "print('cond=%12e'%(np.linalg.norm(A,ord=np.inf)*np.linalg.norm(np.linalg.inv(A),ord=np.inf)))"
   ],
   "cell_type": "code",
   "metadata": {},
   "execution_count": 5,
   "outputs": [
    {
     "output_type": "stream",
     "name": "stdout",
     "text": [
      "[[1.]\n [1.]\n [1.]\n [1.]\n [1.]\n [1.]]\nFE=  4.231930e-10\nBE=  8.881784e-16\nEMF= 2.918397e+06\ncond=7.034201e+07\n"
     ]
    }
   ]
  },
  {
   "source": [
    "# (b) n=10"
   ],
   "cell_type": "markdown",
   "metadata": {}
  },
  {
   "cell_type": "code",
   "execution_count": 6,
   "metadata": {},
   "outputs": [
    {
     "output_type": "stream",
     "name": "stdout",
     "text": [
      "[[1.        ]\n [0.99999999]\n [1.00000042]\n [0.9999953 ]\n [1.00002606]\n [0.99992001]\n [1.00014268]\n [0.9998529 ]\n [1.00008127]\n [0.99998139]]\nFE=  1.471040e-04\nBE=  8.881784e-16\nEMF= 1.212772e+12\ncond=1.313701e+14\n"
     ]
    }
   ],
   "source": [
    "A=new_A(10)\n",
    "x=new_x(10)\n",
    "b=A.dot(x)\n",
    "xa=np.array([Gaussian_elimination(np.column_stack((A,b)))[:,10]]).T\n",
    "print(xa)\n",
    "\n",
    "fe=FE(x,xa)\n",
    "be=BE(b,A,xa)\n",
    "emf=((fe/np.max(np.abs(x)))/(be/np.max(np.abs(b))))\n",
    "\n",
    "print('FE=  %12e'%fe)\n",
    "print('BE=  %12e'%be)\n",
    "print('EMF= %12e'%emf)\n",
    "print('cond=%12e'%(np.linalg.norm(A,ord=np.inf)*np.linalg.norm(np.linalg.inv(A),ord=np.inf)))"
   ]
  },
  {
   "source": [
    "## 编程 2.3-5"
   ],
   "cell_type": "markdown",
   "metadata": {}
  },
  {
   "cell_type": "code",
   "execution_count": 16,
   "metadata": {},
   "outputs": [
    {
     "output_type": "stream",
     "name": "stdout",
     "text": [
      "[[ 0.99999999]\n [ 1.00000329]\n [ 0.99981486]\n [ 1.00385949]\n [ 0.96073181]\n [ 1.22420618]\n [ 0.22551718]\n [ 2.67828311]\n [-1.29303843]\n [ 2.91626627]\n [ 0.10615844]\n [ 1.1781989 ]]\nFE=  2.293038e+00\nBE=  1.776357e-15\nEMF= 1.001457e+16\ncond=1.913496e+17\n"
     ]
    }
   ],
   "source": [
    "A=new_A(12)\n",
    "x=new_x(12)\n",
    "b=A.dot(x)\n",
    "xa=np.array([Gaussian_elimination(np.column_stack((A,b)))[:,12]]).T\n",
    "print(xa)\n",
    "\n",
    "fe=FE(x,xa)\n",
    "be=BE(b,A,xa)\n",
    "emf=((fe/np.max(np.abs(x)))/(be/np.max(np.abs(b))))\n",
    "\n",
    "print('FE=  %12e'%fe)\n",
    "print('BE=  %12e'%be)\n",
    "print('EMF= %12e'%emf)\n",
    "print('cond=%12e'%(np.linalg.norm(A,ord=np.inf)*np.linalg.norm(np.linalg.inv(A),ord=np.inf)))"
   ]
  },
  {
   "source": [
    "前向误差数量级已经大于1e0，所以当n>=12时，没有正确的有效数字"
   ],
   "cell_type": "markdown",
   "metadata": {}
  },
  {
   "cell_type": "code",
   "execution_count": 17,
   "metadata": {},
   "outputs": [
    {
     "output_type": "stream",
     "name": "stdout",
     "text": [
      "cond=4.795574e+15\n"
     ]
    }
   ],
   "source": [
    "A=new_A(11)\n",
    "print('cond=%12e'%(np.linalg.norm(A,ord=np.inf)*np.linalg.norm(np.linalg.inv(A),ord=np.inf)))"
   ]
  },
  {
   "cell_type": "code",
   "execution_count": 18,
   "metadata": {},
   "outputs": [
    {
     "output_type": "stream",
     "name": "stdout",
     "text": [
      "cond=1.913496e+17\n"
     ]
    }
   ],
   "source": [
    "A=new_A(12)\n",
    "print('cond=%12e'%(np.linalg.norm(A,ord=np.inf)*np.linalg.norm(np.linalg.inv(A),ord=np.inf)))"
   ]
  },
  {
   "source": [
    "此时条件数大于1e16，所以当n>=12时，没有正确的有效数字"
   ],
   "cell_type": "markdown",
   "metadata": {}
  }
 ]
}