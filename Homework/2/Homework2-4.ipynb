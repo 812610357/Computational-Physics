{
 "metadata": {
  "language_info": {
   "codemirror_mode": {
    "name": "ipython",
    "version": 3
   },
   "file_extension": ".py",
   "mimetype": "text/x-python",
   "name": "python",
   "nbconvert_exporter": "python",
   "pygments_lexer": "ipython3",
   "version": "3.8.5"
  },
  "orig_nbformat": 2,
  "kernelspec": {
   "name": "python385jvsc74a57bd0fdd701662b960f5e0f52ce3c0c621245723c4cc0dbe0a8943b870cb6c806648a",
   "display_name": "Python 3.8.5 64-bit ('base': conda)"
  }
 },
 "nbformat": 4,
 "nbformat_minor": 2,
 "cells": [
  {
   "cell_type": "code",
   "execution_count": 1,
   "metadata": {},
   "outputs": [],
   "source": [
    "import numpy as np\n",
    "import matplotlib.pyplot as plt\n",
    "from scipy.misc import derivative"
   ]
  },
  {
   "source": [
    "## 编程 2.3-1"
   ],
   "cell_type": "markdown",
   "metadata": {}
  },
  {
   "cell_type": "code",
   "execution_count": 22,
   "metadata": {},
   "outputs": [
    {
     "output_type": "stream",
     "name": "stdout",
     "text": [
      "[[2.5        1.25       0.83333333 0.625      0.5        0.41666667]\n [1.66666667 1.         0.71428571 0.55555556 0.45454545 0.38461538]\n [1.25       0.83333333 0.625      0.5        0.41666667 0.35714286]\n [1.         0.71428571 0.55555556 0.45454545 0.38461538 0.33333333]\n [0.83333333 0.625      0.5        0.41666667 0.35714286 0.3125    ]\n [0.71428571 0.55555556 0.45454545 0.38461538 0.33333333 0.29411765]]\n[[6.125     ]\n [4.77566878]\n [3.98214286]\n [3.44233544]\n [3.04464286]\n [2.73645309]]\n"
     ]
    }
   ],
   "source": [
    "def new_A(n):\n",
    "    A=np.ones([n,n],dtype='float64')\n",
    "    for i in range(1,n+1):\n",
    "       for j in range(1,n+1):\n",
    "           A[i-1,j-1]=5/(i+2*j-1)\n",
    "    return A\n",
    "\n",
    "def new_x(n):\n",
    "    return np.ones([n,1],dtype='float64')"
   ]
  },
  {
   "cell_type": "code",
   "execution_count": 45,
   "metadata": {},
   "outputs": [],
   "source": [
    "def Gaussian_elimination(equation):\n",
    "    A = equation.copy()\n",
    "    m, n = A.shape\n",
    "    for i in range(m):  #化为上三角矩阵\n",
    "        A[i] = A[i] / A[i, i]\n",
    "        for j in range(i+1, m):\n",
    "            A[j] -= A[j, i]*A[i]\n",
    "    for i in range(m-1, 0, -1): # 化为对角矩阵\n",
    "        for j in range(i):\n",
    "            A[j] -= A[j, i]*A[i]\n",
    "    return A\n",
    "\n",
    "def FE(x,xa):\n",
    "    return np.max(x-xa)/np.max(x)\n",
    "\n",
    "def BE(b,A,xa):\n",
    "    return np.max(b-A.dot(xa))/np.max(b)"
   ]
  },
  {
   "source": [
    "# (a) n=6"
   ],
   "cell_type": "markdown",
   "metadata": {}
  },
  {
   "source": [
    "A=new_A(6)\n",
    "x=new_x(6)\n",
    "b=A.dot(x)\n",
    "xa=Gaussian_elimination(np.column_stack((A,b)))[:,6]\n",
    "print(xa)\n",
    "print('FE=  %12e'%FE(x,xa))\n",
    "print('BE=  %12e'%BE(b,A,xa))\n",
    "print('EMF= %12e'%(FE(x,xa)/BE(b,A,xa)))\n",
    "print('cond=%12e'%(np.linalg.norm(A,ord=np.inf)*np.linalg.norm(np.linalg.inv(A),ord=np.inf)))"
   ],
   "cell_type": "code",
   "metadata": {},
   "execution_count": 71,
   "outputs": [
    {
     "output_type": "stream",
     "name": "stdout",
     "text": [
      "[1. 1. 1. 1. 1. 1.]\nFE=  3.477170e-10\nBE=  5.532321e-01\nEMF= 6.285191e-10\ncond=7.034201e+07\n"
     ]
    }
   ]
  },
  {
   "source": [
    "# (b) n=10"
   ],
   "cell_type": "markdown",
   "metadata": {}
  },
  {
   "cell_type": "code",
   "execution_count": 72,
   "metadata": {},
   "outputs": [
    {
     "output_type": "stream",
     "name": "stdout",
     "text": [
      "[1.         0.99999999 1.00000042 0.9999953  1.00002606 0.99992001\n 1.00014268 0.9998529  1.00008127 0.99998139]\nFE=  1.471040e-04\nBE=  6.254169e-01\nEMF= 2.352096e-04\ncond=1.313701e+14\n"
     ]
    }
   ],
   "source": [
    "A=new_A(10)\n",
    "x=new_x(10)\n",
    "b=A.dot(x)\n",
    "xa=Gaussian_elimination(np.column_stack((A,b)))[:,10]\n",
    "print(xa)\n",
    "print('FE=  %12e'%FE(x,xa))\n",
    "print('BE=  %12e'%BE(b,A,xa))\n",
    "print('EMF= %12e'%(FE(x,xa)/BE(b,A,xa)))\n",
    "print('cond=%12e'%(np.linalg.norm(A,ord=np.inf)*np.linalg.norm(np.linalg.inv(A),ord=np.inf)))"
   ]
  },
  {
   "cell_type": "code",
   "execution_count": 76,
   "metadata": {},
   "outputs": [
    {
     "output_type": "stream",
     "name": "stdout",
     "text": [
      "[1.         1.00000043 0.99997962 1.00034974 0.99710929 1.01317854\n 0.96453429 1.05768147 0.944362   1.02926817 0.99353631]\n"
     ]
    }
   ],
   "source": [
    "A=new_A(11)\n",
    "x=new_x(11)\n",
    "b=A.dot(x)\n",
    "xa=Gaussian_elimination(np.column_stack((A,b)))[:,11]\n",
    "print(xa)"
   ]
  },
  {
   "source": [
    "## 编程 2.3-5"
   ],
   "cell_type": "markdown",
   "metadata": {}
  },
  {
   "cell_type": "code",
   "execution_count": 77,
   "metadata": {},
   "outputs": [
    {
     "output_type": "stream",
     "name": "stdout",
     "text": [
      "[ 0.99999999  1.00000329  0.99981486  1.00385949  0.96073181  1.22420618\n  0.22551718  2.67828311 -1.29303843  2.91626627  0.10615844  1.1781989 ]\n"
     ]
    }
   ],
   "source": [
    "A=new_A(12)\n",
    "x=new_x(12)\n",
    "b=A.dot(x)\n",
    "xa=Gaussian_elimination(np.column_stack((A,b)))[:,12]\n",
    "print(xa)"
   ]
  },
  {
   "source": [
    "所以当n>=12时，没有正确的有效数字"
   ],
   "cell_type": "markdown",
   "metadata": {}
  }
 ]
}