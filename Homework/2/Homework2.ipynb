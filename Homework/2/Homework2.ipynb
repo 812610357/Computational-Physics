{
 "metadata": {
  "language_info": {
   "codemirror_mode": {
    "name": "ipython",
    "version": 3
   },
   "file_extension": ".py",
   "mimetype": "text/x-python",
   "name": "python",
   "nbconvert_exporter": "python",
   "pygments_lexer": "ipython3",
   "version": "3.8.5-final"
  },
  "orig_nbformat": 2,
  "kernelspec": {
   "name": "python3",
   "display_name": "Python 3.8.5 64-bit ('base': conda)",
   "metadata": {
    "interpreter": {
     "hash": "fdd701662b960f5e0f52ce3c0c621245723c4cc0dbe0a8943b870cb6c806648a"
    }
   }
  }
 },
 "nbformat": 4,
 "nbformat_minor": 2,
 "cells": [
  {
   "cell_type": "code",
   "execution_count": 10,
   "metadata": {},
   "outputs": [],
   "source": [
    "import numpy as np\n",
    "import matplotlib.pyplot as plt\n",
    "from scipy.misc import derivative"
   ]
  },
  {
   "source": [
    "## 和上一次一样，先写一个通用的牛顿方法函数"
   ],
   "cell_type": "markdown",
   "metadata": {}
  },
  {
   "cell_type": "code",
   "execution_count": 86,
   "metadata": {},
   "outputs": [],
   "source": [
    "steps=0\n",
    "s=0\n",
    "def NRM(fun,x0,errorArg=1e-5,m=1):\n",
    "    '''\n",
    "    # 牛顿方法（牛顿-拉弗森方法）\n",
    "    ## 参数说明\n",
    "        `fun`：需要求解的方程fun(x)==0\n",
    "        `x0`：求解初始值\n",
    "        `errorArg`：求解精度，默认为1e-6\n",
    "        `m`：根的重述，默认为1\n",
    "    '''\n",
    "    global steps\n",
    "    global s\n",
    "    steps=0\n",
    "    error=1\n",
    "    while error>errorArg:\n",
    "        x=x0-m*fun(x0)/derivative(fun,x0,dx=errorArg/2)\n",
    "        error=np.abs(x-x0)\n",
    "        x0=x\n",
    "        steps+=1\n",
    "    return x0"
   ]
  },
  {
   "source": [
    "## 习题 1.4-3(3)"
   ],
   "cell_type": "markdown",
   "metadata": {}
  },
  {
   "cell_type": "code",
   "execution_count": 91,
   "metadata": {},
   "outputs": [
    {
     "output_type": "stream",
     "name": "stdout",
     "text": [
      "r=-0.66665   Start at  0   steps=26   S=0.000000\n"
     ]
    }
   ],
   "source": [
    "def f(x):\n",
    "    return 27*x**3+54*x**2+36*x+8\n",
    "\n",
    "print(\"r=%.5f\"%NRM(f,0),\"  Start at  0   steps=%d\"%steps,\"  S=%f\"%s)"
   ]
  },
  {
   "cell_type": "code",
   "execution_count": 72,
   "metadata": {
    "tags": []
   },
   "outputs": [
    {
     "output_type": "stream",
     "name": "stdout",
     "text": [
      "0 0.0\n1 1.450691418843538e-09\n2 0.0027434844519626093\n3 -3774.758283725536\n"
     ]
    }
   ],
   "source": [
    "for i in range(4):\n",
    "    print(i,derivative(f,-0.666665,dx=1e-6,n=i,order=7))\n"
   ]
  },
  {
   "source": [
    "因此r为三重根，取m=3，再运行一次牛顿法"
   ],
   "cell_type": "markdown",
   "metadata": {}
  },
  {
   "cell_type": "code",
   "execution_count": 92,
   "metadata": {},
   "outputs": [
    {
     "output_type": "stream",
     "name": "stdout",
     "text": [
      "r=-0.66667   Start at  0   steps=4   S=0.000000\n"
     ]
    }
   ],
   "source": [
    "print(\"r=%.5f\"%NRM(f,0,m=3),\"  Start at  0   steps=%d\"%steps,\"  S=%f\"%s)"
   ]
  },
  {
   "cell_type": "code",
   "execution_count": null,
   "metadata": {},
   "outputs": [],
   "source": []
  },
  {
   "cell_type": "code",
   "execution_count": null,
   "metadata": {},
   "outputs": [],
   "source": []
  }
 ]
}