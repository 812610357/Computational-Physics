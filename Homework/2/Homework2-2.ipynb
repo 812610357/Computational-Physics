{
 "metadata": {
  "language_info": {
   "codemirror_mode": {
    "name": "ipython",
    "version": 3
   },
   "file_extension": ".py",
   "mimetype": "text/x-python",
   "name": "python",
   "nbconvert_exporter": "python",
   "pygments_lexer": "ipython3",
   "version": "3.8.5-final"
  },
  "orig_nbformat": 2,
  "kernelspec": {
   "name": "python3",
   "display_name": "Python 3.8.5 64-bit ('base': conda)",
   "metadata": {
    "interpreter": {
     "hash": "fdd701662b960f5e0f52ce3c0c621245723c4cc0dbe0a8943b870cb6c806648a"
    }
   }
  }
 },
 "nbformat": 4,
 "nbformat_minor": 2,
 "cells": [
  {
   "cell_type": "code",
   "execution_count": 2,
   "metadata": {},
   "outputs": [],
   "source": [
    "import numpy as np\n",
    "import matplotlib.pyplot as plt\n",
    "from scipy.misc import derivative"
   ]
  },
  {
   "cell_type": "code",
   "execution_count": 3,
   "metadata": {},
   "outputs": [],
   "source": [
    "steps=0\n",
    "def Bisecion(fun, a, b, error):\n",
    "    '''\n",
    "    # 二分法求解函数\n",
    "    ## 参数说明\n",
    "    求解函数f(x)==0```fun```，求解区间```[a,b]```，求解误差```error```\n",
    "    ## 举例\n",
    "    >>> import numpy as np\n",
    "    >>> Bisecion(np.sin, 3, 4 ,10e-8)\n",
    "    3.1415926590561867\n",
    "    >>> def f(x):\\n\n",
    "            return x**2-2\n",
    "    >>> Bisecion(f ,1 ,2 ,10e-8)\n",
    "    1.4142135605216026\n",
    "    '''\n",
    "    global steps\n",
    "    steps=0\n",
    "    while (b-a)/2 > error:\n",
    "        c = (b+a)/2\n",
    "        if fun(c) == 0:\n",
    "            return c\n",
    "        elif fun(a)*fun(c) > 0:\n",
    "            a = c\n",
    "        else:\n",
    "            b = c\n",
    "        steps+=1\n",
    "    return (b+a)/2"
   ]
  },
  {
   "cell_type": "code",
   "execution_count": 4,
   "metadata": {},
   "outputs": [],
   "source": [
    "steps=0\n",
    "s=0\n",
    "def FPI(fun,x0,errorArg):\n",
    "    '''\n",
    "    # 不动点迭代法求解函数\n",
    "    ## 参数说明\n",
    "    输入函数g(x)==x```fun```，求解起点```x0```，求解误差```errorArg```\n",
    "    ## 举例\n",
    "    >>> import numpy as np\n",
    "    >>> Bisecion(np.cos, 1 ,1e-8)\n",
    "    0.7390851300853067\n",
    "    >>> def f(x):\\n\n",
    "            return (1+2*x**3)/(1+3*x**2)\n",
    "    >>> Bisecion(f ,1 ,1e-8)\n",
    "    0.6823278038280193\n",
    "    '''\n",
    "    global steps\n",
    "    global s\n",
    "    steps=0\n",
    "    error=1\n",
    "    while error>errorArg:\n",
    "        x=fun(x0)\n",
    "        error=np.abs(x-x0)\n",
    "        x0=x\n",
    "        steps+=1\n",
    "    s=np.abs(fun(x0)-x0)/error\n",
    "    return x0"
   ]
  },
  {
   "cell_type": "code",
   "execution_count": 54,
   "metadata": {},
   "outputs": [],
   "source": [
    "steps=0\n",
    "s=0\n",
    "def SM(fun,x0,x1,errorArg=1e-6,procedure=False):\n",
    "    '''\n",
    "    # 割线方法\n",
    "    ## 参数说明\n",
    "        `fun`：需要求解的方程fun(x)==0\n",
    "        `x0`、`x1`：求解初始值\n",
    "        `errorArg`：求解精度，默认为1e-6\n",
    "    '''\n",
    "    global steps\n",
    "    global s\n",
    "    steps=0\n",
    "    error=1\n",
    "    error0=1\n",
    "    print('       x(i)           x(i+1)          x(i+2)           e(i)        e(i)/e(i-1)')\n",
    "    while error>errorArg:\n",
    "        x=x1-fun(x1)*(x1-x0)/(fun(x1)-fun(x0))\n",
    "        error=np.abs(x-x0)\n",
    "        if procedure==True:\n",
    "            print('%16.8e%16.8e%16.8e%16.8e%16.8e'%(x0,x1,x,error,error0))\n",
    "        x0=x1\n",
    "        x1=x\n",
    "        error0=error\n",
    "        steps+=1\n",
    "    return x"
   ]
  },
  {
   "cell_type": "code",
   "execution_count": 26,
   "metadata": {},
   "outputs": [],
   "source": [
    "steps=0\n",
    "s=0\n",
    "def RF(fun,x0,x1,errorArg=1e-6,procedure=False):\n",
    "    '''\n",
    "    # 试位方法\n",
    "    ## 参数说明\n",
    "        `fun`：需要求解的方程fun(x)==0\n",
    "        `x0`、`x1`：求解初始值\n",
    "        `errorArg`：求解精度，默认为1e-6\n",
    "    '''\n",
    "    global steps\n",
    "    global s\n",
    "    steps=0\n",
    "    error=1\n",
    "    error0=1\n",
    "    print('       x(i)           x(i+1)          x(i+2)           e(i)')\n",
    "    while error>errorArg:\n",
    "        x=x1-fun(x1)*(x1-x0)/(fun(x1)-fun(x0))\n",
    "        error=np.abs(x-x0)\n",
    "        if procedure==True:\n",
    "            print('%16.8e%16.8e%16.8e%16.8e'%(x0,x1,x,error))\n",
    "        if f(x0)*f(x)<0:\n",
    "            x1=x\n",
    "        else:\n",
    "            x0=x\n",
    "        steps+=1\n",
    "    return x"
   ]
  },
  {
   "cell_type": "code",
   "execution_count": 34,
   "metadata": {},
   "outputs": [],
   "source": [
    "steps=0\n",
    "s=0\n",
    "def IQI(fun,x0,x1,x2,errorArg=1e-6,procedure=False):\n",
    "    '''\n",
    "    # 逆二次插值方法\n",
    "    ## 参数说明\n",
    "        `fun`：需要求解的方程fun(x)==0\n",
    "        `x0`、`x1`、`x2`：求解初始值\n",
    "        `errorArg`：求解精度，默认为1e-6\n",
    "    '''\n",
    "    global steps\n",
    "    global s\n",
    "    steps=0\n",
    "    error=1\n",
    "    error0=1\n",
    "    print('       x(i)           x(i+1)          x(i+2)          x(i+3)           e(i)')\n",
    "    while error>errorArg:\n",
    "        q=f(x0)/f(x1)\n",
    "        r=f(x2)/f(x1)\n",
    "        s=f(x2)/f(x0)\n",
    "        x=x2-(r*(r-q)*(x2-x1)+(1-r)*s*(x2-x0))/((q-1)*(r-1)*(s-1))\n",
    "        error=np.abs(x-x0)\n",
    "        if procedure==True:\n",
    "            print('%16.8e%16.8e%16.8e%16.8e%16.8e'%(x0,x1,x2,x,error))\n",
    "        x0=x1\n",
    "        x1=x2\n",
    "        x2=x\n",
    "        steps+=1\n",
    "    return x"
   ]
  },
  {
   "source": [
    "## 习题 1.5-7"
   ],
   "cell_type": "markdown",
   "metadata": {}
  },
  {
   "source": [
    "（A）二分法"
   ],
   "cell_type": "markdown",
   "metadata": {}
  },
  {
   "cell_type": "code",
   "execution_count": 30,
   "metadata": {},
   "outputs": [
    {
     "output_type": "stream",
     "name": "stdout",
     "text": [
      "r=1.189208 steps=19\n"
     ]
    }
   ],
   "source": [
    "def f(x):\n",
    "    return x**4-2\n",
    "print('r=%.6f'%Bisecion(f,1,2,1e-6),'steps=%d'%steps)"
   ]
  },
  {
   "source": [
    "（B）割线法"
   ],
   "cell_type": "markdown",
   "metadata": {}
  },
  {
   "cell_type": "code",
   "execution_count": 31,
   "metadata": {},
   "outputs": [
    {
     "output_type": "stream",
     "name": "stdout",
     "text": [
      "       x(i)           x(i+1)          x(i+2)           e(i)\n  1.00000000e+00  2.00000000e+00  1.06666667e+00  6.66666667e-02\n  2.00000000e+00  1.06666667e+00  1.11144125e+00  8.88558748e-01\n  1.06666667e+00  1.11144125e+00  1.20315068e+00  1.36484015e-01\n  1.11144125e+00  1.20315068e+00  1.18777755e+00  7.63362948e-02\n  1.20315068e+00  1.18777755e+00  1.18918219e+00  1.39684894e-02\n  1.18777755e+00  1.18918219e+00  1.18920716e+00  1.42961348e-03\n  1.18918219e+00  1.18920716e+00  1.18920712e+00  2.49231269e-05\n  1.18920716e+00  1.18920712e+00  1.18920712e+00  4.49866839e-08\nr=1.189207 steps=8\n"
     ]
    }
   ],
   "source": [
    "print('r=%.6f'%SM(f,1,2,procedure=True),'steps=%d'%steps)"
   ]
  },
  {
   "cell_type": "code",
   "execution_count": 13,
   "metadata": {},
   "outputs": [
    {
     "output_type": "stream",
     "name": "stdout",
     "text": [
      "r=1.189257 steps=70710628\n"
     ]
    }
   ],
   "source": [
    "def g1(x):\n",
    "    return x/2+1/x**3\n",
    "print('r=%.6f'%FPI(g1,2,1e-4),'steps=%d'%steps)"
   ]
  },
  {
   "cell_type": "code",
   "execution_count": 15,
   "metadata": {},
   "outputs": [
    {
     "output_type": "error",
     "ename": "KeyboardInterrupt",
     "evalue": "",
     "traceback": [
      "\u001b[0;31m---------------------------------------------------------------------------\u001b[0m",
      "\u001b[0;31mKeyboardInterrupt\u001b[0m                         Traceback (most recent call last)",
      "\u001b[0;32m<ipython-input-15-93ca659ff125>\u001b[0m in \u001b[0;36m<module>\u001b[0;34m\u001b[0m\n\u001b[1;32m      1\u001b[0m \u001b[0;32mdef\u001b[0m \u001b[0mg2\u001b[0m\u001b[0;34m(\u001b[0m\u001b[0mx\u001b[0m\u001b[0;34m)\u001b[0m\u001b[0;34m:\u001b[0m\u001b[0;34m\u001b[0m\u001b[0;34m\u001b[0m\u001b[0m\n\u001b[1;32m      2\u001b[0m     \u001b[0;32mreturn\u001b[0m \u001b[0mx\u001b[0m\u001b[0;34m/\u001b[0m\u001b[0;36m3\u001b[0m\u001b[0;34m+\u001b[0m\u001b[0;36m1\u001b[0m\u001b[0;34m/\u001b[0m\u001b[0;34m(\u001b[0m\u001b[0;36m3\u001b[0m\u001b[0;34m*\u001b[0m\u001b[0mx\u001b[0m\u001b[0;34m**\u001b[0m\u001b[0;36m3\u001b[0m\u001b[0;34m)\u001b[0m\u001b[0;34m\u001b[0m\u001b[0;34m\u001b[0m\u001b[0m\n\u001b[0;32m----> 3\u001b[0;31m \u001b[0mprint\u001b[0m\u001b[0;34m(\u001b[0m\u001b[0;34m'r=%.6f'\u001b[0m\u001b[0;34m%\u001b[0m\u001b[0mFPI\u001b[0m\u001b[0;34m(\u001b[0m\u001b[0mg2\u001b[0m\u001b[0;34m,\u001b[0m\u001b[0;36m2\u001b[0m\u001b[0;34m,\u001b[0m\u001b[0;36m1e-2\u001b[0m\u001b[0;34m)\u001b[0m\u001b[0;34m,\u001b[0m\u001b[0;34m'steps=%d'\u001b[0m\u001b[0;34m%\u001b[0m\u001b[0msteps\u001b[0m\u001b[0;34m)\u001b[0m\u001b[0;34m\u001b[0m\u001b[0;34m\u001b[0m\u001b[0m\n\u001b[0m",
      "\u001b[0;32m<ipython-input-4-3e9ac94ee0e8>\u001b[0m in \u001b[0;36mFPI\u001b[0;34m(fun, x0, errorArg)\u001b[0m\n\u001b[1;32m     20\u001b[0m     \u001b[0merror\u001b[0m\u001b[0;34m=\u001b[0m\u001b[0;36m1\u001b[0m\u001b[0;34m\u001b[0m\u001b[0;34m\u001b[0m\u001b[0m\n\u001b[1;32m     21\u001b[0m     \u001b[0;32mwhile\u001b[0m \u001b[0merror\u001b[0m\u001b[0;34m>\u001b[0m\u001b[0merrorArg\u001b[0m\u001b[0;34m:\u001b[0m\u001b[0;34m\u001b[0m\u001b[0;34m\u001b[0m\u001b[0m\n\u001b[0;32m---> 22\u001b[0;31m         \u001b[0mx\u001b[0m\u001b[0;34m=\u001b[0m\u001b[0mfun\u001b[0m\u001b[0;34m(\u001b[0m\u001b[0mx0\u001b[0m\u001b[0;34m)\u001b[0m\u001b[0;34m\u001b[0m\u001b[0;34m\u001b[0m\u001b[0m\n\u001b[0m\u001b[1;32m     23\u001b[0m         \u001b[0merror\u001b[0m\u001b[0;34m=\u001b[0m\u001b[0mnp\u001b[0m\u001b[0;34m.\u001b[0m\u001b[0mabs\u001b[0m\u001b[0;34m(\u001b[0m\u001b[0mx\u001b[0m\u001b[0;34m-\u001b[0m\u001b[0mx0\u001b[0m\u001b[0;34m)\u001b[0m\u001b[0;34m\u001b[0m\u001b[0;34m\u001b[0m\u001b[0m\n\u001b[1;32m     24\u001b[0m         \u001b[0mx0\u001b[0m\u001b[0;34m=\u001b[0m\u001b[0mx\u001b[0m\u001b[0;34m\u001b[0m\u001b[0;34m\u001b[0m\u001b[0m\n",
      "\u001b[0;32m<ipython-input-15-93ca659ff125>\u001b[0m in \u001b[0;36mg2\u001b[0;34m(x)\u001b[0m\n\u001b[0;32m----> 1\u001b[0;31m \u001b[0;32mdef\u001b[0m \u001b[0mg2\u001b[0m\u001b[0;34m(\u001b[0m\u001b[0mx\u001b[0m\u001b[0;34m)\u001b[0m\u001b[0;34m:\u001b[0m\u001b[0;34m\u001b[0m\u001b[0;34m\u001b[0m\u001b[0m\n\u001b[0m\u001b[1;32m      2\u001b[0m     \u001b[0;32mreturn\u001b[0m \u001b[0mx\u001b[0m\u001b[0;34m/\u001b[0m\u001b[0;36m3\u001b[0m\u001b[0;34m+\u001b[0m\u001b[0;36m1\u001b[0m\u001b[0;34m/\u001b[0m\u001b[0;34m(\u001b[0m\u001b[0;36m3\u001b[0m\u001b[0;34m*\u001b[0m\u001b[0mx\u001b[0m\u001b[0;34m**\u001b[0m\u001b[0;36m3\u001b[0m\u001b[0;34m)\u001b[0m\u001b[0;34m\u001b[0m\u001b[0;34m\u001b[0m\u001b[0m\n\u001b[1;32m      3\u001b[0m \u001b[0mprint\u001b[0m\u001b[0;34m(\u001b[0m\u001b[0;34m'r=%.6f'\u001b[0m\u001b[0;34m%\u001b[0m\u001b[0mFPI\u001b[0m\u001b[0;34m(\u001b[0m\u001b[0mg2\u001b[0m\u001b[0;34m,\u001b[0m\u001b[0;36m2\u001b[0m\u001b[0;34m,\u001b[0m\u001b[0;36m1e-2\u001b[0m\u001b[0;34m)\u001b[0m\u001b[0;34m,\u001b[0m\u001b[0;34m'steps=%d'\u001b[0m\u001b[0;34m%\u001b[0m\u001b[0msteps\u001b[0m\u001b[0;34m)\u001b[0m\u001b[0;34m\u001b[0m\u001b[0;34m\u001b[0m\u001b[0m\n",
      "\u001b[0;31mKeyboardInterrupt\u001b[0m: "
     ]
    }
   ],
   "source": [
    "def g2(x):\n",
    "    return x/3+1/(3*x**3)\n",
    "print('r=%.6f'%FPI(g2,2,1e-2),'steps=%d'%steps)"
   ]
  },
  {
   "source": [
    "## 编程 1.5-1(a)"
   ],
   "cell_type": "markdown",
   "metadata": {}
  },
  {
   "cell_type": "code",
   "execution_count": 40,
   "metadata": {},
   "outputs": [
    {
     "output_type": "execute_result",
     "data": {
      "text/plain": [
       "[<matplotlib.lines.Line2D at 0x7f58d1273d30>]"
      ]
     },
     "metadata": {},
     "execution_count": 40
    },
    {
     "output_type": "display_data",
     "data": {
      "text/plain": "<Figure size 432x288 with 1 Axes>",
      "image/svg+xml": "<?xml version=\"1.0\" encoding=\"utf-8\" standalone=\"no\"?>\n<!DOCTYPE svg PUBLIC \"-//W3C//DTD SVG 1.1//EN\"\n  \"http://www.w3.org/Graphics/SVG/1.1/DTD/svg11.dtd\">\n<!-- Created with matplotlib (https://matplotlib.org/) -->\n<svg height=\"248.518125pt\" version=\"1.1\" viewBox=\"0 0 370.942187 248.518125\" width=\"370.942187pt\" xmlns=\"http://www.w3.org/2000/svg\" xmlns:xlink=\"http://www.w3.org/1999/xlink\">\n <metadata>\n  <rdf:RDF xmlns:cc=\"http://creativecommons.org/ns#\" xmlns:dc=\"http://purl.org/dc/elements/1.1/\" xmlns:rdf=\"http://www.w3.org/1999/02/22-rdf-syntax-ns#\">\n   <cc:Work>\n    <dc:type rdf:resource=\"http://purl.org/dc/dcmitype/StillImage\"/>\n    <dc:date>2021-03-30T19:39:55.407712</dc:date>\n    <dc:format>image/svg+xml</dc:format>\n    <dc:creator>\n     <cc:Agent>\n      <dc:title>Matplotlib v3.3.4, https://matplotlib.org/</dc:title>\n     </cc:Agent>\n    </dc:creator>\n   </cc:Work>\n  </rdf:RDF>\n </metadata>\n <defs>\n  <style type=\"text/css\">*{stroke-linecap:butt;stroke-linejoin:round;}</style>\n </defs>\n <g id=\"figure_1\">\n  <g id=\"patch_1\">\n   <path d=\"M 0 248.518125 \nL 370.942187 248.518125 \nL 370.942187 0 \nL 0 0 \nz\n\" style=\"fill:none;\"/>\n  </g>\n  <g id=\"axes_1\">\n   <g id=\"patch_2\">\n    <path d=\"M 28.942188 224.64 \nL 363.742188 224.64 \nL 363.742188 7.2 \nL 28.942188 7.2 \nz\n\" style=\"fill:#ffffff;\"/>\n   </g>\n   <g id=\"matplotlib.axis_1\">\n    <g id=\"xtick_1\">\n     <g id=\"line2d_1\">\n      <defs>\n       <path d=\"M 0 0 \nL 0 3.5 \n\" id=\"m33524ce39e\" style=\"stroke:#000000;stroke-width:0.8;\"/>\n      </defs>\n      <g>\n       <use style=\"stroke:#000000;stroke-width:0.8;\" x=\"44.160369\" xlink:href=\"#m33524ce39e\" y=\"224.64\"/>\n      </g>\n     </g>\n     <g id=\"text_1\">\n      <!-- −2.0 -->\n      <g transform=\"translate(32.018963 239.238437)scale(0.1 -0.1)\">\n       <defs>\n        <path d=\"M 10.59375 35.5 \nL 73.1875 35.5 \nL 73.1875 27.203125 \nL 10.59375 27.203125 \nz\n\" id=\"DejaVuSans-8722\"/>\n        <path d=\"M 19.1875 8.296875 \nL 53.609375 8.296875 \nL 53.609375 0 \nL 7.328125 0 \nL 7.328125 8.296875 \nQ 12.9375 14.109375 22.625 23.890625 \nQ 32.328125 33.6875 34.8125 36.53125 \nQ 39.546875 41.84375 41.421875 45.53125 \nQ 43.3125 49.21875 43.3125 52.78125 \nQ 43.3125 58.59375 39.234375 62.25 \nQ 35.15625 65.921875 28.609375 65.921875 \nQ 23.96875 65.921875 18.8125 64.3125 \nQ 13.671875 62.703125 7.8125 59.421875 \nL 7.8125 69.390625 \nQ 13.765625 71.78125 18.9375 73 \nQ 24.125 74.21875 28.421875 74.21875 \nQ 39.75 74.21875 46.484375 68.546875 \nQ 53.21875 62.890625 53.21875 53.421875 \nQ 53.21875 48.921875 51.53125 44.890625 \nQ 49.859375 40.875 45.40625 35.40625 \nQ 44.1875 33.984375 37.640625 27.21875 \nQ 31.109375 20.453125 19.1875 8.296875 \nz\n\" id=\"DejaVuSans-50\"/>\n        <path d=\"M 10.6875 12.40625 \nL 21 12.40625 \nL 21 0 \nL 10.6875 0 \nz\n\" id=\"DejaVuSans-46\"/>\n        <path d=\"M 31.78125 66.40625 \nQ 24.171875 66.40625 20.328125 58.90625 \nQ 16.5 51.421875 16.5 36.375 \nQ 16.5 21.390625 20.328125 13.890625 \nQ 24.171875 6.390625 31.78125 6.390625 \nQ 39.453125 6.390625 43.28125 13.890625 \nQ 47.125 21.390625 47.125 36.375 \nQ 47.125 51.421875 43.28125 58.90625 \nQ 39.453125 66.40625 31.78125 66.40625 \nz\nM 31.78125 74.21875 \nQ 44.046875 74.21875 50.515625 64.515625 \nQ 56.984375 54.828125 56.984375 36.375 \nQ 56.984375 17.96875 50.515625 8.265625 \nQ 44.046875 -1.421875 31.78125 -1.421875 \nQ 19.53125 -1.421875 13.0625 8.265625 \nQ 6.59375 17.96875 6.59375 36.375 \nQ 6.59375 54.828125 13.0625 64.515625 \nQ 19.53125 74.21875 31.78125 74.21875 \nz\n\" id=\"DejaVuSans-48\"/>\n       </defs>\n       <use xlink:href=\"#DejaVuSans-8722\"/>\n       <use x=\"83.789062\" xlink:href=\"#DejaVuSans-50\"/>\n       <use x=\"147.412109\" xlink:href=\"#DejaVuSans-46\"/>\n       <use x=\"179.199219\" xlink:href=\"#DejaVuSans-48\"/>\n      </g>\n     </g>\n    </g>\n    <g id=\"xtick_2\">\n     <g id=\"line2d_2\">\n      <g>\n       <use style=\"stroke:#000000;stroke-width:0.8;\" x=\"82.205824\" xlink:href=\"#m33524ce39e\" y=\"224.64\"/>\n      </g>\n     </g>\n     <g id=\"text_2\">\n      <!-- −1.5 -->\n      <g transform=\"translate(70.064418 239.238437)scale(0.1 -0.1)\">\n       <defs>\n        <path d=\"M 12.40625 8.296875 \nL 28.515625 8.296875 \nL 28.515625 63.921875 \nL 10.984375 60.40625 \nL 10.984375 69.390625 \nL 28.421875 72.90625 \nL 38.28125 72.90625 \nL 38.28125 8.296875 \nL 54.390625 8.296875 \nL 54.390625 0 \nL 12.40625 0 \nz\n\" id=\"DejaVuSans-49\"/>\n        <path d=\"M 10.796875 72.90625 \nL 49.515625 72.90625 \nL 49.515625 64.59375 \nL 19.828125 64.59375 \nL 19.828125 46.734375 \nQ 21.96875 47.46875 24.109375 47.828125 \nQ 26.265625 48.1875 28.421875 48.1875 \nQ 40.625 48.1875 47.75 41.5 \nQ 54.890625 34.8125 54.890625 23.390625 \nQ 54.890625 11.625 47.5625 5.09375 \nQ 40.234375 -1.421875 26.90625 -1.421875 \nQ 22.3125 -1.421875 17.546875 -0.640625 \nQ 12.796875 0.140625 7.71875 1.703125 \nL 7.71875 11.625 \nQ 12.109375 9.234375 16.796875 8.0625 \nQ 21.484375 6.890625 26.703125 6.890625 \nQ 35.15625 6.890625 40.078125 11.328125 \nQ 45.015625 15.765625 45.015625 23.390625 \nQ 45.015625 31 40.078125 35.4375 \nQ 35.15625 39.890625 26.703125 39.890625 \nQ 22.75 39.890625 18.8125 39.015625 \nQ 14.890625 38.140625 10.796875 36.28125 \nz\n\" id=\"DejaVuSans-53\"/>\n       </defs>\n       <use xlink:href=\"#DejaVuSans-8722\"/>\n       <use x=\"83.789062\" xlink:href=\"#DejaVuSans-49\"/>\n       <use x=\"147.412109\" xlink:href=\"#DejaVuSans-46\"/>\n       <use x=\"179.199219\" xlink:href=\"#DejaVuSans-53\"/>\n      </g>\n     </g>\n    </g>\n    <g id=\"xtick_3\">\n     <g id=\"line2d_3\">\n      <g>\n       <use style=\"stroke:#000000;stroke-width:0.8;\" x=\"120.251278\" xlink:href=\"#m33524ce39e\" y=\"224.64\"/>\n      </g>\n     </g>\n     <g id=\"text_3\">\n      <!-- −1.0 -->\n      <g transform=\"translate(108.109872 239.238437)scale(0.1 -0.1)\">\n       <use xlink:href=\"#DejaVuSans-8722\"/>\n       <use x=\"83.789062\" xlink:href=\"#DejaVuSans-49\"/>\n       <use x=\"147.412109\" xlink:href=\"#DejaVuSans-46\"/>\n       <use x=\"179.199219\" xlink:href=\"#DejaVuSans-48\"/>\n      </g>\n     </g>\n    </g>\n    <g id=\"xtick_4\">\n     <g id=\"line2d_4\">\n      <g>\n       <use style=\"stroke:#000000;stroke-width:0.8;\" x=\"158.296733\" xlink:href=\"#m33524ce39e\" y=\"224.64\"/>\n      </g>\n     </g>\n     <g id=\"text_4\">\n      <!-- −0.5 -->\n      <g transform=\"translate(146.155327 239.238437)scale(0.1 -0.1)\">\n       <use xlink:href=\"#DejaVuSans-8722\"/>\n       <use x=\"83.789062\" xlink:href=\"#DejaVuSans-48\"/>\n       <use x=\"147.412109\" xlink:href=\"#DejaVuSans-46\"/>\n       <use x=\"179.199219\" xlink:href=\"#DejaVuSans-53\"/>\n      </g>\n     </g>\n    </g>\n    <g id=\"xtick_5\">\n     <g id=\"line2d_5\">\n      <g>\n       <use style=\"stroke:#000000;stroke-width:0.8;\" x=\"196.342188\" xlink:href=\"#m33524ce39e\" y=\"224.64\"/>\n      </g>\n     </g>\n     <g id=\"text_5\">\n      <!-- 0.0 -->\n      <g transform=\"translate(188.390625 239.238437)scale(0.1 -0.1)\">\n       <use xlink:href=\"#DejaVuSans-48\"/>\n       <use x=\"63.623047\" xlink:href=\"#DejaVuSans-46\"/>\n       <use x=\"95.410156\" xlink:href=\"#DejaVuSans-48\"/>\n      </g>\n     </g>\n    </g>\n    <g id=\"xtick_6\">\n     <g id=\"line2d_6\">\n      <g>\n       <use style=\"stroke:#000000;stroke-width:0.8;\" x=\"234.387642\" xlink:href=\"#m33524ce39e\" y=\"224.64\"/>\n      </g>\n     </g>\n     <g id=\"text_6\">\n      <!-- 0.5 -->\n      <g transform=\"translate(226.43608 239.238437)scale(0.1 -0.1)\">\n       <use xlink:href=\"#DejaVuSans-48\"/>\n       <use x=\"63.623047\" xlink:href=\"#DejaVuSans-46\"/>\n       <use x=\"95.410156\" xlink:href=\"#DejaVuSans-53\"/>\n      </g>\n     </g>\n    </g>\n    <g id=\"xtick_7\">\n     <g id=\"line2d_7\">\n      <g>\n       <use style=\"stroke:#000000;stroke-width:0.8;\" x=\"272.433097\" xlink:href=\"#m33524ce39e\" y=\"224.64\"/>\n      </g>\n     </g>\n     <g id=\"text_7\">\n      <!-- 1.0 -->\n      <g transform=\"translate(264.481534 239.238437)scale(0.1 -0.1)\">\n       <use xlink:href=\"#DejaVuSans-49\"/>\n       <use x=\"63.623047\" xlink:href=\"#DejaVuSans-46\"/>\n       <use x=\"95.410156\" xlink:href=\"#DejaVuSans-48\"/>\n      </g>\n     </g>\n    </g>\n    <g id=\"xtick_8\">\n     <g id=\"line2d_8\">\n      <g>\n       <use style=\"stroke:#000000;stroke-width:0.8;\" x=\"310.478551\" xlink:href=\"#m33524ce39e\" y=\"224.64\"/>\n      </g>\n     </g>\n     <g id=\"text_8\">\n      <!-- 1.5 -->\n      <g transform=\"translate(302.526989 239.238437)scale(0.1 -0.1)\">\n       <use xlink:href=\"#DejaVuSans-49\"/>\n       <use x=\"63.623047\" xlink:href=\"#DejaVuSans-46\"/>\n       <use x=\"95.410156\" xlink:href=\"#DejaVuSans-53\"/>\n      </g>\n     </g>\n    </g>\n    <g id=\"xtick_9\">\n     <g id=\"line2d_9\">\n      <g>\n       <use style=\"stroke:#000000;stroke-width:0.8;\" x=\"348.524006\" xlink:href=\"#m33524ce39e\" y=\"224.64\"/>\n      </g>\n     </g>\n     <g id=\"text_9\">\n      <!-- 2.0 -->\n      <g transform=\"translate(340.572443 239.238437)scale(0.1 -0.1)\">\n       <use xlink:href=\"#DejaVuSans-50\"/>\n       <use x=\"63.623047\" xlink:href=\"#DejaVuSans-46\"/>\n       <use x=\"95.410156\" xlink:href=\"#DejaVuSans-48\"/>\n      </g>\n     </g>\n    </g>\n   </g>\n   <g id=\"matplotlib.axis_2\">\n    <g id=\"ytick_1\">\n     <g id=\"line2d_10\">\n      <defs>\n       <path d=\"M 0 0 \nL -3.5 0 \n\" id=\"m0e97682d58\" style=\"stroke:#000000;stroke-width:0.8;\"/>\n      </defs>\n      <g>\n       <use style=\"stroke:#000000;stroke-width:0.8;\" x=\"28.942188\" xlink:href=\"#m0e97682d58\" y=\"214.756364\"/>\n      </g>\n     </g>\n     <g id=\"text_10\">\n      <!-- −6 -->\n      <g transform=\"translate(7.2 218.555582)scale(0.1 -0.1)\">\n       <defs>\n        <path d=\"M 33.015625 40.375 \nQ 26.375 40.375 22.484375 35.828125 \nQ 18.609375 31.296875 18.609375 23.390625 \nQ 18.609375 15.53125 22.484375 10.953125 \nQ 26.375 6.390625 33.015625 6.390625 \nQ 39.65625 6.390625 43.53125 10.953125 \nQ 47.40625 15.53125 47.40625 23.390625 \nQ 47.40625 31.296875 43.53125 35.828125 \nQ 39.65625 40.375 33.015625 40.375 \nz\nM 52.59375 71.296875 \nL 52.59375 62.3125 \nQ 48.875 64.0625 45.09375 64.984375 \nQ 41.3125 65.921875 37.59375 65.921875 \nQ 27.828125 65.921875 22.671875 59.328125 \nQ 17.53125 52.734375 16.796875 39.40625 \nQ 19.671875 43.65625 24.015625 45.921875 \nQ 28.375 48.1875 33.59375 48.1875 \nQ 44.578125 48.1875 50.953125 41.515625 \nQ 57.328125 34.859375 57.328125 23.390625 \nQ 57.328125 12.15625 50.6875 5.359375 \nQ 44.046875 -1.421875 33.015625 -1.421875 \nQ 20.359375 -1.421875 13.671875 8.265625 \nQ 6.984375 17.96875 6.984375 36.375 \nQ 6.984375 53.65625 15.1875 63.9375 \nQ 23.390625 74.21875 37.203125 74.21875 \nQ 40.921875 74.21875 44.703125 73.484375 \nQ 48.484375 72.75 52.59375 71.296875 \nz\n\" id=\"DejaVuSans-54\"/>\n       </defs>\n       <use xlink:href=\"#DejaVuSans-8722\"/>\n       <use x=\"83.789062\" xlink:href=\"#DejaVuSans-54\"/>\n      </g>\n     </g>\n    </g>\n    <g id=\"ytick_2\">\n     <g id=\"line2d_11\">\n      <g>\n       <use style=\"stroke:#000000;stroke-width:0.8;\" x=\"28.942188\" xlink:href=\"#m0e97682d58\" y=\"190.047273\"/>\n      </g>\n     </g>\n     <g id=\"text_11\">\n      <!-- −5 -->\n      <g transform=\"translate(7.2 193.846491)scale(0.1 -0.1)\">\n       <use xlink:href=\"#DejaVuSans-8722\"/>\n       <use x=\"83.789062\" xlink:href=\"#DejaVuSans-53\"/>\n      </g>\n     </g>\n    </g>\n    <g id=\"ytick_3\">\n     <g id=\"line2d_12\">\n      <g>\n       <use style=\"stroke:#000000;stroke-width:0.8;\" x=\"28.942188\" xlink:href=\"#m0e97682d58\" y=\"165.338182\"/>\n      </g>\n     </g>\n     <g id=\"text_12\">\n      <!-- −4 -->\n      <g transform=\"translate(7.2 169.137401)scale(0.1 -0.1)\">\n       <defs>\n        <path d=\"M 37.796875 64.3125 \nL 12.890625 25.390625 \nL 37.796875 25.390625 \nz\nM 35.203125 72.90625 \nL 47.609375 72.90625 \nL 47.609375 25.390625 \nL 58.015625 25.390625 \nL 58.015625 17.1875 \nL 47.609375 17.1875 \nL 47.609375 0 \nL 37.796875 0 \nL 37.796875 17.1875 \nL 4.890625 17.1875 \nL 4.890625 26.703125 \nz\n\" id=\"DejaVuSans-52\"/>\n       </defs>\n       <use xlink:href=\"#DejaVuSans-8722\"/>\n       <use x=\"83.789062\" xlink:href=\"#DejaVuSans-52\"/>\n      </g>\n     </g>\n    </g>\n    <g id=\"ytick_4\">\n     <g id=\"line2d_13\">\n      <g>\n       <use style=\"stroke:#000000;stroke-width:0.8;\" x=\"28.942188\" xlink:href=\"#m0e97682d58\" y=\"140.629091\"/>\n      </g>\n     </g>\n     <g id=\"text_13\">\n      <!-- −3 -->\n      <g transform=\"translate(7.2 144.42831)scale(0.1 -0.1)\">\n       <defs>\n        <path d=\"M 40.578125 39.3125 \nQ 47.65625 37.796875 51.625 33 \nQ 55.609375 28.21875 55.609375 21.1875 \nQ 55.609375 10.40625 48.1875 4.484375 \nQ 40.765625 -1.421875 27.09375 -1.421875 \nQ 22.515625 -1.421875 17.65625 -0.515625 \nQ 12.796875 0.390625 7.625 2.203125 \nL 7.625 11.71875 \nQ 11.71875 9.328125 16.59375 8.109375 \nQ 21.484375 6.890625 26.8125 6.890625 \nQ 36.078125 6.890625 40.9375 10.546875 \nQ 45.796875 14.203125 45.796875 21.1875 \nQ 45.796875 27.640625 41.28125 31.265625 \nQ 36.765625 34.90625 28.71875 34.90625 \nL 20.21875 34.90625 \nL 20.21875 43.015625 \nL 29.109375 43.015625 \nQ 36.375 43.015625 40.234375 45.921875 \nQ 44.09375 48.828125 44.09375 54.296875 \nQ 44.09375 59.90625 40.109375 62.90625 \nQ 36.140625 65.921875 28.71875 65.921875 \nQ 24.65625 65.921875 20.015625 65.03125 \nQ 15.375 64.15625 9.8125 62.3125 \nL 9.8125 71.09375 \nQ 15.4375 72.65625 20.34375 73.4375 \nQ 25.25 74.21875 29.59375 74.21875 \nQ 40.828125 74.21875 47.359375 69.109375 \nQ 53.90625 64.015625 53.90625 55.328125 \nQ 53.90625 49.265625 50.4375 45.09375 \nQ 46.96875 40.921875 40.578125 39.3125 \nz\n\" id=\"DejaVuSans-51\"/>\n       </defs>\n       <use xlink:href=\"#DejaVuSans-8722\"/>\n       <use x=\"83.789062\" xlink:href=\"#DejaVuSans-51\"/>\n      </g>\n     </g>\n    </g>\n    <g id=\"ytick_5\">\n     <g id=\"line2d_14\">\n      <g>\n       <use style=\"stroke:#000000;stroke-width:0.8;\" x=\"28.942188\" xlink:href=\"#m0e97682d58\" y=\"115.92\"/>\n      </g>\n     </g>\n     <g id=\"text_14\">\n      <!-- −2 -->\n      <g transform=\"translate(7.2 119.719219)scale(0.1 -0.1)\">\n       <use xlink:href=\"#DejaVuSans-8722\"/>\n       <use x=\"83.789062\" xlink:href=\"#DejaVuSans-50\"/>\n      </g>\n     </g>\n    </g>\n    <g id=\"ytick_6\">\n     <g id=\"line2d_15\">\n      <g>\n       <use style=\"stroke:#000000;stroke-width:0.8;\" x=\"28.942188\" xlink:href=\"#m0e97682d58\" y=\"91.210909\"/>\n      </g>\n     </g>\n     <g id=\"text_15\">\n      <!-- −1 -->\n      <g transform=\"translate(7.2 95.010128)scale(0.1 -0.1)\">\n       <use xlink:href=\"#DejaVuSans-8722\"/>\n       <use x=\"83.789062\" xlink:href=\"#DejaVuSans-49\"/>\n      </g>\n     </g>\n    </g>\n    <g id=\"ytick_7\">\n     <g id=\"line2d_16\">\n      <g>\n       <use style=\"stroke:#000000;stroke-width:0.8;\" x=\"28.942188\" xlink:href=\"#m0e97682d58\" y=\"66.501818\"/>\n      </g>\n     </g>\n     <g id=\"text_16\">\n      <!-- 0 -->\n      <g transform=\"translate(15.579688 70.301037)scale(0.1 -0.1)\">\n       <use xlink:href=\"#DejaVuSans-48\"/>\n      </g>\n     </g>\n    </g>\n    <g id=\"ytick_8\">\n     <g id=\"line2d_17\">\n      <g>\n       <use style=\"stroke:#000000;stroke-width:0.8;\" x=\"28.942188\" xlink:href=\"#m0e97682d58\" y=\"41.792727\"/>\n      </g>\n     </g>\n     <g id=\"text_17\">\n      <!-- 1 -->\n      <g transform=\"translate(15.579688 45.591946)scale(0.1 -0.1)\">\n       <use xlink:href=\"#DejaVuSans-49\"/>\n      </g>\n     </g>\n    </g>\n    <g id=\"ytick_9\">\n     <g id=\"line2d_18\">\n      <g>\n       <use style=\"stroke:#000000;stroke-width:0.8;\" x=\"28.942188\" xlink:href=\"#m0e97682d58\" y=\"17.083636\"/>\n      </g>\n     </g>\n     <g id=\"text_18\">\n      <!-- 2 -->\n      <g transform=\"translate(15.579688 20.882855)scale(0.1 -0.1)\">\n       <use xlink:href=\"#DejaVuSans-50\"/>\n      </g>\n     </g>\n    </g>\n   </g>\n   <g id=\"line2d_19\">\n    <path clip-path=\"url(#p8985ee76da)\" d=\"M 44.160369 214.756364 \nL 50.371872 195.560188 \nL 56.583375 178.259266 \nL 62.794878 162.772951 \nL 69.00638 149.020592 \nL 75.217883 136.921541 \nL 81.429386 126.395147 \nL 87.640889 117.360763 \nL 93.852392 109.737739 \nL 100.063894 103.445426 \nL 106.275397 98.403174 \nL 112.4869 94.530335 \nL 118.698403 91.74626 \nL 124.909905 89.970298 \nL 131.121408 89.121802 \nL 137.332911 89.120122 \nL 143.544414 89.884609 \nL 149.755917 91.334613 \nL 155.967419 93.389486 \nL 162.178922 95.968578 \nL 168.390425 98.991241 \nL 174.601928 102.376825 \nL 180.813431 106.044681 \nL 187.024933 109.914159 \nL 193.236436 113.904612 \nL 199.447939 117.935388 \nL 205.659442 121.925841 \nL 211.870944 125.795319 \nL 218.082447 129.463175 \nL 224.29395 132.848759 \nL 230.505453 135.871422 \nL 236.716956 138.450514 \nL 242.928458 140.505387 \nL 249.139961 141.955391 \nL 255.351464 142.719878 \nL 261.562967 142.718198 \nL 267.77447 141.869702 \nL 273.985972 140.09374 \nL 280.197475 137.309665 \nL 286.408978 133.436826 \nL 292.620481 128.394574 \nL 298.831983 122.102261 \nL 305.043486 114.479237 \nL 311.254989 105.444853 \nL 317.466492 94.918459 \nL 323.677995 82.819408 \nL 329.889497 69.067049 \nL 336.101 53.580734 \nL 342.312503 36.279812 \nL 348.524006 17.083636 \n\" style=\"fill:none;stroke:#1f77b4;stroke-linecap:square;stroke-width:1.5;\"/>\n   </g>\n   <g id=\"line2d_20\">\n    <path clip-path=\"url(#p8985ee76da)\" d=\"M 44.160369 66.501818 \nL 50.371872 66.501818 \nL 56.583375 66.501818 \nL 62.794878 66.501818 \nL 69.00638 66.501818 \nL 75.217883 66.501818 \nL 81.429386 66.501818 \nL 87.640889 66.501818 \nL 93.852392 66.501818 \nL 100.063894 66.501818 \nL 106.275397 66.501818 \nL 112.4869 66.501818 \nL 118.698403 66.501818 \nL 124.909905 66.501818 \nL 131.121408 66.501818 \nL 137.332911 66.501818 \nL 143.544414 66.501818 \nL 149.755917 66.501818 \nL 155.967419 66.501818 \nL 162.178922 66.501818 \nL 168.390425 66.501818 \nL 174.601928 66.501818 \nL 180.813431 66.501818 \nL 187.024933 66.501818 \nL 193.236436 66.501818 \nL 199.447939 66.501818 \nL 205.659442 66.501818 \nL 211.870944 66.501818 \nL 218.082447 66.501818 \nL 224.29395 66.501818 \nL 230.505453 66.501818 \nL 236.716956 66.501818 \nL 242.928458 66.501818 \nL 249.139961 66.501818 \nL 255.351464 66.501818 \nL 261.562967 66.501818 \nL 267.77447 66.501818 \nL 273.985972 66.501818 \nL 280.197475 66.501818 \nL 286.408978 66.501818 \nL 292.620481 66.501818 \nL 298.831983 66.501818 \nL 305.043486 66.501818 \nL 311.254989 66.501818 \nL 317.466492 66.501818 \nL 323.677995 66.501818 \nL 329.889497 66.501818 \nL 336.101 66.501818 \nL 342.312503 66.501818 \nL 348.524006 66.501818 \n\" style=\"fill:none;stroke:#ff7f0e;stroke-linecap:square;stroke-width:1.5;\"/>\n   </g>\n   <g id=\"patch_3\">\n    <path d=\"M 28.942188 224.64 \nL 28.942188 7.2 \n\" style=\"fill:none;stroke:#000000;stroke-linecap:square;stroke-linejoin:miter;stroke-width:0.8;\"/>\n   </g>\n   <g id=\"patch_4\">\n    <path d=\"M 363.742188 224.64 \nL 363.742188 7.2 \n\" style=\"fill:none;stroke:#000000;stroke-linecap:square;stroke-linejoin:miter;stroke-width:0.8;\"/>\n   </g>\n   <g id=\"patch_5\">\n    <path d=\"M 28.942188 224.64 \nL 363.742188 224.64 \n\" style=\"fill:none;stroke:#000000;stroke-linecap:square;stroke-linejoin:miter;stroke-width:0.8;\"/>\n   </g>\n   <g id=\"patch_6\">\n    <path d=\"M 28.942188 7.2 \nL 363.742188 7.2 \n\" style=\"fill:none;stroke:#000000;stroke-linecap:square;stroke-linejoin:miter;stroke-width:0.8;\"/>\n   </g>\n  </g>\n </g>\n <defs>\n  <clipPath id=\"p8985ee76da\">\n   <rect height=\"217.44\" width=\"334.8\" x=\"28.942188\" y=\"7.2\"/>\n  </clipPath>\n </defs>\n</svg>\n",
      "image/png": "[encoded data removed]"
     },
     "metadata": {
      "needs_background": "light"
     }
    }
   ],
   "source": [
    "def f(x):\n",
    "    return x**3-2*x-2\n",
    "\n",
    "x=np.linspace(-2,2)\n",
    "plt.plot(x,f(x))\n",
    "plt.plot(x,0*x)"
   ]
  },
  {
   "cell_type": "code",
   "execution_count": 32,
   "metadata": {},
   "outputs": [
    {
     "output_type": "stream",
     "name": "stdout",
     "text": [
      "       x(i)           x(i+1)          x(i+2)           e(i)\n  1.00000000e+00  2.00000000e+00  1.60000000e+00  6.00000000e-01\n  2.00000000e+00  1.60000000e+00  1.74226804e+00  2.57731959e-01\n  1.60000000e+00  1.74226804e+00  1.77295599e+00  1.72955988e-01\n  1.74226804e+00  1.77295599e+00  1.76922037e+00  2.69523239e-02\n  1.77295599e+00  1.76922037e+00  1.76929217e+00  3.66382263e-03\n  1.76922037e+00  1.76929217e+00  1.76929235e+00  7.19891288e-05\n  1.76929217e+00  1.76929235e+00  1.76929235e+00  1.89042681e-07\nr=1.769292 steps=7\n"
     ]
    }
   ],
   "source": [
    "print('r=%.6f'%SM(f,1,2,procedure=True),'steps=%d'%steps)"
   ]
  },
  {
   "source": [
    "## 编程 1.5-2(a)"
   ],
   "cell_type": "markdown",
   "metadata": {}
  },
  {
   "cell_type": "code",
   "execution_count": 33,
   "metadata": {},
   "outputs": [
    {
     "output_type": "stream",
     "name": "stdout",
     "text": [
      "       x(i)           x(i+1)          x(i+2)           e(i)\n  1.00000000e+00  2.00000000e+00  1.60000000e+00  6.00000000e-01\n  1.60000000e+00  2.00000000e+00  1.74226804e+00  1.42268041e-01\n  1.74226804e+00  2.00000000e+00  1.76525915e+00  2.29911118e-02\n  1.76525915e+00  2.00000000e+00  1.76869677e+00  3.43761313e-03\n  1.76869677e+00  2.00000000e+00  1.76920454e+00  5.07775406e-04\n  1.76920454e+00  2.00000000e+00  1.76927941e+00  7.48687341e-05\n  1.76927941e+00  2.00000000e+00  1.76929045e+00  1.10360416e-05\n  1.76929045e+00  2.00000000e+00  1.76929207e+00  1.62670599e-06\n  1.76929207e+00  2.00000000e+00  1.76929231e+00  2.39774108e-07\nr=1.769292 steps=9\n"
     ]
    }
   ],
   "source": [
    "print('r=%.6f'%RF(f,1,2,procedure=True),'steps=%d'%steps)"
   ]
  },
  {
   "source": [
    "## 编程 1.5-3(a)"
   ],
   "cell_type": "markdown",
   "metadata": {}
  },
  {
   "cell_type": "code",
   "execution_count": 36,
   "metadata": {},
   "outputs": [
    {
     "output_type": "stream",
     "name": "stdout",
     "text": [
      "       x(i)           x(i+1)          x(i+2)          x(i+3)           e(i)\n  1.00000000e+00  2.00000000e+00  0.00000000e+00 -2.00000000e-01  1.20000000e+00\n  2.00000000e+00  0.00000000e+00 -2.00000000e-01 -1.19960179e-01  2.11996018e+00\n  0.00000000e+00 -2.00000000e-01 -1.19960179e-01 -1.15800077e+00  1.15800077e+00\n -2.00000000e-01 -1.19960179e-01 -1.15800077e+00 -1.21572813e+01  1.19572813e+01\n -1.19960179e-01 -1.15800077e+00 -1.21572813e+01 -3.60608853e+00  3.48612835e+00\n -1.15800077e+00 -1.21572813e+01 -3.60608853e+00 -1.08151854e+00  7.64822313e-02\n -1.21572813e+01 -3.60608853e+00 -1.08151854e+00 -1.01147565e+00  1.11458056e+01\n -3.60608853e+00 -1.08151854e+00 -1.01147565e+00 -2.05460434e-01  3.40062809e+00\n -1.08151854e+00 -1.01147565e+00 -2.05460434e-01  4.61738533e+00  5.69890387e+00\n -1.01147565e+00 -2.05460434e-01  4.61738533e+00 -2.37733581e+00  1.36586016e+00\n -2.05460434e-01  4.61738533e+00 -2.37733581e+00  1.44342373e-01  3.49802806e-01\n  4.61738533e+00 -2.37733581e+00  1.44342373e-01  7.68409933e-01  3.84897540e+00\n -2.37733581e+00  1.44342373e-01  7.68409933e-01 -2.64880046e+00  2.71464658e-01\n  1.44342373e-01  7.68409933e-01 -2.64880046e+00 -2.22039001e+00  2.36473239e+00\n  7.68409933e-01 -2.64880046e+00 -2.22039001e+00  3.51624299e+00  2.74783306e+00\n -2.64880046e+00 -2.22039001e+00  3.51624299e+00 -1.49891958e+00  1.14988089e+00\n -2.22039001e+00  3.51624299e+00 -1.49891958e+00 -1.21151914e+00  1.00887087e+00\n  3.51624299e+00 -1.49891958e+00 -1.21151914e+00 -8.40853298e-01  4.35709629e+00\n -1.49891958e+00 -1.21151914e+00 -8.40853298e-01  3.94805393e-01  1.89372497e+00\n -1.21151914e+00 -8.40853298e-01  3.94805393e-01  1.29226005e+00  2.50377919e+00\n -8.40853298e-01  3.94805393e-01  1.29226005e+00 -7.47811688e+00  6.63726358e+00\n  3.94805393e-01  1.29226005e+00 -7.47811688e+00  8.56269120e+00  8.16788580e+00\n  1.29226005e+00 -7.47811688e+00  8.56269120e+00  1.33551493e+00  4.32548829e-02\n -7.47811688e+00  8.56269120e+00  1.33551493e+00  1.37639333e+00  8.85451020e+00\n  8.56269120e+00  1.33551493e+00  1.37639333e+00  1.98430239e+00  6.57838880e+00\n  1.33551493e+00  1.37639333e+00  1.98430239e+00  1.82964846e+00  4.94133529e-01\n  1.37639333e+00  1.98430239e+00  1.82964846e+00  1.76419302e+00  3.87799697e-01\n  1.98430239e+00  1.82964846e+00  1.76419302e+00  1.76924408e+00  2.15058313e-01\n  1.82964846e+00  1.76419302e+00  1.76924408e+00  1.76929237e+00  6.03560905e-02\n  1.76419302e+00  1.76924408e+00  1.76929237e+00  1.76929235e+00  5.09933029e-03\n  1.76924408e+00  1.76929237e+00  1.76929235e+00  1.76929235e+00  4.82737266e-05\n  1.76929237e+00  1.76929235e+00  1.76929235e+00  1.76929235e+00  1.27431590e-08\nr=1.769292 steps=32\n"
     ]
    }
   ],
   "source": [
    "print('r=%.6f'%IQI(f,1,2,0,procedure=True),'steps=%d'%steps)"
   ]
  },
  {
   "source": [
    "## 编程 1.5-4"
   ],
   "cell_type": "markdown",
   "metadata": {}
  },
  {
   "cell_type": "code",
   "execution_count": 49,
   "metadata": {},
   "outputs": [
    {
     "output_type": "execute_result",
     "data": {
      "text/plain": [
       "[<matplotlib.lines.Line2D at 0x7f58d1723d60>]"
      ]
     },
     "metadata": {},
     "execution_count": 49
    },
    {
     "output_type": "display_data",
     "data": {
      "text/plain": "<Figure size 432x288 with 1 Axes>",
      "image/svg+xml": "<?xml version=\"1.0\" encoding=\"utf-8\" standalone=\"no\"?>\n<!DOCTYPE svg PUBLIC \"-//W3C//DTD SVG 1.1//EN\"\n  \"http://www.w3.org/Graphics/SVG/1.1/DTD/svg11.dtd\">\n<!-- Created with matplotlib (https://matplotlib.org/) -->\n<svg height=\"252.317344pt\" version=\"1.1\" viewBox=\"0 0 385.25625 252.317344\" width=\"385.25625pt\" xmlns=\"http://www.w3.org/2000/svg\" xmlns:xlink=\"http://www.w3.org/1999/xlink\">\n <metadata>\n  <rdf:RDF xmlns:cc=\"http://creativecommons.org/ns#\" xmlns:dc=\"http://purl.org/dc/elements/1.1/\" xmlns:rdf=\"http://www.w3.org/1999/02/22-rdf-syntax-ns#\">\n   <cc:Work>\n    <dc:type rdf:resource=\"http://purl.org/dc/dcmitype/StillImage\"/>\n    <dc:date>2021-03-30T19:44:05.497069</dc:date>\n    <dc:format>image/svg+xml</dc:format>\n    <dc:creator>\n     <cc:Agent>\n      <dc:title>Matplotlib v3.3.4, https://matplotlib.org/</dc:title>\n     </cc:Agent>\n    </dc:creator>\n   </cc:Work>\n  </rdf:RDF>\n </metadata>\n <defs>\n  <style type=\"text/css\">*{stroke-linecap:butt;stroke-linejoin:round;}</style>\n </defs>\n <g id=\"figure_1\">\n  <g id=\"patch_1\">\n   <path d=\"M 0 252.317344 \nL 385.25625 252.317344 \nL 385.25625 0 \nL 0 0 \nz\n\" style=\"fill:none;\"/>\n  </g>\n  <g id=\"axes_1\">\n   <g id=\"patch_2\">\n    <path d=\"M 35.304688 228.439219 \nL 370.104688 228.439219 \nL 370.104688 10.999219 \nL 35.304688 10.999219 \nz\n\" style=\"fill:#ffffff;\"/>\n   </g>\n   <g id=\"matplotlib.axis_1\">\n    <g id=\"xtick_1\">\n     <g id=\"line2d_1\">\n      <defs>\n       <path d=\"M 0 0 \nL 0 3.5 \n\" id=\"m17c84b8a86\" style=\"stroke:#000000;stroke-width:0.8;\"/>\n      </defs>\n      <g>\n       <use style=\"stroke:#000000;stroke-width:0.8;\" x=\"35.304688\" xlink:href=\"#m17c84b8a86\" y=\"228.439219\"/>\n      </g>\n     </g>\n     <g id=\"text_1\">\n      <!-- −2.0 -->\n      <g transform=\"translate(23.163281 243.037656)scale(0.1 -0.1)\">\n       <defs>\n        <path d=\"M 10.59375 35.5 \nL 73.1875 35.5 \nL 73.1875 27.203125 \nL 10.59375 27.203125 \nz\n\" id=\"DejaVuSans-8722\"/>\n        <path d=\"M 19.1875 8.296875 \nL 53.609375 8.296875 \nL 53.609375 0 \nL 7.328125 0 \nL 7.328125 8.296875 \nQ 12.9375 14.109375 22.625 23.890625 \nQ 32.328125 33.6875 34.8125 36.53125 \nQ 39.546875 41.84375 41.421875 45.53125 \nQ 43.3125 49.21875 43.3125 52.78125 \nQ 43.3125 58.59375 39.234375 62.25 \nQ 35.15625 65.921875 28.609375 65.921875 \nQ 23.96875 65.921875 18.8125 64.3125 \nQ 13.671875 62.703125 7.8125 59.421875 \nL 7.8125 69.390625 \nQ 13.765625 71.78125 18.9375 73 \nQ 24.125 74.21875 28.421875 74.21875 \nQ 39.75 74.21875 46.484375 68.546875 \nQ 53.21875 62.890625 53.21875 53.421875 \nQ 53.21875 48.921875 51.53125 44.890625 \nQ 49.859375 40.875 45.40625 35.40625 \nQ 44.1875 33.984375 37.640625 27.21875 \nQ 31.109375 20.453125 19.1875 8.296875 \nz\n\" id=\"DejaVuSans-50\"/>\n        <path d=\"M 10.6875 12.40625 \nL 21 12.40625 \nL 21 0 \nL 10.6875 0 \nz\n\" id=\"DejaVuSans-46\"/>\n        <path d=\"M 31.78125 66.40625 \nQ 24.171875 66.40625 20.328125 58.90625 \nQ 16.5 51.421875 16.5 36.375 \nQ 16.5 21.390625 20.328125 13.890625 \nQ 24.171875 6.390625 31.78125 6.390625 \nQ 39.453125 6.390625 43.28125 13.890625 \nQ 47.125 21.390625 47.125 36.375 \nQ 47.125 51.421875 43.28125 58.90625 \nQ 39.453125 66.40625 31.78125 66.40625 \nz\nM 31.78125 74.21875 \nQ 44.046875 74.21875 50.515625 64.515625 \nQ 56.984375 54.828125 56.984375 36.375 \nQ 56.984375 17.96875 50.515625 8.265625 \nQ 44.046875 -1.421875 31.78125 -1.421875 \nQ 19.53125 -1.421875 13.0625 8.265625 \nQ 6.59375 17.96875 6.59375 36.375 \nQ 6.59375 54.828125 13.0625 64.515625 \nQ 19.53125 74.21875 31.78125 74.21875 \nz\n\" id=\"DejaVuSans-48\"/>\n       </defs>\n       <use xlink:href=\"#DejaVuSans-8722\"/>\n       <use x=\"83.789062\" xlink:href=\"#DejaVuSans-50\"/>\n       <use x=\"147.412109\" xlink:href=\"#DejaVuSans-46\"/>\n       <use x=\"179.199219\" xlink:href=\"#DejaVuSans-48\"/>\n      </g>\n     </g>\n    </g>\n    <g id=\"xtick_2\">\n     <g id=\"line2d_2\">\n      <g>\n       <use style=\"stroke:#000000;stroke-width:0.8;\" x=\"77.154687\" xlink:href=\"#m17c84b8a86\" y=\"228.439219\"/>\n      </g>\n     </g>\n     <g id=\"text_2\">\n      <!-- −1.5 -->\n      <g transform=\"translate(65.013281 243.037656)scale(0.1 -0.1)\">\n       <defs>\n        <path d=\"M 12.40625 8.296875 \nL 28.515625 8.296875 \nL 28.515625 63.921875 \nL 10.984375 60.40625 \nL 10.984375 69.390625 \nL 28.421875 72.90625 \nL 38.28125 72.90625 \nL 38.28125 8.296875 \nL 54.390625 8.296875 \nL 54.390625 0 \nL 12.40625 0 \nz\n\" id=\"DejaVuSans-49\"/>\n        <path d=\"M 10.796875 72.90625 \nL 49.515625 72.90625 \nL 49.515625 64.59375 \nL 19.828125 64.59375 \nL 19.828125 46.734375 \nQ 21.96875 47.46875 24.109375 47.828125 \nQ 26.265625 48.1875 28.421875 48.1875 \nQ 40.625 48.1875 47.75 41.5 \nQ 54.890625 34.8125 54.890625 23.390625 \nQ 54.890625 11.625 47.5625 5.09375 \nQ 40.234375 -1.421875 26.90625 -1.421875 \nQ 22.3125 -1.421875 17.546875 -0.640625 \nQ 12.796875 0.140625 7.71875 1.703125 \nL 7.71875 11.625 \nQ 12.109375 9.234375 16.796875 8.0625 \nQ 21.484375 6.890625 26.703125 6.890625 \nQ 35.15625 6.890625 40.078125 11.328125 \nQ 45.015625 15.765625 45.015625 23.390625 \nQ 45.015625 31 40.078125 35.4375 \nQ 35.15625 39.890625 26.703125 39.890625 \nQ 22.75 39.890625 18.8125 39.015625 \nQ 14.890625 38.140625 10.796875 36.28125 \nz\n\" id=\"DejaVuSans-53\"/>\n       </defs>\n       <use xlink:href=\"#DejaVuSans-8722\"/>\n       <use x=\"83.789062\" xlink:href=\"#DejaVuSans-49\"/>\n       <use x=\"147.412109\" xlink:href=\"#DejaVuSans-46\"/>\n       <use x=\"179.199219\" xlink:href=\"#DejaVuSans-53\"/>\n      </g>\n     </g>\n    </g>\n    <g id=\"xtick_3\">\n     <g id=\"line2d_3\">\n      <g>\n       <use style=\"stroke:#000000;stroke-width:0.8;\" x=\"119.004688\" xlink:href=\"#m17c84b8a86\" y=\"228.439219\"/>\n      </g>\n     </g>\n     <g id=\"text_3\">\n      <!-- −1.0 -->\n      <g transform=\"translate(106.863281 243.037656)scale(0.1 -0.1)\">\n       <use xlink:href=\"#DejaVuSans-8722\"/>\n       <use x=\"83.789062\" xlink:href=\"#DejaVuSans-49\"/>\n       <use x=\"147.412109\" xlink:href=\"#DejaVuSans-46\"/>\n       <use x=\"179.199219\" xlink:href=\"#DejaVuSans-48\"/>\n      </g>\n     </g>\n    </g>\n    <g id=\"xtick_4\">\n     <g id=\"line2d_4\">\n      <g>\n       <use style=\"stroke:#000000;stroke-width:0.8;\" x=\"160.854688\" xlink:href=\"#m17c84b8a86\" y=\"228.439219\"/>\n      </g>\n     </g>\n     <g id=\"text_4\">\n      <!-- −0.5 -->\n      <g transform=\"translate(148.713281 243.037656)scale(0.1 -0.1)\">\n       <use xlink:href=\"#DejaVuSans-8722\"/>\n       <use x=\"83.789062\" xlink:href=\"#DejaVuSans-48\"/>\n       <use x=\"147.412109\" xlink:href=\"#DejaVuSans-46\"/>\n       <use x=\"179.199219\" xlink:href=\"#DejaVuSans-53\"/>\n      </g>\n     </g>\n    </g>\n    <g id=\"xtick_5\">\n     <g id=\"line2d_5\">\n      <g>\n       <use style=\"stroke:#000000;stroke-width:0.8;\" x=\"202.704688\" xlink:href=\"#m17c84b8a86\" y=\"228.439219\"/>\n      </g>\n     </g>\n     <g id=\"text_5\">\n      <!-- 0.0 -->\n      <g transform=\"translate(194.753125 243.037656)scale(0.1 -0.1)\">\n       <use xlink:href=\"#DejaVuSans-48\"/>\n       <use x=\"63.623047\" xlink:href=\"#DejaVuSans-46\"/>\n       <use x=\"95.410156\" xlink:href=\"#DejaVuSans-48\"/>\n      </g>\n     </g>\n    </g>\n    <g id=\"xtick_6\">\n     <g id=\"line2d_6\">\n      <g>\n       <use style=\"stroke:#000000;stroke-width:0.8;\" x=\"244.554688\" xlink:href=\"#m17c84b8a86\" y=\"228.439219\"/>\n      </g>\n     </g>\n     <g id=\"text_6\">\n      <!-- 0.5 -->\n      <g transform=\"translate(236.603125 243.037656)scale(0.1 -0.1)\">\n       <use xlink:href=\"#DejaVuSans-48\"/>\n       <use x=\"63.623047\" xlink:href=\"#DejaVuSans-46\"/>\n       <use x=\"95.410156\" xlink:href=\"#DejaVuSans-53\"/>\n      </g>\n     </g>\n    </g>\n    <g id=\"xtick_7\">\n     <g id=\"line2d_7\">\n      <g>\n       <use style=\"stroke:#000000;stroke-width:0.8;\" x=\"286.404688\" xlink:href=\"#m17c84b8a86\" y=\"228.439219\"/>\n      </g>\n     </g>\n     <g id=\"text_7\">\n      <!-- 1.0 -->\n      <g transform=\"translate(278.453125 243.037656)scale(0.1 -0.1)\">\n       <use xlink:href=\"#DejaVuSans-49\"/>\n       <use x=\"63.623047\" xlink:href=\"#DejaVuSans-46\"/>\n       <use x=\"95.410156\" xlink:href=\"#DejaVuSans-48\"/>\n      </g>\n     </g>\n    </g>\n    <g id=\"xtick_8\">\n     <g id=\"line2d_8\">\n      <g>\n       <use style=\"stroke:#000000;stroke-width:0.8;\" x=\"328.254688\" xlink:href=\"#m17c84b8a86\" y=\"228.439219\"/>\n      </g>\n     </g>\n     <g id=\"text_8\">\n      <!-- 1.5 -->\n      <g transform=\"translate(320.303125 243.037656)scale(0.1 -0.1)\">\n       <use xlink:href=\"#DejaVuSans-49\"/>\n       <use x=\"63.623047\" xlink:href=\"#DejaVuSans-46\"/>\n       <use x=\"95.410156\" xlink:href=\"#DejaVuSans-53\"/>\n      </g>\n     </g>\n    </g>\n    <g id=\"xtick_9\">\n     <g id=\"line2d_9\">\n      <g>\n       <use style=\"stroke:#000000;stroke-width:0.8;\" x=\"370.104688\" xlink:href=\"#m17c84b8a86\" y=\"228.439219\"/>\n      </g>\n     </g>\n     <g id=\"text_9\">\n      <!-- 2.0 -->\n      <g transform=\"translate(362.153125 243.037656)scale(0.1 -0.1)\">\n       <use xlink:href=\"#DejaVuSans-50\"/>\n       <use x=\"63.623047\" xlink:href=\"#DejaVuSans-46\"/>\n       <use x=\"95.410156\" xlink:href=\"#DejaVuSans-48\"/>\n      </g>\n     </g>\n    </g>\n   </g>\n   <g id=\"matplotlib.axis_2\">\n    <g id=\"ytick_1\">\n     <g id=\"line2d_10\">\n      <defs>\n       <path d=\"M 0 0 \nL -3.5 0 \n\" id=\"m871f306ba2\" style=\"stroke:#000000;stroke-width:0.8;\"/>\n      </defs>\n      <g>\n       <use style=\"stroke:#000000;stroke-width:0.8;\" x=\"35.304688\" xlink:href=\"#m871f306ba2\" y=\"228.439219\"/>\n      </g>\n     </g>\n     <g id=\"text_10\">\n      <!-- −30 -->\n      <g transform=\"translate(7.2 232.238437)scale(0.1 -0.1)\">\n       <defs>\n        <path d=\"M 40.578125 39.3125 \nQ 47.65625 37.796875 51.625 33 \nQ 55.609375 28.21875 55.609375 21.1875 \nQ 55.609375 10.40625 48.1875 4.484375 \nQ 40.765625 -1.421875 27.09375 -1.421875 \nQ 22.515625 -1.421875 17.65625 -0.515625 \nQ 12.796875 0.390625 7.625 2.203125 \nL 7.625 11.71875 \nQ 11.71875 9.328125 16.59375 8.109375 \nQ 21.484375 6.890625 26.8125 6.890625 \nQ 36.078125 6.890625 40.9375 10.546875 \nQ 45.796875 14.203125 45.796875 21.1875 \nQ 45.796875 27.640625 41.28125 31.265625 \nQ 36.765625 34.90625 28.71875 34.90625 \nL 20.21875 34.90625 \nL 20.21875 43.015625 \nL 29.109375 43.015625 \nQ 36.375 43.015625 40.234375 45.921875 \nQ 44.09375 48.828125 44.09375 54.296875 \nQ 44.09375 59.90625 40.109375 62.90625 \nQ 36.140625 65.921875 28.71875 65.921875 \nQ 24.65625 65.921875 20.015625 65.03125 \nQ 15.375 64.15625 9.8125 62.3125 \nL 9.8125 71.09375 \nQ 15.4375 72.65625 20.34375 73.4375 \nQ 25.25 74.21875 29.59375 74.21875 \nQ 40.828125 74.21875 47.359375 69.109375 \nQ 53.90625 64.015625 53.90625 55.328125 \nQ 53.90625 49.265625 50.4375 45.09375 \nQ 46.96875 40.921875 40.578125 39.3125 \nz\n\" id=\"DejaVuSans-51\"/>\n       </defs>\n       <use xlink:href=\"#DejaVuSans-8722\"/>\n       <use x=\"83.789062\" xlink:href=\"#DejaVuSans-51\"/>\n       <use x=\"147.412109\" xlink:href=\"#DejaVuSans-48\"/>\n      </g>\n     </g>\n    </g>\n    <g id=\"ytick_2\">\n     <g id=\"line2d_11\">\n      <g>\n       <use style=\"stroke:#000000;stroke-width:0.8;\" x=\"35.304688\" xlink:href=\"#m871f306ba2\" y=\"201.259219\"/>\n      </g>\n     </g>\n     <g id=\"text_11\">\n      <!-- −25 -->\n      <g transform=\"translate(7.2 205.058437)scale(0.1 -0.1)\">\n       <use xlink:href=\"#DejaVuSans-8722\"/>\n       <use x=\"83.789062\" xlink:href=\"#DejaVuSans-50\"/>\n       <use x=\"147.412109\" xlink:href=\"#DejaVuSans-53\"/>\n      </g>\n     </g>\n    </g>\n    <g id=\"ytick_3\">\n     <g id=\"line2d_12\">\n      <g>\n       <use style=\"stroke:#000000;stroke-width:0.8;\" x=\"35.304688\" xlink:href=\"#m871f306ba2\" y=\"174.079219\"/>\n      </g>\n     </g>\n     <g id=\"text_12\">\n      <!-- −20 -->\n      <g transform=\"translate(7.2 177.878437)scale(0.1 -0.1)\">\n       <use xlink:href=\"#DejaVuSans-8722\"/>\n       <use x=\"83.789062\" xlink:href=\"#DejaVuSans-50\"/>\n       <use x=\"147.412109\" xlink:href=\"#DejaVuSans-48\"/>\n      </g>\n     </g>\n    </g>\n    <g id=\"ytick_4\">\n     <g id=\"line2d_13\">\n      <g>\n       <use style=\"stroke:#000000;stroke-width:0.8;\" x=\"35.304688\" xlink:href=\"#m871f306ba2\" y=\"146.899219\"/>\n      </g>\n     </g>\n     <g id=\"text_13\">\n      <!-- −15 -->\n      <g transform=\"translate(7.2 150.698437)scale(0.1 -0.1)\">\n       <use xlink:href=\"#DejaVuSans-8722\"/>\n       <use x=\"83.789062\" xlink:href=\"#DejaVuSans-49\"/>\n       <use x=\"147.412109\" xlink:href=\"#DejaVuSans-53\"/>\n      </g>\n     </g>\n    </g>\n    <g id=\"ytick_5\">\n     <g id=\"line2d_14\">\n      <g>\n       <use style=\"stroke:#000000;stroke-width:0.8;\" x=\"35.304688\" xlink:href=\"#m871f306ba2\" y=\"119.719219\"/>\n      </g>\n     </g>\n     <g id=\"text_14\">\n      <!-- −10 -->\n      <g transform=\"translate(7.2 123.518438)scale(0.1 -0.1)\">\n       <use xlink:href=\"#DejaVuSans-8722\"/>\n       <use x=\"83.789062\" xlink:href=\"#DejaVuSans-49\"/>\n       <use x=\"147.412109\" xlink:href=\"#DejaVuSans-48\"/>\n      </g>\n     </g>\n    </g>\n    <g id=\"ytick_6\">\n     <g id=\"line2d_15\">\n      <g>\n       <use style=\"stroke:#000000;stroke-width:0.8;\" x=\"35.304688\" xlink:href=\"#m871f306ba2\" y=\"92.539219\"/>\n      </g>\n     </g>\n     <g id=\"text_15\">\n      <!-- −5 -->\n      <g transform=\"translate(13.5625 96.338437)scale(0.1 -0.1)\">\n       <use xlink:href=\"#DejaVuSans-8722\"/>\n       <use x=\"83.789062\" xlink:href=\"#DejaVuSans-53\"/>\n      </g>\n     </g>\n    </g>\n    <g id=\"ytick_7\">\n     <g id=\"line2d_16\">\n      <g>\n       <use style=\"stroke:#000000;stroke-width:0.8;\" x=\"35.304688\" xlink:href=\"#m871f306ba2\" y=\"65.359219\"/>\n      </g>\n     </g>\n     <g id=\"text_16\">\n      <!-- 0 -->\n      <g transform=\"translate(21.942188 69.158437)scale(0.1 -0.1)\">\n       <use xlink:href=\"#DejaVuSans-48\"/>\n      </g>\n     </g>\n    </g>\n    <g id=\"ytick_8\">\n     <g id=\"line2d_17\">\n      <g>\n       <use style=\"stroke:#000000;stroke-width:0.8;\" x=\"35.304688\" xlink:href=\"#m871f306ba2\" y=\"38.179219\"/>\n      </g>\n     </g>\n     <g id=\"text_17\">\n      <!-- 5 -->\n      <g transform=\"translate(21.942188 41.978437)scale(0.1 -0.1)\">\n       <use xlink:href=\"#DejaVuSans-53\"/>\n      </g>\n     </g>\n    </g>\n    <g id=\"ytick_9\">\n     <g id=\"line2d_18\">\n      <g>\n       <use style=\"stroke:#000000;stroke-width:0.8;\" x=\"35.304688\" xlink:href=\"#m871f306ba2\" y=\"10.999219\"/>\n      </g>\n     </g>\n     <g id=\"text_18\">\n      <!-- 10 -->\n      <g transform=\"translate(15.579688 14.798437)scale(0.1 -0.1)\">\n       <use xlink:href=\"#DejaVuSans-49\"/>\n       <use x=\"63.623047\" xlink:href=\"#DejaVuSans-48\"/>\n      </g>\n     </g>\n    </g>\n   </g>\n   <g id=\"line2d_19\">\n    <path clip-path=\"url(#pa558c64195)\" d=\"M 83.121863 -1 \nL 84.569552 26.159656 \nL 86.245228 53.29448 \nL 87.920904 76.235772 \nL 89.261444 91.832995 \nL 90.601985 105.186435 \nL 91.942525 116.47621 \nL 93.283066 125.873428 \nL 94.623606 133.54045 \nL 95.629012 138.248154 \nL 96.634417 142.131217 \nL 97.639823 145.248968 \nL 98.645228 147.65825 \nL 99.650633 149.413488 \nL 100.320904 150.246092 \nL 100.991174 150.826049 \nL 101.661444 151.167762 \nL 102.331715 151.285197 \nL 103.001985 151.191887 \nL 103.672255 150.900937 \nL 104.342525 150.425037 \nL 105.347931 149.391152 \nL 106.353336 148.008401 \nL 107.693877 145.687024 \nL 109.034417 142.896497 \nL 110.710093 138.867294 \nL 112.720904 133.422357 \nL 115.401985 125.47968 \nL 124.785769 96.984313 \nL 127.46685 89.834847 \nL 129.812796 84.225323 \nL 131.823606 79.958441 \nL 133.834417 76.225784 \nL 135.510093 73.537859 \nL 137.185769 71.240076 \nL 138.861444 69.332715 \nL 140.53712 67.81148 \nL 141.87766 66.866959 \nL 143.218201 66.158171 \nL 144.558742 65.677664 \nL 145.899282 65.416723 \nL 147.239823 65.365494 \nL 148.580363 65.513104 \nL 150.256039 65.959228 \nL 151.931715 66.672912 \nL 153.60739 67.627903 \nL 155.618201 69.053617 \nL 157.964147 71.040215 \nL 160.645228 73.638556 \nL 164.331715 77.568966 \nL 172.039823 85.880151 \nL 175.056039 88.736016 \nL 177.401985 90.671049 \nL 179.747931 92.299424 \nL 181.758742 93.41819 \nL 183.769552 94.257492 \nL 185.445228 94.730531 \nL 187.120904 94.989464 \nL 188.796579 95.029005 \nL 190.472255 94.846295 \nL 192.147931 94.440922 \nL 193.823606 93.814939 \nL 195.499282 92.972858 \nL 197.510093 91.687077 \nL 199.520904 90.116865 \nL 201.531715 88.283725 \nL 203.87766 85.848024 \nL 206.558742 82.733979 \nL 209.910093 78.474281 \nL 220.969552 64.065654 \nL 223.315498 61.501298 \nL 225.326309 59.594762 \nL 227.33712 58.017239 \nL 229.012796 56.994405 \nL 230.353336 56.389958 \nL 231.693877 55.992659 \nL 233.034417 55.81773 \nL 234.374958 55.879766 \nL 235.715498 56.192622 \nL 237.056039 56.769304 \nL 238.396579 57.621847 \nL 239.73712 58.761201 \nL 241.07766 60.197098 \nL 242.418201 61.937934 \nL 243.758742 63.99063 \nL 245.434417 67.002987 \nL 247.110093 70.51731 \nL 248.785769 74.535412 \nL 250.796579 80.017037 \nL 252.80739 86.202502 \nL 254.818201 93.062487 \nL 257.164147 101.859635 \nL 259.845228 112.84093 \nL 262.861444 126.142913 \nL 267.888471 149.531749 \nL 272.245228 169.430109 \nL 274.591174 179.24976 \nL 276.601985 186.785062 \nL 278.27766 192.22693 \nL 279.618201 195.902442 \nL 280.958742 198.866983 \nL 281.964147 200.559606 \nL 282.969552 201.744381 \nL 283.639823 202.227465 \nL 284.310093 202.447229 \nL 284.980363 202.387798 \nL 285.650633 202.03282 \nL 286.320904 201.365461 \nL 286.991174 200.368392 \nL 287.661444 199.023788 \nL 288.66685 196.315007 \nL 289.672255 192.718837 \nL 290.67766 188.168546 \nL 291.683066 182.594668 \nL 292.688471 175.924941 \nL 294.029012 165.197062 \nL 295.369552 152.200947 \nL 296.710093 136.740909 \nL 298.050633 118.611476 \nL 299.391174 97.59711 \nL 300.731715 73.471924 \nL 302.40739 38.579492 \nL 304.042944 -1 \nL 304.042944 -1 \n\" style=\"fill:none;stroke:#1f77b4;stroke-linecap:square;stroke-width:1.5;\"/>\n   </g>\n   <g id=\"line2d_20\">\n    <path clip-path=\"url(#pa558c64195)\" d=\"M 35.304688 65.359219 \nL 370.104688 65.359219 \nL 370.104688 65.359219 \n\" style=\"fill:none;stroke:#ff7f0e;stroke-linecap:square;stroke-width:1.5;\"/>\n   </g>\n   <g id=\"patch_3\">\n    <path d=\"M 35.304688 228.439219 \nL 35.304688 10.999219 \n\" style=\"fill:none;stroke:#000000;stroke-linecap:square;stroke-linejoin:miter;stroke-width:0.8;\"/>\n   </g>\n   <g id=\"patch_4\">\n    <path d=\"M 370.104688 228.439219 \nL 370.104688 10.999219 \n\" style=\"fill:none;stroke:#000000;stroke-linecap:square;stroke-linejoin:miter;stroke-width:0.8;\"/>\n   </g>\n   <g id=\"patch_5\">\n    <path d=\"M 35.304688 228.439219 \nL 370.104688 228.439219 \n\" style=\"fill:none;stroke:#000000;stroke-linecap:square;stroke-linejoin:miter;stroke-width:0.8;\"/>\n   </g>\n   <g id=\"patch_6\">\n    <path d=\"M 35.304688 10.999219 \nL 370.104688 10.999219 \n\" style=\"fill:none;stroke:#000000;stroke-linecap:square;stroke-linejoin:miter;stroke-width:0.8;\"/>\n   </g>\n  </g>\n </g>\n <defs>\n  <clipPath id=\"pa558c64195\">\n   <rect height=\"217.44\" width=\"334.8\" x=\"35.304688\" y=\"10.999219\"/>\n  </clipPath>\n </defs>\n</svg>\n",
      "image/png": "[encoded data removed]"
     },
     "metadata": {
      "needs_background": "light"
     }
    }
   ],
   "source": [
    "def f(x):\n",
    "    return 54*x**6+45*x**5-102*x**4-69*x**3+35*x**2+16*x-4\n",
    "\n",
    "x=np.linspace(-2,2,1000)\n",
    "plt.axis([-2,2,-30,10])\n",
    "plt.plot(x,f(x))\n",
    "plt.plot(x,x*0)"
   ]
  },
  {
   "cell_type": "code",
   "execution_count": 58,
   "metadata": {
    "tags": []
   },
   "outputs": [
    {
     "output_type": "stream",
     "name": "stdout",
     "text": [
      "       x(i)           x(i+1)          x(i+2)           e(i)        e(i)/e(i-1)\n -2.00000000e+00 -1.50000000e+00 -1.47967480e+00  5.20325203e-01  1.00000000e+00\n -1.50000000e+00 -1.47967480e+00 -1.41326903e+00  8.67309675e-02  5.20325203e-01\n -1.47967480e+00 -1.41326903e+00 -1.39136132e+00  8.83134766e-02  8.67309675e-02\n -1.41326903e+00 -1.39136132e+00 -1.38255404e+00  3.07149912e-02  8.83134766e-02\n -1.39136132e+00 -1.38255404e+00 -1.38135181e+00  1.00095071e-02  3.07149912e-02\n -1.38255404e+00 -1.38135181e+00 -1.38129877e+00  1.25526890e-03  1.00095071e-02\n -1.38135181e+00 -1.38129877e+00 -1.38129848e+00  5.33309442e-05  1.25526890e-03\n -1.38129877e+00 -1.38129848e+00 -1.38129848e+00  2.90345188e-07  5.33309442e-05\nr=-1.381298 steps=8\n"
     ]
    }
   ],
   "source": [
    "print('r=%.6f'%SM(f,-2,-1.5,procedure=True),'steps=%d'%steps)"
   ]
  },
  {
   "source": [
    "此根为超线性收敛"
   ],
   "cell_type": "markdown",
   "metadata": {}
  },
  {
   "cell_type": "code",
   "execution_count": 60,
   "metadata": {},
   "outputs": [
    {
     "output_type": "stream",
     "name": "stdout",
     "text": [
      "       x(i)           x(i+1)          x(i+2)           e(i)        e(i)/e(i-1)\n -1.00000000e+00 -5.00000000e-01 -3.94957983e-01  6.05042017e-01  1.00000000e+00\n -5.00000000e-01 -3.94957983e-01 -5.93492184e-01  9.34921838e-02  6.05042017e-01\n -3.94957983e-01 -5.93492184e-01 -6.17056873e-01  2.22098889e-01  9.34921838e-02\n -5.93492184e-01 -6.17056873e-01 -6.38392849e-01  4.49006650e-02  2.22098889e-01\n -6.17056873e-01 -6.38392849e-01 -6.49095462e-01  3.20385896e-02  4.49006650e-02\n -6.38392849e-01 -6.49095462e-01 -6.55978596e-01  1.75857472e-02  3.20385896e-02\n -6.49095462e-01 -6.55978596e-01 -6.60074827e-01  1.09793649e-02  1.75857472e-02\n -6.55978596e-01 -6.60074827e-01 -6.62609243e-01  6.63064736e-03  1.09793649e-02\n -6.60074827e-01 -6.62609243e-01 -6.64162549e-01  4.08772203e-03  6.63064736e-03\n -6.62609243e-01 -6.64162549e-01 -6.65121000e-01  2.51175690e-03  4.08772203e-03\n -6.64162549e-01 -6.65121000e-01 -6.65711987e-01  1.54943755e-03  2.51175690e-03\n -6.65121000e-01 -6.65711987e-01 -6.66076903e-01  9.55903293e-04  1.54943755e-03\n -6.65711987e-01 -6.66076903e-01 -6.66302264e-01  5.90277727e-04  9.55903293e-04\n -6.66076903e-01 -6.66302264e-01 -6.66441490e-01  3.64586887e-04  5.90277727e-04\n -6.66302264e-01 -6.66441490e-01 -6.66527514e-01  2.25249385e-04  3.64586887e-04\n -6.66441490e-01 -6.66527514e-01 -6.66580671e-01  1.39180277e-04  2.25249385e-04\n -6.66527514e-01 -6.66580671e-01 -6.66613520e-01  8.60065653e-05  1.39180277e-04\n -6.66580671e-01 -6.66613520e-01 -6.66633821e-01  5.31504571e-05  8.60065653e-05\n -6.66613520e-01 -6.66633821e-01 -6.66646367e-01  3.28470864e-05  5.31504571e-05\n -6.66633821e-01 -6.66646367e-01 -6.66654121e-01  2.02999613e-05  3.28470864e-05\n -6.66646367e-01 -6.66654121e-01 -6.66658913e-01  1.25458149e-05  2.02999613e-05\n -6.66654121e-01 -6.66658913e-01 -6.66661875e-01  7.75364357e-06  1.25458149e-05\n -6.66658913e-01 -6.66661875e-01 -6.66663705e-01  4.79198236e-06  7.75364357e-06\n -6.66661875e-01 -6.66663705e-01 -6.66664836e-01  2.96159122e-06  4.79198236e-06\n -6.66663705e-01 -6.66664836e-01 -6.66665535e-01  1.83036527e-06  2.96159122e-06\n -6.66664836e-01 -6.66665535e-01 -6.66665968e-01  1.13123438e-06  1.83036527e-06\n -6.66665535e-01 -6.66665968e-01 -6.66666235e-01  6.99149991e-07  1.13123438e-06\nr=-0.666666 steps=27\n"
     ]
    }
   ],
   "source": [
    "print('r=%.6f'%SM(f,-1,-0.5,procedure=True),'steps=%d'%steps)"
   ]
  },
  {
   "source": [
    "此根为线性收敛，二重根"
   ],
   "cell_type": "markdown",
   "metadata": {}
  },
  {
   "cell_type": "code",
   "execution_count": 63,
   "metadata": {},
   "outputs": [
    {
     "output_type": "stream",
     "name": "stdout",
     "text": [
      "       x(i)           x(i+1)          x(i+2)           e(i)        e(i)/e(i-1)\n  0.00000000e+00  2.00000000e-01  2.04988603e-01  2.04988603e-01  1.00000000e+00\n  2.00000000e-01  2.04988603e-01  2.05181464e-01  5.18146401e-03  2.04988603e-01\n  2.04988603e-01  2.05181464e-01  2.05182924e-01  1.94321631e-04  5.18146401e-03\n  2.05181464e-01  2.05182924e-01  2.05182925e-01  1.46067777e-06  1.94321631e-04\n  2.05182924e-01  2.05182925e-01  2.05182925e-01  4.24578317e-10  1.46067777e-06\nr=0.205183 steps=5\n"
     ]
    }
   ],
   "source": [
    "print('r=%.6f'%SM(f,0,0.2,procedure=True),'steps=%d'%steps)"
   ]
  },
  {
   "source": [
    "此根为超线性收敛"
   ],
   "cell_type": "markdown",
   "metadata": {}
  },
  {
   "cell_type": "code",
   "execution_count": 64,
   "metadata": {},
   "outputs": [
    {
     "output_type": "stream",
     "name": "stdout",
     "text": [
      "       x(i)           x(i+1)          x(i+2)           e(i)        e(i)/e(i-1)\n  4.00000000e-01  6.00000000e-01  4.59531457e-01  5.95314569e-02  1.00000000e+00\n  6.00000000e-01  4.59531457e-01  4.86550990e-01  1.13449010e-01  5.95314569e-02\n  4.59531457e-01  4.86550990e-01  5.02859623e-01  4.33281666e-02  1.13449010e-01\n  4.86550990e-01  5.02859623e-01  4.99833158e-01  1.32821688e-02  4.33281666e-02\n  5.02859623e-01  4.99833158e-01  4.99998037e-01  2.86158675e-03  1.32821688e-02\n  4.99833158e-01  4.99998037e-01  5.00000001e-01  1.66843091e-04  2.86158675e-03\n  4.99998037e-01  5.00000001e-01  5.00000000e-01  1.96330904e-06  1.66843091e-04\n  5.00000001e-01  5.00000000e-01  5.00000000e-01  1.36314715e-09  1.96330904e-06\nr=0.500000 steps=8\n"
     ]
    }
   ],
   "source": [
    "print('r=%.6f'%SM(f,0.4,0.6,procedure=True),'steps=%d'%steps)"
   ]
  },
  {
   "source": [
    "此根为超线性收敛"
   ],
   "cell_type": "markdown",
   "metadata": {}
  },
  {
   "cell_type": "code",
   "execution_count": 65,
   "metadata": {},
   "outputs": [
    {
     "output_type": "stream",
     "name": "stdout",
     "text": [
      "       x(i)           x(i+1)          x(i+2)           e(i)        e(i)/e(i-1)\n  1.00000000e+00  1.50000000e+00  1.03772873e+00  3.77287304e-02  1.00000000e+00\n  1.50000000e+00  1.03772873e+00  1.07067899e+00  4.29321015e-01  3.77287304e-02\n  1.03772873e+00  1.07067899e+00  1.32499770e+00  2.87268966e-01  4.29321015e-01\n  1.07067899e+00  1.32499770e+00  1.12332208e+00  5.26430962e-02  2.87268966e-01\n  1.32499770e+00  1.12332208e+00  1.15176783e+00  1.73229863e-01  5.26430962e-02\n  1.12332208e+00  1.15176783e+00  1.18245228e+00  5.91301946e-02  1.73229863e-01\n  1.15176783e+00  1.18245228e+00  1.17547255e+00  2.37047147e-02  5.91301946e-02\n  1.18245228e+00  1.17547255e+00  1.17609955e+00  6.35272876e-03  2.37047147e-02\n  1.17547255e+00  1.17609955e+00  1.17611560e+00  6.43050011e-04  6.35272876e-03\n  1.17609955e+00  1.17611560e+00  1.17611556e+00  1.60101990e-05  6.43050011e-04\n  1.17611560e+00  1.17611556e+00  1.17611556e+00  4.10950862e-08  1.60101990e-05\nr=1.176116 steps=11\n"
     ]
    }
   ],
   "source": [
    "print('r=%.6f'%SM(f,1,1.5,procedure=True),'steps=%d'%steps)"
   ]
  },
  {
   "source": [
    "此根为超线性收敛"
   ],
   "cell_type": "markdown",
   "metadata": {}
  }
 ]
}