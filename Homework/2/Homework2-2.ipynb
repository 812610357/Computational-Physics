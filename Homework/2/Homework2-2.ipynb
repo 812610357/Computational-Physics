{
 "metadata": {
  "language_info": {
   "codemirror_mode": {
    "name": "ipython",
    "version": 3
   },
   "file_extension": ".py",
   "mimetype": "text/x-python",
   "name": "python",
   "nbconvert_exporter": "python",
   "pygments_lexer": "ipython3",
   "version": "3.8.5-final"
  },
  "orig_nbformat": 2,
  "kernelspec": {
   "name": "python3",
   "display_name": "Python 3.8.5 64-bit ('base': conda)",
   "metadata": {
    "interpreter": {
     "hash": "fdd701662b960f5e0f52ce3c0c621245723c4cc0dbe0a8943b870cb6c806648a"
    }
   }
  }
 },
 "nbformat": 4,
 "nbformat_minor": 2,
 "cells": [
  {
   "cell_type": "code",
   "execution_count": 2,
   "metadata": {},
   "outputs": [],
   "source": [
    "import numpy as np\n",
    "import matplotlib.pyplot as plt\n",
    "from scipy.misc import derivative"
   ]
  },
  {
   "cell_type": "code",
   "execution_count": 3,
   "metadata": {},
   "outputs": [],
   "source": [
    "steps=0\n",
    "def Bisecion(fun, a, b, error):\n",
    "    '''\n",
    "    # 二分法求解函数\n",
    "    ## 参数说明\n",
    "    求解函数f(x)==0```fun```，求解区间```[a,b]```，求解误差```error```\n",
    "    ## 举例\n",
    "    >>> import numpy as np\n",
    "    >>> Bisecion(np.sin, 3, 4 ,10e-8)\n",
    "    3.1415926590561867\n",
    "    >>> def f(x):\\n\n",
    "            return x**2-2\n",
    "    >>> Bisecion(f ,1 ,2 ,10e-8)\n",
    "    1.4142135605216026\n",
    "    '''\n",
    "    global steps\n",
    "    steps=0\n",
    "    while (b-a)/2 > error:\n",
    "        c = (b+a)/2\n",
    "        if fun(c) == 0:\n",
    "            return c\n",
    "        elif fun(a)*fun(c) > 0:\n",
    "            a = c\n",
    "        else:\n",
    "            b = c\n",
    "        steps+=1\n",
    "    return (b+a)/2"
   ]
  },
  {
   "cell_type": "code",
   "execution_count": 4,
   "metadata": {},
   "outputs": [],
   "source": [
    "steps=0\n",
    "s=0\n",
    "def FPI(fun,x0,errorArg):\n",
    "    '''\n",
    "    # 不动点迭代法求解函数\n",
    "    ## 参数说明\n",
    "    输入函数g(x)==x```fun```，求解起点```x0```，求解误差```errorArg```\n",
    "    ## 举例\n",
    "    >>> import numpy as np\n",
    "    >>> Bisecion(np.cos, 1 ,1e-8)\n",
    "    0.7390851300853067\n",
    "    >>> def f(x):\\n\n",
    "            return (1+2*x**3)/(1+3*x**2)\n",
    "    >>> Bisecion(f ,1 ,1e-8)\n",
    "    0.6823278038280193\n",
    "    '''\n",
    "    global steps\n",
    "    global s\n",
    "    steps=0\n",
    "    error=1\n",
    "    while error>errorArg:\n",
    "        x=fun(x0)\n",
    "        error=np.abs(x-x0)\n",
    "        x0=x\n",
    "        steps+=1\n",
    "    s=np.abs(fun(x0)-x0)/error\n",
    "    return x0"
   ]
  },
  {
   "cell_type": "code",
   "execution_count": 25,
   "metadata": {},
   "outputs": [],
   "source": [
    "steps=0\n",
    "s=0\n",
    "def SM(fun,x0,x1,errorArg=1e-6,procedure=False):\n",
    "    '''\n",
    "    # 割线方法\n",
    "    ## 参数说明\n",
    "        `fun`：需要求解的方程fun(x)==0\n",
    "        `x0`、`x1`：求解初始值\n",
    "        `errorArg`：求解精度，默认为1e-6\n",
    "    '''\n",
    "    global steps\n",
    "    global s\n",
    "    steps=0\n",
    "    error=1\n",
    "    error0=1\n",
    "    print('       x(i)           x(i+1)          x(i+2)           e(i)')\n",
    "    while error>errorArg:\n",
    "        x=x1-fun(x1)*(x1-x0)/(fun(x1)-fun(x0))\n",
    "        error=np.abs(x-x0)\n",
    "        if procedure==True:\n",
    "            print('%16.8e%16.8e%16.8e%16.8e'%(x0,x1,x,error))\n",
    "        x0=x1\n",
    "        x1=x\n",
    "        steps+=1\n",
    "    return x"
   ]
  },
  {
   "cell_type": "code",
   "execution_count": 26,
   "metadata": {},
   "outputs": [],
   "source": [
    "steps=0\n",
    "s=0\n",
    "def RF(fun,x0,x1,errorArg=1e-6,procedure=False):\n",
    "    '''\n",
    "    # 试位方法\n",
    "    ## 参数说明\n",
    "        `fun`：需要求解的方程fun(x)==0\n",
    "        `x0`、`x1`：求解初始值\n",
    "        `errorArg`：求解精度，默认为1e-6\n",
    "    '''\n",
    "    global steps\n",
    "    global s\n",
    "    steps=0\n",
    "    error=1\n",
    "    error0=1\n",
    "    print('       x(i)           x(i+1)          x(i+2)           e(i)')\n",
    "    while error>errorArg:\n",
    "        x=x1-fun(x1)*(x1-x0)/(fun(x1)-fun(x0))\n",
    "        error=np.abs(x-x0)\n",
    "        if procedure==True:\n",
    "            print('%16.8e%16.8e%16.8e%16.8e'%(x0,x1,x,error))\n",
    "        if f(x0)*f(x)<0:\n",
    "            x1=x\n",
    "        else:\n",
    "            x0=x\n",
    "        steps+=1\n",
    "    return x"
   ]
  },
  {
   "cell_type": "code",
   "execution_count": null,
   "metadata": {},
   "outputs": [],
   "source": [
    "steps=0\n",
    "s=0\n",
    "\n",
    "\n",
    "def IQI(fun,x0,x1,errorArg=1e-6,procedure=False):\n",
    "    '''\n",
    "    # 逆二次插值方法\n",
    "    ## 参数说明\n",
    "        `fun`：需要求解的方程fun(x)==0\n",
    "        `x0`、`x1`：求解初始值\n",
    "        `errorArg`：求解精度，默认为1e-6\n",
    "    '''\n",
    "    global steps\n",
    "    global s\n",
    "    steps=0\n",
    "    error=1\n",
    "    error0=1\n",
    "    print('       x(i)           x(i+1)          x(i+2)           e(i)')\n",
    "    while error>errorArg:\n",
    "        x=x1-fun(x1)*(x1-x0)/(fun(x1)-fun(x0))\n",
    "        error=np.abs(x-x0)\n",
    "        if procedure==True:\n",
    "            print('%16.8e%16.8e%16.8e%16.8e'%(x0,x1,x,error))\n",
    "        x0=x1\n",
    "        x1=x\n",
    "        steps+=1\n",
    "    return x"
   ]
  },
  {
   "source": [
    "## 习题 1.5-7"
   ],
   "cell_type": "markdown",
   "metadata": {}
  },
  {
   "source": [
    "（A）二分法"
   ],
   "cell_type": "markdown",
   "metadata": {}
  },
  {
   "cell_type": "code",
   "execution_count": 30,
   "metadata": {},
   "outputs": [
    {
     "output_type": "stream",
     "name": "stdout",
     "text": [
      "r=1.189208 steps=19\n"
     ]
    }
   ],
   "source": [
    "def f(x):\n",
    "    return x**4-2\n",
    "print('r=%.6f'%Bisecion(f,1,2,1e-6),'steps=%d'%steps)"
   ]
  },
  {
   "source": [
    "（B）割线法"
   ],
   "cell_type": "markdown",
   "metadata": {}
  },
  {
   "cell_type": "code",
   "execution_count": 31,
   "metadata": {},
   "outputs": [
    {
     "output_type": "stream",
     "name": "stdout",
     "text": [
      "       x(i)           x(i+1)          x(i+2)           e(i)\n  1.00000000e+00  2.00000000e+00  1.06666667e+00  6.66666667e-02\n  2.00000000e+00  1.06666667e+00  1.11144125e+00  8.88558748e-01\n  1.06666667e+00  1.11144125e+00  1.20315068e+00  1.36484015e-01\n  1.11144125e+00  1.20315068e+00  1.18777755e+00  7.63362948e-02\n  1.20315068e+00  1.18777755e+00  1.18918219e+00  1.39684894e-02\n  1.18777755e+00  1.18918219e+00  1.18920716e+00  1.42961348e-03\n  1.18918219e+00  1.18920716e+00  1.18920712e+00  2.49231269e-05\n  1.18920716e+00  1.18920712e+00  1.18920712e+00  4.49866839e-08\nr=1.189207 steps=8\n"
     ]
    }
   ],
   "source": [
    "print('r=%.6f'%SM(f,1,2,procedure=True),'steps=%d'%steps)"
   ]
  },
  {
   "cell_type": "code",
   "execution_count": 13,
   "metadata": {},
   "outputs": [
    {
     "output_type": "stream",
     "name": "stdout",
     "text": [
      "r=1.189257 steps=70710628\n"
     ]
    }
   ],
   "source": [
    "def g1(x):\n",
    "    return x/2+1/x**3\n",
    "print('r=%.6f'%FPI(g1,2,1e-4),'steps=%d'%steps)"
   ]
  },
  {
   "cell_type": "code",
   "execution_count": 15,
   "metadata": {},
   "outputs": [
    {
     "output_type": "error",
     "ename": "KeyboardInterrupt",
     "evalue": "",
     "traceback": [
      "\u001b[0;31m---------------------------------------------------------------------------\u001b[0m",
      "\u001b[0;31mKeyboardInterrupt\u001b[0m                         Traceback (most recent call last)",
      "\u001b[0;32m<ipython-input-15-93ca659ff125>\u001b[0m in \u001b[0;36m<module>\u001b[0;34m\u001b[0m\n\u001b[1;32m      1\u001b[0m \u001b[0;32mdef\u001b[0m \u001b[0mg2\u001b[0m\u001b[0;34m(\u001b[0m\u001b[0mx\u001b[0m\u001b[0;34m)\u001b[0m\u001b[0;34m:\u001b[0m\u001b[0;34m\u001b[0m\u001b[0;34m\u001b[0m\u001b[0m\n\u001b[1;32m      2\u001b[0m     \u001b[0;32mreturn\u001b[0m \u001b[0mx\u001b[0m\u001b[0;34m/\u001b[0m\u001b[0;36m3\u001b[0m\u001b[0;34m+\u001b[0m\u001b[0;36m1\u001b[0m\u001b[0;34m/\u001b[0m\u001b[0;34m(\u001b[0m\u001b[0;36m3\u001b[0m\u001b[0;34m*\u001b[0m\u001b[0mx\u001b[0m\u001b[0;34m**\u001b[0m\u001b[0;36m3\u001b[0m\u001b[0;34m)\u001b[0m\u001b[0;34m\u001b[0m\u001b[0;34m\u001b[0m\u001b[0m\n\u001b[0;32m----> 3\u001b[0;31m \u001b[0mprint\u001b[0m\u001b[0;34m(\u001b[0m\u001b[0;34m'r=%.6f'\u001b[0m\u001b[0;34m%\u001b[0m\u001b[0mFPI\u001b[0m\u001b[0;34m(\u001b[0m\u001b[0mg2\u001b[0m\u001b[0;34m,\u001b[0m\u001b[0;36m2\u001b[0m\u001b[0;34m,\u001b[0m\u001b[0;36m1e-2\u001b[0m\u001b[0;34m)\u001b[0m\u001b[0;34m,\u001b[0m\u001b[0;34m'steps=%d'\u001b[0m\u001b[0;34m%\u001b[0m\u001b[0msteps\u001b[0m\u001b[0;34m)\u001b[0m\u001b[0;34m\u001b[0m\u001b[0;34m\u001b[0m\u001b[0m\n\u001b[0m",
      "\u001b[0;32m<ipython-input-4-3e9ac94ee0e8>\u001b[0m in \u001b[0;36mFPI\u001b[0;34m(fun, x0, errorArg)\u001b[0m\n\u001b[1;32m     20\u001b[0m     \u001b[0merror\u001b[0m\u001b[0;34m=\u001b[0m\u001b[0;36m1\u001b[0m\u001b[0;34m\u001b[0m\u001b[0;34m\u001b[0m\u001b[0m\n\u001b[1;32m     21\u001b[0m     \u001b[0;32mwhile\u001b[0m \u001b[0merror\u001b[0m\u001b[0;34m>\u001b[0m\u001b[0merrorArg\u001b[0m\u001b[0;34m:\u001b[0m\u001b[0;34m\u001b[0m\u001b[0;34m\u001b[0m\u001b[0m\n\u001b[0;32m---> 22\u001b[0;31m         \u001b[0mx\u001b[0m\u001b[0;34m=\u001b[0m\u001b[0mfun\u001b[0m\u001b[0;34m(\u001b[0m\u001b[0mx0\u001b[0m\u001b[0;34m)\u001b[0m\u001b[0;34m\u001b[0m\u001b[0;34m\u001b[0m\u001b[0m\n\u001b[0m\u001b[1;32m     23\u001b[0m         \u001b[0merror\u001b[0m\u001b[0;34m=\u001b[0m\u001b[0mnp\u001b[0m\u001b[0;34m.\u001b[0m\u001b[0mabs\u001b[0m\u001b[0;34m(\u001b[0m\u001b[0mx\u001b[0m\u001b[0;34m-\u001b[0m\u001b[0mx0\u001b[0m\u001b[0;34m)\u001b[0m\u001b[0;34m\u001b[0m\u001b[0;34m\u001b[0m\u001b[0m\n\u001b[1;32m     24\u001b[0m         \u001b[0mx0\u001b[0m\u001b[0;34m=\u001b[0m\u001b[0mx\u001b[0m\u001b[0;34m\u001b[0m\u001b[0;34m\u001b[0m\u001b[0m\n",
      "\u001b[0;32m<ipython-input-15-93ca659ff125>\u001b[0m in \u001b[0;36mg2\u001b[0;34m(x)\u001b[0m\n\u001b[0;32m----> 1\u001b[0;31m \u001b[0;32mdef\u001b[0m \u001b[0mg2\u001b[0m\u001b[0;34m(\u001b[0m\u001b[0mx\u001b[0m\u001b[0;34m)\u001b[0m\u001b[0;34m:\u001b[0m\u001b[0;34m\u001b[0m\u001b[0;34m\u001b[0m\u001b[0m\n\u001b[0m\u001b[1;32m      2\u001b[0m     \u001b[0;32mreturn\u001b[0m \u001b[0mx\u001b[0m\u001b[0;34m/\u001b[0m\u001b[0;36m3\u001b[0m\u001b[0;34m+\u001b[0m\u001b[0;36m1\u001b[0m\u001b[0;34m/\u001b[0m\u001b[0;34m(\u001b[0m\u001b[0;36m3\u001b[0m\u001b[0;34m*\u001b[0m\u001b[0mx\u001b[0m\u001b[0;34m**\u001b[0m\u001b[0;36m3\u001b[0m\u001b[0;34m)\u001b[0m\u001b[0;34m\u001b[0m\u001b[0;34m\u001b[0m\u001b[0m\n\u001b[1;32m      3\u001b[0m \u001b[0mprint\u001b[0m\u001b[0;34m(\u001b[0m\u001b[0;34m'r=%.6f'\u001b[0m\u001b[0;34m%\u001b[0m\u001b[0mFPI\u001b[0m\u001b[0;34m(\u001b[0m\u001b[0mg2\u001b[0m\u001b[0;34m,\u001b[0m\u001b[0;36m2\u001b[0m\u001b[0;34m,\u001b[0m\u001b[0;36m1e-2\u001b[0m\u001b[0;34m)\u001b[0m\u001b[0;34m,\u001b[0m\u001b[0;34m'steps=%d'\u001b[0m\u001b[0;34m%\u001b[0m\u001b[0msteps\u001b[0m\u001b[0;34m)\u001b[0m\u001b[0;34m\u001b[0m\u001b[0;34m\u001b[0m\u001b[0m\n",
      "\u001b[0;31mKeyboardInterrupt\u001b[0m: "
     ]
    }
   ],
   "source": [
    "def g2(x):\n",
    "    return x/3+1/(3*x**3)\n",
    "print('r=%.6f'%FPI(g2,2,1e-2),'steps=%d'%steps)"
   ]
  },
  {
   "source": [
    "## 编程 1.5-1(a)"
   ],
   "cell_type": "markdown",
   "metadata": {}
  },
  {
   "cell_type": "code",
   "execution_count": 32,
   "metadata": {},
   "outputs": [
    {
     "output_type": "stream",
     "name": "stdout",
     "text": [
      "       x(i)           x(i+1)          x(i+2)           e(i)\n  1.00000000e+00  2.00000000e+00  1.60000000e+00  6.00000000e-01\n  2.00000000e+00  1.60000000e+00  1.74226804e+00  2.57731959e-01\n  1.60000000e+00  1.74226804e+00  1.77295599e+00  1.72955988e-01\n  1.74226804e+00  1.77295599e+00  1.76922037e+00  2.69523239e-02\n  1.77295599e+00  1.76922037e+00  1.76929217e+00  3.66382263e-03\n  1.76922037e+00  1.76929217e+00  1.76929235e+00  7.19891288e-05\n  1.76929217e+00  1.76929235e+00  1.76929235e+00  1.89042681e-07\nr=1.769292 steps=7\n"
     ]
    }
   ],
   "source": [
    "def f(x):\n",
    "    return x**3-2*x-2\n",
    "\n",
    "print('r=%.6f'%SM(f,1,2,procedure=True),'steps=%d'%steps)"
   ]
  },
  {
   "cell_type": "code",
   "execution_count": 33,
   "metadata": {},
   "outputs": [
    {
     "output_type": "stream",
     "name": "stdout",
     "text": [
      "       x(i)           x(i+1)          x(i+2)           e(i)\n  1.00000000e+00  2.00000000e+00  1.60000000e+00  6.00000000e-01\n  1.60000000e+00  2.00000000e+00  1.74226804e+00  1.42268041e-01\n  1.74226804e+00  2.00000000e+00  1.76525915e+00  2.29911118e-02\n  1.76525915e+00  2.00000000e+00  1.76869677e+00  3.43761313e-03\n  1.76869677e+00  2.00000000e+00  1.76920454e+00  5.07775406e-04\n  1.76920454e+00  2.00000000e+00  1.76927941e+00  7.48687341e-05\n  1.76927941e+00  2.00000000e+00  1.76929045e+00  1.10360416e-05\n  1.76929045e+00  2.00000000e+00  1.76929207e+00  1.62670599e-06\n  1.76929207e+00  2.00000000e+00  1.76929231e+00  2.39774108e-07\nr=1.769292 steps=9\n"
     ]
    }
   ],
   "source": [
    "print('r=%.6f'%RF(f,1,2,procedure=True),'steps=%d'%steps)"
   ]
  },
  {
   "cell_type": "code",
   "execution_count": null,
   "metadata": {},
   "outputs": [],
   "source": []
  }
 ]
}